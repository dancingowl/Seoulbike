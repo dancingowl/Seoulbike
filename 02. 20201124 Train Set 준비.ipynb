{
 "cells": [
  {
   "cell_type": "code",
   "execution_count": 1,
   "metadata": {
    "ExecuteTime": {
     "end_time": "2020-11-26T07:44:06.113506Z",
     "start_time": "2020-11-26T07:44:05.407911Z"
    }
   },
   "outputs": [],
   "source": [
    "import pandas as pd\n",
    "import numpy as np\n",
    "import glob, os, chardet, pprint\n",
    "from tqdm import notebook\n",
    "import datetime"
   ]
  },
  {
   "cell_type": "code",
   "execution_count": 58,
   "metadata": {
    "ExecuteTime": {
     "end_time": "2020-11-26T08:07:43.765063Z",
     "start_time": "2020-11-26T08:07:43.761060Z"
    }
   },
   "outputs": [],
   "source": [
    "# display 설정\n",
    "pd.set_option('display.max_rows', 200)\n",
    "pd.set_option('display.max_columns', None)\n",
    "pd.set_option('display.width', 10000)\n",
    "pd.options.display.float_format = '{:.3f}'.format"
   ]
  },
  {
   "cell_type": "code",
   "execution_count": 2,
   "metadata": {
    "ExecuteTime": {
     "end_time": "2020-11-26T07:44:06.198854Z",
     "start_time": "2020-11-26T07:44:06.171553Z"
    }
   },
   "outputs": [
    {
     "data": {
      "text/plain": [
       "'C:\\\\Users\\\\justi\\\\OneDrive\\\\Git\\\\Team 6\\\\Ddareung'"
      ]
     },
     "execution_count": 2,
     "metadata": {},
     "output_type": "execute_result"
    }
   ],
   "source": [
    "pwd"
   ]
  },
  {
   "cell_type": "code",
   "execution_count": 3,
   "metadata": {
    "ExecuteTime": {
     "end_time": "2020-11-26T07:44:06.230128Z",
     "start_time": "2020-11-26T07:44:06.203823Z"
    }
   },
   "outputs": [],
   "source": [
    "def readcsv_(Path_folder, header = 0):\n",
    "\n",
    "    file_list = notebook.tqdm([file for file in os.listdir(Path_folder) if file.endswith(('.csv','.xlsx'))])\n",
    "    df_list = []\n",
    "    encodings = ['utf-8', 'cp949', 'euc-kr', 'cp1252', 'cp850']\n",
    "\n",
    "    for idx, file in enumerate(file_list): #, total = len(file_list), leave = True)\n",
    "        print(f'({idx}) {file}')\n",
    "        if file.endswith(\".csv\"):\n",
    "            for cp in encodings:\n",
    "                try:\n",
    "                    locals()[f'df{idx+1}'] = pd.read_csv(Path_folder+file, encoding = cp, header = header)\n",
    "                    df_list.append(locals()[f'df{idx+1}'])\n",
    "                    break\n",
    "                except: # 에러 종류\n",
    "                    pass\n",
    "        elif file.endswith(\".xlsx\"):\n",
    "                locals()[f'df{idx+1}'] = pd.read_excel(Path_folder+file, header = header)\n",
    "                df_list.append(locals()[f'df{idx+1}'])\n",
    "\n",
    "        else:\n",
    "            print(f'     {\"*\"*8}이 파일은 읽을 수 없습니다{\"*\"*8}')\n",
    "\n",
    "    print(f'\\n폴더 내 csv / xlsx 파일 개수: {len(file_list)}개')\n",
    "    print(f'총 데이터프레임 개수: {len(df_list)}개')\n",
    "\n",
    "    return df_list"
   ]
  },
  {
   "cell_type": "code",
   "execution_count": 4,
   "metadata": {
    "ExecuteTime": {
     "end_time": "2020-11-26T07:44:06.241102Z",
     "start_time": "2020-11-26T07:44:06.231889Z"
    }
   },
   "outputs": [],
   "source": [
    "# dt_index = pandas.date_range(start='20160901', end='20161031')\n",
    "# # pandas.date_range(start='20160901', end='20161031',freq='W-MON')\n",
    "# # 을 하면 해당 기간 매주 월요일들만 추출합니다.\n",
    "\n",
    "# # type(dt_index) => DatetimeIndex\n",
    "# # DatetimeIndex => list(str)\n",
    "# dt_list = dt_index.strftime(\"%Y%m%d\").tolist()\n",
    "\n",
    "# for i in dt_list:\n",
    "#     print(i)"
   ]
  },
  {
   "cell_type": "code",
   "execution_count": 5,
   "metadata": {
    "ExecuteTime": {
     "end_time": "2020-11-26T07:44:06.381767Z",
     "start_time": "2020-11-26T07:44:06.369874Z"
    }
   },
   "outputs": [],
   "source": [
    "# New = readcsv_(os.getcwd() + '/New data/')"
   ]
  },
  {
   "cell_type": "markdown",
   "metadata": {},
   "source": [
    "## 거치소 정보"
   ]
  },
  {
   "cell_type": "code",
   "execution_count": 6,
   "metadata": {
    "ExecuteTime": {
     "end_time": "2020-11-26T07:44:08.343345Z",
     "start_time": "2020-11-26T07:44:08.312640Z"
    }
   },
   "outputs": [],
   "source": [
    "Bike_lock = pd.read_csv(os.getcwd() + '/New data/bike_location_final.csv')"
   ]
  },
  {
   "cell_type": "code",
   "execution_count": 7,
   "metadata": {
    "ExecuteTime": {
     "end_time": "2020-11-26T07:44:08.543633Z",
     "start_time": "2020-11-26T07:44:08.506452Z"
    },
    "scrolled": true
   },
   "outputs": [
    {
     "data": {
      "text/html": [
       "<div>\n",
       "<style scoped>\n",
       "    .dataframe tbody tr th:only-of-type {\n",
       "        vertical-align: middle;\n",
       "    }\n",
       "\n",
       "    .dataframe tbody tr th {\n",
       "        vertical-align: top;\n",
       "    }\n",
       "\n",
       "    .dataframe thead th {\n",
       "        text-align: right;\n",
       "    }\n",
       "</style>\n",
       "<table border=\"1\" class=\"dataframe\">\n",
       "  <thead>\n",
       "    <tr style=\"text-align: right;\">\n",
       "      <th></th>\n",
       "      <th>대여소이름</th>\n",
       "      <th>위도</th>\n",
       "      <th>경도</th>\n",
       "      <th>주소</th>\n",
       "      <th>자치구</th>\n",
       "    </tr>\n",
       "  </thead>\n",
       "  <tbody>\n",
       "    <tr>\n",
       "      <th>0</th>\n",
       "      <td>1001. 광진교 남단 사거리(디지털프라자앞)</td>\n",
       "      <td>37.541794</td>\n",
       "      <td>127.124748</td>\n",
       "      <td>서울특별시 강동구 천호동 355</td>\n",
       "      <td>강동구</td>\n",
       "    </tr>\n",
       "    <tr>\n",
       "      <th>1</th>\n",
       "      <td>1002. 해공공원(천호동)</td>\n",
       "      <td>37.545261</td>\n",
       "      <td>127.125946</td>\n",
       "      <td>서울특별시 강동구 천호동 360</td>\n",
       "      <td>강동구</td>\n",
       "    </tr>\n",
       "    <tr>\n",
       "      <th>2</th>\n",
       "      <td>1003. 해공도서관앞</td>\n",
       "      <td>37.543957</td>\n",
       "      <td>127.125488</td>\n",
       "      <td>서울특별시 강동구 천호동 360</td>\n",
       "      <td>강동구</td>\n",
       "    </tr>\n",
       "    <tr>\n",
       "      <th>3</th>\n",
       "      <td>1004. 삼성광나루아파트 버스정류장</td>\n",
       "      <td>37.553329</td>\n",
       "      <td>127.128868</td>\n",
       "      <td>서울특별시 강동구 암사동 463-2</td>\n",
       "      <td>강동구</td>\n",
       "    </tr>\n",
       "    <tr>\n",
       "      <th>4</th>\n",
       "      <td>1006. 롯데캐슬 115동앞</td>\n",
       "      <td>37.554867</td>\n",
       "      <td>127.142799</td>\n",
       "      <td>서울특별시 강동구 암사동 414-2</td>\n",
       "      <td>강동구</td>\n",
       "    </tr>\n",
       "    <tr>\n",
       "      <th>...</th>\n",
       "      <td>...</td>\n",
       "      <td>...</td>\n",
       "      <td>...</td>\n",
       "      <td>...</td>\n",
       "      <td>...</td>\n",
       "    </tr>\n",
       "    <tr>\n",
       "      <th>2038</th>\n",
       "      <td>992.북한산입구 정류장</td>\n",
       "      <td>37.658428</td>\n",
       "      <td>126.946060</td>\n",
       "      <td>서울특별시 은평구 진관동 289</td>\n",
       "      <td>은평구</td>\n",
       "    </tr>\n",
       "    <tr>\n",
       "      <th>2039</th>\n",
       "      <td>993.은평뉴타운 온뜨락아파트앞</td>\n",
       "      <td>37.630287</td>\n",
       "      <td>126.919563</td>\n",
       "      <td>서울특별시 은평구 진관동 234-34</td>\n",
       "      <td>은평구</td>\n",
       "    </tr>\n",
       "    <tr>\n",
       "      <th>2040</th>\n",
       "      <td>994.북한산생태공원입구(교통섬)</td>\n",
       "      <td>37.610508</td>\n",
       "      <td>126.938538</td>\n",
       "      <td>서울특별시 은평구 불광동 2-1</td>\n",
       "      <td>은평구</td>\n",
       "    </tr>\n",
       "    <tr>\n",
       "      <th>2041</th>\n",
       "      <td>995.은평다목적체육관</td>\n",
       "      <td>37.631409</td>\n",
       "      <td>126.925407</td>\n",
       "      <td>서울특별시 은평구 진관동 125</td>\n",
       "      <td>은평구</td>\n",
       "    </tr>\n",
       "    <tr>\n",
       "      <th>2042</th>\n",
       "      <td>996.응암역 1번출구</td>\n",
       "      <td>37.598606</td>\n",
       "      <td>126.915405</td>\n",
       "      <td>서울특별시 은평구 신사동 23-3</td>\n",
       "      <td>은평구</td>\n",
       "    </tr>\n",
       "  </tbody>\n",
       "</table>\n",
       "<p>2043 rows × 5 columns</p>\n",
       "</div>"
      ],
      "text/plain": [
       "                          대여소이름         위도          경도                    주소  \\\n",
       "0     1001. 광진교 남단 사거리(디지털프라자앞)  37.541794  127.124748     서울특별시 강동구 천호동 355   \n",
       "1               1002. 해공공원(천호동)  37.545261  127.125946     서울특별시 강동구 천호동 360   \n",
       "2                  1003. 해공도서관앞  37.543957  127.125488     서울특별시 강동구 천호동 360   \n",
       "3          1004. 삼성광나루아파트 버스정류장  37.553329  127.128868   서울특별시 강동구 암사동 463-2   \n",
       "4              1006. 롯데캐슬 115동앞  37.554867  127.142799   서울특별시 강동구 암사동 414-2   \n",
       "...                         ...        ...         ...                   ...   \n",
       "2038              992.북한산입구 정류장  37.658428  126.946060     서울특별시 은평구 진관동 289   \n",
       "2039          993.은평뉴타운 온뜨락아파트앞  37.630287  126.919563  서울특별시 은평구 진관동 234-34   \n",
       "2040         994.북한산생태공원입구(교통섬)  37.610508  126.938538     서울특별시 은평구 불광동 2-1   \n",
       "2041               995.은평다목적체육관  37.631409  126.925407     서울특별시 은평구 진관동 125   \n",
       "2042               996.응암역 1번출구  37.598606  126.915405    서울특별시 은평구 신사동 23-3   \n",
       "\n",
       "      자치구  \n",
       "0     강동구  \n",
       "1     강동구  \n",
       "2     강동구  \n",
       "3     강동구  \n",
       "4     강동구  \n",
       "...   ...  \n",
       "2038  은평구  \n",
       "2039  은평구  \n",
       "2040  은평구  \n",
       "2041  은평구  \n",
       "2042  은평구  \n",
       "\n",
       "[2043 rows x 5 columns]"
      ]
     },
     "execution_count": 7,
     "metadata": {},
     "output_type": "execute_result"
    }
   ],
   "source": [
    "Bike_lock"
   ]
  },
  {
   "cell_type": "code",
   "execution_count": 8,
   "metadata": {
    "ExecuteTime": {
     "end_time": "2020-11-26T07:44:08.607260Z",
     "start_time": "2020-11-26T07:44:08.597391Z"
    }
   },
   "outputs": [],
   "source": [
    "Bike_lock['대여소명'] = Bike_lock['대여소이름'].apply(lambda x: x.split('.')[1:][0])\n",
    "Bike_lock['대여소번호'] = Bike_lock['대여소이름'].apply(lambda x: x.split('.')[0])"
   ]
  },
  {
   "cell_type": "code",
   "execution_count": 9,
   "metadata": {
    "ExecuteTime": {
     "end_time": "2020-11-26T07:44:08.876436Z",
     "start_time": "2020-11-26T07:44:08.839403Z"
    }
   },
   "outputs": [
    {
     "data": {
      "text/html": [
       "<div>\n",
       "<style scoped>\n",
       "    .dataframe tbody tr th:only-of-type {\n",
       "        vertical-align: middle;\n",
       "    }\n",
       "\n",
       "    .dataframe tbody tr th {\n",
       "        vertical-align: top;\n",
       "    }\n",
       "\n",
       "    .dataframe thead th {\n",
       "        text-align: right;\n",
       "    }\n",
       "</style>\n",
       "<table border=\"1\" class=\"dataframe\">\n",
       "  <thead>\n",
       "    <tr style=\"text-align: right;\">\n",
       "      <th></th>\n",
       "      <th>대여소이름</th>\n",
       "      <th>위도</th>\n",
       "      <th>경도</th>\n",
       "      <th>주소</th>\n",
       "      <th>자치구</th>\n",
       "      <th>대여소명</th>\n",
       "      <th>대여소번호</th>\n",
       "    </tr>\n",
       "  </thead>\n",
       "  <tbody>\n",
       "    <tr>\n",
       "      <th>0</th>\n",
       "      <td>1001. 광진교 남단 사거리(디지털프라자앞)</td>\n",
       "      <td>37.541794</td>\n",
       "      <td>127.124748</td>\n",
       "      <td>서울특별시 강동구 천호동 355</td>\n",
       "      <td>강동구</td>\n",
       "      <td>광진교 남단 사거리(디지털프라자앞)</td>\n",
       "      <td>1001</td>\n",
       "    </tr>\n",
       "    <tr>\n",
       "      <th>1</th>\n",
       "      <td>1002. 해공공원(천호동)</td>\n",
       "      <td>37.545261</td>\n",
       "      <td>127.125946</td>\n",
       "      <td>서울특별시 강동구 천호동 360</td>\n",
       "      <td>강동구</td>\n",
       "      <td>해공공원(천호동)</td>\n",
       "      <td>1002</td>\n",
       "    </tr>\n",
       "    <tr>\n",
       "      <th>2</th>\n",
       "      <td>1003. 해공도서관앞</td>\n",
       "      <td>37.543957</td>\n",
       "      <td>127.125488</td>\n",
       "      <td>서울특별시 강동구 천호동 360</td>\n",
       "      <td>강동구</td>\n",
       "      <td>해공도서관앞</td>\n",
       "      <td>1003</td>\n",
       "    </tr>\n",
       "    <tr>\n",
       "      <th>3</th>\n",
       "      <td>1004. 삼성광나루아파트 버스정류장</td>\n",
       "      <td>37.553329</td>\n",
       "      <td>127.128868</td>\n",
       "      <td>서울특별시 강동구 암사동 463-2</td>\n",
       "      <td>강동구</td>\n",
       "      <td>삼성광나루아파트 버스정류장</td>\n",
       "      <td>1004</td>\n",
       "    </tr>\n",
       "    <tr>\n",
       "      <th>4</th>\n",
       "      <td>1006. 롯데캐슬 115동앞</td>\n",
       "      <td>37.554867</td>\n",
       "      <td>127.142799</td>\n",
       "      <td>서울특별시 강동구 암사동 414-2</td>\n",
       "      <td>강동구</td>\n",
       "      <td>롯데캐슬 115동앞</td>\n",
       "      <td>1006</td>\n",
       "    </tr>\n",
       "    <tr>\n",
       "      <th>...</th>\n",
       "      <td>...</td>\n",
       "      <td>...</td>\n",
       "      <td>...</td>\n",
       "      <td>...</td>\n",
       "      <td>...</td>\n",
       "      <td>...</td>\n",
       "      <td>...</td>\n",
       "    </tr>\n",
       "    <tr>\n",
       "      <th>2038</th>\n",
       "      <td>992.북한산입구 정류장</td>\n",
       "      <td>37.658428</td>\n",
       "      <td>126.946060</td>\n",
       "      <td>서울특별시 은평구 진관동 289</td>\n",
       "      <td>은평구</td>\n",
       "      <td>북한산입구 정류장</td>\n",
       "      <td>992</td>\n",
       "    </tr>\n",
       "    <tr>\n",
       "      <th>2039</th>\n",
       "      <td>993.은평뉴타운 온뜨락아파트앞</td>\n",
       "      <td>37.630287</td>\n",
       "      <td>126.919563</td>\n",
       "      <td>서울특별시 은평구 진관동 234-34</td>\n",
       "      <td>은평구</td>\n",
       "      <td>은평뉴타운 온뜨락아파트앞</td>\n",
       "      <td>993</td>\n",
       "    </tr>\n",
       "    <tr>\n",
       "      <th>2040</th>\n",
       "      <td>994.북한산생태공원입구(교통섬)</td>\n",
       "      <td>37.610508</td>\n",
       "      <td>126.938538</td>\n",
       "      <td>서울특별시 은평구 불광동 2-1</td>\n",
       "      <td>은평구</td>\n",
       "      <td>북한산생태공원입구(교통섬)</td>\n",
       "      <td>994</td>\n",
       "    </tr>\n",
       "    <tr>\n",
       "      <th>2041</th>\n",
       "      <td>995.은평다목적체육관</td>\n",
       "      <td>37.631409</td>\n",
       "      <td>126.925407</td>\n",
       "      <td>서울특별시 은평구 진관동 125</td>\n",
       "      <td>은평구</td>\n",
       "      <td>은평다목적체육관</td>\n",
       "      <td>995</td>\n",
       "    </tr>\n",
       "    <tr>\n",
       "      <th>2042</th>\n",
       "      <td>996.응암역 1번출구</td>\n",
       "      <td>37.598606</td>\n",
       "      <td>126.915405</td>\n",
       "      <td>서울특별시 은평구 신사동 23-3</td>\n",
       "      <td>은평구</td>\n",
       "      <td>응암역 1번출구</td>\n",
       "      <td>996</td>\n",
       "    </tr>\n",
       "  </tbody>\n",
       "</table>\n",
       "<p>2043 rows × 7 columns</p>\n",
       "</div>"
      ],
      "text/plain": [
       "                          대여소이름         위도          경도                    주소  \\\n",
       "0     1001. 광진교 남단 사거리(디지털프라자앞)  37.541794  127.124748     서울특별시 강동구 천호동 355   \n",
       "1               1002. 해공공원(천호동)  37.545261  127.125946     서울특별시 강동구 천호동 360   \n",
       "2                  1003. 해공도서관앞  37.543957  127.125488     서울특별시 강동구 천호동 360   \n",
       "3          1004. 삼성광나루아파트 버스정류장  37.553329  127.128868   서울특별시 강동구 암사동 463-2   \n",
       "4              1006. 롯데캐슬 115동앞  37.554867  127.142799   서울특별시 강동구 암사동 414-2   \n",
       "...                         ...        ...         ...                   ...   \n",
       "2038              992.북한산입구 정류장  37.658428  126.946060     서울특별시 은평구 진관동 289   \n",
       "2039          993.은평뉴타운 온뜨락아파트앞  37.630287  126.919563  서울특별시 은평구 진관동 234-34   \n",
       "2040         994.북한산생태공원입구(교통섬)  37.610508  126.938538     서울특별시 은평구 불광동 2-1   \n",
       "2041               995.은평다목적체육관  37.631409  126.925407     서울특별시 은평구 진관동 125   \n",
       "2042               996.응암역 1번출구  37.598606  126.915405    서울특별시 은평구 신사동 23-3   \n",
       "\n",
       "      자치구                  대여소명 대여소번호  \n",
       "0     강동구   광진교 남단 사거리(디지털프라자앞)  1001  \n",
       "1     강동구             해공공원(천호동)  1002  \n",
       "2     강동구                해공도서관앞  1003  \n",
       "3     강동구        삼성광나루아파트 버스정류장  1004  \n",
       "4     강동구            롯데캐슬 115동앞  1006  \n",
       "...   ...                   ...   ...  \n",
       "2038  은평구             북한산입구 정류장   992  \n",
       "2039  은평구         은평뉴타운 온뜨락아파트앞   993  \n",
       "2040  은평구        북한산생태공원입구(교통섬)   994  \n",
       "2041  은평구              은평다목적체육관   995  \n",
       "2042  은평구              응암역 1번출구   996  \n",
       "\n",
       "[2043 rows x 7 columns]"
      ]
     },
     "execution_count": 9,
     "metadata": {},
     "output_type": "execute_result"
    }
   ],
   "source": [
    "Bike_lock"
   ]
  },
  {
   "cell_type": "code",
   "execution_count": 14,
   "metadata": {
    "ExecuteTime": {
     "end_time": "2020-11-26T07:44:30.056380Z",
     "start_time": "2020-11-26T07:44:30.028369Z"
    }
   },
   "outputs": [],
   "source": [
    "Bike_location = pd.read_csv(os.getcwd() + '\\\\New data\\\\bike_location_final.csv', encoding = 'utf-8') # 최신 거치대 위치 정보"
   ]
  },
  {
   "cell_type": "code",
   "execution_count": 15,
   "metadata": {
    "ExecuteTime": {
     "end_time": "2020-11-26T07:44:30.522620Z",
     "start_time": "2020-11-26T07:44:30.509626Z"
    }
   },
   "outputs": [],
   "source": [
    "Bike_location['대여소명'] = Bike_location['대여소이름'].apply(lambda x: x.split('.')[1:][0])\n",
    "Bike_location['대여소번호'] = Bike_location['대여소이름'].apply(lambda x: x.split('.')[0])"
   ]
  },
  {
   "cell_type": "code",
   "execution_count": 16,
   "metadata": {
    "ExecuteTime": {
     "end_time": "2020-11-26T07:44:31.778110Z",
     "start_time": "2020-11-26T07:44:31.749057Z"
    }
   },
   "outputs": [
    {
     "data": {
      "text/html": [
       "<div>\n",
       "<style scoped>\n",
       "    .dataframe tbody tr th:only-of-type {\n",
       "        vertical-align: middle;\n",
       "    }\n",
       "\n",
       "    .dataframe tbody tr th {\n",
       "        vertical-align: top;\n",
       "    }\n",
       "\n",
       "    .dataframe thead th {\n",
       "        text-align: right;\n",
       "    }\n",
       "</style>\n",
       "<table border=\"1\" class=\"dataframe\">\n",
       "  <thead>\n",
       "    <tr style=\"text-align: right;\">\n",
       "      <th></th>\n",
       "      <th>대여소이름</th>\n",
       "      <th>위도</th>\n",
       "      <th>경도</th>\n",
       "      <th>주소</th>\n",
       "      <th>자치구</th>\n",
       "      <th>대여소명</th>\n",
       "      <th>대여소번호</th>\n",
       "    </tr>\n",
       "  </thead>\n",
       "  <tbody>\n",
       "    <tr>\n",
       "      <th>3</th>\n",
       "      <td>1004. 삼성광나루아파트 버스정류장</td>\n",
       "      <td>37.553329</td>\n",
       "      <td>127.128868</td>\n",
       "      <td>서울특별시 강동구 암사동 463-2</td>\n",
       "      <td>강동구</td>\n",
       "      <td>삼성광나루아파트 버스정류장</td>\n",
       "      <td>1004</td>\n",
       "    </tr>\n",
       "  </tbody>\n",
       "</table>\n",
       "</div>"
      ],
      "text/plain": [
       "                  대여소이름         위도          경도                   주소  자치구  \\\n",
       "3  1004. 삼성광나루아파트 버스정류장  37.553329  127.128868  서울특별시 강동구 암사동 463-2  강동구   \n",
       "\n",
       "              대여소명 대여소번호  \n",
       "3   삼성광나루아파트 버스정류장  1004  "
      ]
     },
     "execution_count": 16,
     "metadata": {},
     "output_type": "execute_result"
    }
   ],
   "source": [
    "Bike_lock[Bike_lock['대여소번호'] == '1004']"
   ]
  },
  {
   "cell_type": "code",
   "execution_count": 13,
   "metadata": {
    "ExecuteTime": {
     "end_time": "2020-11-26T07:44:09.385949Z",
     "start_time": "2020-11-26T07:44:09.369279Z"
    }
   },
   "outputs": [
    {
     "data": {
      "text/plain": [
       "0"
      ]
     },
     "execution_count": 13,
     "metadata": {},
     "output_type": "execute_result"
    }
   ],
   "source": [
    "len((set(Bike_location['대여소번호'].unique().tolist()))- set(list(Bike_lock['대여소번호'].unique().tolist())))"
   ]
  },
  {
   "cell_type": "code",
   "execution_count": 17,
   "metadata": {
    "ExecuteTime": {
     "end_time": "2020-11-26T07:44:57.205798Z",
     "start_time": "2020-11-26T07:44:57.192034Z"
    }
   },
   "outputs": [
    {
     "data": {
      "text/plain": [
       "0"
      ]
     },
     "execution_count": 17,
     "metadata": {},
     "output_type": "execute_result"
    }
   ],
   "source": [
    "len( set(list(Bike_lock['대여소번호'].unique().tolist())) - (set(Bike_location['대여소번호'].unique().tolist())))"
   ]
  },
  {
   "cell_type": "code",
   "execution_count": 21,
   "metadata": {
    "ExecuteTime": {
     "end_time": "2020-11-26T07:47:18.878449Z",
     "start_time": "2020-11-26T07:47:18.861429Z"
    }
   },
   "outputs": [
    {
     "data": {
      "text/plain": [
       "2043"
      ]
     },
     "execution_count": 21,
     "metadata": {},
     "output_type": "execute_result"
    }
   ],
   "source": [
    "len( set(list(Bike_lock['대여소번호'].unique().tolist())))"
   ]
  },
  {
   "cell_type": "code",
   "execution_count": null,
   "metadata": {
    "ExecuteTime": {
     "end_time": "2020-11-26T07:42:08.327043Z",
     "start_time": "2020-11-26T07:42:08.316286Z"
    }
   },
   "outputs": [],
   "source": [
    "# ## 자전거 대여이력(**사용량 정보 없음)\n",
    "\n",
    "# History = New[6]\n",
    "\n",
    "# History\n",
    "\n",
    "# History['연'] = History['대여일시'].apply(lambda x: str(x)[0:4])\n",
    "# History['월'] = History['대여일시'].apply(lambda x: str(x)[5:7])\n",
    "# History['일'] = History['대여일시'].apply(lambda x: str(x)[8:11])\n",
    "\n",
    "# History['대여날짜'] = History['대여날짜'].apply(lambda x: datetime.datetime.strptime(x, '%Y-%m-%d'))\n",
    "# History['대여시각'] = History['대여시각'].apply(lambda x: datetime.datetime.strptime(x, '%H:%M'))\n",
    "# # History['대여일시'] = History['대여일시'].apply(lambda x: datetime.datetime.strptime(x, '%Y-%m-%d %H:%M'))\n",
    "\n",
    "# History['요일'] = History['대여날짜'].apply(lambda x: x.weekday())\n",
    "\n",
    "# History['시간대'] = History['대여시각'].apply(lambda x: x.hour)\n",
    "\n",
    "# # a = '20:20:00'\n",
    "# # b= datetime.datetime.strptime(a, \"%H:%M:%S\")\n",
    "# # b.hour()\n",
    "\n",
    "# History\n",
    "\n",
    "# History.info()\n",
    "\n",
    "# History_group = History.groupby(['대여 대여소명','요일','시간대']).count()"
   ]
  },
  {
   "cell_type": "markdown",
   "metadata": {},
   "source": [
    "## 2020 시간별 자전거 이용정보"
   ]
  },
  {
   "cell_type": "code",
   "execution_count": 18,
   "metadata": {
    "ExecuteTime": {
     "end_time": "2020-11-26T07:45:07.762992Z",
     "start_time": "2020-11-26T07:45:07.742304Z"
    }
   },
   "outputs": [
    {
     "data": {
      "text/plain": [
       "'C:\\\\Users\\\\justi\\\\OneDrive\\\\Git\\\\Team 6\\\\Ddareung'"
      ]
     },
     "execution_count": 18,
     "metadata": {},
     "output_type": "execute_result"
    }
   ],
   "source": [
    "pwd"
   ]
  },
  {
   "cell_type": "code",
   "execution_count": 84,
   "metadata": {
    "ExecuteTime": {
     "end_time": "2020-11-26T09:09:17.131426Z",
     "start_time": "2020-11-26T09:08:41.090711Z"
    }
   },
   "outputs": [],
   "source": [
    "Hour_bike_usage = pd.read_csv(os.getcwd() + '/New data/Hour_bike_usage_2020.csv', encoding = 'cp949')"
   ]
  },
  {
   "cell_type": "code",
   "execution_count": 85,
   "metadata": {
    "ExecuteTime": {
     "end_time": "2020-11-26T09:09:17.182474Z",
     "start_time": "2020-11-26T09:09:17.133705Z"
    }
   },
   "outputs": [
    {
     "data": {
      "text/html": [
       "<div>\n",
       "<style scoped>\n",
       "    .dataframe tbody tr th:only-of-type {\n",
       "        vertical-align: middle;\n",
       "    }\n",
       "\n",
       "    .dataframe tbody tr th {\n",
       "        vertical-align: top;\n",
       "    }\n",
       "\n",
       "    .dataframe thead th {\n",
       "        text-align: right;\n",
       "    }\n",
       "</style>\n",
       "<table border=\"1\" class=\"dataframe\">\n",
       "  <thead>\n",
       "    <tr style=\"text-align: right;\">\n",
       "      <th></th>\n",
       "      <th>대여일자</th>\n",
       "      <th>대여시간</th>\n",
       "      <th>대여소번호</th>\n",
       "      <th>대여소명</th>\n",
       "      <th>대여구분코드</th>\n",
       "      <th>연령대코드</th>\n",
       "      <th>이용건수</th>\n",
       "      <th>운동량</th>\n",
       "      <th>탄소량</th>\n",
       "      <th>이동거리</th>\n",
       "      <th>사용시간</th>\n",
       "      <th>대여일자datetime</th>\n",
       "      <th>요일</th>\n",
       "      <th>연도</th>\n",
       "      <th>월</th>\n",
       "    </tr>\n",
       "  </thead>\n",
       "  <tbody>\n",
       "    <tr>\n",
       "      <th>0</th>\n",
       "      <td>2020-02-01</td>\n",
       "      <td>0</td>\n",
       "      <td>1442</td>\n",
       "      <td>1442. (구)신한은행 중랑교지점</td>\n",
       "      <td>정기권</td>\n",
       "      <td>~10대</td>\n",
       "      <td>1</td>\n",
       "      <td>53.86</td>\n",
       "      <td>0.32</td>\n",
       "      <td>1360.000</td>\n",
       "      <td>6</td>\n",
       "      <td>2020-02-01</td>\n",
       "      <td>5</td>\n",
       "      <td>2020</td>\n",
       "      <td>2</td>\n",
       "    </tr>\n",
       "    <tr>\n",
       "      <th>1</th>\n",
       "      <td>2020-02-01</td>\n",
       "      <td>0</td>\n",
       "      <td>1339</td>\n",
       "      <td>1339. 삼성전자서비스 성북센터</td>\n",
       "      <td>정기권</td>\n",
       "      <td>~10대</td>\n",
       "      <td>1</td>\n",
       "      <td>10.04</td>\n",
       "      <td>0.09</td>\n",
       "      <td>390.000</td>\n",
       "      <td>3</td>\n",
       "      <td>2020-02-01</td>\n",
       "      <td>5</td>\n",
       "      <td>2020</td>\n",
       "      <td>2</td>\n",
       "    </tr>\n",
       "    <tr>\n",
       "      <th>2</th>\n",
       "      <td>2020-02-01</td>\n",
       "      <td>0</td>\n",
       "      <td>1960</td>\n",
       "      <td>1960. 화광신문사 앞</td>\n",
       "      <td>정기권</td>\n",
       "      <td>~10대</td>\n",
       "      <td>1</td>\n",
       "      <td>75.14</td>\n",
       "      <td>0.64</td>\n",
       "      <td>2750.000</td>\n",
       "      <td>24</td>\n",
       "      <td>2020-02-01</td>\n",
       "      <td>5</td>\n",
       "      <td>2020</td>\n",
       "      <td>2</td>\n",
       "    </tr>\n",
       "    <tr>\n",
       "      <th>3</th>\n",
       "      <td>2020-02-01</td>\n",
       "      <td>0</td>\n",
       "      <td>394</td>\n",
       "      <td>394. 경희궁 자이 3단지</td>\n",
       "      <td>정기권</td>\n",
       "      <td>~10대</td>\n",
       "      <td>1</td>\n",
       "      <td>28.42</td>\n",
       "      <td>0.18</td>\n",
       "      <td>780.000</td>\n",
       "      <td>3</td>\n",
       "      <td>2020-02-01</td>\n",
       "      <td>5</td>\n",
       "      <td>2020</td>\n",
       "      <td>2</td>\n",
       "    </tr>\n",
       "  </tbody>\n",
       "</table>\n",
       "</div>"
      ],
      "text/plain": [
       "         대여일자  대여시간  대여소번호                 대여소명 대여구분코드 연령대코드  이용건수    운동량   탄소량     이동거리  사용시간 대여일자datetime  요일    연도  월\n",
       "0  2020-02-01     0   1442  1442. (구)신한은행 중랑교지점    정기권  ~10대     1  53.86  0.32 1360.000     6   2020-02-01   5  2020  2\n",
       "1  2020-02-01     0   1339   1339. 삼성전자서비스 성북센터    정기권  ~10대     1  10.04  0.09  390.000     3   2020-02-01   5  2020  2\n",
       "2  2020-02-01     0   1960        1960. 화광신문사 앞    정기권  ~10대     1  75.14  0.64 2750.000    24   2020-02-01   5  2020  2\n",
       "3  2020-02-01     0    394      394. 경희궁 자이 3단지    정기권  ~10대     1  28.42  0.18  780.000     3   2020-02-01   5  2020  2"
      ]
     },
     "execution_count": 85,
     "metadata": {},
     "output_type": "execute_result"
    }
   ],
   "source": [
    "Hour_bike_usage.head(4)"
   ]
  },
  {
   "cell_type": "code",
   "execution_count": 86,
   "metadata": {
    "ExecuteTime": {
     "end_time": "2020-11-26T09:09:54.974384Z",
     "start_time": "2020-11-26T09:09:54.954611Z"
    },
    "scrolled": true
   },
   "outputs": [
    {
     "name": "stdout",
     "output_type": "stream",
     "text": [
      "<class 'pandas.core.frame.DataFrame'>\n",
      "RangeIndex: 6054830 entries, 0 to 6054829\n",
      "Data columns (total 15 columns):\n",
      " #   Column        Dtype  \n",
      "---  ------        -----  \n",
      " 0   대여일자          object \n",
      " 1   대여시간          int64  \n",
      " 2   대여소번호         int64  \n",
      " 3   대여소명          object \n",
      " 4   대여구분코드        object \n",
      " 5   연령대코드         object \n",
      " 6   이용건수          int64  \n",
      " 7   운동량           object \n",
      " 8   탄소량           object \n",
      " 9   이동거리          float64\n",
      " 10  사용시간          int64  \n",
      " 11  대여일자datetime  object \n",
      " 12  요일            int64  \n",
      " 13  연도            int64  \n",
      " 14  월             int64  \n",
      "dtypes: float64(1), int64(7), object(7)\n",
      "memory usage: 692.9+ MB\n"
     ]
    }
   ],
   "source": [
    "Hour_bike_usage.info()"
   ]
  },
  {
   "cell_type": "code",
   "execution_count": 87,
   "metadata": {
    "ExecuteTime": {
     "end_time": "2020-11-26T09:09:55.158063Z",
     "start_time": "2020-11-26T09:09:55.149310Z"
    }
   },
   "outputs": [],
   "source": [
    "# Hour_bike_usage[Hour_bike_usage['대여소번호'] == 99998]"
   ]
  },
  {
   "cell_type": "code",
   "execution_count": 88,
   "metadata": {
    "ExecuteTime": {
     "end_time": "2020-11-26T09:10:00.167259Z",
     "start_time": "2020-11-26T09:09:55.285203Z"
    }
   },
   "outputs": [],
   "source": [
    "# Hour_bike_usage['대여소명'] = Hour_bike_usage['대여소명'].apply(lambda x: x.split('.')[-1])\n",
    "# Hour_bike_usage['대여일자datetime'] = Hour_bike_usage['대여일자'].apply(lambda x: datetime.datetime.strptime(x, '%Y-%m-%d'))\n",
    "# Hour_bike_usage['요일'] = Hour_bike_usage['대여일자datetime'].apply(lambda x: x.weekday())\n",
    "# Hour_bike_usage['연도'] = Hour_bike_usage['대여일자'].apply(lambda x: str(x)[:4])\n",
    "Hour_bike_usage['대여소 번호'] = Hour_bike_usage['대여소명'].apply(lambda x: x.split(\".\")[0])"
   ]
  },
  {
   "cell_type": "code",
   "execution_count": 89,
   "metadata": {
    "ExecuteTime": {
     "end_time": "2020-11-26T09:10:58.375956Z",
     "start_time": "2020-11-26T09:10:00.171805Z"
    }
   },
   "outputs": [],
   "source": [
    "Hour_bike_usage = Hour_bike_usage.astype({'대여시간':'str', '대여소번호' : 'str', '요일': 'str', '연도': 'str', '월':'str'})"
   ]
  },
  {
   "cell_type": "code",
   "execution_count": 90,
   "metadata": {
    "ExecuteTime": {
     "end_time": "2020-11-26T09:11:07.875338Z",
     "start_time": "2020-11-26T09:10:58.382094Z"
    }
   },
   "outputs": [],
   "source": [
    "Hour_bike_usage_group = Hour_bike_usage.groupby(['대여소명','대여소번호','요일','대여시간'],as_index = False).mean()"
   ]
  },
  {
   "cell_type": "code",
   "execution_count": 91,
   "metadata": {
    "ExecuteTime": {
     "end_time": "2020-11-26T09:11:09.426289Z",
     "start_time": "2020-11-26T09:11:09.365057Z"
    }
   },
   "outputs": [
    {
     "data": {
      "text/html": [
       "<div>\n",
       "<style scoped>\n",
       "    .dataframe tbody tr th:only-of-type {\n",
       "        vertical-align: middle;\n",
       "    }\n",
       "\n",
       "    .dataframe tbody tr th {\n",
       "        vertical-align: top;\n",
       "    }\n",
       "\n",
       "    .dataframe thead th {\n",
       "        text-align: right;\n",
       "    }\n",
       "</style>\n",
       "<table border=\"1\" class=\"dataframe\">\n",
       "  <thead>\n",
       "    <tr style=\"text-align: right;\">\n",
       "      <th></th>\n",
       "      <th>대여소명</th>\n",
       "      <th>대여소번호</th>\n",
       "      <th>요일</th>\n",
       "      <th>대여시간</th>\n",
       "      <th>이용건수</th>\n",
       "      <th>이동거리</th>\n",
       "      <th>사용시간</th>\n",
       "    </tr>\n",
       "  </thead>\n",
       "  <tbody>\n",
       "    <tr>\n",
       "      <th>0</th>\n",
       "      <td>1001. 광진교 남단 사거리(디지털프라자앞)</td>\n",
       "      <td>1001</td>\n",
       "      <td>0</td>\n",
       "      <td>0</td>\n",
       "      <td>1.077</td>\n",
       "      <td>2112.692</td>\n",
       "      <td>29.154</td>\n",
       "    </tr>\n",
       "    <tr>\n",
       "      <th>1</th>\n",
       "      <td>1001. 광진교 남단 사거리(디지털프라자앞)</td>\n",
       "      <td>1001</td>\n",
       "      <td>0</td>\n",
       "      <td>1</td>\n",
       "      <td>1.172</td>\n",
       "      <td>5021.379</td>\n",
       "      <td>24.897</td>\n",
       "    </tr>\n",
       "    <tr>\n",
       "      <th>2</th>\n",
       "      <td>1001. 광진교 남단 사거리(디지털프라자앞)</td>\n",
       "      <td>1001</td>\n",
       "      <td>0</td>\n",
       "      <td>10</td>\n",
       "      <td>1.074</td>\n",
       "      <td>1916.667</td>\n",
       "      <td>35.630</td>\n",
       "    </tr>\n",
       "    <tr>\n",
       "      <th>3</th>\n",
       "      <td>1001. 광진교 남단 사거리(디지털프라자앞)</td>\n",
       "      <td>1001</td>\n",
       "      <td>0</td>\n",
       "      <td>11</td>\n",
       "      <td>1.200</td>\n",
       "      <td>2626.667</td>\n",
       "      <td>42.633</td>\n",
       "    </tr>\n",
       "    <tr>\n",
       "      <th>4</th>\n",
       "      <td>1001. 광진교 남단 사거리(디지털프라자앞)</td>\n",
       "      <td>1001</td>\n",
       "      <td>0</td>\n",
       "      <td>12</td>\n",
       "      <td>1.196</td>\n",
       "      <td>3727.391</td>\n",
       "      <td>25.391</td>\n",
       "    </tr>\n",
       "    <tr>\n",
       "      <th>...</th>\n",
       "      <td>...</td>\n",
       "      <td>...</td>\n",
       "      <td>...</td>\n",
       "      <td>...</td>\n",
       "      <td>...</td>\n",
       "      <td>...</td>\n",
       "      <td>...</td>\n",
       "    </tr>\n",
       "    <tr>\n",
       "      <th>288904</th>\n",
       "      <td>중랑센터</td>\n",
       "      <td>3</td>\n",
       "      <td>3</td>\n",
       "      <td>18</td>\n",
       "      <td>1.000</td>\n",
       "      <td>32640.000</td>\n",
       "      <td>22.000</td>\n",
       "    </tr>\n",
       "    <tr>\n",
       "      <th>288905</th>\n",
       "      <td>중랑센터</td>\n",
       "      <td>3</td>\n",
       "      <td>4</td>\n",
       "      <td>16</td>\n",
       "      <td>1.000</td>\n",
       "      <td>28490.000</td>\n",
       "      <td>18.333</td>\n",
       "    </tr>\n",
       "    <tr>\n",
       "      <th>288906</th>\n",
       "      <td>중랑센터</td>\n",
       "      <td>3</td>\n",
       "      <td>4</td>\n",
       "      <td>17</td>\n",
       "      <td>1.000</td>\n",
       "      <td>1210.000</td>\n",
       "      <td>11.000</td>\n",
       "    </tr>\n",
       "    <tr>\n",
       "      <th>288907</th>\n",
       "      <td>중랑센터</td>\n",
       "      <td>3</td>\n",
       "      <td>4</td>\n",
       "      <td>18</td>\n",
       "      <td>1.000</td>\n",
       "      <td>625.000</td>\n",
       "      <td>15.500</td>\n",
       "    </tr>\n",
       "    <tr>\n",
       "      <th>288908</th>\n",
       "      <td>천호센터</td>\n",
       "      <td>9988</td>\n",
       "      <td>1</td>\n",
       "      <td>14</td>\n",
       "      <td>1.000</td>\n",
       "      <td>0.000</td>\n",
       "      <td>32.000</td>\n",
       "    </tr>\n",
       "  </tbody>\n",
       "</table>\n",
       "<p>288909 rows × 7 columns</p>\n",
       "</div>"
      ],
      "text/plain": [
       "                             대여소명 대여소번호 요일 대여시간  이용건수      이동거리   사용시간\n",
       "0       1001. 광진교 남단 사거리(디지털프라자앞)  1001  0    0 1.077  2112.692 29.154\n",
       "1       1001. 광진교 남단 사거리(디지털프라자앞)  1001  0    1 1.172  5021.379 24.897\n",
       "2       1001. 광진교 남단 사거리(디지털프라자앞)  1001  0   10 1.074  1916.667 35.630\n",
       "3       1001. 광진교 남단 사거리(디지털프라자앞)  1001  0   11 1.200  2626.667 42.633\n",
       "4       1001. 광진교 남단 사거리(디지털프라자앞)  1001  0   12 1.196  3727.391 25.391\n",
       "...                           ...   ... ..  ...   ...       ...    ...\n",
       "288904                       중랑센터     3  3   18 1.000 32640.000 22.000\n",
       "288905                       중랑센터     3  4   16 1.000 28490.000 18.333\n",
       "288906                       중랑센터     3  4   17 1.000  1210.000 11.000\n",
       "288907                       중랑센터     3  4   18 1.000   625.000 15.500\n",
       "288908                       천호센터  9988  1   14 1.000     0.000 32.000\n",
       "\n",
       "[288909 rows x 7 columns]"
      ]
     },
     "execution_count": 91,
     "metadata": {},
     "output_type": "execute_result"
    }
   ],
   "source": [
    "Hour_bike_usage_group"
   ]
  },
  {
   "cell_type": "code",
   "execution_count": 92,
   "metadata": {
    "ExecuteTime": {
     "end_time": "2020-11-26T09:11:09.519178Z",
     "start_time": "2020-11-26T09:11:09.435839Z"
    }
   },
   "outputs": [
    {
     "data": {
      "text/plain": [
       "2076"
      ]
     },
     "execution_count": 92,
     "metadata": {},
     "output_type": "execute_result"
    }
   ],
   "source": [
    "len(set(Hour_bike_usage_group['대여소번호'].unique()))"
   ]
  },
  {
   "cell_type": "code",
   "execution_count": 93,
   "metadata": {
    "ExecuteTime": {
     "end_time": "2020-11-26T09:11:09.546664Z",
     "start_time": "2020-11-26T09:11:09.526948Z"
    }
   },
   "outputs": [],
   "source": [
    "## 나중에 try/except, .format, int(h), range(24)로 간결하게 만들기.\n",
    "### 00시, 01시 처럼 2자리로 만들어야함\n",
    "def to_strhour_day(h):\n",
    "        h = int(h)\n",
    "        for i in range(24):\n",
    "            if h == i:\n",
    "                return f'평일 {h:02d}시'#.format(h)\n",
    "            \n",
    "def to_strhour_end(h):\n",
    "        h = int(h)\n",
    "        for i in range(24):\n",
    "            if h == i:\n",
    "                return f'주말 {h:02d}시'#.format(h)"
   ]
  },
  {
   "cell_type": "code",
   "execution_count": 94,
   "metadata": {
    "ExecuteTime": {
     "end_time": "2020-11-26T09:11:09.581045Z",
     "start_time": "2020-11-26T09:11:09.553055Z"
    }
   },
   "outputs": [],
   "source": [
    "def to_strday(d):\n",
    "    try:\n",
    "        d = int(d)\n",
    "        for idx, D in enumerate(['월','화','수','목','금','토','일']):\n",
    "            if d == idx:\n",
    "                return D\n",
    "    except:\n",
    "        pass"
   ]
  },
  {
   "cell_type": "markdown",
   "metadata": {},
   "source": [
    "### 요일 value 수정"
   ]
  },
  {
   "cell_type": "code",
   "execution_count": 95,
   "metadata": {
    "ExecuteTime": {
     "end_time": "2020-11-26T09:11:12.045904Z",
     "start_time": "2020-11-26T09:11:11.485439Z"
    }
   },
   "outputs": [],
   "source": [
    "Hour_bike_usage_group['요일'] = Hour_bike_usage_group['요일'].map(lambda x: to_strday(x))"
   ]
  },
  {
   "cell_type": "code",
   "execution_count": 96,
   "metadata": {
    "ExecuteTime": {
     "end_time": "2020-11-26T09:11:12.074018Z",
     "start_time": "2020-11-26T09:11:12.049779Z"
    }
   },
   "outputs": [
    {
     "data": {
      "text/html": [
       "<div>\n",
       "<style scoped>\n",
       "    .dataframe tbody tr th:only-of-type {\n",
       "        vertical-align: middle;\n",
       "    }\n",
       "\n",
       "    .dataframe tbody tr th {\n",
       "        vertical-align: top;\n",
       "    }\n",
       "\n",
       "    .dataframe thead th {\n",
       "        text-align: right;\n",
       "    }\n",
       "</style>\n",
       "<table border=\"1\" class=\"dataframe\">\n",
       "  <thead>\n",
       "    <tr style=\"text-align: right;\">\n",
       "      <th></th>\n",
       "      <th>대여소명</th>\n",
       "      <th>대여소번호</th>\n",
       "      <th>요일</th>\n",
       "      <th>대여시간</th>\n",
       "      <th>이용건수</th>\n",
       "      <th>이동거리</th>\n",
       "      <th>사용시간</th>\n",
       "    </tr>\n",
       "  </thead>\n",
       "  <tbody>\n",
       "    <tr>\n",
       "      <th>0</th>\n",
       "      <td>1001. 광진교 남단 사거리(디지털프라자앞)</td>\n",
       "      <td>1001</td>\n",
       "      <td>월</td>\n",
       "      <td>0</td>\n",
       "      <td>1.077</td>\n",
       "      <td>2112.692</td>\n",
       "      <td>29.154</td>\n",
       "    </tr>\n",
       "    <tr>\n",
       "      <th>1</th>\n",
       "      <td>1001. 광진교 남단 사거리(디지털프라자앞)</td>\n",
       "      <td>1001</td>\n",
       "      <td>월</td>\n",
       "      <td>1</td>\n",
       "      <td>1.172</td>\n",
       "      <td>5021.379</td>\n",
       "      <td>24.897</td>\n",
       "    </tr>\n",
       "    <tr>\n",
       "      <th>2</th>\n",
       "      <td>1001. 광진교 남단 사거리(디지털프라자앞)</td>\n",
       "      <td>1001</td>\n",
       "      <td>월</td>\n",
       "      <td>10</td>\n",
       "      <td>1.074</td>\n",
       "      <td>1916.667</td>\n",
       "      <td>35.630</td>\n",
       "    </tr>\n",
       "    <tr>\n",
       "      <th>3</th>\n",
       "      <td>1001. 광진교 남단 사거리(디지털프라자앞)</td>\n",
       "      <td>1001</td>\n",
       "      <td>월</td>\n",
       "      <td>11</td>\n",
       "      <td>1.200</td>\n",
       "      <td>2626.667</td>\n",
       "      <td>42.633</td>\n",
       "    </tr>\n",
       "    <tr>\n",
       "      <th>4</th>\n",
       "      <td>1001. 광진교 남단 사거리(디지털프라자앞)</td>\n",
       "      <td>1001</td>\n",
       "      <td>월</td>\n",
       "      <td>12</td>\n",
       "      <td>1.196</td>\n",
       "      <td>3727.391</td>\n",
       "      <td>25.391</td>\n",
       "    </tr>\n",
       "  </tbody>\n",
       "</table>\n",
       "</div>"
      ],
      "text/plain": [
       "                        대여소명 대여소번호 요일 대여시간  이용건수     이동거리   사용시간\n",
       "0  1001. 광진교 남단 사거리(디지털프라자앞)  1001  월    0 1.077 2112.692 29.154\n",
       "1  1001. 광진교 남단 사거리(디지털프라자앞)  1001  월    1 1.172 5021.379 24.897\n",
       "2  1001. 광진교 남단 사거리(디지털프라자앞)  1001  월   10 1.074 1916.667 35.630\n",
       "3  1001. 광진교 남단 사거리(디지털프라자앞)  1001  월   11 1.200 2626.667 42.633\n",
       "4  1001. 광진교 남단 사거리(디지털프라자앞)  1001  월   12 1.196 3727.391 25.391"
      ]
     },
     "execution_count": 96,
     "metadata": {},
     "output_type": "execute_result"
    }
   ],
   "source": [
    "Hour_bike_usage_group.head(5)"
   ]
  },
  {
   "cell_type": "code",
   "execution_count": 97,
   "metadata": {
    "ExecuteTime": {
     "end_time": "2020-11-26T09:11:12.269150Z",
     "start_time": "2020-11-26T09:11:12.078063Z"
    }
   },
   "outputs": [
    {
     "name": "stdout",
     "output_type": "stream",
     "text": [
      "<class 'pandas.core.frame.DataFrame'>\n",
      "Int64Index: 288909 entries, 0 to 288908\n",
      "Data columns (total 7 columns):\n",
      " #   Column  Non-Null Count   Dtype  \n",
      "---  ------  --------------   -----  \n",
      " 0   대여소명    288909 non-null  object \n",
      " 1   대여소번호   288909 non-null  object \n",
      " 2   요일      288909 non-null  object \n",
      " 3   대여시간    288909 non-null  object \n",
      " 4   이용건수    288909 non-null  float64\n",
      " 5   이동거리    288909 non-null  float64\n",
      " 6   사용시간    288909 non-null  float64\n",
      "dtypes: float64(3), object(4)\n",
      "memory usage: 17.6+ MB\n"
     ]
    }
   ],
   "source": [
    "Hour_bike_usage_group.info()"
   ]
  },
  {
   "cell_type": "markdown",
   "metadata": {},
   "source": [
    "### 평일 이용량\n",
    "- 거치소별 1년간 평일 평균 24시간 동안 각시간별 사용량"
   ]
  },
  {
   "cell_type": "code",
   "execution_count": 98,
   "metadata": {
    "ExecuteTime": {
     "end_time": "2020-11-26T09:11:12.509363Z",
     "start_time": "2020-11-26T09:11:12.272363Z"
    }
   },
   "outputs": [],
   "source": [
    "Hour_bike_usage_weekday = Hour_bike_usage_group[(Hour_bike_usage_group['요일'] == '월') |\n",
    "                     (Hour_bike_usage_group['요일'] == '화') |\n",
    "                     (Hour_bike_usage_group['요일'] == '수') | \n",
    "                     (Hour_bike_usage_group['요일'] == '목') | \n",
    "                     (Hour_bike_usage_group['요일'] == '금')]"
   ]
  },
  {
   "cell_type": "markdown",
   "metadata": {
    "ExecuteTime": {
     "end_time": "2020-11-24T06:54:37.878568Z",
     "start_time": "2020-11-24T06:54:04.612Z"
    }
   },
   "source": [
    "Hour_bike_usage_weekday = Hour_bike_usage_weekday.astype({'대여소번호' : 'int32'})\n",
    "\n",
    "Hour_bike_usage_weekday = Hour_bike_usage_weekday.astype({'대여소번호' : 'str'})"
   ]
  },
  {
   "cell_type": "code",
   "execution_count": 99,
   "metadata": {
    "ExecuteTime": {
     "end_time": "2020-11-26T09:11:13.420374Z",
     "start_time": "2020-11-26T09:11:12.513628Z"
    }
   },
   "outputs": [
    {
     "name": "stderr",
     "output_type": "stream",
     "text": [
      "<ipython-input-99-fdd3d13f76b1>:1: SettingWithCopyWarning: \n",
      "A value is trying to be set on a copy of a slice from a DataFrame.\n",
      "Try using .loc[row_indexer,col_indexer] = value instead\n",
      "\n",
      "See the caveats in the documentation: https://pandas.pydata.org/pandas-docs/stable/user_guide/indexing.html#returning-a-view-versus-a-copy\n",
      "  Hour_bike_usage_weekday['대여시간'] = Hour_bike_usage_weekday['대여시간'].map(lambda x: to_strhour_day(x))\n"
     ]
    }
   ],
   "source": [
    "Hour_bike_usage_weekday['대여시간'] = Hour_bike_usage_weekday['대여시간'].map(lambda x: to_strhour_day(x))"
   ]
  },
  {
   "cell_type": "code",
   "execution_count": 100,
   "metadata": {
    "ExecuteTime": {
     "end_time": "2020-11-26T09:11:13.464480Z",
     "start_time": "2020-11-26T09:11:13.424225Z"
    },
    "scrolled": true
   },
   "outputs": [
    {
     "data": {
      "text/html": [
       "<div>\n",
       "<style scoped>\n",
       "    .dataframe tbody tr th:only-of-type {\n",
       "        vertical-align: middle;\n",
       "    }\n",
       "\n",
       "    .dataframe tbody tr th {\n",
       "        vertical-align: top;\n",
       "    }\n",
       "\n",
       "    .dataframe thead th {\n",
       "        text-align: right;\n",
       "    }\n",
       "</style>\n",
       "<table border=\"1\" class=\"dataframe\">\n",
       "  <thead>\n",
       "    <tr style=\"text-align: right;\">\n",
       "      <th></th>\n",
       "      <th>대여소명</th>\n",
       "      <th>대여소번호</th>\n",
       "      <th>요일</th>\n",
       "      <th>대여시간</th>\n",
       "      <th>이용건수</th>\n",
       "      <th>이동거리</th>\n",
       "      <th>사용시간</th>\n",
       "    </tr>\n",
       "  </thead>\n",
       "  <tbody>\n",
       "    <tr>\n",
       "      <th>0</th>\n",
       "      <td>1001. 광진교 남단 사거리(디지털프라자앞)</td>\n",
       "      <td>1001</td>\n",
       "      <td>월</td>\n",
       "      <td>평일 00시</td>\n",
       "      <td>1.077</td>\n",
       "      <td>2112.692</td>\n",
       "      <td>29.154</td>\n",
       "    </tr>\n",
       "    <tr>\n",
       "      <th>1</th>\n",
       "      <td>1001. 광진교 남단 사거리(디지털프라자앞)</td>\n",
       "      <td>1001</td>\n",
       "      <td>월</td>\n",
       "      <td>평일 01시</td>\n",
       "      <td>1.172</td>\n",
       "      <td>5021.379</td>\n",
       "      <td>24.897</td>\n",
       "    </tr>\n",
       "    <tr>\n",
       "      <th>2</th>\n",
       "      <td>1001. 광진교 남단 사거리(디지털프라자앞)</td>\n",
       "      <td>1001</td>\n",
       "      <td>월</td>\n",
       "      <td>평일 10시</td>\n",
       "      <td>1.074</td>\n",
       "      <td>1916.667</td>\n",
       "      <td>35.630</td>\n",
       "    </tr>\n",
       "    <tr>\n",
       "      <th>3</th>\n",
       "      <td>1001. 광진교 남단 사거리(디지털프라자앞)</td>\n",
       "      <td>1001</td>\n",
       "      <td>월</td>\n",
       "      <td>평일 11시</td>\n",
       "      <td>1.200</td>\n",
       "      <td>2626.667</td>\n",
       "      <td>42.633</td>\n",
       "    </tr>\n",
       "    <tr>\n",
       "      <th>4</th>\n",
       "      <td>1001. 광진교 남단 사거리(디지털프라자앞)</td>\n",
       "      <td>1001</td>\n",
       "      <td>월</td>\n",
       "      <td>평일 12시</td>\n",
       "      <td>1.196</td>\n",
       "      <td>3727.391</td>\n",
       "      <td>25.391</td>\n",
       "    </tr>\n",
       "    <tr>\n",
       "      <th>...</th>\n",
       "      <td>...</td>\n",
       "      <td>...</td>\n",
       "      <td>...</td>\n",
       "      <td>...</td>\n",
       "      <td>...</td>\n",
       "      <td>...</td>\n",
       "      <td>...</td>\n",
       "    </tr>\n",
       "    <tr>\n",
       "      <th>288904</th>\n",
       "      <td>중랑센터</td>\n",
       "      <td>3</td>\n",
       "      <td>목</td>\n",
       "      <td>평일 18시</td>\n",
       "      <td>1.000</td>\n",
       "      <td>32640.000</td>\n",
       "      <td>22.000</td>\n",
       "    </tr>\n",
       "    <tr>\n",
       "      <th>288905</th>\n",
       "      <td>중랑센터</td>\n",
       "      <td>3</td>\n",
       "      <td>금</td>\n",
       "      <td>평일 16시</td>\n",
       "      <td>1.000</td>\n",
       "      <td>28490.000</td>\n",
       "      <td>18.333</td>\n",
       "    </tr>\n",
       "    <tr>\n",
       "      <th>288906</th>\n",
       "      <td>중랑센터</td>\n",
       "      <td>3</td>\n",
       "      <td>금</td>\n",
       "      <td>평일 17시</td>\n",
       "      <td>1.000</td>\n",
       "      <td>1210.000</td>\n",
       "      <td>11.000</td>\n",
       "    </tr>\n",
       "    <tr>\n",
       "      <th>288907</th>\n",
       "      <td>중랑센터</td>\n",
       "      <td>3</td>\n",
       "      <td>금</td>\n",
       "      <td>평일 18시</td>\n",
       "      <td>1.000</td>\n",
       "      <td>625.000</td>\n",
       "      <td>15.500</td>\n",
       "    </tr>\n",
       "    <tr>\n",
       "      <th>288908</th>\n",
       "      <td>천호센터</td>\n",
       "      <td>9988</td>\n",
       "      <td>화</td>\n",
       "      <td>평일 14시</td>\n",
       "      <td>1.000</td>\n",
       "      <td>0.000</td>\n",
       "      <td>32.000</td>\n",
       "    </tr>\n",
       "  </tbody>\n",
       "</table>\n",
       "<p>203961 rows × 7 columns</p>\n",
       "</div>"
      ],
      "text/plain": [
       "                             대여소명 대여소번호 요일    대여시간  이용건수      이동거리   사용시간\n",
       "0       1001. 광진교 남단 사거리(디지털프라자앞)  1001  월  평일 00시 1.077  2112.692 29.154\n",
       "1       1001. 광진교 남단 사거리(디지털프라자앞)  1001  월  평일 01시 1.172  5021.379 24.897\n",
       "2       1001. 광진교 남단 사거리(디지털프라자앞)  1001  월  평일 10시 1.074  1916.667 35.630\n",
       "3       1001. 광진교 남단 사거리(디지털프라자앞)  1001  월  평일 11시 1.200  2626.667 42.633\n",
       "4       1001. 광진교 남단 사거리(디지털프라자앞)  1001  월  평일 12시 1.196  3727.391 25.391\n",
       "...                           ...   ... ..     ...   ...       ...    ...\n",
       "288904                       중랑센터     3  목  평일 18시 1.000 32640.000 22.000\n",
       "288905                       중랑센터     3  금  평일 16시 1.000 28490.000 18.333\n",
       "288906                       중랑센터     3  금  평일 17시 1.000  1210.000 11.000\n",
       "288907                       중랑센터     3  금  평일 18시 1.000   625.000 15.500\n",
       "288908                       천호센터  9988  화  평일 14시 1.000     0.000 32.000\n",
       "\n",
       "[203961 rows x 7 columns]"
      ]
     },
     "execution_count": 100,
     "metadata": {},
     "output_type": "execute_result"
    }
   ],
   "source": [
    "Hour_bike_usage_weekday"
   ]
  },
  {
   "cell_type": "code",
   "execution_count": 101,
   "metadata": {
    "ExecuteTime": {
     "end_time": "2020-11-26T09:11:13.535585Z",
     "start_time": "2020-11-26T09:11:13.468377Z"
    }
   },
   "outputs": [
    {
     "data": {
      "text/html": [
       "<div>\n",
       "<style scoped>\n",
       "    .dataframe tbody tr th:only-of-type {\n",
       "        vertical-align: middle;\n",
       "    }\n",
       "\n",
       "    .dataframe tbody tr th {\n",
       "        vertical-align: top;\n",
       "    }\n",
       "\n",
       "    .dataframe thead th {\n",
       "        text-align: right;\n",
       "    }\n",
       "</style>\n",
       "<table border=\"1\" class=\"dataframe\">\n",
       "  <thead>\n",
       "    <tr style=\"text-align: right;\">\n",
       "      <th></th>\n",
       "      <th>대여소명</th>\n",
       "      <th>대여소번호</th>\n",
       "      <th>요일</th>\n",
       "      <th>대여시간</th>\n",
       "      <th>이용건수</th>\n",
       "      <th>이동거리</th>\n",
       "      <th>사용시간</th>\n",
       "    </tr>\n",
       "  </thead>\n",
       "  <tbody>\n",
       "  </tbody>\n",
       "</table>\n",
       "</div>"
      ],
      "text/plain": [
       "Empty DataFrame\n",
       "Columns: [대여소명, 대여소번호, 요일, 대여시간, 이용건수, 이동거리, 사용시간]\n",
       "Index: []"
      ]
     },
     "execution_count": 101,
     "metadata": {},
     "output_type": "execute_result"
    }
   ],
   "source": [
    "Hour_bike_usage_weekday[Hour_bike_usage_weekday.대여소번호.isna()]"
   ]
  },
  {
   "cell_type": "code",
   "execution_count": 102,
   "metadata": {
    "ExecuteTime": {
     "end_time": "2020-11-26T09:11:13.655523Z",
     "start_time": "2020-11-26T09:11:13.542225Z"
    }
   },
   "outputs": [
    {
     "data": {
      "text/plain": [
       "대여소명     0\n",
       "대여소번호    0\n",
       "요일       0\n",
       "대여시간     0\n",
       "이용건수     0\n",
       "이동거리     0\n",
       "사용시간     0\n",
       "dtype: int64"
      ]
     },
     "execution_count": 102,
     "metadata": {},
     "output_type": "execute_result"
    }
   ],
   "source": [
    "Hour_bike_usage_weekday.isna().sum()"
   ]
  },
  {
   "cell_type": "code",
   "execution_count": 103,
   "metadata": {
    "ExecuteTime": {
     "end_time": "2020-11-26T09:11:13.686848Z",
     "start_time": "2020-11-26T09:11:13.656520Z"
    }
   },
   "outputs": [
    {
     "data": {
      "text/plain": [
       "2074"
      ]
     },
     "execution_count": 103,
     "metadata": {},
     "output_type": "execute_result"
    }
   ],
   "source": [
    "len(set(Hour_bike_usage_weekday['대여소번호'].unique()))"
   ]
  },
  {
   "cell_type": "code",
   "execution_count": 104,
   "metadata": {
    "ExecuteTime": {
     "end_time": "2020-11-26T09:11:13.702195Z",
     "start_time": "2020-11-26T09:11:13.691815Z"
    }
   },
   "outputs": [],
   "source": [
    "# set(Hour_bike_usage_weekday.sort_values('대여소명')['대여소명'])"
   ]
  },
  {
   "cell_type": "markdown",
   "metadata": {},
   "source": [
    "### 주말 이용량\n",
    "\n",
    "- 주말평균 24시간동안 각 시간별사용량"
   ]
  },
  {
   "cell_type": "code",
   "execution_count": 105,
   "metadata": {
    "ExecuteTime": {
     "end_time": "2020-11-26T09:11:18.257054Z",
     "start_time": "2020-11-26T09:11:18.138984Z"
    }
   },
   "outputs": [],
   "source": [
    "Hour_bike_usage_weekend = Hour_bike_usage_group[(Hour_bike_usage_group['요일'] == '토') |\n",
    "                     (Hour_bike_usage_group['요일'] == '일')]"
   ]
  },
  {
   "cell_type": "code",
   "execution_count": 106,
   "metadata": {
    "ExecuteTime": {
     "end_time": "2020-11-26T09:11:18.300081Z",
     "start_time": "2020-11-26T09:11:18.261072Z"
    }
   },
   "outputs": [
    {
     "data": {
      "text/plain": [
       "120       1001. 광진교 남단 사거리(디지털프라자앞)\n",
       "121       1001. 광진교 남단 사거리(디지털프라자앞)\n",
       "122       1001. 광진교 남단 사거리(디지털프라자앞)\n",
       "123       1001. 광진교 남단 사거리(디지털프라자앞)\n",
       "124       1001. 광진교 남단 사거리(디지털프라자앞)\n",
       "                    ...            \n",
       "288886                          위트콤\n",
       "288887                          위트콤\n",
       "288888                          위트콤\n",
       "288889                          위트콤\n",
       "288890                          위트콤\n",
       "Name: 대여소명, Length: 84948, dtype: object"
      ]
     },
     "execution_count": 106,
     "metadata": {},
     "output_type": "execute_result"
    }
   ],
   "source": [
    "Hour_bike_usage_weekend['대여소명']"
   ]
  },
  {
   "cell_type": "code",
   "execution_count": 107,
   "metadata": {
    "ExecuteTime": {
     "end_time": "2020-11-26T09:11:18.638697Z",
     "start_time": "2020-11-26T09:11:18.301372Z"
    }
   },
   "outputs": [
    {
     "name": "stderr",
     "output_type": "stream",
     "text": [
      "<ipython-input-107-039a2e6b0ad0>:1: SettingWithCopyWarning: \n",
      "A value is trying to be set on a copy of a slice from a DataFrame.\n",
      "Try using .loc[row_indexer,col_indexer] = value instead\n",
      "\n",
      "See the caveats in the documentation: https://pandas.pydata.org/pandas-docs/stable/user_guide/indexing.html#returning-a-view-versus-a-copy\n",
      "  Hour_bike_usage_weekend['대여시간'] = Hour_bike_usage_weekend['대여시간'].map(lambda x: to_strhour_end(x))\n"
     ]
    }
   ],
   "source": [
    "Hour_bike_usage_weekend['대여시간'] = Hour_bike_usage_weekend['대여시간'].map(lambda x: to_strhour_end(x))"
   ]
  },
  {
   "cell_type": "code",
   "execution_count": 108,
   "metadata": {
    "ExecuteTime": {
     "end_time": "2020-11-26T09:11:18.679255Z",
     "start_time": "2020-11-26T09:11:18.639702Z"
    }
   },
   "outputs": [
    {
     "data": {
      "text/html": [
       "<div>\n",
       "<style scoped>\n",
       "    .dataframe tbody tr th:only-of-type {\n",
       "        vertical-align: middle;\n",
       "    }\n",
       "\n",
       "    .dataframe tbody tr th {\n",
       "        vertical-align: top;\n",
       "    }\n",
       "\n",
       "    .dataframe thead th {\n",
       "        text-align: right;\n",
       "    }\n",
       "</style>\n",
       "<table border=\"1\" class=\"dataframe\">\n",
       "  <thead>\n",
       "    <tr style=\"text-align: right;\">\n",
       "      <th></th>\n",
       "      <th>대여소명</th>\n",
       "      <th>대여소번호</th>\n",
       "      <th>요일</th>\n",
       "      <th>대여시간</th>\n",
       "      <th>이용건수</th>\n",
       "      <th>이동거리</th>\n",
       "      <th>사용시간</th>\n",
       "    </tr>\n",
       "  </thead>\n",
       "  <tbody>\n",
       "    <tr>\n",
       "      <th>120</th>\n",
       "      <td>1001. 광진교 남단 사거리(디지털프라자앞)</td>\n",
       "      <td>1001</td>\n",
       "      <td>토</td>\n",
       "      <td>주말 00시</td>\n",
       "      <td>1.206</td>\n",
       "      <td>5835.000</td>\n",
       "      <td>25.235</td>\n",
       "    </tr>\n",
       "    <tr>\n",
       "      <th>121</th>\n",
       "      <td>1001. 광진교 남단 사거리(디지털프라자앞)</td>\n",
       "      <td>1001</td>\n",
       "      <td>토</td>\n",
       "      <td>주말 01시</td>\n",
       "      <td>1.214</td>\n",
       "      <td>2941.667</td>\n",
       "      <td>17.738</td>\n",
       "    </tr>\n",
       "    <tr>\n",
       "      <th>122</th>\n",
       "      <td>1001. 광진교 남단 사거리(디지털프라자앞)</td>\n",
       "      <td>1001</td>\n",
       "      <td>토</td>\n",
       "      <td>주말 10시</td>\n",
       "      <td>1.083</td>\n",
       "      <td>3376.667</td>\n",
       "      <td>45.250</td>\n",
       "    </tr>\n",
       "    <tr>\n",
       "      <th>123</th>\n",
       "      <td>1001. 광진교 남단 사거리(디지털프라자앞)</td>\n",
       "      <td>1001</td>\n",
       "      <td>토</td>\n",
       "      <td>주말 11시</td>\n",
       "      <td>1.250</td>\n",
       "      <td>9106.111</td>\n",
       "      <td>42.306</td>\n",
       "    </tr>\n",
       "    <tr>\n",
       "      <th>124</th>\n",
       "      <td>1001. 광진교 남단 사거리(디지털프라자앞)</td>\n",
       "      <td>1001</td>\n",
       "      <td>토</td>\n",
       "      <td>주말 12시</td>\n",
       "      <td>1.300</td>\n",
       "      <td>4972.000</td>\n",
       "      <td>43.225</td>\n",
       "    </tr>\n",
       "    <tr>\n",
       "      <th>...</th>\n",
       "      <td>...</td>\n",
       "      <td>...</td>\n",
       "      <td>...</td>\n",
       "      <td>...</td>\n",
       "      <td>...</td>\n",
       "      <td>...</td>\n",
       "      <td>...</td>\n",
       "    </tr>\n",
       "    <tr>\n",
       "      <th>288886</th>\n",
       "      <td>위트콤</td>\n",
       "      <td>10</td>\n",
       "      <td>일</td>\n",
       "      <td>주말 15시</td>\n",
       "      <td>1.000</td>\n",
       "      <td>0.000</td>\n",
       "      <td>57.333</td>\n",
       "    </tr>\n",
       "    <tr>\n",
       "      <th>288887</th>\n",
       "      <td>위트콤</td>\n",
       "      <td>10</td>\n",
       "      <td>일</td>\n",
       "      <td>주말 16시</td>\n",
       "      <td>1.000</td>\n",
       "      <td>0.000</td>\n",
       "      <td>2.000</td>\n",
       "    </tr>\n",
       "    <tr>\n",
       "      <th>288888</th>\n",
       "      <td>위트콤</td>\n",
       "      <td>10</td>\n",
       "      <td>일</td>\n",
       "      <td>주말 17시</td>\n",
       "      <td>1.000</td>\n",
       "      <td>0.000</td>\n",
       "      <td>8.000</td>\n",
       "    </tr>\n",
       "    <tr>\n",
       "      <th>288889</th>\n",
       "      <td>위트콤</td>\n",
       "      <td>10</td>\n",
       "      <td>일</td>\n",
       "      <td>주말 18시</td>\n",
       "      <td>1.000</td>\n",
       "      <td>0.000</td>\n",
       "      <td>3.000</td>\n",
       "    </tr>\n",
       "    <tr>\n",
       "      <th>288890</th>\n",
       "      <td>위트콤</td>\n",
       "      <td>10</td>\n",
       "      <td>일</td>\n",
       "      <td>주말 21시</td>\n",
       "      <td>1.000</td>\n",
       "      <td>0.000</td>\n",
       "      <td>14.500</td>\n",
       "    </tr>\n",
       "  </tbody>\n",
       "</table>\n",
       "<p>84948 rows × 7 columns</p>\n",
       "</div>"
      ],
      "text/plain": [
       "                             대여소명 대여소번호 요일    대여시간  이용건수     이동거리   사용시간\n",
       "120     1001. 광진교 남단 사거리(디지털프라자앞)  1001  토  주말 00시 1.206 5835.000 25.235\n",
       "121     1001. 광진교 남단 사거리(디지털프라자앞)  1001  토  주말 01시 1.214 2941.667 17.738\n",
       "122     1001. 광진교 남단 사거리(디지털프라자앞)  1001  토  주말 10시 1.083 3376.667 45.250\n",
       "123     1001. 광진교 남단 사거리(디지털프라자앞)  1001  토  주말 11시 1.250 9106.111 42.306\n",
       "124     1001. 광진교 남단 사거리(디지털프라자앞)  1001  토  주말 12시 1.300 4972.000 43.225\n",
       "...                           ...   ... ..     ...   ...      ...    ...\n",
       "288886                        위트콤    10  일  주말 15시 1.000    0.000 57.333\n",
       "288887                        위트콤    10  일  주말 16시 1.000    0.000  2.000\n",
       "288888                        위트콤    10  일  주말 17시 1.000    0.000  8.000\n",
       "288889                        위트콤    10  일  주말 18시 1.000    0.000  3.000\n",
       "288890                        위트콤    10  일  주말 21시 1.000    0.000 14.500\n",
       "\n",
       "[84948 rows x 7 columns]"
      ]
     },
     "execution_count": 108,
     "metadata": {},
     "output_type": "execute_result"
    }
   ],
   "source": [
    "Hour_bike_usage_weekend"
   ]
  },
  {
   "cell_type": "code",
   "execution_count": 109,
   "metadata": {
    "ExecuteTime": {
     "end_time": "2020-11-26T09:11:18.729574Z",
     "start_time": "2020-11-26T09:11:18.684442Z"
    }
   },
   "outputs": [
    {
     "data": {
      "text/plain": [
       "2042"
      ]
     },
     "execution_count": 109,
     "metadata": {},
     "output_type": "execute_result"
    }
   ],
   "source": [
    "len(set(Hour_bike_usage_weekend['대여소번호'].unique()))"
   ]
  },
  {
   "cell_type": "markdown",
   "metadata": {},
   "source": [
    "#### 주말 이용 대여소 - 평일 이용 대여소"
   ]
  },
  {
   "cell_type": "code",
   "execution_count": 110,
   "metadata": {
    "ExecuteTime": {
     "end_time": "2020-11-26T09:11:20.391735Z",
     "start_time": "2020-11-26T09:11:20.291536Z"
    }
   },
   "outputs": [
    {
     "data": {
      "text/plain": [
       "2"
      ]
     },
     "execution_count": 110,
     "metadata": {},
     "output_type": "execute_result"
    }
   ],
   "source": [
    "len(set(Hour_bike_usage_weekend['대여소번호'].unique()) - set(Hour_bike_usage_weekday['대여소번호'].unique()))"
   ]
  },
  {
   "cell_type": "code",
   "execution_count": 111,
   "metadata": {
    "ExecuteTime": {
     "end_time": "2020-11-26T09:11:20.492723Z",
     "start_time": "2020-11-26T09:11:20.399613Z"
    }
   },
   "outputs": [
    {
     "data": {
      "text/plain": [
       "{'2525', '3425'}"
      ]
     },
     "execution_count": 111,
     "metadata": {},
     "output_type": "execute_result"
    }
   ],
   "source": [
    "set(Hour_bike_usage_weekend['대여소번호'].unique()) - set(Hour_bike_usage_weekday['대여소번호'].unique())"
   ]
  },
  {
   "cell_type": "code",
   "execution_count": 112,
   "metadata": {
    "ExecuteTime": {
     "end_time": "2020-11-26T09:11:20.576353Z",
     "start_time": "2020-11-26T09:11:20.497714Z"
    }
   },
   "outputs": [
    {
     "data": {
      "text/html": [
       "<div>\n",
       "<style scoped>\n",
       "    .dataframe tbody tr th:only-of-type {\n",
       "        vertical-align: middle;\n",
       "    }\n",
       "\n",
       "    .dataframe tbody tr th {\n",
       "        vertical-align: top;\n",
       "    }\n",
       "\n",
       "    .dataframe thead th {\n",
       "        text-align: right;\n",
       "    }\n",
       "</style>\n",
       "<table border=\"1\" class=\"dataframe\">\n",
       "  <thead>\n",
       "    <tr style=\"text-align: right;\">\n",
       "      <th></th>\n",
       "      <th>대여소명</th>\n",
       "      <th>대여소번호</th>\n",
       "      <th>요일</th>\n",
       "      <th>대여시간</th>\n",
       "      <th>이용건수</th>\n",
       "      <th>이동거리</th>\n",
       "      <th>사용시간</th>\n",
       "    </tr>\n",
       "  </thead>\n",
       "  <tbody>\n",
       "    <tr>\n",
       "      <th>171617</th>\n",
       "      <td>2525.반포쇼핑타운 2동 앞</td>\n",
       "      <td>2525</td>\n",
       "      <td>토</td>\n",
       "      <td>주말 16시</td>\n",
       "      <td>1.000</td>\n",
       "      <td>0.000</td>\n",
       "      <td>45.000</td>\n",
       "    </tr>\n",
       "    <tr>\n",
       "      <th>171618</th>\n",
       "      <td>2525.반포쇼핑타운 2동 앞</td>\n",
       "      <td>2525</td>\n",
       "      <td>토</td>\n",
       "      <td>주말 17시</td>\n",
       "      <td>1.000</td>\n",
       "      <td>0.000</td>\n",
       "      <td>9.000</td>\n",
       "    </tr>\n",
       "    <tr>\n",
       "      <th>171619</th>\n",
       "      <td>2525.반포쇼핑타운 2동 앞</td>\n",
       "      <td>2525</td>\n",
       "      <td>토</td>\n",
       "      <td>주말 18시</td>\n",
       "      <td>1.000</td>\n",
       "      <td>0.000</td>\n",
       "      <td>120.000</td>\n",
       "    </tr>\n",
       "    <tr>\n",
       "      <th>171620</th>\n",
       "      <td>2525.반포쇼핑타운 2동 앞</td>\n",
       "      <td>2525</td>\n",
       "      <td>토</td>\n",
       "      <td>주말 21시</td>\n",
       "      <td>1.000</td>\n",
       "      <td>0.000</td>\n",
       "      <td>30.000</td>\n",
       "    </tr>\n",
       "    <tr>\n",
       "      <th>171621</th>\n",
       "      <td>2525.반포쇼핑타운 2동 앞</td>\n",
       "      <td>2525</td>\n",
       "      <td>일</td>\n",
       "      <td>주말 03시</td>\n",
       "      <td>1.000</td>\n",
       "      <td>0.000</td>\n",
       "      <td>18.000</td>\n",
       "    </tr>\n",
       "  </tbody>\n",
       "</table>\n",
       "</div>"
      ],
      "text/plain": [
       "                    대여소명 대여소번호 요일    대여시간  이용건수  이동거리    사용시간\n",
       "171617  2525.반포쇼핑타운 2동 앞  2525  토  주말 16시 1.000 0.000  45.000\n",
       "171618  2525.반포쇼핑타운 2동 앞  2525  토  주말 17시 1.000 0.000   9.000\n",
       "171619  2525.반포쇼핑타운 2동 앞  2525  토  주말 18시 1.000 0.000 120.000\n",
       "171620  2525.반포쇼핑타운 2동 앞  2525  토  주말 21시 1.000 0.000  30.000\n",
       "171621  2525.반포쇼핑타운 2동 앞  2525  일  주말 03시 1.000 0.000  18.000"
      ]
     },
     "execution_count": 112,
     "metadata": {},
     "output_type": "execute_result"
    }
   ],
   "source": [
    "Hour_bike_usage_weekend[Hour_bike_usage_weekend['대여소번호'] == '2525']"
   ]
  },
  {
   "cell_type": "code",
   "execution_count": 113,
   "metadata": {
    "ExecuteTime": {
     "end_time": "2020-11-26T09:11:20.680831Z",
     "start_time": "2020-11-26T09:11:20.586417Z"
    }
   },
   "outputs": [
    {
     "data": {
      "text/html": [
       "<div>\n",
       "<style scoped>\n",
       "    .dataframe tbody tr th:only-of-type {\n",
       "        vertical-align: middle;\n",
       "    }\n",
       "\n",
       "    .dataframe tbody tr th {\n",
       "        vertical-align: top;\n",
       "    }\n",
       "\n",
       "    .dataframe thead th {\n",
       "        text-align: right;\n",
       "    }\n",
       "</style>\n",
       "<table border=\"1\" class=\"dataframe\">\n",
       "  <thead>\n",
       "    <tr style=\"text-align: right;\">\n",
       "      <th></th>\n",
       "      <th>대여소명</th>\n",
       "      <th>대여소번호</th>\n",
       "      <th>요일</th>\n",
       "      <th>대여시간</th>\n",
       "      <th>이용건수</th>\n",
       "      <th>이동거리</th>\n",
       "      <th>사용시간</th>\n",
       "    </tr>\n",
       "  </thead>\n",
       "  <tbody>\n",
       "  </tbody>\n",
       "</table>\n",
       "</div>"
      ],
      "text/plain": [
       "Empty DataFrame\n",
       "Columns: [대여소명, 대여소번호, 요일, 대여시간, 이용건수, 이동거리, 사용시간]\n",
       "Index: []"
      ]
     },
     "execution_count": 113,
     "metadata": {},
     "output_type": "execute_result"
    }
   ],
   "source": [
    "Hour_bike_usage_weekday[Hour_bike_usage_weekday['대여소번호'] == '2525']"
   ]
  },
  {
   "cell_type": "markdown",
   "metadata": {},
   "source": [
    "#### 평일 이용 대여소 - 주말 이용 대여소"
   ]
  },
  {
   "cell_type": "code",
   "execution_count": 114,
   "metadata": {
    "ExecuteTime": {
     "end_time": "2020-11-26T09:11:20.795352Z",
     "start_time": "2020-11-26T09:11:20.689143Z"
    }
   },
   "outputs": [
    {
     "data": {
      "text/plain": [
       "34"
      ]
     },
     "execution_count": 114,
     "metadata": {},
     "output_type": "execute_result"
    }
   ],
   "source": [
    "len(set(Hour_bike_usage_weekday['대여소번호'].unique()) - set(Hour_bike_usage_weekend['대여소번호'].unique()))"
   ]
  },
  {
   "cell_type": "code",
   "execution_count": 115,
   "metadata": {
    "ExecuteTime": {
     "end_time": "2020-11-26T09:11:20.897015Z",
     "start_time": "2020-11-26T09:11:20.804208Z"
    }
   },
   "outputs": [
    {
     "data": {
      "text/plain": [
       "{'1070',\n",
       " '1474',\n",
       " '1476',\n",
       " '1687',\n",
       " '1746',\n",
       " '1769',\n",
       " '2073',\n",
       " '2083',\n",
       " '2394',\n",
       " '2427',\n",
       " '2546',\n",
       " '2548',\n",
       " '2549',\n",
       " '2657',\n",
       " '2705',\n",
       " '2708',\n",
       " '2719',\n",
       " '2726',\n",
       " '3',\n",
       " '3108',\n",
       " '3124',\n",
       " '3421',\n",
       " '3562',\n",
       " '3576',\n",
       " '496',\n",
       " '5',\n",
       " '861',\n",
       " '9988',\n",
       " '9989',\n",
       " '9990',\n",
       " '9997',\n",
       " '9998',\n",
       " '99998',\n",
       " '99999'}"
      ]
     },
     "execution_count": 115,
     "metadata": {},
     "output_type": "execute_result"
    }
   ],
   "source": [
    "set(Hour_bike_usage_weekday['대여소번호'].unique()) - set(Hour_bike_usage_weekend['대여소번호'].unique())"
   ]
  },
  {
   "cell_type": "code",
   "execution_count": 116,
   "metadata": {
    "ExecuteTime": {
     "end_time": "2020-11-26T09:11:20.999399Z",
     "start_time": "2020-11-26T09:11:20.900989Z"
    }
   },
   "outputs": [
    {
     "data": {
      "text/html": [
       "<div>\n",
       "<style scoped>\n",
       "    .dataframe tbody tr th:only-of-type {\n",
       "        vertical-align: middle;\n",
       "    }\n",
       "\n",
       "    .dataframe tbody tr th {\n",
       "        vertical-align: top;\n",
       "    }\n",
       "\n",
       "    .dataframe thead th {\n",
       "        text-align: right;\n",
       "    }\n",
       "</style>\n",
       "<table border=\"1\" class=\"dataframe\">\n",
       "  <thead>\n",
       "    <tr style=\"text-align: right;\">\n",
       "      <th></th>\n",
       "      <th>대여소명</th>\n",
       "      <th>대여소번호</th>\n",
       "      <th>요일</th>\n",
       "      <th>대여시간</th>\n",
       "      <th>이용건수</th>\n",
       "      <th>이동거리</th>\n",
       "      <th>사용시간</th>\n",
       "    </tr>\n",
       "  </thead>\n",
       "  <tbody>\n",
       "    <tr>\n",
       "      <th>288740</th>\n",
       "      <td>9998. 영남주차장 정비센터</td>\n",
       "      <td>9998</td>\n",
       "      <td>월</td>\n",
       "      <td>평일 18시</td>\n",
       "      <td>1.000</td>\n",
       "      <td>32250.000</td>\n",
       "      <td>69.000</td>\n",
       "    </tr>\n",
       "    <tr>\n",
       "      <th>288741</th>\n",
       "      <td>9998. 영남주차장 정비센터</td>\n",
       "      <td>9998</td>\n",
       "      <td>금</td>\n",
       "      <td>평일 14시</td>\n",
       "      <td>1.000</td>\n",
       "      <td>0.000</td>\n",
       "      <td>10.000</td>\n",
       "    </tr>\n",
       "  </tbody>\n",
       "</table>\n",
       "</div>"
      ],
      "text/plain": [
       "                    대여소명 대여소번호 요일    대여시간  이용건수      이동거리   사용시간\n",
       "288740  9998. 영남주차장 정비센터  9998  월  평일 18시 1.000 32250.000 69.000\n",
       "288741  9998. 영남주차장 정비센터  9998  금  평일 14시 1.000     0.000 10.000"
      ]
     },
     "execution_count": 116,
     "metadata": {},
     "output_type": "execute_result"
    }
   ],
   "source": [
    "Hour_bike_usage_weekday[Hour_bike_usage_weekday['대여소번호'] == '9998']"
   ]
  },
  {
   "cell_type": "code",
   "execution_count": 117,
   "metadata": {
    "ExecuteTime": {
     "end_time": "2020-11-26T09:11:21.067317Z",
     "start_time": "2020-11-26T09:11:21.002957Z"
    }
   },
   "outputs": [
    {
     "data": {
      "text/html": [
       "<div>\n",
       "<style scoped>\n",
       "    .dataframe tbody tr th:only-of-type {\n",
       "        vertical-align: middle;\n",
       "    }\n",
       "\n",
       "    .dataframe tbody tr th {\n",
       "        vertical-align: top;\n",
       "    }\n",
       "\n",
       "    .dataframe thead th {\n",
       "        text-align: right;\n",
       "    }\n",
       "</style>\n",
       "<table border=\"1\" class=\"dataframe\">\n",
       "  <thead>\n",
       "    <tr style=\"text-align: right;\">\n",
       "      <th></th>\n",
       "      <th>대여소명</th>\n",
       "      <th>대여소번호</th>\n",
       "      <th>요일</th>\n",
       "      <th>대여시간</th>\n",
       "      <th>이용건수</th>\n",
       "      <th>이동거리</th>\n",
       "      <th>사용시간</th>\n",
       "    </tr>\n",
       "  </thead>\n",
       "  <tbody>\n",
       "  </tbody>\n",
       "</table>\n",
       "</div>"
      ],
      "text/plain": [
       "Empty DataFrame\n",
       "Columns: [대여소명, 대여소번호, 요일, 대여시간, 이용건수, 이동거리, 사용시간]\n",
       "Index: []"
      ]
     },
     "execution_count": 117,
     "metadata": {},
     "output_type": "execute_result"
    }
   ],
   "source": [
    "Hour_bike_usage_weekend[Hour_bike_usage_weekend['대여소번호'] == '9998']"
   ]
  },
  {
   "cell_type": "markdown",
   "metadata": {},
   "source": [
    "#### 주말 & 평일 교집합"
   ]
  },
  {
   "cell_type": "code",
   "execution_count": 133,
   "metadata": {
    "ExecuteTime": {
     "end_time": "2020-11-26T09:14:45.590404Z",
     "start_time": "2020-11-26T09:14:45.529104Z"
    }
   },
   "outputs": [
    {
     "data": {
      "text/plain": [
       "2040"
      ]
     },
     "execution_count": 133,
     "metadata": {},
     "output_type": "execute_result"
    }
   ],
   "source": [
    "len(set(Hour_bike_usage_weekday['대여소번호'].unique()) & set(Hour_bike_usage_weekend['대여소번호'].unique()))"
   ]
  },
  {
   "cell_type": "markdown",
   "metadata": {},
   "source": [
    "### 최신 거치대 위치 정보와 병합"
   ]
  },
  {
   "cell_type": "code",
   "execution_count": 118,
   "metadata": {
    "ExecuteTime": {
     "end_time": "2020-11-26T09:11:21.140576Z",
     "start_time": "2020-11-26T09:11:21.074439Z"
    }
   },
   "outputs": [],
   "source": [
    "Bike_location = pd.read_csv(os.getcwd() + '\\\\New data\\\\bike_location_final.csv', encoding = 'utf-8') # 최신 거치대 위치 정보"
   ]
  },
  {
   "cell_type": "code",
   "execution_count": 119,
   "metadata": {
    "ExecuteTime": {
     "end_time": "2020-11-26T09:11:21.167167Z",
     "start_time": "2020-11-26T09:11:21.147900Z"
    }
   },
   "outputs": [],
   "source": [
    "Bike_location['대여소명'] = Bike_location['대여소이름'].apply(lambda x: x.split('.')[1:][0])\n",
    "Bike_location['대여소번호'] = Bike_location['대여소이름'].apply(lambda x: x.split('.')[0])"
   ]
  },
  {
   "cell_type": "code",
   "execution_count": 120,
   "metadata": {
    "ExecuteTime": {
     "end_time": "2020-11-26T09:11:23.276899Z",
     "start_time": "2020-11-26T09:11:23.224048Z"
    }
   },
   "outputs": [
    {
     "data": {
      "text/html": [
       "<div>\n",
       "<style scoped>\n",
       "    .dataframe tbody tr th:only-of-type {\n",
       "        vertical-align: middle;\n",
       "    }\n",
       "\n",
       "    .dataframe tbody tr th {\n",
       "        vertical-align: top;\n",
       "    }\n",
       "\n",
       "    .dataframe thead th {\n",
       "        text-align: right;\n",
       "    }\n",
       "</style>\n",
       "<table border=\"1\" class=\"dataframe\">\n",
       "  <thead>\n",
       "    <tr style=\"text-align: right;\">\n",
       "      <th></th>\n",
       "      <th>대여소이름</th>\n",
       "      <th>위도</th>\n",
       "      <th>경도</th>\n",
       "      <th>주소</th>\n",
       "      <th>자치구</th>\n",
       "      <th>대여소명</th>\n",
       "      <th>대여소번호</th>\n",
       "    </tr>\n",
       "  </thead>\n",
       "  <tbody>\n",
       "    <tr>\n",
       "      <th>0</th>\n",
       "      <td>1001. 광진교 남단 사거리(디지털프라자앞)</td>\n",
       "      <td>37.542</td>\n",
       "      <td>127.125</td>\n",
       "      <td>서울특별시 강동구 천호동 355</td>\n",
       "      <td>강동구</td>\n",
       "      <td>광진교 남단 사거리(디지털프라자앞)</td>\n",
       "      <td>1001</td>\n",
       "    </tr>\n",
       "    <tr>\n",
       "      <th>1</th>\n",
       "      <td>1002. 해공공원(천호동)</td>\n",
       "      <td>37.545</td>\n",
       "      <td>127.126</td>\n",
       "      <td>서울특별시 강동구 천호동 360</td>\n",
       "      <td>강동구</td>\n",
       "      <td>해공공원(천호동)</td>\n",
       "      <td>1002</td>\n",
       "    </tr>\n",
       "    <tr>\n",
       "      <th>2</th>\n",
       "      <td>1003. 해공도서관앞</td>\n",
       "      <td>37.544</td>\n",
       "      <td>127.125</td>\n",
       "      <td>서울특별시 강동구 천호동 360</td>\n",
       "      <td>강동구</td>\n",
       "      <td>해공도서관앞</td>\n",
       "      <td>1003</td>\n",
       "    </tr>\n",
       "    <tr>\n",
       "      <th>3</th>\n",
       "      <td>1004. 삼성광나루아파트 버스정류장</td>\n",
       "      <td>37.553</td>\n",
       "      <td>127.129</td>\n",
       "      <td>서울특별시 강동구 암사동 463-2</td>\n",
       "      <td>강동구</td>\n",
       "      <td>삼성광나루아파트 버스정류장</td>\n",
       "      <td>1004</td>\n",
       "    </tr>\n",
       "    <tr>\n",
       "      <th>4</th>\n",
       "      <td>1006. 롯데캐슬 115동앞</td>\n",
       "      <td>37.555</td>\n",
       "      <td>127.143</td>\n",
       "      <td>서울특별시 강동구 암사동 414-2</td>\n",
       "      <td>강동구</td>\n",
       "      <td>롯데캐슬 115동앞</td>\n",
       "      <td>1006</td>\n",
       "    </tr>\n",
       "    <tr>\n",
       "      <th>...</th>\n",
       "      <td>...</td>\n",
       "      <td>...</td>\n",
       "      <td>...</td>\n",
       "      <td>...</td>\n",
       "      <td>...</td>\n",
       "      <td>...</td>\n",
       "      <td>...</td>\n",
       "    </tr>\n",
       "    <tr>\n",
       "      <th>2038</th>\n",
       "      <td>992.북한산입구 정류장</td>\n",
       "      <td>37.658</td>\n",
       "      <td>126.946</td>\n",
       "      <td>서울특별시 은평구 진관동 289</td>\n",
       "      <td>은평구</td>\n",
       "      <td>북한산입구 정류장</td>\n",
       "      <td>992</td>\n",
       "    </tr>\n",
       "    <tr>\n",
       "      <th>2039</th>\n",
       "      <td>993.은평뉴타운 온뜨락아파트앞</td>\n",
       "      <td>37.630</td>\n",
       "      <td>126.920</td>\n",
       "      <td>서울특별시 은평구 진관동 234-34</td>\n",
       "      <td>은평구</td>\n",
       "      <td>은평뉴타운 온뜨락아파트앞</td>\n",
       "      <td>993</td>\n",
       "    </tr>\n",
       "    <tr>\n",
       "      <th>2040</th>\n",
       "      <td>994.북한산생태공원입구(교통섬)</td>\n",
       "      <td>37.611</td>\n",
       "      <td>126.939</td>\n",
       "      <td>서울특별시 은평구 불광동 2-1</td>\n",
       "      <td>은평구</td>\n",
       "      <td>북한산생태공원입구(교통섬)</td>\n",
       "      <td>994</td>\n",
       "    </tr>\n",
       "    <tr>\n",
       "      <th>2041</th>\n",
       "      <td>995.은평다목적체육관</td>\n",
       "      <td>37.631</td>\n",
       "      <td>126.925</td>\n",
       "      <td>서울특별시 은평구 진관동 125</td>\n",
       "      <td>은평구</td>\n",
       "      <td>은평다목적체육관</td>\n",
       "      <td>995</td>\n",
       "    </tr>\n",
       "    <tr>\n",
       "      <th>2042</th>\n",
       "      <td>996.응암역 1번출구</td>\n",
       "      <td>37.599</td>\n",
       "      <td>126.915</td>\n",
       "      <td>서울특별시 은평구 신사동 23-3</td>\n",
       "      <td>은평구</td>\n",
       "      <td>응암역 1번출구</td>\n",
       "      <td>996</td>\n",
       "    </tr>\n",
       "  </tbody>\n",
       "</table>\n",
       "<p>2043 rows × 7 columns</p>\n",
       "</div>"
      ],
      "text/plain": [
       "                          대여소이름     위도      경도                    주소  자치구                  대여소명 대여소번호\n",
       "0     1001. 광진교 남단 사거리(디지털프라자앞) 37.542 127.125     서울특별시 강동구 천호동 355  강동구   광진교 남단 사거리(디지털프라자앞)  1001\n",
       "1               1002. 해공공원(천호동) 37.545 127.126     서울특별시 강동구 천호동 360  강동구             해공공원(천호동)  1002\n",
       "2                  1003. 해공도서관앞 37.544 127.125     서울특별시 강동구 천호동 360  강동구                해공도서관앞  1003\n",
       "3          1004. 삼성광나루아파트 버스정류장 37.553 127.129   서울특별시 강동구 암사동 463-2  강동구        삼성광나루아파트 버스정류장  1004\n",
       "4              1006. 롯데캐슬 115동앞 37.555 127.143   서울특별시 강동구 암사동 414-2  강동구            롯데캐슬 115동앞  1006\n",
       "...                         ...    ...     ...                   ...  ...                   ...   ...\n",
       "2038              992.북한산입구 정류장 37.658 126.946     서울특별시 은평구 진관동 289  은평구             북한산입구 정류장   992\n",
       "2039          993.은평뉴타운 온뜨락아파트앞 37.630 126.920  서울특별시 은평구 진관동 234-34  은평구         은평뉴타운 온뜨락아파트앞   993\n",
       "2040         994.북한산생태공원입구(교통섬) 37.611 126.939     서울특별시 은평구 불광동 2-1  은평구        북한산생태공원입구(교통섬)   994\n",
       "2041               995.은평다목적체육관 37.631 126.925     서울특별시 은평구 진관동 125  은평구              은평다목적체육관   995\n",
       "2042               996.응암역 1번출구 37.599 126.915    서울특별시 은평구 신사동 23-3  은평구              응암역 1번출구   996\n",
       "\n",
       "[2043 rows x 7 columns]"
      ]
     },
     "execution_count": 120,
     "metadata": {},
     "output_type": "execute_result"
    }
   ],
   "source": [
    "Bike_location"
   ]
  },
  {
   "cell_type": "code",
   "execution_count": 121,
   "metadata": {
    "ExecuteTime": {
     "end_time": "2020-11-26T09:11:23.321295Z",
     "start_time": "2020-11-26T09:11:23.282885Z"
    }
   },
   "outputs": [
    {
     "name": "stdout",
     "output_type": "stream",
     "text": [
      "<class 'pandas.core.frame.DataFrame'>\n",
      "RangeIndex: 2043 entries, 0 to 2042\n",
      "Data columns (total 7 columns):\n",
      " #   Column  Non-Null Count  Dtype  \n",
      "---  ------  --------------  -----  \n",
      " 0   대여소이름   2043 non-null   object \n",
      " 1   위도      2043 non-null   float64\n",
      " 2   경도      2043 non-null   float64\n",
      " 3   주소      2043 non-null   object \n",
      " 4   자치구     2043 non-null   object \n",
      " 5   대여소명    2043 non-null   object \n",
      " 6   대여소번호   2043 non-null   object \n",
      "dtypes: float64(2), object(5)\n",
      "memory usage: 111.9+ KB\n"
     ]
    }
   ],
   "source": [
    "Bike_location.info()"
   ]
  },
  {
   "cell_type": "code",
   "execution_count": 122,
   "metadata": {
    "ExecuteTime": {
     "end_time": "2020-11-26T09:11:23.351500Z",
     "start_time": "2020-11-26T09:11:23.325238Z"
    }
   },
   "outputs": [
    {
     "data": {
      "text/plain": [
       "2043"
      ]
     },
     "execution_count": 122,
     "metadata": {},
     "output_type": "execute_result"
    }
   ],
   "source": [
    "len((set(Bike_location['대여소번호'].unique().tolist())))"
   ]
  },
  {
   "cell_type": "code",
   "execution_count": 131,
   "metadata": {
    "ExecuteTime": {
     "end_time": "2020-11-26T09:13:03.751253Z",
     "start_time": "2020-11-26T09:13:03.732273Z"
    }
   },
   "outputs": [
    {
     "data": {
      "text/plain": [
       "2043"
      ]
     },
     "execution_count": 131,
     "metadata": {},
     "output_type": "execute_result"
    }
   ],
   "source": [
    "len(set(Bike_location.대여소번호))"
   ]
  },
  {
   "cell_type": "code",
   "execution_count": 126,
   "metadata": {
    "ExecuteTime": {
     "end_time": "2020-11-26T09:11:25.357361Z",
     "start_time": "2020-11-26T09:11:25.318386Z"
    }
   },
   "outputs": [
    {
     "data": {
      "text/html": [
       "<div>\n",
       "<style scoped>\n",
       "    .dataframe tbody tr th:only-of-type {\n",
       "        vertical-align: middle;\n",
       "    }\n",
       "\n",
       "    .dataframe tbody tr th {\n",
       "        vertical-align: top;\n",
       "    }\n",
       "\n",
       "    .dataframe thead th {\n",
       "        text-align: right;\n",
       "    }\n",
       "</style>\n",
       "<table border=\"1\" class=\"dataframe\">\n",
       "  <thead>\n",
       "    <tr style=\"text-align: right;\">\n",
       "      <th></th>\n",
       "      <th>대여소명</th>\n",
       "      <th>대여소번호</th>\n",
       "      <th>요일</th>\n",
       "      <th>대여시간</th>\n",
       "      <th>이용건수</th>\n",
       "      <th>이동거리</th>\n",
       "      <th>사용시간</th>\n",
       "    </tr>\n",
       "  </thead>\n",
       "  <tbody>\n",
       "    <tr>\n",
       "      <th>0</th>\n",
       "      <td>1001. 광진교 남단 사거리(디지털프라자앞)</td>\n",
       "      <td>1001</td>\n",
       "      <td>월</td>\n",
       "      <td>평일 00시</td>\n",
       "      <td>1.077</td>\n",
       "      <td>2112.692</td>\n",
       "      <td>29.154</td>\n",
       "    </tr>\n",
       "    <tr>\n",
       "      <th>1</th>\n",
       "      <td>1001. 광진교 남단 사거리(디지털프라자앞)</td>\n",
       "      <td>1001</td>\n",
       "      <td>월</td>\n",
       "      <td>평일 01시</td>\n",
       "      <td>1.172</td>\n",
       "      <td>5021.379</td>\n",
       "      <td>24.897</td>\n",
       "    </tr>\n",
       "    <tr>\n",
       "      <th>2</th>\n",
       "      <td>1001. 광진교 남단 사거리(디지털프라자앞)</td>\n",
       "      <td>1001</td>\n",
       "      <td>월</td>\n",
       "      <td>평일 10시</td>\n",
       "      <td>1.074</td>\n",
       "      <td>1916.667</td>\n",
       "      <td>35.630</td>\n",
       "    </tr>\n",
       "    <tr>\n",
       "      <th>3</th>\n",
       "      <td>1001. 광진교 남단 사거리(디지털프라자앞)</td>\n",
       "      <td>1001</td>\n",
       "      <td>월</td>\n",
       "      <td>평일 11시</td>\n",
       "      <td>1.200</td>\n",
       "      <td>2626.667</td>\n",
       "      <td>42.633</td>\n",
       "    </tr>\n",
       "    <tr>\n",
       "      <th>4</th>\n",
       "      <td>1001. 광진교 남단 사거리(디지털프라자앞)</td>\n",
       "      <td>1001</td>\n",
       "      <td>월</td>\n",
       "      <td>평일 12시</td>\n",
       "      <td>1.196</td>\n",
       "      <td>3727.391</td>\n",
       "      <td>25.391</td>\n",
       "    </tr>\n",
       "    <tr>\n",
       "      <th>...</th>\n",
       "      <td>...</td>\n",
       "      <td>...</td>\n",
       "      <td>...</td>\n",
       "      <td>...</td>\n",
       "      <td>...</td>\n",
       "      <td>...</td>\n",
       "      <td>...</td>\n",
       "    </tr>\n",
       "    <tr>\n",
       "      <th>288904</th>\n",
       "      <td>중랑센터</td>\n",
       "      <td>3</td>\n",
       "      <td>목</td>\n",
       "      <td>평일 18시</td>\n",
       "      <td>1.000</td>\n",
       "      <td>32640.000</td>\n",
       "      <td>22.000</td>\n",
       "    </tr>\n",
       "    <tr>\n",
       "      <th>288905</th>\n",
       "      <td>중랑센터</td>\n",
       "      <td>3</td>\n",
       "      <td>금</td>\n",
       "      <td>평일 16시</td>\n",
       "      <td>1.000</td>\n",
       "      <td>28490.000</td>\n",
       "      <td>18.333</td>\n",
       "    </tr>\n",
       "    <tr>\n",
       "      <th>288906</th>\n",
       "      <td>중랑센터</td>\n",
       "      <td>3</td>\n",
       "      <td>금</td>\n",
       "      <td>평일 17시</td>\n",
       "      <td>1.000</td>\n",
       "      <td>1210.000</td>\n",
       "      <td>11.000</td>\n",
       "    </tr>\n",
       "    <tr>\n",
       "      <th>288907</th>\n",
       "      <td>중랑센터</td>\n",
       "      <td>3</td>\n",
       "      <td>금</td>\n",
       "      <td>평일 18시</td>\n",
       "      <td>1.000</td>\n",
       "      <td>625.000</td>\n",
       "      <td>15.500</td>\n",
       "    </tr>\n",
       "    <tr>\n",
       "      <th>288908</th>\n",
       "      <td>천호센터</td>\n",
       "      <td>9988</td>\n",
       "      <td>화</td>\n",
       "      <td>평일 14시</td>\n",
       "      <td>1.000</td>\n",
       "      <td>0.000</td>\n",
       "      <td>32.000</td>\n",
       "    </tr>\n",
       "  </tbody>\n",
       "</table>\n",
       "<p>203961 rows × 7 columns</p>\n",
       "</div>"
      ],
      "text/plain": [
       "                             대여소명 대여소번호 요일    대여시간  이용건수      이동거리   사용시간\n",
       "0       1001. 광진교 남단 사거리(디지털프라자앞)  1001  월  평일 00시 1.077  2112.692 29.154\n",
       "1       1001. 광진교 남단 사거리(디지털프라자앞)  1001  월  평일 01시 1.172  5021.379 24.897\n",
       "2       1001. 광진교 남단 사거리(디지털프라자앞)  1001  월  평일 10시 1.074  1916.667 35.630\n",
       "3       1001. 광진교 남단 사거리(디지털프라자앞)  1001  월  평일 11시 1.200  2626.667 42.633\n",
       "4       1001. 광진교 남단 사거리(디지털프라자앞)  1001  월  평일 12시 1.196  3727.391 25.391\n",
       "...                           ...   ... ..     ...   ...       ...    ...\n",
       "288904                       중랑센터     3  목  평일 18시 1.000 32640.000 22.000\n",
       "288905                       중랑센터     3  금  평일 16시 1.000 28490.000 18.333\n",
       "288906                       중랑센터     3  금  평일 17시 1.000  1210.000 11.000\n",
       "288907                       중랑센터     3  금  평일 18시 1.000   625.000 15.500\n",
       "288908                       천호센터  9988  화  평일 14시 1.000     0.000 32.000\n",
       "\n",
       "[203961 rows x 7 columns]"
      ]
     },
     "execution_count": 126,
     "metadata": {},
     "output_type": "execute_result"
    }
   ],
   "source": [
    "Hour_bike_usage_weekday"
   ]
  },
  {
   "cell_type": "code",
   "execution_count": 127,
   "metadata": {
    "ExecuteTime": {
     "end_time": "2020-11-26T09:11:25.447890Z",
     "start_time": "2020-11-26T09:11:25.362261Z"
    }
   },
   "outputs": [
    {
     "data": {
      "text/html": [
       "<div>\n",
       "<style scoped>\n",
       "    .dataframe tbody tr th:only-of-type {\n",
       "        vertical-align: middle;\n",
       "    }\n",
       "\n",
       "    .dataframe tbody tr th {\n",
       "        vertical-align: top;\n",
       "    }\n",
       "\n",
       "    .dataframe thead th {\n",
       "        text-align: right;\n",
       "    }\n",
       "</style>\n",
       "<table border=\"1\" class=\"dataframe\">\n",
       "  <thead>\n",
       "    <tr style=\"text-align: right;\">\n",
       "      <th></th>\n",
       "      <th>대여소명</th>\n",
       "      <th>대여소번호</th>\n",
       "      <th>요일</th>\n",
       "      <th>대여시간</th>\n",
       "      <th>이용건수</th>\n",
       "      <th>이동거리</th>\n",
       "      <th>사용시간</th>\n",
       "    </tr>\n",
       "  </thead>\n",
       "  <tbody>\n",
       "    <tr>\n",
       "      <th>288796</th>\n",
       "      <td>상암센터 정비실</td>\n",
       "      <td>5</td>\n",
       "      <td>수</td>\n",
       "      <td>평일 16시</td>\n",
       "      <td>1.000</td>\n",
       "      <td>2360.000</td>\n",
       "      <td>46.000</td>\n",
       "    </tr>\n",
       "    <tr>\n",
       "      <th>288797</th>\n",
       "      <td>상암센터 정비실</td>\n",
       "      <td>5</td>\n",
       "      <td>수</td>\n",
       "      <td>평일 18시</td>\n",
       "      <td>1.000</td>\n",
       "      <td>20.000</td>\n",
       "      <td>20.000</td>\n",
       "    </tr>\n",
       "    <tr>\n",
       "      <th>288798</th>\n",
       "      <td>상암센터 정비실</td>\n",
       "      <td>5</td>\n",
       "      <td>목</td>\n",
       "      <td>평일 11시</td>\n",
       "      <td>1.000</td>\n",
       "      <td>30.000</td>\n",
       "      <td>3.000</td>\n",
       "    </tr>\n",
       "    <tr>\n",
       "      <th>288799</th>\n",
       "      <td>상암센터 정비실</td>\n",
       "      <td>5</td>\n",
       "      <td>목</td>\n",
       "      <td>평일 13시</td>\n",
       "      <td>1.000</td>\n",
       "      <td>0.000</td>\n",
       "      <td>2.500</td>\n",
       "    </tr>\n",
       "    <tr>\n",
       "      <th>288800</th>\n",
       "      <td>상암센터 정비실</td>\n",
       "      <td>5</td>\n",
       "      <td>목</td>\n",
       "      <td>평일 14시</td>\n",
       "      <td>1.000</td>\n",
       "      <td>0.000</td>\n",
       "      <td>2.000</td>\n",
       "    </tr>\n",
       "    <tr>\n",
       "      <th>288801</th>\n",
       "      <td>상암센터 정비실</td>\n",
       "      <td>5</td>\n",
       "      <td>목</td>\n",
       "      <td>평일 15시</td>\n",
       "      <td>1.000</td>\n",
       "      <td>3175.000</td>\n",
       "      <td>30.000</td>\n",
       "    </tr>\n",
       "    <tr>\n",
       "      <th>288802</th>\n",
       "      <td>상암센터 정비실</td>\n",
       "      <td>5</td>\n",
       "      <td>목</td>\n",
       "      <td>평일 16시</td>\n",
       "      <td>1.000</td>\n",
       "      <td>5.000</td>\n",
       "      <td>19.000</td>\n",
       "    </tr>\n",
       "    <tr>\n",
       "      <th>288803</th>\n",
       "      <td>상암센터 정비실</td>\n",
       "      <td>5</td>\n",
       "      <td>금</td>\n",
       "      <td>평일 10시</td>\n",
       "      <td>1.000</td>\n",
       "      <td>33.333</td>\n",
       "      <td>12.667</td>\n",
       "    </tr>\n",
       "    <tr>\n",
       "      <th>288804</th>\n",
       "      <td>상암센터 정비실</td>\n",
       "      <td>5</td>\n",
       "      <td>금</td>\n",
       "      <td>평일 11시</td>\n",
       "      <td>1.000</td>\n",
       "      <td>990.000</td>\n",
       "      <td>17.000</td>\n",
       "    </tr>\n",
       "    <tr>\n",
       "      <th>288805</th>\n",
       "      <td>상암센터 정비실</td>\n",
       "      <td>5</td>\n",
       "      <td>금</td>\n",
       "      <td>평일 13시</td>\n",
       "      <td>1.000</td>\n",
       "      <td>0.000</td>\n",
       "      <td>6.000</td>\n",
       "    </tr>\n",
       "    <tr>\n",
       "      <th>288806</th>\n",
       "      <td>상암센터 정비실</td>\n",
       "      <td>5</td>\n",
       "      <td>금</td>\n",
       "      <td>평일 15시</td>\n",
       "      <td>1.000</td>\n",
       "      <td>30.000</td>\n",
       "      <td>13.000</td>\n",
       "    </tr>\n",
       "    <tr>\n",
       "      <th>288807</th>\n",
       "      <td>상암센터 정비실</td>\n",
       "      <td>5</td>\n",
       "      <td>금</td>\n",
       "      <td>평일 16시</td>\n",
       "      <td>1.000</td>\n",
       "      <td>2215.000</td>\n",
       "      <td>23.500</td>\n",
       "    </tr>\n",
       "    <tr>\n",
       "      <th>288808</th>\n",
       "      <td>상암센터 정비실</td>\n",
       "      <td>5</td>\n",
       "      <td>금</td>\n",
       "      <td>평일 17시</td>\n",
       "      <td>1.000</td>\n",
       "      <td>5200.000</td>\n",
       "      <td>39.000</td>\n",
       "    </tr>\n",
       "    <tr>\n",
       "      <th>288809</th>\n",
       "      <td>상암센터 정비실</td>\n",
       "      <td>5</td>\n",
       "      <td>금</td>\n",
       "      <td>평일 18시</td>\n",
       "      <td>1.000</td>\n",
       "      <td>0.000</td>\n",
       "      <td>27.000</td>\n",
       "    </tr>\n",
       "    <tr>\n",
       "      <th>288810</th>\n",
       "      <td>위트콤</td>\n",
       "      <td>10</td>\n",
       "      <td>월</td>\n",
       "      <td>평일 11시</td>\n",
       "      <td>1.000</td>\n",
       "      <td>0.000</td>\n",
       "      <td>5.000</td>\n",
       "    </tr>\n",
       "    <tr>\n",
       "      <th>288811</th>\n",
       "      <td>위트콤</td>\n",
       "      <td>10</td>\n",
       "      <td>월</td>\n",
       "      <td>평일 12시</td>\n",
       "      <td>1.400</td>\n",
       "      <td>0.000</td>\n",
       "      <td>18.400</td>\n",
       "    </tr>\n",
       "    <tr>\n",
       "      <th>288812</th>\n",
       "      <td>위트콤</td>\n",
       "      <td>10</td>\n",
       "      <td>월</td>\n",
       "      <td>평일 13시</td>\n",
       "      <td>1.500</td>\n",
       "      <td>0.000</td>\n",
       "      <td>6.500</td>\n",
       "    </tr>\n",
       "    <tr>\n",
       "      <th>288813</th>\n",
       "      <td>위트콤</td>\n",
       "      <td>10</td>\n",
       "      <td>월</td>\n",
       "      <td>평일 14시</td>\n",
       "      <td>1.000</td>\n",
       "      <td>0.000</td>\n",
       "      <td>27.400</td>\n",
       "    </tr>\n",
       "    <tr>\n",
       "      <th>288814</th>\n",
       "      <td>위트콤</td>\n",
       "      <td>10</td>\n",
       "      <td>월</td>\n",
       "      <td>평일 15시</td>\n",
       "      <td>1.000</td>\n",
       "      <td>0.000</td>\n",
       "      <td>3.000</td>\n",
       "    </tr>\n",
       "    <tr>\n",
       "      <th>288815</th>\n",
       "      <td>위트콤</td>\n",
       "      <td>10</td>\n",
       "      <td>월</td>\n",
       "      <td>평일 16시</td>\n",
       "      <td>1.167</td>\n",
       "      <td>0.000</td>\n",
       "      <td>17.500</td>\n",
       "    </tr>\n",
       "    <tr>\n",
       "      <th>288816</th>\n",
       "      <td>위트콤</td>\n",
       "      <td>10</td>\n",
       "      <td>월</td>\n",
       "      <td>평일 17시</td>\n",
       "      <td>1.500</td>\n",
       "      <td>800.000</td>\n",
       "      <td>8.500</td>\n",
       "    </tr>\n",
       "    <tr>\n",
       "      <th>288817</th>\n",
       "      <td>위트콤</td>\n",
       "      <td>10</td>\n",
       "      <td>월</td>\n",
       "      <td>평일 18시</td>\n",
       "      <td>1.200</td>\n",
       "      <td>690.000</td>\n",
       "      <td>20.400</td>\n",
       "    </tr>\n",
       "    <tr>\n",
       "      <th>288818</th>\n",
       "      <td>위트콤</td>\n",
       "      <td>10</td>\n",
       "      <td>월</td>\n",
       "      <td>평일 19시</td>\n",
       "      <td>1.000</td>\n",
       "      <td>0.000</td>\n",
       "      <td>21.500</td>\n",
       "    </tr>\n",
       "    <tr>\n",
       "      <th>288819</th>\n",
       "      <td>위트콤</td>\n",
       "      <td>10</td>\n",
       "      <td>월</td>\n",
       "      <td>평일 23시</td>\n",
       "      <td>1.000</td>\n",
       "      <td>0.000</td>\n",
       "      <td>15.000</td>\n",
       "    </tr>\n",
       "    <tr>\n",
       "      <th>288820</th>\n",
       "      <td>위트콤</td>\n",
       "      <td>10</td>\n",
       "      <td>월</td>\n",
       "      <td>평일 08시</td>\n",
       "      <td>1.000</td>\n",
       "      <td>0.000</td>\n",
       "      <td>17.000</td>\n",
       "    </tr>\n",
       "    <tr>\n",
       "      <th>288821</th>\n",
       "      <td>위트콤</td>\n",
       "      <td>10</td>\n",
       "      <td>월</td>\n",
       "      <td>평일 09시</td>\n",
       "      <td>1.000</td>\n",
       "      <td>0.000</td>\n",
       "      <td>34.500</td>\n",
       "    </tr>\n",
       "    <tr>\n",
       "      <th>288822</th>\n",
       "      <td>위트콤</td>\n",
       "      <td>10</td>\n",
       "      <td>화</td>\n",
       "      <td>평일 10시</td>\n",
       "      <td>1.667</td>\n",
       "      <td>0.000</td>\n",
       "      <td>13.333</td>\n",
       "    </tr>\n",
       "    <tr>\n",
       "      <th>288823</th>\n",
       "      <td>위트콤</td>\n",
       "      <td>10</td>\n",
       "      <td>화</td>\n",
       "      <td>평일 11시</td>\n",
       "      <td>2.000</td>\n",
       "      <td>0.000</td>\n",
       "      <td>13.500</td>\n",
       "    </tr>\n",
       "    <tr>\n",
       "      <th>288824</th>\n",
       "      <td>위트콤</td>\n",
       "      <td>10</td>\n",
       "      <td>화</td>\n",
       "      <td>평일 12시</td>\n",
       "      <td>1.000</td>\n",
       "      <td>0.000</td>\n",
       "      <td>11.500</td>\n",
       "    </tr>\n",
       "    <tr>\n",
       "      <th>288825</th>\n",
       "      <td>위트콤</td>\n",
       "      <td>10</td>\n",
       "      <td>화</td>\n",
       "      <td>평일 13시</td>\n",
       "      <td>1.333</td>\n",
       "      <td>0.000</td>\n",
       "      <td>8.333</td>\n",
       "    </tr>\n",
       "    <tr>\n",
       "      <th>288826</th>\n",
       "      <td>위트콤</td>\n",
       "      <td>10</td>\n",
       "      <td>화</td>\n",
       "      <td>평일 14시</td>\n",
       "      <td>1.750</td>\n",
       "      <td>0.000</td>\n",
       "      <td>60.500</td>\n",
       "    </tr>\n",
       "    <tr>\n",
       "      <th>288827</th>\n",
       "      <td>위트콤</td>\n",
       "      <td>10</td>\n",
       "      <td>화</td>\n",
       "      <td>평일 15시</td>\n",
       "      <td>1.250</td>\n",
       "      <td>0.000</td>\n",
       "      <td>14.250</td>\n",
       "    </tr>\n",
       "    <tr>\n",
       "      <th>288828</th>\n",
       "      <td>위트콤</td>\n",
       "      <td>10</td>\n",
       "      <td>화</td>\n",
       "      <td>평일 16시</td>\n",
       "      <td>1.000</td>\n",
       "      <td>0.000</td>\n",
       "      <td>55.000</td>\n",
       "    </tr>\n",
       "    <tr>\n",
       "      <th>288829</th>\n",
       "      <td>위트콤</td>\n",
       "      <td>10</td>\n",
       "      <td>화</td>\n",
       "      <td>평일 17시</td>\n",
       "      <td>1.429</td>\n",
       "      <td>0.000</td>\n",
       "      <td>69.143</td>\n",
       "    </tr>\n",
       "    <tr>\n",
       "      <th>288830</th>\n",
       "      <td>위트콤</td>\n",
       "      <td>10</td>\n",
       "      <td>화</td>\n",
       "      <td>평일 18시</td>\n",
       "      <td>1.000</td>\n",
       "      <td>0.000</td>\n",
       "      <td>8.200</td>\n",
       "    </tr>\n",
       "    <tr>\n",
       "      <th>288831</th>\n",
       "      <td>위트콤</td>\n",
       "      <td>10</td>\n",
       "      <td>화</td>\n",
       "      <td>평일 19시</td>\n",
       "      <td>1.000</td>\n",
       "      <td>0.000</td>\n",
       "      <td>21.333</td>\n",
       "    </tr>\n",
       "    <tr>\n",
       "      <th>288832</th>\n",
       "      <td>위트콤</td>\n",
       "      <td>10</td>\n",
       "      <td>화</td>\n",
       "      <td>평일 20시</td>\n",
       "      <td>1.500</td>\n",
       "      <td>0.000</td>\n",
       "      <td>9.500</td>\n",
       "    </tr>\n",
       "    <tr>\n",
       "      <th>288833</th>\n",
       "      <td>위트콤</td>\n",
       "      <td>10</td>\n",
       "      <td>화</td>\n",
       "      <td>평일 22시</td>\n",
       "      <td>1.000</td>\n",
       "      <td>0.000</td>\n",
       "      <td>10.500</td>\n",
       "    </tr>\n",
       "    <tr>\n",
       "      <th>288834</th>\n",
       "      <td>위트콤</td>\n",
       "      <td>10</td>\n",
       "      <td>화</td>\n",
       "      <td>평일 07시</td>\n",
       "      <td>1.000</td>\n",
       "      <td>0.000</td>\n",
       "      <td>18.000</td>\n",
       "    </tr>\n",
       "    <tr>\n",
       "      <th>288835</th>\n",
       "      <td>위트콤</td>\n",
       "      <td>10</td>\n",
       "      <td>화</td>\n",
       "      <td>평일 09시</td>\n",
       "      <td>2.000</td>\n",
       "      <td>0.000</td>\n",
       "      <td>16.000</td>\n",
       "    </tr>\n",
       "    <tr>\n",
       "      <th>288836</th>\n",
       "      <td>위트콤</td>\n",
       "      <td>10</td>\n",
       "      <td>수</td>\n",
       "      <td>평일 00시</td>\n",
       "      <td>1.000</td>\n",
       "      <td>0.000</td>\n",
       "      <td>12.000</td>\n",
       "    </tr>\n",
       "    <tr>\n",
       "      <th>288837</th>\n",
       "      <td>위트콤</td>\n",
       "      <td>10</td>\n",
       "      <td>수</td>\n",
       "      <td>평일 10시</td>\n",
       "      <td>1.000</td>\n",
       "      <td>0.000</td>\n",
       "      <td>5.600</td>\n",
       "    </tr>\n",
       "    <tr>\n",
       "      <th>288838</th>\n",
       "      <td>위트콤</td>\n",
       "      <td>10</td>\n",
       "      <td>수</td>\n",
       "      <td>평일 11시</td>\n",
       "      <td>1.000</td>\n",
       "      <td>0.000</td>\n",
       "      <td>5.500</td>\n",
       "    </tr>\n",
       "    <tr>\n",
       "      <th>288839</th>\n",
       "      <td>위트콤</td>\n",
       "      <td>10</td>\n",
       "      <td>수</td>\n",
       "      <td>평일 12시</td>\n",
       "      <td>1.000</td>\n",
       "      <td>0.000</td>\n",
       "      <td>88.500</td>\n",
       "    </tr>\n",
       "    <tr>\n",
       "      <th>288840</th>\n",
       "      <td>위트콤</td>\n",
       "      <td>10</td>\n",
       "      <td>수</td>\n",
       "      <td>평일 13시</td>\n",
       "      <td>1.000</td>\n",
       "      <td>0.000</td>\n",
       "      <td>32.500</td>\n",
       "    </tr>\n",
       "    <tr>\n",
       "      <th>288841</th>\n",
       "      <td>위트콤</td>\n",
       "      <td>10</td>\n",
       "      <td>수</td>\n",
       "      <td>평일 14시</td>\n",
       "      <td>1.167</td>\n",
       "      <td>840.000</td>\n",
       "      <td>20.333</td>\n",
       "    </tr>\n",
       "    <tr>\n",
       "      <th>288842</th>\n",
       "      <td>위트콤</td>\n",
       "      <td>10</td>\n",
       "      <td>수</td>\n",
       "      <td>평일 15시</td>\n",
       "      <td>1.222</td>\n",
       "      <td>0.000</td>\n",
       "      <td>26.778</td>\n",
       "    </tr>\n",
       "    <tr>\n",
       "      <th>288843</th>\n",
       "      <td>위트콤</td>\n",
       "      <td>10</td>\n",
       "      <td>수</td>\n",
       "      <td>평일 16시</td>\n",
       "      <td>1.000</td>\n",
       "      <td>0.000</td>\n",
       "      <td>5.750</td>\n",
       "    </tr>\n",
       "    <tr>\n",
       "      <th>288844</th>\n",
       "      <td>위트콤</td>\n",
       "      <td>10</td>\n",
       "      <td>수</td>\n",
       "      <td>평일 17시</td>\n",
       "      <td>1.000</td>\n",
       "      <td>0.000</td>\n",
       "      <td>3.000</td>\n",
       "    </tr>\n",
       "    <tr>\n",
       "      <th>288845</th>\n",
       "      <td>위트콤</td>\n",
       "      <td>10</td>\n",
       "      <td>수</td>\n",
       "      <td>평일 18시</td>\n",
       "      <td>1.000</td>\n",
       "      <td>0.000</td>\n",
       "      <td>30.000</td>\n",
       "    </tr>\n",
       "    <tr>\n",
       "      <th>288846</th>\n",
       "      <td>위트콤</td>\n",
       "      <td>10</td>\n",
       "      <td>수</td>\n",
       "      <td>평일 20시</td>\n",
       "      <td>1.000</td>\n",
       "      <td>0.000</td>\n",
       "      <td>24.000</td>\n",
       "    </tr>\n",
       "    <tr>\n",
       "      <th>288847</th>\n",
       "      <td>위트콤</td>\n",
       "      <td>10</td>\n",
       "      <td>수</td>\n",
       "      <td>평일 21시</td>\n",
       "      <td>1.000</td>\n",
       "      <td>6470.000</td>\n",
       "      <td>32.000</td>\n",
       "    </tr>\n",
       "    <tr>\n",
       "      <th>288848</th>\n",
       "      <td>위트콤</td>\n",
       "      <td>10</td>\n",
       "      <td>수</td>\n",
       "      <td>평일 06시</td>\n",
       "      <td>1.000</td>\n",
       "      <td>2780.000</td>\n",
       "      <td>18.000</td>\n",
       "    </tr>\n",
       "    <tr>\n",
       "      <th>288849</th>\n",
       "      <td>위트콤</td>\n",
       "      <td>10</td>\n",
       "      <td>수</td>\n",
       "      <td>평일 08시</td>\n",
       "      <td>1.000</td>\n",
       "      <td>0.000</td>\n",
       "      <td>32.000</td>\n",
       "    </tr>\n",
       "    <tr>\n",
       "      <th>288850</th>\n",
       "      <td>위트콤</td>\n",
       "      <td>10</td>\n",
       "      <td>수</td>\n",
       "      <td>평일 09시</td>\n",
       "      <td>1.000</td>\n",
       "      <td>0.000</td>\n",
       "      <td>4.250</td>\n",
       "    </tr>\n",
       "    <tr>\n",
       "      <th>288851</th>\n",
       "      <td>위트콤</td>\n",
       "      <td>10</td>\n",
       "      <td>목</td>\n",
       "      <td>평일 10시</td>\n",
       "      <td>1.333</td>\n",
       "      <td>0.000</td>\n",
       "      <td>9.000</td>\n",
       "    </tr>\n",
       "    <tr>\n",
       "      <th>288852</th>\n",
       "      <td>위트콤</td>\n",
       "      <td>10</td>\n",
       "      <td>목</td>\n",
       "      <td>평일 11시</td>\n",
       "      <td>1.000</td>\n",
       "      <td>0.000</td>\n",
       "      <td>2.000</td>\n",
       "    </tr>\n",
       "    <tr>\n",
       "      <th>288853</th>\n",
       "      <td>위트콤</td>\n",
       "      <td>10</td>\n",
       "      <td>목</td>\n",
       "      <td>평일 13시</td>\n",
       "      <td>1.000</td>\n",
       "      <td>0.000</td>\n",
       "      <td>4.000</td>\n",
       "    </tr>\n",
       "    <tr>\n",
       "      <th>288854</th>\n",
       "      <td>위트콤</td>\n",
       "      <td>10</td>\n",
       "      <td>목</td>\n",
       "      <td>평일 14시</td>\n",
       "      <td>1.000</td>\n",
       "      <td>0.000</td>\n",
       "      <td>2.500</td>\n",
       "    </tr>\n",
       "    <tr>\n",
       "      <th>288855</th>\n",
       "      <td>위트콤</td>\n",
       "      <td>10</td>\n",
       "      <td>목</td>\n",
       "      <td>평일 15시</td>\n",
       "      <td>1.500</td>\n",
       "      <td>0.000</td>\n",
       "      <td>17.500</td>\n",
       "    </tr>\n",
       "    <tr>\n",
       "      <th>288856</th>\n",
       "      <td>위트콤</td>\n",
       "      <td>10</td>\n",
       "      <td>목</td>\n",
       "      <td>평일 16시</td>\n",
       "      <td>1.250</td>\n",
       "      <td>0.000</td>\n",
       "      <td>15.250</td>\n",
       "    </tr>\n",
       "    <tr>\n",
       "      <th>288857</th>\n",
       "      <td>위트콤</td>\n",
       "      <td>10</td>\n",
       "      <td>목</td>\n",
       "      <td>평일 17시</td>\n",
       "      <td>1.000</td>\n",
       "      <td>0.000</td>\n",
       "      <td>27.750</td>\n",
       "    </tr>\n",
       "    <tr>\n",
       "      <th>288858</th>\n",
       "      <td>위트콤</td>\n",
       "      <td>10</td>\n",
       "      <td>목</td>\n",
       "      <td>평일 18시</td>\n",
       "      <td>1.000</td>\n",
       "      <td>0.000</td>\n",
       "      <td>33.286</td>\n",
       "    </tr>\n",
       "    <tr>\n",
       "      <th>288859</th>\n",
       "      <td>위트콤</td>\n",
       "      <td>10</td>\n",
       "      <td>목</td>\n",
       "      <td>평일 19시</td>\n",
       "      <td>1.000</td>\n",
       "      <td>0.000</td>\n",
       "      <td>12.000</td>\n",
       "    </tr>\n",
       "    <tr>\n",
       "      <th>288860</th>\n",
       "      <td>위트콤</td>\n",
       "      <td>10</td>\n",
       "      <td>목</td>\n",
       "      <td>평일 21시</td>\n",
       "      <td>1.500</td>\n",
       "      <td>0.000</td>\n",
       "      <td>19.500</td>\n",
       "    </tr>\n",
       "    <tr>\n",
       "      <th>288861</th>\n",
       "      <td>위트콤</td>\n",
       "      <td>10</td>\n",
       "      <td>목</td>\n",
       "      <td>평일 22시</td>\n",
       "      <td>3.000</td>\n",
       "      <td>0.000</td>\n",
       "      <td>68.500</td>\n",
       "    </tr>\n",
       "    <tr>\n",
       "      <th>288862</th>\n",
       "      <td>위트콤</td>\n",
       "      <td>10</td>\n",
       "      <td>목</td>\n",
       "      <td>평일 23시</td>\n",
       "      <td>4.000</td>\n",
       "      <td>0.000</td>\n",
       "      <td>64.500</td>\n",
       "    </tr>\n",
       "    <tr>\n",
       "      <th>288863</th>\n",
       "      <td>위트콤</td>\n",
       "      <td>10</td>\n",
       "      <td>목</td>\n",
       "      <td>평일 03시</td>\n",
       "      <td>1.000</td>\n",
       "      <td>0.000</td>\n",
       "      <td>16.000</td>\n",
       "    </tr>\n",
       "    <tr>\n",
       "      <th>288864</th>\n",
       "      <td>위트콤</td>\n",
       "      <td>10</td>\n",
       "      <td>목</td>\n",
       "      <td>평일 08시</td>\n",
       "      <td>1.500</td>\n",
       "      <td>0.000</td>\n",
       "      <td>25.000</td>\n",
       "    </tr>\n",
       "    <tr>\n",
       "      <th>288865</th>\n",
       "      <td>위트콤</td>\n",
       "      <td>10</td>\n",
       "      <td>목</td>\n",
       "      <td>평일 09시</td>\n",
       "      <td>1.000</td>\n",
       "      <td>0.000</td>\n",
       "      <td>4.500</td>\n",
       "    </tr>\n",
       "    <tr>\n",
       "      <th>288866</th>\n",
       "      <td>위트콤</td>\n",
       "      <td>10</td>\n",
       "      <td>금</td>\n",
       "      <td>평일 00시</td>\n",
       "      <td>1.000</td>\n",
       "      <td>0.000</td>\n",
       "      <td>10.000</td>\n",
       "    </tr>\n",
       "    <tr>\n",
       "      <th>288867</th>\n",
       "      <td>위트콤</td>\n",
       "      <td>10</td>\n",
       "      <td>금</td>\n",
       "      <td>평일 11시</td>\n",
       "      <td>1.500</td>\n",
       "      <td>0.000</td>\n",
       "      <td>7.500</td>\n",
       "    </tr>\n",
       "    <tr>\n",
       "      <th>288868</th>\n",
       "      <td>위트콤</td>\n",
       "      <td>10</td>\n",
       "      <td>금</td>\n",
       "      <td>평일 13시</td>\n",
       "      <td>1.000</td>\n",
       "      <td>0.000</td>\n",
       "      <td>21.000</td>\n",
       "    </tr>\n",
       "    <tr>\n",
       "      <th>288869</th>\n",
       "      <td>위트콤</td>\n",
       "      <td>10</td>\n",
       "      <td>금</td>\n",
       "      <td>평일 14시</td>\n",
       "      <td>1.667</td>\n",
       "      <td>0.000</td>\n",
       "      <td>35.000</td>\n",
       "    </tr>\n",
       "    <tr>\n",
       "      <th>288870</th>\n",
       "      <td>위트콤</td>\n",
       "      <td>10</td>\n",
       "      <td>금</td>\n",
       "      <td>평일 16시</td>\n",
       "      <td>1.500</td>\n",
       "      <td>0.000</td>\n",
       "      <td>29.000</td>\n",
       "    </tr>\n",
       "    <tr>\n",
       "      <th>288871</th>\n",
       "      <td>위트콤</td>\n",
       "      <td>10</td>\n",
       "      <td>금</td>\n",
       "      <td>평일 17시</td>\n",
       "      <td>1.000</td>\n",
       "      <td>0.000</td>\n",
       "      <td>20.000</td>\n",
       "    </tr>\n",
       "    <tr>\n",
       "      <th>288872</th>\n",
       "      <td>위트콤</td>\n",
       "      <td>10</td>\n",
       "      <td>금</td>\n",
       "      <td>평일 18시</td>\n",
       "      <td>1.000</td>\n",
       "      <td>0.000</td>\n",
       "      <td>28.000</td>\n",
       "    </tr>\n",
       "    <tr>\n",
       "      <th>288873</th>\n",
       "      <td>위트콤</td>\n",
       "      <td>10</td>\n",
       "      <td>금</td>\n",
       "      <td>평일 19시</td>\n",
       "      <td>1.500</td>\n",
       "      <td>0.000</td>\n",
       "      <td>36.250</td>\n",
       "    </tr>\n",
       "    <tr>\n",
       "      <th>288874</th>\n",
       "      <td>위트콤</td>\n",
       "      <td>10</td>\n",
       "      <td>금</td>\n",
       "      <td>평일 22시</td>\n",
       "      <td>1.000</td>\n",
       "      <td>0.000</td>\n",
       "      <td>5.000</td>\n",
       "    </tr>\n",
       "    <tr>\n",
       "      <th>288875</th>\n",
       "      <td>위트콤</td>\n",
       "      <td>10</td>\n",
       "      <td>금</td>\n",
       "      <td>평일 07시</td>\n",
       "      <td>1.000</td>\n",
       "      <td>0.000</td>\n",
       "      <td>8.000</td>\n",
       "    </tr>\n",
       "    <tr>\n",
       "      <th>288876</th>\n",
       "      <td>위트콤</td>\n",
       "      <td>10</td>\n",
       "      <td>금</td>\n",
       "      <td>평일 08시</td>\n",
       "      <td>1.000</td>\n",
       "      <td>0.000</td>\n",
       "      <td>12.000</td>\n",
       "    </tr>\n",
       "    <tr>\n",
       "      <th>288877</th>\n",
       "      <td>위트콤</td>\n",
       "      <td>10</td>\n",
       "      <td>금</td>\n",
       "      <td>평일 09시</td>\n",
       "      <td>1.000</td>\n",
       "      <td>0.000</td>\n",
       "      <td>10.000</td>\n",
       "    </tr>\n",
       "    <tr>\n",
       "      <th>288891</th>\n",
       "      <td>종묘센터</td>\n",
       "      <td>9989</td>\n",
       "      <td>화</td>\n",
       "      <td>평일 19시</td>\n",
       "      <td>1.000</td>\n",
       "      <td>0.000</td>\n",
       "      <td>0.000</td>\n",
       "    </tr>\n",
       "    <tr>\n",
       "      <th>288892</th>\n",
       "      <td>종묘센터</td>\n",
       "      <td>9989</td>\n",
       "      <td>수</td>\n",
       "      <td>평일 14시</td>\n",
       "      <td>2.000</td>\n",
       "      <td>0.000</td>\n",
       "      <td>2.000</td>\n",
       "    </tr>\n",
       "    <tr>\n",
       "      <th>288893</th>\n",
       "      <td>종묘센터</td>\n",
       "      <td>9989</td>\n",
       "      <td>금</td>\n",
       "      <td>평일 09시</td>\n",
       "      <td>1.000</td>\n",
       "      <td>0.000</td>\n",
       "      <td>19.000</td>\n",
       "    </tr>\n",
       "    <tr>\n",
       "      <th>288894</th>\n",
       "      <td>중랑센터</td>\n",
       "      <td>3</td>\n",
       "      <td>월</td>\n",
       "      <td>평일 13시</td>\n",
       "      <td>1.000</td>\n",
       "      <td>0.000</td>\n",
       "      <td>13.000</td>\n",
       "    </tr>\n",
       "    <tr>\n",
       "      <th>288895</th>\n",
       "      <td>중랑센터</td>\n",
       "      <td>3</td>\n",
       "      <td>월</td>\n",
       "      <td>평일 17시</td>\n",
       "      <td>1.000</td>\n",
       "      <td>1215.000</td>\n",
       "      <td>20.500</td>\n",
       "    </tr>\n",
       "    <tr>\n",
       "      <th>288896</th>\n",
       "      <td>중랑센터</td>\n",
       "      <td>3</td>\n",
       "      <td>월</td>\n",
       "      <td>평일 18시</td>\n",
       "      <td>1.000</td>\n",
       "      <td>14927.500</td>\n",
       "      <td>18.500</td>\n",
       "    </tr>\n",
       "    <tr>\n",
       "      <th>288897</th>\n",
       "      <td>중랑센터</td>\n",
       "      <td>3</td>\n",
       "      <td>화</td>\n",
       "      <td>평일 17시</td>\n",
       "      <td>1.000</td>\n",
       "      <td>1195.000</td>\n",
       "      <td>26.000</td>\n",
       "    </tr>\n",
       "    <tr>\n",
       "      <th>288898</th>\n",
       "      <td>중랑센터</td>\n",
       "      <td>3</td>\n",
       "      <td>화</td>\n",
       "      <td>평일 18시</td>\n",
       "      <td>1.000</td>\n",
       "      <td>403.333</td>\n",
       "      <td>18.667</td>\n",
       "    </tr>\n",
       "    <tr>\n",
       "      <th>288899</th>\n",
       "      <td>중랑센터</td>\n",
       "      <td>3</td>\n",
       "      <td>수</td>\n",
       "      <td>평일 17시</td>\n",
       "      <td>1.000</td>\n",
       "      <td>1205.000</td>\n",
       "      <td>20.000</td>\n",
       "    </tr>\n",
       "    <tr>\n",
       "      <th>288900</th>\n",
       "      <td>중랑센터</td>\n",
       "      <td>3</td>\n",
       "      <td>수</td>\n",
       "      <td>평일 18시</td>\n",
       "      <td>1.000</td>\n",
       "      <td>1170.000</td>\n",
       "      <td>16.667</td>\n",
       "    </tr>\n",
       "    <tr>\n",
       "      <th>288901</th>\n",
       "      <td>중랑센터</td>\n",
       "      <td>3</td>\n",
       "      <td>목</td>\n",
       "      <td>평일 10시</td>\n",
       "      <td>1.000</td>\n",
       "      <td>40.000</td>\n",
       "      <td>18.000</td>\n",
       "    </tr>\n",
       "    <tr>\n",
       "      <th>288902</th>\n",
       "      <td>중랑센터</td>\n",
       "      <td>3</td>\n",
       "      <td>목</td>\n",
       "      <td>평일 15시</td>\n",
       "      <td>1.000</td>\n",
       "      <td>1210.000</td>\n",
       "      <td>9.000</td>\n",
       "    </tr>\n",
       "    <tr>\n",
       "      <th>288903</th>\n",
       "      <td>중랑센터</td>\n",
       "      <td>3</td>\n",
       "      <td>목</td>\n",
       "      <td>평일 17시</td>\n",
       "      <td>1.000</td>\n",
       "      <td>0.000</td>\n",
       "      <td>2.000</td>\n",
       "    </tr>\n",
       "    <tr>\n",
       "      <th>288904</th>\n",
       "      <td>중랑센터</td>\n",
       "      <td>3</td>\n",
       "      <td>목</td>\n",
       "      <td>평일 18시</td>\n",
       "      <td>1.000</td>\n",
       "      <td>32640.000</td>\n",
       "      <td>22.000</td>\n",
       "    </tr>\n",
       "    <tr>\n",
       "      <th>288905</th>\n",
       "      <td>중랑센터</td>\n",
       "      <td>3</td>\n",
       "      <td>금</td>\n",
       "      <td>평일 16시</td>\n",
       "      <td>1.000</td>\n",
       "      <td>28490.000</td>\n",
       "      <td>18.333</td>\n",
       "    </tr>\n",
       "    <tr>\n",
       "      <th>288906</th>\n",
       "      <td>중랑센터</td>\n",
       "      <td>3</td>\n",
       "      <td>금</td>\n",
       "      <td>평일 17시</td>\n",
       "      <td>1.000</td>\n",
       "      <td>1210.000</td>\n",
       "      <td>11.000</td>\n",
       "    </tr>\n",
       "    <tr>\n",
       "      <th>288907</th>\n",
       "      <td>중랑센터</td>\n",
       "      <td>3</td>\n",
       "      <td>금</td>\n",
       "      <td>평일 18시</td>\n",
       "      <td>1.000</td>\n",
       "      <td>625.000</td>\n",
       "      <td>15.500</td>\n",
       "    </tr>\n",
       "    <tr>\n",
       "      <th>288908</th>\n",
       "      <td>천호센터</td>\n",
       "      <td>9988</td>\n",
       "      <td>화</td>\n",
       "      <td>평일 14시</td>\n",
       "      <td>1.000</td>\n",
       "      <td>0.000</td>\n",
       "      <td>32.000</td>\n",
       "    </tr>\n",
       "  </tbody>\n",
       "</table>\n",
       "</div>"
      ],
      "text/plain": [
       "            대여소명 대여소번호 요일    대여시간  이용건수      이동거리   사용시간\n",
       "288796  상암센터 정비실     5  수  평일 16시 1.000  2360.000 46.000\n",
       "288797  상암센터 정비실     5  수  평일 18시 1.000    20.000 20.000\n",
       "288798  상암센터 정비실     5  목  평일 11시 1.000    30.000  3.000\n",
       "288799  상암센터 정비실     5  목  평일 13시 1.000     0.000  2.500\n",
       "288800  상암센터 정비실     5  목  평일 14시 1.000     0.000  2.000\n",
       "288801  상암센터 정비실     5  목  평일 15시 1.000  3175.000 30.000\n",
       "288802  상암센터 정비실     5  목  평일 16시 1.000     5.000 19.000\n",
       "288803  상암센터 정비실     5  금  평일 10시 1.000    33.333 12.667\n",
       "288804  상암센터 정비실     5  금  평일 11시 1.000   990.000 17.000\n",
       "288805  상암센터 정비실     5  금  평일 13시 1.000     0.000  6.000\n",
       "288806  상암센터 정비실     5  금  평일 15시 1.000    30.000 13.000\n",
       "288807  상암센터 정비실     5  금  평일 16시 1.000  2215.000 23.500\n",
       "288808  상암센터 정비실     5  금  평일 17시 1.000  5200.000 39.000\n",
       "288809  상암센터 정비실     5  금  평일 18시 1.000     0.000 27.000\n",
       "288810       위트콤    10  월  평일 11시 1.000     0.000  5.000\n",
       "288811       위트콤    10  월  평일 12시 1.400     0.000 18.400\n",
       "288812       위트콤    10  월  평일 13시 1.500     0.000  6.500\n",
       "288813       위트콤    10  월  평일 14시 1.000     0.000 27.400\n",
       "288814       위트콤    10  월  평일 15시 1.000     0.000  3.000\n",
       "288815       위트콤    10  월  평일 16시 1.167     0.000 17.500\n",
       "288816       위트콤    10  월  평일 17시 1.500   800.000  8.500\n",
       "288817       위트콤    10  월  평일 18시 1.200   690.000 20.400\n",
       "288818       위트콤    10  월  평일 19시 1.000     0.000 21.500\n",
       "288819       위트콤    10  월  평일 23시 1.000     0.000 15.000\n",
       "288820       위트콤    10  월  평일 08시 1.000     0.000 17.000\n",
       "288821       위트콤    10  월  평일 09시 1.000     0.000 34.500\n",
       "288822       위트콤    10  화  평일 10시 1.667     0.000 13.333\n",
       "288823       위트콤    10  화  평일 11시 2.000     0.000 13.500\n",
       "288824       위트콤    10  화  평일 12시 1.000     0.000 11.500\n",
       "288825       위트콤    10  화  평일 13시 1.333     0.000  8.333\n",
       "288826       위트콤    10  화  평일 14시 1.750     0.000 60.500\n",
       "288827       위트콤    10  화  평일 15시 1.250     0.000 14.250\n",
       "288828       위트콤    10  화  평일 16시 1.000     0.000 55.000\n",
       "288829       위트콤    10  화  평일 17시 1.429     0.000 69.143\n",
       "288830       위트콤    10  화  평일 18시 1.000     0.000  8.200\n",
       "288831       위트콤    10  화  평일 19시 1.000     0.000 21.333\n",
       "288832       위트콤    10  화  평일 20시 1.500     0.000  9.500\n",
       "288833       위트콤    10  화  평일 22시 1.000     0.000 10.500\n",
       "288834       위트콤    10  화  평일 07시 1.000     0.000 18.000\n",
       "288835       위트콤    10  화  평일 09시 2.000     0.000 16.000\n",
       "288836       위트콤    10  수  평일 00시 1.000     0.000 12.000\n",
       "288837       위트콤    10  수  평일 10시 1.000     0.000  5.600\n",
       "288838       위트콤    10  수  평일 11시 1.000     0.000  5.500\n",
       "288839       위트콤    10  수  평일 12시 1.000     0.000 88.500\n",
       "288840       위트콤    10  수  평일 13시 1.000     0.000 32.500\n",
       "288841       위트콤    10  수  평일 14시 1.167   840.000 20.333\n",
       "288842       위트콤    10  수  평일 15시 1.222     0.000 26.778\n",
       "288843       위트콤    10  수  평일 16시 1.000     0.000  5.750\n",
       "288844       위트콤    10  수  평일 17시 1.000     0.000  3.000\n",
       "288845       위트콤    10  수  평일 18시 1.000     0.000 30.000\n",
       "288846       위트콤    10  수  평일 20시 1.000     0.000 24.000\n",
       "288847       위트콤    10  수  평일 21시 1.000  6470.000 32.000\n",
       "288848       위트콤    10  수  평일 06시 1.000  2780.000 18.000\n",
       "288849       위트콤    10  수  평일 08시 1.000     0.000 32.000\n",
       "288850       위트콤    10  수  평일 09시 1.000     0.000  4.250\n",
       "288851       위트콤    10  목  평일 10시 1.333     0.000  9.000\n",
       "288852       위트콤    10  목  평일 11시 1.000     0.000  2.000\n",
       "288853       위트콤    10  목  평일 13시 1.000     0.000  4.000\n",
       "288854       위트콤    10  목  평일 14시 1.000     0.000  2.500\n",
       "288855       위트콤    10  목  평일 15시 1.500     0.000 17.500\n",
       "288856       위트콤    10  목  평일 16시 1.250     0.000 15.250\n",
       "288857       위트콤    10  목  평일 17시 1.000     0.000 27.750\n",
       "288858       위트콤    10  목  평일 18시 1.000     0.000 33.286\n",
       "288859       위트콤    10  목  평일 19시 1.000     0.000 12.000\n",
       "288860       위트콤    10  목  평일 21시 1.500     0.000 19.500\n",
       "288861       위트콤    10  목  평일 22시 3.000     0.000 68.500\n",
       "288862       위트콤    10  목  평일 23시 4.000     0.000 64.500\n",
       "288863       위트콤    10  목  평일 03시 1.000     0.000 16.000\n",
       "288864       위트콤    10  목  평일 08시 1.500     0.000 25.000\n",
       "288865       위트콤    10  목  평일 09시 1.000     0.000  4.500\n",
       "288866       위트콤    10  금  평일 00시 1.000     0.000 10.000\n",
       "288867       위트콤    10  금  평일 11시 1.500     0.000  7.500\n",
       "288868       위트콤    10  금  평일 13시 1.000     0.000 21.000\n",
       "288869       위트콤    10  금  평일 14시 1.667     0.000 35.000\n",
       "288870       위트콤    10  금  평일 16시 1.500     0.000 29.000\n",
       "288871       위트콤    10  금  평일 17시 1.000     0.000 20.000\n",
       "288872       위트콤    10  금  평일 18시 1.000     0.000 28.000\n",
       "288873       위트콤    10  금  평일 19시 1.500     0.000 36.250\n",
       "288874       위트콤    10  금  평일 22시 1.000     0.000  5.000\n",
       "288875       위트콤    10  금  평일 07시 1.000     0.000  8.000\n",
       "288876       위트콤    10  금  평일 08시 1.000     0.000 12.000\n",
       "288877       위트콤    10  금  평일 09시 1.000     0.000 10.000\n",
       "288891      종묘센터  9989  화  평일 19시 1.000     0.000  0.000\n",
       "288892      종묘센터  9989  수  평일 14시 2.000     0.000  2.000\n",
       "288893      종묘센터  9989  금  평일 09시 1.000     0.000 19.000\n",
       "288894      중랑센터     3  월  평일 13시 1.000     0.000 13.000\n",
       "288895      중랑센터     3  월  평일 17시 1.000  1215.000 20.500\n",
       "288896      중랑센터     3  월  평일 18시 1.000 14927.500 18.500\n",
       "288897      중랑센터     3  화  평일 17시 1.000  1195.000 26.000\n",
       "288898      중랑센터     3  화  평일 18시 1.000   403.333 18.667\n",
       "288899      중랑센터     3  수  평일 17시 1.000  1205.000 20.000\n",
       "288900      중랑센터     3  수  평일 18시 1.000  1170.000 16.667\n",
       "288901      중랑센터     3  목  평일 10시 1.000    40.000 18.000\n",
       "288902      중랑센터     3  목  평일 15시 1.000  1210.000  9.000\n",
       "288903      중랑센터     3  목  평일 17시 1.000     0.000  2.000\n",
       "288904      중랑센터     3  목  평일 18시 1.000 32640.000 22.000\n",
       "288905      중랑센터     3  금  평일 16시 1.000 28490.000 18.333\n",
       "288906      중랑센터     3  금  평일 17시 1.000  1210.000 11.000\n",
       "288907      중랑센터     3  금  평일 18시 1.000   625.000 15.500\n",
       "288908      천호센터  9988  화  평일 14시 1.000     0.000 32.000"
      ]
     },
     "execution_count": 127,
     "metadata": {},
     "output_type": "execute_result"
    }
   ],
   "source": [
    "Hour_bike_usage_weekday.tail(100)"
   ]
  },
  {
   "cell_type": "code",
   "execution_count": 128,
   "metadata": {
    "ExecuteTime": {
     "end_time": "2020-11-26T09:11:25.492527Z",
     "start_time": "2020-11-26T09:11:25.448891Z"
    }
   },
   "outputs": [
    {
     "data": {
      "text/plain": [
       "43"
      ]
     },
     "execution_count": 128,
     "metadata": {},
     "output_type": "execute_result"
    }
   ],
   "source": [
    "len((set(Bike_location['대여소번호'].unique().tolist()))- set(list(Hour_bike_usage_weekday['대여소번호'].unique().tolist())))"
   ]
  },
  {
   "cell_type": "code",
   "execution_count": null,
   "metadata": {
    "ExecuteTime": {
     "end_time": "2020-11-26T07:43:06.773256Z",
     "start_time": "2020-11-26T07:43:06.759508Z"
    }
   },
   "outputs": [],
   "source": [
    "# len(set(str(Bike_location['대여소명'].values))-set(str(Hour_bike_usage_weekday['대여소명'].values)))"
   ]
  },
  {
   "cell_type": "markdown",
   "metadata": {},
   "source": [
    "#### 평일"
   ]
  },
  {
   "cell_type": "code",
   "execution_count": 134,
   "metadata": {
    "ExecuteTime": {
     "end_time": "2020-11-26T09:22:39.923122Z",
     "start_time": "2020-11-26T09:22:39.891650Z"
    }
   },
   "outputs": [
    {
     "data": {
      "text/html": [
       "<div>\n",
       "<style scoped>\n",
       "    .dataframe tbody tr th:only-of-type {\n",
       "        vertical-align: middle;\n",
       "    }\n",
       "\n",
       "    .dataframe tbody tr th {\n",
       "        vertical-align: top;\n",
       "    }\n",
       "\n",
       "    .dataframe thead th {\n",
       "        text-align: right;\n",
       "    }\n",
       "</style>\n",
       "<table border=\"1\" class=\"dataframe\">\n",
       "  <thead>\n",
       "    <tr style=\"text-align: right;\">\n",
       "      <th></th>\n",
       "      <th>대여소명</th>\n",
       "      <th>대여소번호</th>\n",
       "      <th>요일</th>\n",
       "      <th>대여시간</th>\n",
       "      <th>이용건수</th>\n",
       "      <th>이동거리</th>\n",
       "      <th>사용시간</th>\n",
       "    </tr>\n",
       "  </thead>\n",
       "  <tbody>\n",
       "    <tr>\n",
       "      <th>0</th>\n",
       "      <td>1001. 광진교 남단 사거리(디지털프라자앞)</td>\n",
       "      <td>1001</td>\n",
       "      <td>월</td>\n",
       "      <td>평일 00시</td>\n",
       "      <td>1.077</td>\n",
       "      <td>2112.692</td>\n",
       "      <td>29.154</td>\n",
       "    </tr>\n",
       "    <tr>\n",
       "      <th>1</th>\n",
       "      <td>1001. 광진교 남단 사거리(디지털프라자앞)</td>\n",
       "      <td>1001</td>\n",
       "      <td>월</td>\n",
       "      <td>평일 01시</td>\n",
       "      <td>1.172</td>\n",
       "      <td>5021.379</td>\n",
       "      <td>24.897</td>\n",
       "    </tr>\n",
       "    <tr>\n",
       "      <th>2</th>\n",
       "      <td>1001. 광진교 남단 사거리(디지털프라자앞)</td>\n",
       "      <td>1001</td>\n",
       "      <td>월</td>\n",
       "      <td>평일 10시</td>\n",
       "      <td>1.074</td>\n",
       "      <td>1916.667</td>\n",
       "      <td>35.630</td>\n",
       "    </tr>\n",
       "    <tr>\n",
       "      <th>3</th>\n",
       "      <td>1001. 광진교 남단 사거리(디지털프라자앞)</td>\n",
       "      <td>1001</td>\n",
       "      <td>월</td>\n",
       "      <td>평일 11시</td>\n",
       "      <td>1.200</td>\n",
       "      <td>2626.667</td>\n",
       "      <td>42.633</td>\n",
       "    </tr>\n",
       "    <tr>\n",
       "      <th>4</th>\n",
       "      <td>1001. 광진교 남단 사거리(디지털프라자앞)</td>\n",
       "      <td>1001</td>\n",
       "      <td>월</td>\n",
       "      <td>평일 12시</td>\n",
       "      <td>1.196</td>\n",
       "      <td>3727.391</td>\n",
       "      <td>25.391</td>\n",
       "    </tr>\n",
       "    <tr>\n",
       "      <th>...</th>\n",
       "      <td>...</td>\n",
       "      <td>...</td>\n",
       "      <td>...</td>\n",
       "      <td>...</td>\n",
       "      <td>...</td>\n",
       "      <td>...</td>\n",
       "      <td>...</td>\n",
       "    </tr>\n",
       "    <tr>\n",
       "      <th>288904</th>\n",
       "      <td>중랑센터</td>\n",
       "      <td>3</td>\n",
       "      <td>목</td>\n",
       "      <td>평일 18시</td>\n",
       "      <td>1.000</td>\n",
       "      <td>32640.000</td>\n",
       "      <td>22.000</td>\n",
       "    </tr>\n",
       "    <tr>\n",
       "      <th>288905</th>\n",
       "      <td>중랑센터</td>\n",
       "      <td>3</td>\n",
       "      <td>금</td>\n",
       "      <td>평일 16시</td>\n",
       "      <td>1.000</td>\n",
       "      <td>28490.000</td>\n",
       "      <td>18.333</td>\n",
       "    </tr>\n",
       "    <tr>\n",
       "      <th>288906</th>\n",
       "      <td>중랑센터</td>\n",
       "      <td>3</td>\n",
       "      <td>금</td>\n",
       "      <td>평일 17시</td>\n",
       "      <td>1.000</td>\n",
       "      <td>1210.000</td>\n",
       "      <td>11.000</td>\n",
       "    </tr>\n",
       "    <tr>\n",
       "      <th>288907</th>\n",
       "      <td>중랑센터</td>\n",
       "      <td>3</td>\n",
       "      <td>금</td>\n",
       "      <td>평일 18시</td>\n",
       "      <td>1.000</td>\n",
       "      <td>625.000</td>\n",
       "      <td>15.500</td>\n",
       "    </tr>\n",
       "    <tr>\n",
       "      <th>288908</th>\n",
       "      <td>천호센터</td>\n",
       "      <td>9988</td>\n",
       "      <td>화</td>\n",
       "      <td>평일 14시</td>\n",
       "      <td>1.000</td>\n",
       "      <td>0.000</td>\n",
       "      <td>32.000</td>\n",
       "    </tr>\n",
       "  </tbody>\n",
       "</table>\n",
       "<p>203961 rows × 7 columns</p>\n",
       "</div>"
      ],
      "text/plain": [
       "                             대여소명 대여소번호 요일    대여시간  이용건수      이동거리   사용시간\n",
       "0       1001. 광진교 남단 사거리(디지털프라자앞)  1001  월  평일 00시 1.077  2112.692 29.154\n",
       "1       1001. 광진교 남단 사거리(디지털프라자앞)  1001  월  평일 01시 1.172  5021.379 24.897\n",
       "2       1001. 광진교 남단 사거리(디지털프라자앞)  1001  월  평일 10시 1.074  1916.667 35.630\n",
       "3       1001. 광진교 남단 사거리(디지털프라자앞)  1001  월  평일 11시 1.200  2626.667 42.633\n",
       "4       1001. 광진교 남단 사거리(디지털프라자앞)  1001  월  평일 12시 1.196  3727.391 25.391\n",
       "...                           ...   ... ..     ...   ...       ...    ...\n",
       "288904                       중랑센터     3  목  평일 18시 1.000 32640.000 22.000\n",
       "288905                       중랑센터     3  금  평일 16시 1.000 28490.000 18.333\n",
       "288906                       중랑센터     3  금  평일 17시 1.000  1210.000 11.000\n",
       "288907                       중랑센터     3  금  평일 18시 1.000   625.000 15.500\n",
       "288908                       천호센터  9988  화  평일 14시 1.000     0.000 32.000\n",
       "\n",
       "[203961 rows x 7 columns]"
      ]
     },
     "execution_count": 134,
     "metadata": {},
     "output_type": "execute_result"
    }
   ],
   "source": [
    "Hour_bike_usage_weekday"
   ]
  },
  {
   "cell_type": "code",
   "execution_count": 137,
   "metadata": {
    "ExecuteTime": {
     "end_time": "2020-11-26T09:24:35.675025Z",
     "start_time": "2020-11-26T09:24:35.635289Z"
    }
   },
   "outputs": [
    {
     "data": {
      "text/plain": [
       "43"
      ]
     },
     "execution_count": 137,
     "metadata": {},
     "output_type": "execute_result"
    }
   ],
   "source": [
    "# 6월 이후 새로 생긴 노드의 갯수\n",
    "len((set(Bike_location['대여소번호'].unique().tolist()))- set(list(Hour_bike_usage_weekday['대여소번호'].unique().tolist())))"
   ]
  },
  {
   "cell_type": "code",
   "execution_count": 138,
   "metadata": {
    "ExecuteTime": {
     "end_time": "2020-11-26T09:24:36.224715Z",
     "start_time": "2020-11-26T09:24:36.172572Z"
    }
   },
   "outputs": [
    {
     "data": {
      "text/plain": [
       "{'1072',\n",
       " '1082',\n",
       " '1471',\n",
       " '1550',\n",
       " '1571',\n",
       " '1572',\n",
       " '1695',\n",
       " '1750',\n",
       " '1751',\n",
       " '1762',\n",
       " '1767',\n",
       " '2078',\n",
       " '2079',\n",
       " '2386',\n",
       " '2524',\n",
       " '2525',\n",
       " '2550',\n",
       " '2627',\n",
       " '2638',\n",
       " '2650',\n",
       " '2656',\n",
       " '2743',\n",
       " '2744',\n",
       " '2914',\n",
       " '295',\n",
       " '3013',\n",
       " '3125',\n",
       " '3130',\n",
       " '3401',\n",
       " '3425',\n",
       " '3547',\n",
       " '3573',\n",
       " '3600',\n",
       " '3652',\n",
       " '3802',\n",
       " '3906',\n",
       " '4652',\n",
       " '4702',\n",
       " '4711',\n",
       " '480',\n",
       " '494',\n",
       " '796',\n",
       " '859'}"
      ]
     },
     "execution_count": 138,
     "metadata": {},
     "output_type": "execute_result"
    }
   ],
   "source": [
    "set(Bike_location['대여소번호'].unique().tolist()) - set(list(Hour_bike_usage_weekday['대여소번호'].unique().tolist()))"
   ]
  },
  {
   "cell_type": "code",
   "execution_count": null,
   "metadata": {
    "ExecuteTime": {
     "end_time": "2020-11-26T07:43:06.900193Z",
     "start_time": "2020-11-26T07:43:06.886810Z"
    }
   },
   "outputs": [],
   "source": [
    "Bike_location.info()"
   ]
  },
  {
   "cell_type": "code",
   "execution_count": null,
   "metadata": {
    "ExecuteTime": {
     "end_time": "2020-11-26T07:43:07.051397Z",
     "start_time": "2020-11-26T07:43:06.903196Z"
    }
   },
   "outputs": [],
   "source": [
    "Hour_bike_usage_weekday.info()"
   ]
  },
  {
   "cell_type": "code",
   "execution_count": null,
   "metadata": {
    "ExecuteTime": {
     "end_time": "2020-11-26T07:43:07.095880Z",
     "start_time": "2020-11-26T07:43:07.054300Z"
    }
   },
   "outputs": [],
   "source": [
    "### 새로 추가된 대여소로 추정\n",
    "Hour_bike_usage_weekday[Hour_bike_usage_weekday['대여소번호'] == '2550']"
   ]
  },
  {
   "cell_type": "code",
   "execution_count": null,
   "metadata": {
    "ExecuteTime": {
     "end_time": "2020-11-26T07:43:07.151309Z",
     "start_time": "2020-11-26T07:43:07.098615Z"
    }
   },
   "outputs": [],
   "source": [
    "Hour_bike_usage_weekday = Hour_bike_usage_weekday.drop('대여소명', axis = 1)"
   ]
  },
  {
   "cell_type": "code",
   "execution_count": null,
   "metadata": {
    "ExecuteTime": {
     "end_time": "2020-11-26T07:43:07.366388Z",
     "start_time": "2020-11-26T07:43:07.154880Z"
    }
   },
   "outputs": [],
   "source": [
    "Hour_bike_usage_weekday_location = pd.merge(Bike_location, Hour_bike_usage_weekday, how = 'left',on = '대여소번호')"
   ]
  },
  {
   "cell_type": "code",
   "execution_count": null,
   "metadata": {
    "ExecuteTime": {
     "end_time": "2020-11-26T07:43:07.548982Z",
     "start_time": "2020-11-26T07:43:07.371333Z"
    },
    "scrolled": true
   },
   "outputs": [],
   "source": [
    "Hour_bike_usage_weekday_location.isna().sum()"
   ]
  },
  {
   "cell_type": "code",
   "execution_count": null,
   "metadata": {
    "ExecuteTime": {
     "end_time": "2020-11-26T07:43:07.622259Z",
     "start_time": "2020-11-26T07:43:07.552556Z"
    }
   },
   "outputs": [],
   "source": [
    "Hour_bike_usage_weekday_location[Hour_bike_usage_weekday_location['이용건수'].isna()].index"
   ]
  },
  {
   "cell_type": "code",
   "execution_count": null,
   "metadata": {
    "ExecuteTime": {
     "end_time": "2020-11-26T07:43:07.707795Z",
     "start_time": "2020-11-26T07:43:07.624226Z"
    }
   },
   "outputs": [],
   "source": [
    "Hour_bike_usage_weekday_location_nan = Hour_bike_usage_weekday_location[Hour_bike_usage_weekday_location['이용건수'].isna()]\n",
    "Hour_bike_usage_weekday_location.drop(Hour_bike_usage_weekday_location[Hour_bike_usage_weekday_location['이용건수'].isna()].index)"
   ]
  },
  {
   "cell_type": "code",
   "execution_count": null,
   "metadata": {
    "ExecuteTime": {
     "end_time": "2020-11-26T07:43:07.772588Z",
     "start_time": "2020-11-26T07:43:07.712055Z"
    }
   },
   "outputs": [],
   "source": [
    "Hour_bike_usage_weekday_location_nan"
   ]
  },
  {
   "cell_type": "code",
   "execution_count": null,
   "metadata": {
    "ExecuteTime": {
     "end_time": "2020-11-26T07:43:07.864771Z",
     "start_time": "2020-11-26T07:43:07.776278Z"
    }
   },
   "outputs": [],
   "source": [
    "Hour_bike_usage_weekday_location = Hour_bike_usage_weekday_location.drop(Hour_bike_usage_weekday_location[Hour_bike_usage_weekday_location['이용건수'].isna()].index)"
   ]
  },
  {
   "cell_type": "code",
   "execution_count": null,
   "metadata": {
    "ExecuteTime": {
     "end_time": "2020-11-26T07:43:07.911730Z",
     "start_time": "2020-11-26T07:43:07.869000Z"
    },
    "scrolled": false
   },
   "outputs": [],
   "source": [
    "Hour_bike_usage_weekday_location.head(10)"
   ]
  },
  {
   "cell_type": "code",
   "execution_count": null,
   "metadata": {
    "ExecuteTime": {
     "end_time": "2020-11-26T07:43:08.016218Z",
     "start_time": "2020-11-26T07:43:07.915974Z"
    },
    "scrolled": false
   },
   "outputs": [],
   "source": [
    "Hour_bike_usage_weekday_location[Hour_bike_usage_weekday_location['요일'] == '월']"
   ]
  },
  {
   "cell_type": "code",
   "execution_count": null,
   "metadata": {
    "ExecuteTime": {
     "end_time": "2020-11-26T07:43:08.132025Z",
     "start_time": "2020-11-26T07:43:08.022168Z"
    }
   },
   "outputs": [],
   "source": [
    "Hour_bike_usage_weekday_location[Hour_bike_usage_weekday_location['요일'] == '수']"
   ]
  },
  {
   "cell_type": "code",
   "execution_count": null,
   "metadata": {
    "ExecuteTime": {
     "end_time": "2020-11-26T07:43:08.412731Z",
     "start_time": "2020-11-26T07:43:08.137798Z"
    }
   },
   "outputs": [],
   "source": [
    "Weekday_group = Hour_bike_usage_weekday_location.groupby(['대여소이름','대여시간'],as_index = False).mean()"
   ]
  },
  {
   "cell_type": "code",
   "execution_count": null,
   "metadata": {},
   "outputs": [],
   "source": []
  },
  {
   "cell_type": "markdown",
   "metadata": {},
   "source": [
    "#### 평일 train set"
   ]
  },
  {
   "cell_type": "code",
   "execution_count": null,
   "metadata": {
    "ExecuteTime": {
     "end_time": "2020-11-26T07:43:08.528436Z",
     "start_time": "2020-11-26T07:43:08.416761Z"
    }
   },
   "outputs": [],
   "source": [
    "Weekday_trainset = pd.pivot_table(Weekday_group, index = ['대여소이름'], columns= '대여시간', values = '이용건수')#.reset_index()"
   ]
  },
  {
   "cell_type": "code",
   "execution_count": null,
   "metadata": {
    "ExecuteTime": {
     "end_time": "2020-11-26T07:43:08.596316Z",
     "start_time": "2020-11-26T07:43:08.533217Z"
    },
    "scrolled": false
   },
   "outputs": [],
   "source": [
    "Weekday_trainset"
   ]
  },
  {
   "cell_type": "code",
   "execution_count": null,
   "metadata": {
    "ExecuteTime": {
     "end_time": "2020-11-26T07:43:08.612912Z",
     "start_time": "2020-11-26T07:43:08.600095Z"
    }
   },
   "outputs": [],
   "source": [
    "# set(Hour_bike_usage_weekday_location['대여소번호'].unique)"
   ]
  },
  {
   "cell_type": "markdown",
   "metadata": {},
   "source": [
    "#### 주말"
   ]
  },
  {
   "cell_type": "code",
   "execution_count": 139,
   "metadata": {
    "ExecuteTime": {
     "end_time": "2020-11-26T09:24:49.384700Z",
     "start_time": "2020-11-26T09:24:49.300458Z"
    }
   },
   "outputs": [
    {
     "name": "stdout",
     "output_type": "stream",
     "text": [
      "<class 'pandas.core.frame.DataFrame'>\n",
      "Int64Index: 84948 entries, 120 to 288890\n",
      "Data columns (total 7 columns):\n",
      " #   Column  Non-Null Count  Dtype  \n",
      "---  ------  --------------  -----  \n",
      " 0   대여소명    84948 non-null  object \n",
      " 1   대여소번호   84948 non-null  object \n",
      " 2   요일      84948 non-null  object \n",
      " 3   대여시간    84948 non-null  object \n",
      " 4   이용건수    84948 non-null  float64\n",
      " 5   이동거리    84948 non-null  float64\n",
      " 6   사용시간    84948 non-null  float64\n",
      "dtypes: float64(3), object(4)\n",
      "memory usage: 5.2+ MB\n"
     ]
    }
   ],
   "source": [
    "Hour_bike_usage_weekend.info()"
   ]
  },
  {
   "cell_type": "code",
   "execution_count": 141,
   "metadata": {
    "ExecuteTime": {
     "end_time": "2020-11-26T09:25:06.104636Z",
     "start_time": "2020-11-26T09:25:06.096268Z"
    }
   },
   "outputs": [],
   "source": [
    "# Hour_bike_usage_weekend['대여소번호'] = Hour_bike_usage_weekend['대여소번호'].astype('str')"
   ]
  },
  {
   "cell_type": "code",
   "execution_count": 142,
   "metadata": {
    "ExecuteTime": {
     "end_time": "2020-11-26T09:25:06.676547Z",
     "start_time": "2020-11-26T09:25:06.638843Z"
    }
   },
   "outputs": [
    {
     "data": {
      "text/plain": [
       "53"
      ]
     },
     "execution_count": 142,
     "metadata": {},
     "output_type": "execute_result"
    }
   ],
   "source": [
    "# 6월 이후 새로 생긴 노드들\n",
    "len((set(Bike_location['대여소번호'].unique().tolist()))- set(Hour_bike_usage_weekend['대여소번호'].unique().tolist()))"
   ]
  },
  {
   "cell_type": "code",
   "execution_count": null,
   "metadata": {
    "ExecuteTime": {
     "end_time": "2020-11-26T07:43:08.847299Z",
     "start_time": "2020-11-26T07:43:08.803250Z"
    }
   },
   "outputs": [],
   "source": [
    "set(Bike_location['대여소번호'].unique().tolist())- set(list(Hour_bike_usage_weekend['대여소번호'].unique().tolist()))"
   ]
  },
  {
   "cell_type": "code",
   "execution_count": 150,
   "metadata": {
    "ExecuteTime": {
     "end_time": "2020-11-26T09:29:11.231926Z",
     "start_time": "2020-11-26T09:29:11.175542Z"
    }
   },
   "outputs": [
    {
     "data": {
      "text/plain": [
       "41"
      ]
     },
     "execution_count": 150,
     "metadata": {},
     "output_type": "execute_result"
    }
   ],
   "source": [
    "# 평일 주말 다 합해서 새로 생긴 노드들\n",
    "len(set(Bike_location['대여소번호'].unique().tolist()) - (set(Hour_bike_usage_weekend['대여소번호'].unique()) | set(Hour_bike_usage_weekday['대여소번호'].unique())))"
   ]
  },
  {
   "cell_type": "code",
   "execution_count": 148,
   "metadata": {
    "ExecuteTime": {
     "end_time": "2020-11-26T09:29:01.178106Z",
     "start_time": "2020-11-26T09:29:01.126698Z"
    }
   },
   "outputs": [
    {
     "data": {
      "text/plain": [
       "2076"
      ]
     },
     "execution_count": 148,
     "metadata": {},
     "output_type": "execute_result"
    }
   ],
   "source": [
    "len(set(Hour_bike_usage_weekend['대여소번호'].unique()) | set(Hour_bike_usage_weekday['대여소번호'].unique()))"
   ]
  },
  {
   "cell_type": "code",
   "execution_count": 143,
   "metadata": {
    "ExecuteTime": {
     "end_time": "2020-11-26T09:25:38.969500Z",
     "start_time": "2020-11-26T09:25:38.947674Z"
    }
   },
   "outputs": [
    {
     "data": {
      "text/html": [
       "<div>\n",
       "<style scoped>\n",
       "    .dataframe tbody tr th:only-of-type {\n",
       "        vertical-align: middle;\n",
       "    }\n",
       "\n",
       "    .dataframe tbody tr th {\n",
       "        vertical-align: top;\n",
       "    }\n",
       "\n",
       "    .dataframe thead th {\n",
       "        text-align: right;\n",
       "    }\n",
       "</style>\n",
       "<table border=\"1\" class=\"dataframe\">\n",
       "  <thead>\n",
       "    <tr style=\"text-align: right;\">\n",
       "      <th></th>\n",
       "      <th>대여소이름</th>\n",
       "      <th>위도</th>\n",
       "      <th>경도</th>\n",
       "      <th>주소</th>\n",
       "      <th>자치구</th>\n",
       "      <th>대여소명</th>\n",
       "      <th>대여소번호</th>\n",
       "    </tr>\n",
       "  </thead>\n",
       "  <tbody>\n",
       "    <tr>\n",
       "      <th>69</th>\n",
       "      <td>1070.(시립)고덕평생학습관</td>\n",
       "      <td>37.556</td>\n",
       "      <td>127.158</td>\n",
       "      <td>서울특별시 강동구 고덕동 296</td>\n",
       "      <td>강동구</td>\n",
       "      <td>(시립)고덕평생학습관</td>\n",
       "      <td>1070</td>\n",
       "    </tr>\n",
       "  </tbody>\n",
       "</table>\n",
       "</div>"
      ],
      "text/plain": [
       "               대여소이름     위도      경도                 주소  자치구         대여소명 대여소번호\n",
       "69  1070.(시립)고덕평생학습관 37.556 127.158  서울특별시 강동구 고덕동 296  강동구  (시립)고덕평생학습관  1070"
      ]
     },
     "execution_count": 143,
     "metadata": {},
     "output_type": "execute_result"
    }
   ],
   "source": [
    "Bike_location[Bike_location['대여소번호'] == '1070']"
   ]
  },
  {
   "cell_type": "code",
   "execution_count": null,
   "metadata": {
    "ExecuteTime": {
     "end_time": "2020-11-26T07:43:08.899576Z",
     "start_time": "2020-11-26T07:43:08.872716Z"
    }
   },
   "outputs": [],
   "source": [
    "len(set(Hour_bike_usage_weekday['대여소번호'].unique().tolist()))"
   ]
  },
  {
   "cell_type": "code",
   "execution_count": null,
   "metadata": {
    "ExecuteTime": {
     "end_time": "2020-11-26T07:43:08.926404Z",
     "start_time": "2020-11-26T07:43:08.901580Z"
    }
   },
   "outputs": [],
   "source": [
    "len(set(Hour_bike_usage_weekend['대여소번호'].unique().tolist()))"
   ]
  },
  {
   "cell_type": "code",
   "execution_count": null,
   "metadata": {
    "ExecuteTime": {
     "end_time": "2020-11-26T07:43:08.942462Z",
     "start_time": "2020-11-26T07:43:08.929130Z"
    }
   },
   "outputs": [],
   "source": [
    "Bike_location.info()"
   ]
  },
  {
   "cell_type": "code",
   "execution_count": null,
   "metadata": {
    "ExecuteTime": {
     "end_time": "2020-11-26T07:43:08.999382Z",
     "start_time": "2020-11-26T07:43:08.946464Z"
    }
   },
   "outputs": [],
   "source": [
    "Hour_bike_usage_weekend.info()"
   ]
  },
  {
   "cell_type": "code",
   "execution_count": null,
   "metadata": {
    "ExecuteTime": {
     "end_time": "2020-11-26T07:43:09.040630Z",
     "start_time": "2020-11-26T07:43:09.002826Z"
    }
   },
   "outputs": [],
   "source": [
    "### 새로 추가된 대여소로 추정\n",
    "Hour_bike_usage_weekend[Hour_bike_usage_weekend['대여소번호'] == '2550']"
   ]
  },
  {
   "cell_type": "code",
   "execution_count": null,
   "metadata": {
    "ExecuteTime": {
     "end_time": "2020-11-26T07:43:09.066155Z",
     "start_time": "2020-11-26T07:43:09.044846Z"
    }
   },
   "outputs": [],
   "source": [
    "Hour_bike_usage_weekend = Hour_bike_usage_weekend.drop('대여소명', axis = 1)"
   ]
  },
  {
   "cell_type": "code",
   "execution_count": null,
   "metadata": {
    "ExecuteTime": {
     "end_time": "2020-11-26T07:43:09.156534Z",
     "start_time": "2020-11-26T07:43:09.069673Z"
    }
   },
   "outputs": [],
   "source": [
    "Hour_bike_usage_weekend_location = pd.merge(Bike_location, Hour_bike_usage_weekend, how = 'left',on = '대여소번호')"
   ]
  },
  {
   "cell_type": "code",
   "execution_count": null,
   "metadata": {
    "ExecuteTime": {
     "end_time": "2020-11-26T07:43:09.215964Z",
     "start_time": "2020-11-26T07:43:09.160440Z"
    },
    "scrolled": true
   },
   "outputs": [],
   "source": [
    "Hour_bike_usage_weekend_location.isna().sum()"
   ]
  },
  {
   "cell_type": "code",
   "execution_count": null,
   "metadata": {
    "ExecuteTime": {
     "end_time": "2020-11-26T07:43:09.249246Z",
     "start_time": "2020-11-26T07:43:09.217971Z"
    }
   },
   "outputs": [],
   "source": [
    "Hour_bike_usage_weekend_location[Hour_bike_usage_weekend_location['이용건수'].isna()].index"
   ]
  },
  {
   "cell_type": "code",
   "execution_count": null,
   "metadata": {
    "ExecuteTime": {
     "end_time": "2020-11-26T07:43:09.316231Z",
     "start_time": "2020-11-26T07:43:09.252734Z"
    }
   },
   "outputs": [],
   "source": [
    "Hour_bike_usage_weekend_location_nan = Hour_bike_usage_weekend_location[Hour_bike_usage_weekend_location['이용건수'].isna()]\n",
    "Hour_bike_usage_weekend_location.drop(Hour_bike_usage_weekend_location[Hour_bike_usage_weekend_location['이용건수'].isna()].index)"
   ]
  },
  {
   "cell_type": "code",
   "execution_count": null,
   "metadata": {
    "ExecuteTime": {
     "end_time": "2020-11-26T07:43:09.366713Z",
     "start_time": "2020-11-26T07:43:09.318592Z"
    }
   },
   "outputs": [],
   "source": [
    "Hour_bike_usage_weekend_location_nan"
   ]
  },
  {
   "cell_type": "code",
   "execution_count": null,
   "metadata": {
    "ExecuteTime": {
     "end_time": "2020-11-26T07:43:09.391174Z",
     "start_time": "2020-11-26T07:43:09.368279Z"
    }
   },
   "outputs": [],
   "source": [
    "Hour_bike_usage_weekend_location = Hour_bike_usage_weekend_location.drop(Hour_bike_usage_weekend_location[Hour_bike_usage_weekend_location['이용건수'].isna()].index)"
   ]
  },
  {
   "cell_type": "code",
   "execution_count": null,
   "metadata": {
    "ExecuteTime": {
     "end_time": "2020-11-26T07:43:09.430090Z",
     "start_time": "2020-11-26T07:43:09.393180Z"
    },
    "scrolled": false
   },
   "outputs": [],
   "source": [
    "Hour_bike_usage_weekend_location.head(10)"
   ]
  },
  {
   "cell_type": "code",
   "execution_count": null,
   "metadata": {
    "ExecuteTime": {
     "end_time": "2020-11-26T07:43:09.494964Z",
     "start_time": "2020-11-26T07:43:09.433528Z"
    }
   },
   "outputs": [],
   "source": [
    "Hour_bike_usage_weekend_location[Hour_bike_usage_weekend_location['요일'] == '토']"
   ]
  },
  {
   "cell_type": "code",
   "execution_count": null,
   "metadata": {
    "ExecuteTime": {
     "end_time": "2020-11-26T07:43:09.559868Z",
     "start_time": "2020-11-26T07:43:09.498056Z"
    }
   },
   "outputs": [],
   "source": [
    "Hour_bike_usage_weekend_location[Hour_bike_usage_weekend_location['요일'] == '일']"
   ]
  },
  {
   "cell_type": "code",
   "execution_count": null,
   "metadata": {
    "ExecuteTime": {
     "end_time": "2020-11-26T07:43:09.658183Z",
     "start_time": "2020-11-26T07:43:09.562868Z"
    }
   },
   "outputs": [],
   "source": [
    "Weekend_group = Hour_bike_usage_weekend_location.groupby(['대여소이름','대여시간'],as_index = False).mean()"
   ]
  },
  {
   "cell_type": "code",
   "execution_count": null,
   "metadata": {
    "ExecuteTime": {
     "end_time": "2020-11-26T07:43:09.694453Z",
     "start_time": "2020-11-26T07:43:09.659724Z"
    }
   },
   "outputs": [],
   "source": [
    "Weekend_group"
   ]
  },
  {
   "cell_type": "markdown",
   "metadata": {},
   "source": [
    "#### 주말 train set"
   ]
  },
  {
   "cell_type": "code",
   "execution_count": null,
   "metadata": {
    "ExecuteTime": {
     "end_time": "2020-11-26T07:43:09.770350Z",
     "start_time": "2020-11-26T07:43:09.696402Z"
    }
   },
   "outputs": [],
   "source": [
    "Weekend_trainset = pd.pivot_table(Weekend_group, index = ['대여소이름'], columns= '대여시간', values = '이용건수')#.reset_index()"
   ]
  },
  {
   "cell_type": "code",
   "execution_count": null,
   "metadata": {
    "ExecuteTime": {
     "end_time": "2020-11-26T07:43:09.819610Z",
     "start_time": "2020-11-26T07:43:09.773238Z"
    },
    "scrolled": false
   },
   "outputs": [],
   "source": [
    "Weekend_trainset"
   ]
  },
  {
   "cell_type": "markdown",
   "metadata": {},
   "source": [
    "## 유동인구"
   ]
  },
  {
   "cell_type": "code",
   "execution_count": null,
   "metadata": {
    "ExecuteTime": {
     "end_time": "2020-11-26T07:43:10.161911Z",
     "start_time": "2020-11-26T07:43:09.821618Z"
    }
   },
   "outputs": [],
   "source": [
    "New[4]"
   ]
  },
  {
   "cell_type": "code",
   "execution_count": null,
   "metadata": {},
   "outputs": [],
   "source": []
  },
  {
   "cell_type": "code",
   "execution_count": null,
   "metadata": {},
   "outputs": [],
   "source": []
  },
  {
   "cell_type": "markdown",
   "metadata": {},
   "source": [
    "## 날씨"
   ]
  },
  {
   "cell_type": "code",
   "execution_count": null,
   "metadata": {
    "ExecuteTime": {
     "end_time": "2020-11-26T07:43:10.168627Z",
     "start_time": "2020-11-26T07:42:18.262Z"
    }
   },
   "outputs": [],
   "source": [
    "Weather = New[13]"
   ]
  },
  {
   "cell_type": "code",
   "execution_count": null,
   "metadata": {
    "ExecuteTime": {
     "end_time": "2020-11-26T07:43:10.171178Z",
     "start_time": "2020-11-26T07:42:18.266Z"
    }
   },
   "outputs": [],
   "source": [
    "Weather"
   ]
  },
  {
   "cell_type": "code",
   "execution_count": null,
   "metadata": {},
   "outputs": [],
   "source": []
  }
 ],
 "metadata": {
  "hide_input": false,
  "kernelspec": {
   "display_name": "Python 3",
   "language": "python",
   "name": "python3"
  },
  "language_info": {
   "codemirror_mode": {
    "name": "ipython",
    "version": 3
   },
   "file_extension": ".py",
   "mimetype": "text/x-python",
   "name": "python",
   "nbconvert_exporter": "python",
   "pygments_lexer": "ipython3",
   "version": "3.8.3"
  },
  "toc": {
   "base_numbering": 1,
   "nav_menu": {},
   "number_sections": true,
   "sideBar": true,
   "skip_h1_title": true,
   "title_cell": "Table of Contents",
   "title_sidebar": "Contents",
   "toc_cell": false,
   "toc_position": {
    "height": "747px",
    "left": "105px",
    "top": "209px",
    "width": "205.594px"
   },
   "toc_section_display": true,
   "toc_window_display": true
  },
  "varInspector": {
   "cols": {
    "lenName": 16,
    "lenType": 16,
    "lenVar": 40
   },
   "kernels_config": {
    "python": {
     "delete_cmd_postfix": "",
     "delete_cmd_prefix": "del ",
     "library": "var_list.py",
     "varRefreshCmd": "print(var_dic_list())"
    },
    "r": {
     "delete_cmd_postfix": ") ",
     "delete_cmd_prefix": "rm(",
     "library": "var_list.r",
     "varRefreshCmd": "cat(var_dic_list()) "
    }
   },
   "types_to_exclude": [
    "module",
    "function",
    "builtin_function_or_method",
    "instance",
    "_Feature"
   ],
   "window_display": false
  }
 },
 "nbformat": 4,
 "nbformat_minor": 4
}
