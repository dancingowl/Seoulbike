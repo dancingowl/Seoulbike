{
 "cells": [
  {
   "cell_type": "code",
   "execution_count": 1,
   "metadata": {
    "ExecuteTime": {
     "end_time": "2020-11-24T05:28:08.896678Z",
     "start_time": "2020-11-24T05:28:08.528225Z"
    }
   },
   "outputs": [],
   "source": [
    "import pandas as pd\n",
    "import numpy as np\n",
    "import glob, os, chardet, pprint\n",
    "from tqdm import notebook\n",
    "import datetime"
   ]
  },
  {
   "cell_type": "code",
   "execution_count": 2,
   "metadata": {
    "ExecuteTime": {
     "end_time": "2020-11-24T05:28:09.008719Z",
     "start_time": "2020-11-24T05:28:08.980670Z"
    }
   },
   "outputs": [
    {
     "data": {
      "text/plain": [
       "'C:\\\\Users\\\\justi\\\\OneDrive\\\\Git\\\\Team 6\\\\Ddareung'"
      ]
     },
     "execution_count": 2,
     "metadata": {},
     "output_type": "execute_result"
    }
   ],
   "source": [
    "pwd"
   ]
  },
  {
   "cell_type": "code",
   "execution_count": 3,
   "metadata": {
    "ExecuteTime": {
     "end_time": "2020-11-24T05:28:09.104697Z",
     "start_time": "2020-11-24T05:28:09.090699Z"
    }
   },
   "outputs": [],
   "source": [
    "def readcsv_(Path_folder, header = 0):\n",
    "\n",
    "    file_list = notebook.tqdm([file for file in os.listdir(Path_folder) if file.endswith(('.csv','.xlsx'))])\n",
    "    df_list = []\n",
    "    encodings = ['utf-8', 'cp949', 'euc-kr', 'cp1252', 'cp850']\n",
    "\n",
    "    for idx, file in enumerate(file_list): #, total = len(file_list), leave = True)\n",
    "        print(f'({idx}) {file}')\n",
    "        if file.endswith(\".csv\"):\n",
    "            for cp in encodings:\n",
    "                try:\n",
    "                    locals()[f'df{idx+1}'] = pd.read_csv(Path_folder+file, encoding = cp, header = header)\n",
    "                    df_list.append(locals()[f'df{idx+1}'])\n",
    "                    break\n",
    "                except: # 에러 종류\n",
    "                    pass\n",
    "        elif file.endswith(\".xlsx\"):\n",
    "                locals()[f'df{idx+1}'] = pd.read_excel(Path_folder+file, header = header)\n",
    "                df_list.append(locals()[f'df{idx+1}'])\n",
    "\n",
    "        else:\n",
    "            print(f'     {\"*\"*8}이 파일은 읽을 수 없습니다{\"*\"*8}')\n",
    "\n",
    "    print(f'\\n폴더 내 csv / xlsx 파일 개수: {len(file_list)}개')\n",
    "    print(f'총 데이터프레임 개수: {len(df_list)}개')\n",
    "\n",
    "    return df_list"
   ]
  },
  {
   "cell_type": "code",
   "execution_count": null,
   "metadata": {
    "ExecuteTime": {
     "end_time": "2020-11-24T05:26:48.237064Z",
     "start_time": "2020-11-24T05:26:48.229097Z"
    }
   },
   "outputs": [],
   "source": [
    "# dt_index = pandas.date_range(start='20160901', end='20161031')\n",
    "# # pandas.date_range(start='20160901', end='20161031',freq='W-MON')\n",
    "# # 을 하면 해당 기간 매주 월요일들만 추출합니다.\n",
    "\n",
    "# # type(dt_index) => DatetimeIndex\n",
    "# # DatetimeIndex => list(str)\n",
    "# dt_list = dt_index.strftime(\"%Y%m%d\").tolist()\n",
    "\n",
    "# for i in dt_list:\n",
    "#     print(i)"
   ]
  },
  {
   "cell_type": "code",
   "execution_count": null,
   "metadata": {
    "ExecuteTime": {
     "start_time": "2020-11-24T05:26:48.391Z"
    }
   },
   "outputs": [],
   "source": [
    "New = readcsv_(os.getcwd() + '/New data/')"
   ]
  },
  {
   "cell_type": "markdown",
   "metadata": {},
   "source": [
    "## 거치소 정보"
   ]
  },
  {
   "cell_type": "code",
   "execution_count": null,
   "metadata": {
    "ExecuteTime": {
     "start_time": "2020-11-24T05:26:48.953Z"
    }
   },
   "outputs": [],
   "source": [
    "Bike_lock = New[1]"
   ]
  },
  {
   "cell_type": "code",
   "execution_count": null,
   "metadata": {
    "ExecuteTime": {
     "start_time": "2020-11-24T05:26:49.141Z"
    },
    "scrolled": true
   },
   "outputs": [],
   "source": [
    "Bike_lock"
   ]
  },
  {
   "cell_type": "code",
   "execution_count": null,
   "metadata": {
    "ExecuteTime": {
     "start_time": "2020-11-24T05:26:49.333Z"
    }
   },
   "outputs": [],
   "source": [
    "Bike_lock['대여소명'] = Bike_lock['대여소이름'].apply(lambda x: x.split('.')[1:][0])\n",
    "Bike_lock['대여소번호'] = Bike_lock['대여소이름'].apply(lambda x: x.split('.')[0])"
   ]
  },
  {
   "cell_type": "code",
   "execution_count": null,
   "metadata": {
    "ExecuteTime": {
     "start_time": "2020-11-24T05:26:49.890Z"
    }
   },
   "outputs": [],
   "source": [
    "Bike_lock"
   ]
  },
  {
   "cell_type": "code",
   "execution_count": null,
   "metadata": {
    "ExecuteTime": {
     "start_time": "2020-11-24T05:26:50.084Z"
    }
   },
   "outputs": [],
   "source": [
    "Bike_location = pd.read_csv(os.getcwd() + '\\\\New data\\\\bike_location_final.csv', encoding = 'utf-8') # 최신 거치대 위치 정보"
   ]
  },
  {
   "cell_type": "code",
   "execution_count": null,
   "metadata": {
    "ExecuteTime": {
     "start_time": "2020-11-24T05:26:50.258Z"
    }
   },
   "outputs": [],
   "source": [
    "Bike_location['대여소명'] = Bike_location['대여소이름'].apply(lambda x: x.split('.')[1:][0])\n",
    "Bike_location['대여소번호'] = Bike_location['대여소이름'].apply(lambda x: x.split('.')[0])"
   ]
  },
  {
   "cell_type": "code",
   "execution_count": null,
   "metadata": {
    "ExecuteTime": {
     "start_time": "2020-11-24T05:26:50.409Z"
    }
   },
   "outputs": [],
   "source": [
    "Bike_lock[Bike_lock['대여소번호'] == '1004']"
   ]
  },
  {
   "cell_type": "code",
   "execution_count": null,
   "metadata": {
    "ExecuteTime": {
     "start_time": "2020-11-24T05:26:50.580Z"
    }
   },
   "outputs": [],
   "source": [
    "len((set(Bike_location['대여소번호'].unique().tolist()))- set(list(Bike_lock['대여소번호'].unique().tolist())))"
   ]
  },
  {
   "cell_type": "code",
   "execution_count": null,
   "metadata": {
    "ExecuteTime": {
     "start_time": "2020-11-24T05:26:50.798Z"
    }
   },
   "outputs": [],
   "source": [
    "len( set(list(Bike_lock['대여소번호'].unique().tolist())) - (set(Bike_location['대여소번호'].unique().tolist())))"
   ]
  },
  {
   "cell_type": "code",
   "execution_count": null,
   "metadata": {
    "ExecuteTime": {
     "start_time": "2020-11-24T05:26:51.360Z"
    }
   },
   "outputs": [],
   "source": [
    "set(list(Bike_lock['대여소번호'].unique().tolist()))"
   ]
  },
  {
   "cell_type": "code",
   "execution_count": null,
   "metadata": {
    "ExecuteTime": {
     "start_time": "2020-11-24T05:26:51.586Z"
    }
   },
   "outputs": [],
   "source": [
    "set(Bike_location['대여소번호'].unique().tolist())"
   ]
  },
  {
   "cell_type": "code",
   "execution_count": null,
   "metadata": {
    "ExecuteTime": {
     "start_time": "2020-11-24T05:26:51.907Z"
    }
   },
   "outputs": [],
   "source": [
    "# ## 자전거 대여이력(**사용량 정보 없음)\n",
    "\n",
    "# History = New[6]\n",
    "\n",
    "# History\n",
    "\n",
    "# History['연'] = History['대여일시'].apply(lambda x: str(x)[0:4])\n",
    "# History['월'] = History['대여일시'].apply(lambda x: str(x)[5:7])\n",
    "# History['일'] = History['대여일시'].apply(lambda x: str(x)[8:11])\n",
    "\n",
    "# History['대여날짜'] = History['대여날짜'].apply(lambda x: datetime.datetime.strptime(x, '%Y-%m-%d'))\n",
    "# History['대여시각'] = History['대여시각'].apply(lambda x: datetime.datetime.strptime(x, '%H:%M'))\n",
    "# # History['대여일시'] = History['대여일시'].apply(lambda x: datetime.datetime.strptime(x, '%Y-%m-%d %H:%M'))\n",
    "\n",
    "# History['요일'] = History['대여날짜'].apply(lambda x: x.weekday())\n",
    "\n",
    "# History['시간대'] = History['대여시각'].apply(lambda x: x.hour)\n",
    "\n",
    "# # a = '20:20:00'\n",
    "# # b= datetime.datetime.strptime(a, \"%H:%M:%S\")\n",
    "# # b.hour()\n",
    "\n",
    "# History\n",
    "\n",
    "# History.info()\n",
    "\n",
    "# History_group = History.groupby(['대여 대여소명','요일','시간대']).count()"
   ]
  },
  {
   "cell_type": "markdown",
   "metadata": {},
   "source": [
    "## 2020 시간별 자전거 이용정보"
   ]
  },
  {
   "cell_type": "code",
   "execution_count": null,
   "metadata": {
    "ExecuteTime": {
     "start_time": "2020-11-24T05:26:52.886Z"
    }
   },
   "outputs": [],
   "source": [
    "pd.read_csv('./공공자전거 이용정보(시간대별)_19.12_20.056.csv', encoding = 'cp949')"
   ]
  },
  {
   "cell_type": "code",
   "execution_count": null,
   "metadata": {
    "ExecuteTime": {
     "start_time": "2020-11-24T05:26:53.037Z"
    }
   },
   "outputs": [],
   "source": [
    "hour_bike_usage_2020 = pd.concat([pd.read_csv('공공자전거 이용정보(시간대별)_19.12_20.056.csv', encoding = 'cp949'),\n",
    "                                 pd.read_csv('공공자전거 이용정보(시간대별)_20.06.csv', encoding = 'cp949')])"
   ]
  },
  {
   "cell_type": "code",
   "execution_count": null,
   "metadata": {
    "ExecuteTime": {
     "start_time": "2020-11-24T05:26:53.226Z"
    }
   },
   "outputs": [],
   "source": [
    "hour_bike_usage_2020.drop('성별', axis = 1, inplace = True)"
   ]
  },
  {
   "cell_type": "code",
   "execution_count": null,
   "metadata": {
    "ExecuteTime": {
     "start_time": "2020-11-24T05:26:53.432Z"
    }
   },
   "outputs": [],
   "source": [
    "hour_bike_usage_2020"
   ]
  },
  {
   "cell_type": "code",
   "execution_count": null,
   "metadata": {
    "ExecuteTime": {
     "start_time": "2020-11-24T05:26:53.773Z"
    }
   },
   "outputs": [],
   "source": [
    "hour_bike_usage_2020['대여일자datetime'] = hour_bike_usage_2020['대여일자'].apply(lambda x: datetime.datetime.strptime(x, '%Y-%m-%d'))\n",
    "hour_bike_usage_2020['요일'] = hour_bike_usage_2020['대여일자datetime'].apply(lambda x: x.weekday())\n",
    "hour_bike_usage_2020['연도'] = hour_bike_usage_2020['대여일자'].apply(lambda x: str(x)[:4])"
   ]
  },
  {
   "cell_type": "code",
   "execution_count": null,
   "metadata": {
    "ExecuteTime": {
     "start_time": "2020-11-24T05:26:53.989Z"
    }
   },
   "outputs": [],
   "source": [
    "hour_bike_usage_2020['월'] = hour_bike_usage_2020['대여일자datetime'].apply(lambda x: x.month)"
   ]
  },
  {
   "cell_type": "code",
   "execution_count": null,
   "metadata": {
    "ExecuteTime": {
     "start_time": "2020-11-24T05:26:54.231Z"
    }
   },
   "outputs": [],
   "source": [
    "hour_bike_usage_2020"
   ]
  },
  {
   "cell_type": "code",
   "execution_count": null,
   "metadata": {
    "ExecuteTime": {
     "start_time": "2020-11-24T05:26:54.586Z"
    }
   },
   "outputs": [],
   "source": [
    "hour_bike_usage_2020.info()"
   ]
  },
  {
   "cell_type": "code",
   "execution_count": null,
   "metadata": {
    "ExecuteTime": {
     "start_time": "2020-11-24T05:26:54.788Z"
    }
   },
   "outputs": [],
   "source": [
    "(hour_bike_usage_2020['월'] == 12).index"
   ]
  },
  {
   "cell_type": "code",
   "execution_count": null,
   "metadata": {
    "ExecuteTime": {
     "start_time": "2020-11-24T05:26:54.963Z"
    }
   },
   "outputs": [],
   "source": [
    "hour_bike_usage_2020.drop(hour_bike_usage_2020[hour_bike_usage_2020['월'] == 12].index, inplace=True)"
   ]
  },
  {
   "cell_type": "code",
   "execution_count": null,
   "metadata": {
    "ExecuteTime": {
     "start_time": "2020-11-24T05:26:55.130Z"
    }
   },
   "outputs": [],
   "source": [
    "hour_bike_usage_2020.drop(hour_bike_usage_2020[hour_bike_usage_2020['월'] == 1].index, inplace = True)"
   ]
  },
  {
   "cell_type": "code",
   "execution_count": null,
   "metadata": {
    "ExecuteTime": {
     "start_time": "2020-11-24T05:26:55.689Z"
    }
   },
   "outputs": [],
   "source": [
    "hour_bike_usage_2020"
   ]
  },
  {
   "cell_type": "code",
   "execution_count": null,
   "metadata": {
    "ExecuteTime": {
     "start_time": "2020-11-24T05:26:56.608Z"
    }
   },
   "outputs": [],
   "source": [
    "# hour_bike_usage_2020.to_csv('Hour_bike_usage_2020.csv', index = False ,encoding = 'cp949')"
   ]
  },
  {
   "cell_type": "code",
   "execution_count": null,
   "metadata": {},
   "outputs": [],
   "source": []
  },
  {
   "cell_type": "markdown",
   "metadata": {},
   "source": [
    "## 시간별 자전거 이용정보"
   ]
  },
  {
   "cell_type": "code",
   "execution_count": null,
   "metadata": {
    "ExecuteTime": {
     "end_time": "2020-11-23T11:21:09.264837Z",
     "start_time": "2020-11-23T11:21:09.253922Z"
    }
   },
   "outputs": [],
   "source": [
    "Hour_bike_usage = New[8]"
   ]
  },
  {
   "cell_type": "code",
   "execution_count": null,
   "metadata": {
    "ExecuteTime": {
     "end_time": "2020-11-23T11:21:09.313750Z",
     "start_time": "2020-11-23T11:21:09.268884Z"
    }
   },
   "outputs": [],
   "source": [
    "Hour_bike_usage.head(4)"
   ]
  },
  {
   "cell_type": "code",
   "execution_count": null,
   "metadata": {
    "ExecuteTime": {
     "end_time": "2020-11-23T11:21:09.335171Z",
     "start_time": "2020-11-23T11:21:09.317204Z"
    }
   },
   "outputs": [],
   "source": [
    "# Hour_bike_usage[Hour_bike_usage['대여소번호'] == 99998]"
   ]
  },
  {
   "cell_type": "code",
   "execution_count": null,
   "metadata": {
    "ExecuteTime": {
     "end_time": "2020-11-23T11:21:09.348015Z",
     "start_time": "2020-11-23T11:21:09.339216Z"
    }
   },
   "outputs": [],
   "source": [
    "# Hour_bike_usage['대여소명'] = Hour_bike_usage['대여소명'].apply(lambda x: x.split('.')[-1])\n",
    "# Hour_bike_usage['대여일자datetime'] = Hour_bike_usage['대여일자'].apply(lambda x: datetime.datetime.strptime(x, '%Y-%m-%d'))\n",
    "# Hour_bike_usage['요일'] = Hour_bike_usage['대여일자datetime'].apply(lambda x: x.weekday())\n",
    "# Hour_bike_usage['연도'] = Hour_bike_usage['대여일자'].apply(lambda x: str(x)[:4])"
   ]
  },
  {
   "cell_type": "code",
   "execution_count": null,
   "metadata": {
    "ExecuteTime": {
     "end_time": "2020-11-23T11:21:26.361170Z",
     "start_time": "2020-11-23T11:21:09.351454Z"
    }
   },
   "outputs": [],
   "source": [
    "Hour_bike_usage_group = Hour_bike_usage.groupby(['대여소명','요일','대여시간','연도'],as_index = False).mean()"
   ]
  },
  {
   "cell_type": "code",
   "execution_count": null,
   "metadata": {
    "ExecuteTime": {
     "end_time": "2020-11-23T11:21:26.592449Z",
     "start_time": "2020-11-23T11:21:26.473616Z"
    }
   },
   "outputs": [],
   "source": [
    "Hour_bike_usage_group = Hour_bike_usage_group.astype({'대여소번호' : 'int32'})"
   ]
  },
  {
   "cell_type": "code",
   "execution_count": null,
   "metadata": {
    "ExecuteTime": {
     "end_time": "2020-11-23T11:29:13.486950Z",
     "start_time": "2020-11-23T11:29:13.446748Z"
    }
   },
   "outputs": [],
   "source": [
    "Hour_bike_usage_group"
   ]
  },
  {
   "cell_type": "code",
   "execution_count": null,
   "metadata": {
    "ExecuteTime": {
     "end_time": "2020-11-23T11:31:00.979636Z",
     "start_time": "2020-11-23T11:31:00.965584Z"
    }
   },
   "outputs": [],
   "source": [
    "## 나중에 try/except, .format, int(h), range(24)로 간결하게 만들기.\n",
    "def to_strhour(h):\n",
    "        h = int(h)\n",
    "        for i in range(24):\n",
    "            if h == i:\n",
    "                return f'{i}시'"
   ]
  },
  {
   "cell_type": "code",
   "execution_count": null,
   "metadata": {
    "ExecuteTime": {
     "end_time": "2020-11-23T11:31:04.072862Z",
     "start_time": "2020-11-23T11:31:04.056609Z"
    }
   },
   "outputs": [],
   "source": [
    "def to_strday(d):\n",
    "    try:\n",
    "        d = int(d)\n",
    "        for idx, D in enumerate(['월','화','수','목','금','토','일']):\n",
    "            if d == idx:\n",
    "                return D\n",
    "    except:\n",
    "        pass"
   ]
  },
  {
   "cell_type": "markdown",
   "metadata": {},
   "source": [
    "### 수정할 컬럼: 연도"
   ]
  },
  {
   "cell_type": "code",
   "execution_count": null,
   "metadata": {
    "ExecuteTime": {
     "end_time": "2020-11-23T11:58:16.063345Z",
     "start_time": "2020-11-23T11:58:15.387552Z"
    }
   },
   "outputs": [],
   "source": [
    "Hour_bike_usage_group['연도'] = Hour_bike_usage_group['연도'].astype('int').astype('str')"
   ]
  },
  {
   "cell_type": "markdown",
   "metadata": {},
   "source": [
    "### 요일, 대여시간 value 수정"
   ]
  },
  {
   "cell_type": "code",
   "execution_count": null,
   "metadata": {
    "ExecuteTime": {
     "end_time": "2020-11-23T11:31:08.361880Z",
     "start_time": "2020-11-23T11:31:06.988714Z"
    }
   },
   "outputs": [],
   "source": [
    "Hour_bike_usage_group['대여시간'] = Hour_bike_usage_group['대여시간'].map(lambda x: to_strhour(x))"
   ]
  },
  {
   "cell_type": "code",
   "execution_count": null,
   "metadata": {
    "ExecuteTime": {
     "end_time": "2020-11-23T11:31:12.083181Z",
     "start_time": "2020-11-23T11:31:11.387360Z"
    }
   },
   "outputs": [],
   "source": [
    "Hour_bike_usage_group['요일'] = Hour_bike_usage_group['요일'].map(lambda x: to_strday(x))"
   ]
  },
  {
   "cell_type": "code",
   "execution_count": null,
   "metadata": {
    "ExecuteTime": {
     "end_time": "2020-11-23T11:58:35.306645Z",
     "start_time": "2020-11-23T11:58:35.272088Z"
    }
   },
   "outputs": [],
   "source": [
    "Hour_bike_usage_group.head(5)"
   ]
  },
  {
   "cell_type": "code",
   "execution_count": null,
   "metadata": {
    "ExecuteTime": {
     "end_time": "2020-11-23T11:58:44.538290Z",
     "start_time": "2020-11-23T11:58:44.292384Z"
    }
   },
   "outputs": [],
   "source": [
    "Hour_bike_usage_group.info()"
   ]
  },
  {
   "cell_type": "markdown",
   "metadata": {},
   "source": [
    "### 평일 이용량\n",
    "- 거치소별 1년간 평일 평균 24시간 동안 각시간별 사용량"
   ]
  },
  {
   "cell_type": "code",
   "execution_count": null,
   "metadata": {
    "ExecuteTime": {
     "end_time": "2020-11-23T11:58:49.404951Z",
     "start_time": "2020-11-23T11:58:48.971918Z"
    }
   },
   "outputs": [],
   "source": [
    "Hour_bike_usage_weekday = Hour_bike_usage_group[(Hour_bike_usage_group['요일'] == '월') |\n",
    "                     (Hour_bike_usage_group['요일'] == '화') |\n",
    "                     (Hour_bike_usage_group['요일'] == '수') | \n",
    "                     (Hour_bike_usage_group['요일'] == '목') | \n",
    "                     (Hour_bike_usage_group['요일'] == '금')]"
   ]
  },
  {
   "cell_type": "code",
   "execution_count": null,
   "metadata": {
    "ExecuteTime": {
     "end_time": "2020-11-23T11:58:50.199438Z",
     "start_time": "2020-11-23T11:58:49.408051Z"
    }
   },
   "outputs": [],
   "source": [
    "Hour_bike_usage_weekday = Hour_bike_usage_weekday.astype({'대여소번호' : 'int32'})\n",
    "\n",
    "Hour_bike_usage_weekday = Hour_bike_usage_weekday.astype({'대여소번호' : 'str'})"
   ]
  },
  {
   "cell_type": "code",
   "execution_count": null,
   "metadata": {
    "ExecuteTime": {
     "end_time": "2020-11-23T11:58:56.616258Z",
     "start_time": "2020-11-23T11:58:56.594595Z"
    },
    "scrolled": true
   },
   "outputs": [],
   "source": [
    "Hour_bike_usage_weekday"
   ]
  },
  {
   "cell_type": "code",
   "execution_count": null,
   "metadata": {
    "ExecuteTime": {
     "end_time": "2020-11-23T11:58:59.820231Z",
     "start_time": "2020-11-23T11:58:59.796217Z"
    }
   },
   "outputs": [],
   "source": [
    "len(set(Hour_bike_usage_weekday['대여소명'].values))"
   ]
  },
  {
   "cell_type": "code",
   "execution_count": null,
   "metadata": {
    "ExecuteTime": {
     "end_time": "2020-11-23T11:58:59.850949Z",
     "start_time": "2020-11-23T11:58:59.822633Z"
    }
   },
   "outputs": [],
   "source": [
    "# set(Hour_bike_usage_weekday.sort_values('대여소명')['대여소명'])"
   ]
  },
  {
   "cell_type": "markdown",
   "metadata": {},
   "source": [
    "### 주말 이용량\n",
    "\n",
    "- 주말평균 24시간동안 각 시간별사용량"
   ]
  },
  {
   "cell_type": "code",
   "execution_count": null,
   "metadata": {
    "ExecuteTime": {
     "end_time": "2020-11-23T11:59:06.290357Z",
     "start_time": "2020-11-23T11:59:06.088685Z"
    }
   },
   "outputs": [],
   "source": [
    "Hour_bike_usage_weekend = Hour_bike_usage_group[(Hour_bike_usage_group['요일'] == '토') |\n",
    "                     (Hour_bike_usage_group['요일'] == '일')]"
   ]
  },
  {
   "cell_type": "code",
   "execution_count": null,
   "metadata": {
    "ExecuteTime": {
     "end_time": "2020-11-23T11:59:09.330033Z",
     "start_time": "2020-11-23T11:59:09.309847Z"
    }
   },
   "outputs": [],
   "source": [
    "Hour_bike_usage_weekend['대여소명']"
   ]
  },
  {
   "cell_type": "code",
   "execution_count": null,
   "metadata": {
    "ExecuteTime": {
     "end_time": "2020-11-23T11:59:13.008880Z",
     "start_time": "2020-11-23T11:59:12.978085Z"
    }
   },
   "outputs": [],
   "source": [
    "Hour_bike_usage_weekend"
   ]
  },
  {
   "cell_type": "markdown",
   "metadata": {},
   "source": [
    "### 최신 거치대 위치 정보와 병합"
   ]
  },
  {
   "cell_type": "code",
   "execution_count": null,
   "metadata": {
    "ExecuteTime": {
     "end_time": "2020-11-23T12:00:32.385596Z",
     "start_time": "2020-11-23T12:00:32.341437Z"
    }
   },
   "outputs": [],
   "source": [
    "Bike_location = pd.read_csv(os.getcwd() + '\\\\New data\\\\bike_location_final.csv', encoding = 'utf-8') # 최신 거치대 위치 정보"
   ]
  },
  {
   "cell_type": "code",
   "execution_count": null,
   "metadata": {
    "ExecuteTime": {
     "end_time": "2020-11-23T12:00:34.177827Z",
     "start_time": "2020-11-23T12:00:34.152488Z"
    }
   },
   "outputs": [],
   "source": [
    "Bike_location['대여소명'] = Bike_location['대여소이름'].apply(lambda x: x.split('.')[1:][0])\n",
    "Bike_location['대여소번호'] = Bike_location['대여소이름'].apply(lambda x: x.split('.')[0])"
   ]
  },
  {
   "cell_type": "code",
   "execution_count": null,
   "metadata": {
    "ExecuteTime": {
     "end_time": "2020-11-23T12:00:38.705173Z",
     "start_time": "2020-11-23T12:00:38.666563Z"
    }
   },
   "outputs": [],
   "source": [
    "Bike_location"
   ]
  },
  {
   "cell_type": "code",
   "execution_count": null,
   "metadata": {
    "ExecuteTime": {
     "end_time": "2020-11-23T12:00:42.323961Z",
     "start_time": "2020-11-23T12:00:42.286941Z"
    }
   },
   "outputs": [],
   "source": [
    "Bike_location.info()"
   ]
  },
  {
   "cell_type": "code",
   "execution_count": null,
   "metadata": {
    "ExecuteTime": {
     "end_time": "2020-11-23T12:00:46.121080Z",
     "start_time": "2020-11-23T12:00:46.108115Z"
    }
   },
   "outputs": [],
   "source": [
    "# Bike_location.astype({'대여소번호': 'str'}).dtypes"
   ]
  },
  {
   "cell_type": "code",
   "execution_count": null,
   "metadata": {
    "ExecuteTime": {
     "end_time": "2020-11-23T12:00:48.989987Z",
     "start_time": "2020-11-23T12:00:48.969475Z"
    }
   },
   "outputs": [],
   "source": [
    "# Hour_bike_usage_weekday['대여소번호'] = Hour_bike_usage_weekday['대여소번호'].astype('str')"
   ]
  },
  {
   "cell_type": "code",
   "execution_count": null,
   "metadata": {
    "ExecuteTime": {
     "end_time": "2020-11-23T12:01:50.294432Z",
     "start_time": "2020-11-23T12:01:50.269238Z"
    }
   },
   "outputs": [],
   "source": [
    "Hour_bike_usage_weekday"
   ]
  },
  {
   "cell_type": "code",
   "execution_count": null,
   "metadata": {
    "ExecuteTime": {
     "end_time": "2020-11-23T12:00:52.263937Z",
     "start_time": "2020-11-23T12:00:37.547Z"
    }
   },
   "outputs": [],
   "source": [
    "len((set(Bike_location['대여소번호'].unique().tolist()))- set(list(Hour_bike_usage_weekday['대여소번호'].unique().tolist())))"
   ]
  },
  {
   "cell_type": "code",
   "execution_count": null,
   "metadata": {
    "ExecuteTime": {
     "end_time": "2020-11-23T12:00:52.317678Z",
     "start_time": "2020-11-23T12:00:45.373Z"
    }
   },
   "outputs": [],
   "source": [
    "# len(set(str(Bike_location['대여소명'].values))-set(str(Hour_bike_usage_weekday['대여소명'].values)))"
   ]
  },
  {
   "cell_type": "markdown",
   "metadata": {},
   "source": [
    "#### 평일"
   ]
  },
  {
   "cell_type": "code",
   "execution_count": null,
   "metadata": {
    "ExecuteTime": {
     "end_time": "2020-11-23T12:02:19.069969Z",
     "start_time": "2020-11-23T12:02:19.042955Z"
    }
   },
   "outputs": [],
   "source": [
    "Bike_location.info()"
   ]
  },
  {
   "cell_type": "code",
   "execution_count": null,
   "metadata": {
    "ExecuteTime": {
     "end_time": "2020-11-23T12:02:22.075445Z",
     "start_time": "2020-11-23T12:02:21.933126Z"
    }
   },
   "outputs": [],
   "source": [
    "Hour_bike_usage_weekday.info()"
   ]
  },
  {
   "cell_type": "code",
   "execution_count": null,
   "metadata": {
    "ExecuteTime": {
     "end_time": "2020-11-23T12:02:23.308763Z",
     "start_time": "2020-11-23T12:02:23.264085Z"
    }
   },
   "outputs": [],
   "source": [
    "### 새로 추가된 대여소로 추정\n",
    "Hour_bike_usage_weekday[Hour_bike_usage_weekday['대여소번호'] == '2550']"
   ]
  },
  {
   "cell_type": "code",
   "execution_count": null,
   "metadata": {
    "ExecuteTime": {
     "end_time": "2020-11-23T12:02:28.817499Z",
     "start_time": "2020-11-23T12:02:28.740952Z"
    }
   },
   "outputs": [],
   "source": [
    "Hour_bike_usage_weekday = Hour_bike_usage_weekday.drop('대여소명', axis = 1)"
   ]
  },
  {
   "cell_type": "code",
   "execution_count": null,
   "metadata": {
    "ExecuteTime": {
     "end_time": "2020-11-23T12:02:42.108911Z",
     "start_time": "2020-11-23T12:02:41.702874Z"
    }
   },
   "outputs": [],
   "source": [
    "Hour_bike_usage_weekday_location = pd.merge(Bike_location, Hour_bike_usage_weekday, how = 'left',on = '대여소번호')"
   ]
  },
  {
   "cell_type": "code",
   "execution_count": null,
   "metadata": {
    "ExecuteTime": {
     "end_time": "2020-11-23T12:02:42.354003Z",
     "start_time": "2020-11-23T12:02:42.112147Z"
    },
    "scrolled": true
   },
   "outputs": [],
   "source": [
    "Hour_bike_usage_weekday_location.isna().sum()"
   ]
  },
  {
   "cell_type": "code",
   "execution_count": null,
   "metadata": {
    "ExecuteTime": {
     "end_time": "2020-11-23T12:02:42.754388Z",
     "start_time": "2020-11-23T12:02:42.586119Z"
    }
   },
   "outputs": [],
   "source": [
    "Hour_bike_usage_weekday_location[Hour_bike_usage_weekday_location['이용건수'].isna()].index"
   ]
  },
  {
   "cell_type": "code",
   "execution_count": null,
   "metadata": {
    "ExecuteTime": {
     "end_time": "2020-11-23T12:02:51.143647Z",
     "start_time": "2020-11-23T12:02:50.983999Z"
    }
   },
   "outputs": [],
   "source": [
    "Hour_bike_usage_weekday_location_nan = Hour_bike_usage_weekday_location[Hour_bike_usage_weekday_location['이용건수'].isna()]\n",
    "Hour_bike_usage_weekday_location.drop(Hour_bike_usage_weekday_location[Hour_bike_usage_weekday_location['이용건수'].isna()].index)"
   ]
  },
  {
   "cell_type": "code",
   "execution_count": null,
   "metadata": {
    "ExecuteTime": {
     "end_time": "2020-11-23T12:02:54.326051Z",
     "start_time": "2020-11-23T12:02:54.129295Z"
    }
   },
   "outputs": [],
   "source": [
    "Hour_bike_usage_weekday_location = Hour_bike_usage_weekday_location.drop(Hour_bike_usage_weekday_location['이용건수'].isna().index)"
   ]
  },
  {
   "cell_type": "code",
   "execution_count": null,
   "metadata": {
    "ExecuteTime": {
     "end_time": "2020-11-23T12:02:58.739410Z",
     "start_time": "2020-11-23T12:02:58.725402Z"
    }
   },
   "outputs": [],
   "source": [
    "Hour_bike_usage_weekday_location.drop(Hour_bike_usage_weekday_location['이용건수'].isna().index)"
   ]
  },
  {
   "cell_type": "code",
   "execution_count": null,
   "metadata": {
    "ExecuteTime": {
     "end_time": "2020-11-23T12:03:50.500005Z",
     "start_time": "2020-11-23T12:03:50.462104Z"
    }
   },
   "outputs": [],
   "source": [
    "Hour_bike_usage_weekday_location_nan.head()"
   ]
  },
  {
   "cell_type": "code",
   "execution_count": null,
   "metadata": {
    "ExecuteTime": {
     "end_time": "2020-11-23T12:03:59.693533Z",
     "start_time": "2020-11-23T12:03:59.665308Z"
    }
   },
   "outputs": [],
   "source": [
    "Hour_bike_usage_weekday_location.head()"
   ]
  },
  {
   "cell_type": "code",
   "execution_count": null,
   "metadata": {
    "ExecuteTime": {
     "end_time": "2020-11-23T12:03:01.858103Z",
     "start_time": "2020-11-23T12:03:01.840119Z"
    }
   },
   "outputs": [],
   "source": [
    "# set(Hour_bike_usage_weekday_location['대여소번호'].unique)"
   ]
  },
  {
   "cell_type": "markdown",
   "metadata": {},
   "source": [
    "#### 주말"
   ]
  },
  {
   "cell_type": "code",
   "execution_count": null,
   "metadata": {},
   "outputs": [],
   "source": []
  },
  {
   "cell_type": "code",
   "execution_count": null,
   "metadata": {},
   "outputs": [],
   "source": []
  },
  {
   "cell_type": "code",
   "execution_count": null,
   "metadata": {},
   "outputs": [],
   "source": []
  },
  {
   "cell_type": "markdown",
   "metadata": {},
   "source": [
    "#### 시간을 컬럼으로 붙이는 방법: 피벗테이블 고려 해봐"
   ]
  },
  {
   "cell_type": "code",
   "execution_count": null,
   "metadata": {},
   "outputs": [],
   "source": []
  },
  {
   "cell_type": "markdown",
   "metadata": {},
   "source": [
    "## 유동인구"
   ]
  },
  {
   "cell_type": "code",
   "execution_count": null,
   "metadata": {
    "ExecuteTime": {
     "end_time": "2020-11-23T11:21:28.906914Z",
     "start_time": "2020-11-23T11:18:00.141Z"
    }
   },
   "outputs": [],
   "source": [
    "New[4]"
   ]
  },
  {
   "cell_type": "code",
   "execution_count": null,
   "metadata": {},
   "outputs": [],
   "source": []
  },
  {
   "cell_type": "code",
   "execution_count": null,
   "metadata": {},
   "outputs": [],
   "source": []
  },
  {
   "cell_type": "markdown",
   "metadata": {},
   "source": [
    "## 날씨"
   ]
  },
  {
   "cell_type": "code",
   "execution_count": null,
   "metadata": {
    "ExecuteTime": {
     "end_time": "2020-11-23T11:21:28.910792Z",
     "start_time": "2020-11-23T11:18:00.158Z"
    }
   },
   "outputs": [],
   "source": [
    "Weather = New[13]"
   ]
  },
  {
   "cell_type": "code",
   "execution_count": null,
   "metadata": {
    "ExecuteTime": {
     "end_time": "2020-11-23T11:21:28.914644Z",
     "start_time": "2020-11-23T11:18:00.165Z"
    }
   },
   "outputs": [],
   "source": [
    "Weather"
   ]
  },
  {
   "cell_type": "markdown",
   "metadata": {},
   "source": [
    "## 지하철 글자 깨짐 수정"
   ]
  },
  {
   "cell_type": "code",
   "execution_count": 4,
   "metadata": {
    "ExecuteTime": {
     "end_time": "2020-11-24T05:28:18.137834Z",
     "start_time": "2020-11-24T05:28:18.031591Z"
    }
   },
   "outputs": [],
   "source": [
    "import requests"
   ]
  },
  {
   "cell_type": "code",
   "execution_count": 5,
   "metadata": {
    "ExecuteTime": {
     "end_time": "2020-11-24T05:28:18.247864Z",
     "start_time": "2020-11-24T05:28:18.233867Z"
    }
   },
   "outputs": [],
   "source": [
    "def get_longlat(addr):\n",
    "    '''\n",
    "    addr에 주소를 넣으면 (경도X, 위도Y)를 return 한다.\n",
    "    '''\n",
    "    apiKey='95B9D6ED-C2DB-3B0A-A43F-20FD442638CF'\n",
    "    try:\n",
    "        r =requests.get(f'http://apis.vworld.kr/new2coord.do?q={addr}\\\n",
    "        &apiKey={apiKey}&domain=\\\n",
    "        http://map.vworld.kr/&output=json')\n",
    "        location = r.json()\n",
    "#         print('도로명:',location)\n",
    "        longitude = location['EPSG_4326_X']\n",
    "        latitude = location['EPSG_4326_Y']\n",
    "    except:\n",
    "        r =requests.get(f'http://apis.vworld.kr/jibun2coord.do?q={addr}\\\n",
    "        &apiKey={apiKey}&domain=\\\n",
    "        http://map.vworld.kr/&output=json')\n",
    "        location = r.json()\n",
    "#         print('지번:',location)\n",
    "        longitude = location['EPSG_4326_X']\n",
    "        latitude = location['EPSG_4326_Y']\n",
    "    \n",
    "    return longitude, latitude"
   ]
  },
  {
   "cell_type": "code",
   "execution_count": 6,
   "metadata": {
    "ExecuteTime": {
     "end_time": "2020-11-24T05:28:18.631859Z",
     "start_time": "2020-11-24T05:28:18.614834Z"
    }
   },
   "outputs": [],
   "source": [
    "def get_addr(X, Y):\n",
    "    '''\n",
    "    X,Y에 경도,위도를 넣으면 주소를 return 한다.\n",
    "    '''\n",
    "    apiKey='95B9D6ED-C2DB-3B0A-A43F-20FD442638CF'\n",
    "    r =requests.get(f'http://apis.vworld.kr/coord2jibun.do?x={X}&y={Y}\\\n",
    "    &apiKey={apiKey}&domain=http://map.vworld.kr/&output=json')\n",
    "    \n",
    "    location = r.json()\n",
    "#     print(location)\n",
    "    return location['ADDR']"
   ]
  },
  {
   "cell_type": "code",
   "execution_count": null,
   "metadata": {
    "ExecuteTime": {
     "end_time": "2020-11-24T01:38:01.623152Z",
     "start_time": "2020-11-24T01:38:01.604527Z"
    }
   },
   "outputs": [],
   "source": [
    "Subway = pd.read_csv(os.getcwd() +'\\\\data\\\\지하철정보\\\\all_subway0.csv')\n",
    "Subway.head(5)"
   ]
  },
  {
   "cell_type": "code",
   "execution_count": null,
   "metadata": {
    "ExecuteTime": {
     "end_time": "2020-11-24T01:38:02.300859Z",
     "start_time": "2020-11-24T01:38:02.060465Z"
    }
   },
   "outputs": [],
   "source": [
    "get_longlat('서울특별시 도봉구 창동 57-11\t')"
   ]
  },
  {
   "cell_type": "code",
   "execution_count": null,
   "metadata": {
    "ExecuteTime": {
     "end_time": "2020-11-24T01:48:06.651895Z",
     "start_time": "2020-11-24T01:38:03.494620Z"
    },
    "scrolled": false
   },
   "outputs": [],
   "source": [
    "#### 위경도 추가\n",
    "\n",
    "Subway['위도'] = 0\n",
    "Subway['경도'] = 0\n",
    "\n",
    "for i in notebook.tqdm(Subway.index):\n",
    "    try:\n",
    "        print(i, Subway.loc[i, '지번주소'])\n",
    "        Subway.loc[i, '위도'] = get_longlat(Subway.loc[i, '지번주소'])[1]\n",
    "        Subway.loc[i, '경도'] = get_longlat(Subway.loc[i, '지번주소'])[0]\n",
    "    except:\n",
    "        print(f'**Error: index {i}**')\n",
    "        pass\n",
    "print('completed')\n",
    "\n",
    "Subway\n",
    "\n",
    "#### 예외처리 확인 \n",
    "# - 너무 많다, 다른 API 찾아봐야할 듯\n",
    "\n",
    "Subway[(Subway['위도'] == 0) | (Subway['위도'] == 0)]\n",
    "\n",
    "# 25\t서울특별시 동대문구 왕산로 328-1 -> 없는 주소\n",
    "\n",
    "i = 25\n",
    "Subway.loc[i, '위도'] = 37.580130642105125\n",
    "Subway.loc[i, '경도'] = 127.04759340574972\n",
    "\n",
    "i = 41\n",
    "Subway.loc[i, '위도'] = 37.562411663447904\n",
    "Subway.loc[i, '경도'] = 127.03712030971857\n",
    "\n",
    "i = 42\n",
    "Subway.loc[i, '위도'] = 37.55544639957104\n",
    "Subway.loc[i, '경도'] = 127.0437329999274\n",
    "\n",
    "i = 43\n",
    "Subway.loc[i, '위도'] = 37.5473474071512\n",
    "Subway.loc[i, '경도'] =127.04740165574817\n",
    "\n",
    "i = 71\n",
    "Subway.loc[i, '위도'] = 37.550266319809495\n",
    "Subway.loc[i, '경도'] = 126.9144964594476\n",
    "\n",
    "i = 85\n",
    "Subway.loc[i, '위도'] = 37.57693406362475\n",
    "Subway.loc[i, '경도'] = 126.9858572422561\n",
    "\n",
    "i = 91\n",
    "Subway.loc[i, '위도'] = 37.54817418014116\n",
    "Subway.loc[i, '경도'] = 127.01581822506144\n",
    "\n",
    "i = 118\n",
    "Subway.loc[i, '위도'] = 37.60338687918267\n",
    "Subway.loc[i, '경도'] = 127.0249217827342\n",
    "\n",
    "i = 140\n",
    "Subway.loc[i, '위도'] = 37.5604187626603\n",
    "Subway.loc[i, '경도'] = 126.82498051156912\n",
    "\n",
    "i = 156\n",
    "Subway.loc[i, '위도'] = 37.55344637350772\n",
    "Subway.loc[i, '경도'] = 126.95671586807437\n",
    "\n",
    "i = 165\n",
    "Subway.loc[i, '위도'] = 37.557505604840884\n",
    "Subway.loc[i, '경도'] = 127.02943261156915\n",
    "\n",
    "i = 166\n",
    "Subway.loc[i, '위도'] = 37.56197792563526\n",
    "Subway.loc[i, '경도'] = 127.03735634410667\n",
    "\n",
    "i = 167\n",
    "Subway.loc[i, '위도'] = 37.5663088763615\n",
    "Subway.loc[i, '경도'] = 127.04287885937546\n",
    "\n",
    "i = 175\n",
    "Subway.loc[i, '위도'] = 37.53856174196327\n",
    "Subway.loc[i, '경도'] = 127.14023678458358\n",
    "\n",
    "i = 177\n",
    "Subway.loc[i, '위도'] = 37.55146998592976\n",
    "Subway.loc[i, '경도'] = 127.14396331156897\n",
    "\n",
    "i = 180\n",
    "Subway.loc[i, '위도'] = 37.527954242817216\n",
    "Subway.loc[i, '경도'] = 127.13625702691172\t\n",
    "\n",
    "i = 201\n",
    "Subway.loc[i, '위도'] = 37.565850747856274\n",
    "Subway.loc[i, '경도'] = 127.08424534225585\n",
    "\n",
    "i = 224\n",
    "Subway.loc[i, '위도'] = 37.486664282535486\n",
    "Subway.loc[i, '경도'] = 126.83870352995962\n",
    "\n",
    "i = 228\n",
    "Subway.loc[i, '위도'] = 37.530530053433644, \n",
    "Subway.loc[i, '경도'] = 127.1205293120709\n",
    "\n",
    "i = 301\n",
    "Subway.loc[i, '위도'] = 37.56940981156322\n",
    "Subway.loc[i, '경도'] = 126.89908466491741\n",
    "\n",
    "i = 302\n",
    "Subway.loc[i, '위도'] = 37.5651833157907\n",
    "Subway.loc[i, '경도'] = 126.90143913805923\n",
    "\n",
    "i = 303\n",
    "Subway.loc[i, '위도'] = 37.5559698144456\n",
    "Subway.loc[i, '경도'] = 126.90992845574824\n",
    "\n",
    "i = 304\n",
    "Subway.loc[i, '위도'] = 37.549229270699335, \n",
    "Subway.loc[i, '경도'] = 126.91346596924063"
   ]
  },
  {
   "cell_type": "code",
   "execution_count": null,
   "metadata": {
    "ExecuteTime": {
     "end_time": "2020-11-24T01:59:37.163013Z",
     "start_time": "2020-11-24T01:59:37.139287Z"
    }
   },
   "outputs": [],
   "source": [
    "Subway[(Subway['위도'] == 0) | (Subway['위도'] == 0)]"
   ]
  },
  {
   "cell_type": "markdown",
   "metadata": {},
   "source": [
    "### 경의 중앙성 추가 "
   ]
  },
  {
   "cell_type": "code",
   "execution_count": null,
   "metadata": {
    "ExecuteTime": {
     "end_time": "2020-11-24T02:22:16.880079Z",
     "start_time": "2020-11-24T02:22:16.873082Z"
    }
   },
   "outputs": [],
   "source": [
    "pwd"
   ]
  },
  {
   "cell_type": "code",
   "execution_count": null,
   "metadata": {
    "ExecuteTime": {
     "end_time": "2020-11-24T02:25:12.511355Z",
     "start_time": "2020-11-24T02:25:12.493288Z"
    }
   },
   "outputs": [],
   "source": [
    "Subway2 = pd.read_csv(os.getcwd() +'\\\\New data\\\\경의중앙선주소.csv')\n",
    "Subway2.head(5)"
   ]
  },
  {
   "cell_type": "code",
   "execution_count": null,
   "metadata": {
    "ExecuteTime": {
     "end_time": "2020-11-24T02:27:45.288062Z",
     "start_time": "2020-11-24T02:27:45.268108Z"
    }
   },
   "outputs": [],
   "source": [
    "Subway2.info()"
   ]
  },
  {
   "cell_type": "code",
   "execution_count": null,
   "metadata": {
    "ExecuteTime": {
     "end_time": "2020-11-24T02:28:09.643510Z",
     "start_time": "2020-11-24T02:28:09.218348Z"
    }
   },
   "outputs": [],
   "source": [
    "get_longlat('서울특별시 용산구 한강대로 23길 55')"
   ]
  },
  {
   "cell_type": "code",
   "execution_count": null,
   "metadata": {
    "ExecuteTime": {
     "end_time": "2020-11-24T02:42:15.898265Z",
     "start_time": "2020-11-24T02:41:12.199722Z"
    }
   },
   "outputs": [],
   "source": [
    "for i in notebook.tqdm(Subway2.index):\n",
    "    try:\n",
    "        print(i, Subway2.loc[i, '도로명주소'])\n",
    "        Subway2.loc[i, '위도'] = get_longlat(Subway2.loc[i, '도로명주소'])[1]\n",
    "        Subway2.loc[i, '경도'] = get_longlat(Subway2.loc[i, '도로명주소'])[0]\n",
    "    except:\n",
    "        try:\n",
    "            print(i, Subway2.loc[i, '지번주소'])\n",
    "            Subway2.loc[i, '위도'] = get_longlat(Subway2.loc[i, '지번주소'])[1]\n",
    "            Subway2.loc[i, '경도'] = get_longlat(Subway2.loc[i, '지번주소'])[0]\n",
    "        except:\n",
    "            print(f'**Error: index {i}**')\n",
    "            pass\n",
    "print('completed')"
   ]
  },
  {
   "cell_type": "code",
   "execution_count": null,
   "metadata": {
    "ExecuteTime": {
     "end_time": "2020-11-24T02:43:20.458510Z",
     "start_time": "2020-11-24T02:43:20.442919Z"
    }
   },
   "outputs": [],
   "source": [
    "Subway2.head(4)"
   ]
  },
  {
   "cell_type": "code",
   "execution_count": null,
   "metadata": {
    "ExecuteTime": {
     "end_time": "2020-11-24T02:43:17.773412Z",
     "start_time": "2020-11-24T02:43:17.762244Z"
    }
   },
   "outputs": [],
   "source": [
    "Subway2.drop('도로명주소', axis =1, inplace= True)"
   ]
  },
  {
   "cell_type": "code",
   "execution_count": null,
   "metadata": {
    "ExecuteTime": {
     "end_time": "2020-11-24T02:42:36.486561Z",
     "start_time": "2020-11-24T02:42:36.471567Z"
    }
   },
   "outputs": [],
   "source": [
    "Subway.head(3)"
   ]
  },
  {
   "cell_type": "code",
   "execution_count": null,
   "metadata": {
    "ExecuteTime": {
     "end_time": "2020-11-24T02:44:38.557285Z",
     "start_time": "2020-11-24T02:44:38.546688Z"
    }
   },
   "outputs": [],
   "source": [
    "Subway = pd.concat([Subway, Subway2], axis = 0)"
   ]
  },
  {
   "cell_type": "code",
   "execution_count": null,
   "metadata": {
    "ExecuteTime": {
     "end_time": "2020-11-24T02:44:43.805868Z",
     "start_time": "2020-11-24T02:44:43.783733Z"
    }
   },
   "outputs": [],
   "source": [
    "Subway"
   ]
  },
  {
   "cell_type": "code",
   "execution_count": null,
   "metadata": {
    "ExecuteTime": {
     "end_time": "2020-11-24T02:47:08.935534Z",
     "start_time": "2020-11-24T02:47:08.924325Z"
    }
   },
   "outputs": [],
   "source": [
    "Subway = Subway[Subway['지번주소'].str.contains('서울') ]"
   ]
  },
  {
   "cell_type": "code",
   "execution_count": null,
   "metadata": {
    "ExecuteTime": {
     "end_time": "2020-11-24T03:00:31.397296Z",
     "start_time": "2020-11-24T03:00:31.378295Z"
    }
   },
   "outputs": [],
   "source": [
    "Subway.to_csv('Subway.csv', index = False, encoding = 'cp949')"
   ]
  },
  {
   "cell_type": "code",
   "execution_count": null,
   "metadata": {
    "ExecuteTime": {
     "end_time": "2020-11-24T03:00:28.653744Z",
     "start_time": "2020-11-24T03:00:28.638704Z"
    }
   },
   "outputs": [],
   "source": [
    "pwd"
   ]
  },
  {
   "cell_type": "markdown",
   "metadata": {},
   "source": [
    "### 우이신설, 신분당선 추가"
   ]
  },
  {
   "cell_type": "code",
   "execution_count": 54,
   "metadata": {
    "ExecuteTime": {
     "end_time": "2020-11-24T06:45:21.037399Z",
     "start_time": "2020-11-24T06:45:21.017145Z"
    }
   },
   "outputs": [],
   "source": [
    "Subway3 = pd.read_csv(os.getcwd() +'\\\\New data\\\\지하철추가.csv', encoding = 'cp949')"
   ]
  },
  {
   "cell_type": "code",
   "execution_count": 55,
   "metadata": {
    "ExecuteTime": {
     "end_time": "2020-11-24T06:45:21.497158Z",
     "start_time": "2020-11-24T06:45:21.473667Z"
    }
   },
   "outputs": [
    {
     "name": "stdout",
     "output_type": "stream",
     "text": [
      "<class 'pandas.core.frame.DataFrame'>\n",
      "RangeIndex: 369 entries, 0 to 368\n",
      "Data columns (total 5 columns):\n",
      " #   Column  Non-Null Count  Dtype  \n",
      "---  ------  --------------  -----  \n",
      " 0   노선명     369 non-null    object \n",
      " 1   역명      369 non-null    object \n",
      " 2   지번주소    369 non-null    object \n",
      " 3   위도      369 non-null    float64\n",
      " 4   경도      369 non-null    float64\n",
      "dtypes: float64(2), object(3)\n",
      "memory usage: 14.5+ KB\n"
     ]
    }
   ],
   "source": [
    "Subway3.info()"
   ]
  },
  {
   "cell_type": "code",
   "execution_count": 56,
   "metadata": {
    "ExecuteTime": {
     "end_time": "2020-11-24T06:45:21.797158Z",
     "start_time": "2020-11-24T06:45:21.775837Z"
    }
   },
   "outputs": [
    {
     "data": {
      "text/plain": [
       "노선명     0\n",
       "역명      0\n",
       "지번주소    0\n",
       "위도      0\n",
       "경도      0\n",
       "dtype: int64"
      ]
     },
     "execution_count": 56,
     "metadata": {},
     "output_type": "execute_result"
    }
   ],
   "source": [
    "Subway3.isna().sum()"
   ]
  },
  {
   "cell_type": "code",
   "execution_count": 57,
   "metadata": {
    "ExecuteTime": {
     "end_time": "2020-11-24T06:45:21.847066Z",
     "start_time": "2020-11-24T06:45:21.801129Z"
    }
   },
   "outputs": [
    {
     "data": {
      "text/html": [
       "<div>\n",
       "<style scoped>\n",
       "    .dataframe tbody tr th:only-of-type {\n",
       "        vertical-align: middle;\n",
       "    }\n",
       "\n",
       "    .dataframe tbody tr th {\n",
       "        vertical-align: top;\n",
       "    }\n",
       "\n",
       "    .dataframe thead th {\n",
       "        text-align: right;\n",
       "    }\n",
       "</style>\n",
       "<table border=\"1\" class=\"dataframe\">\n",
       "  <thead>\n",
       "    <tr style=\"text-align: right;\">\n",
       "      <th></th>\n",
       "      <th>노선명</th>\n",
       "      <th>역명</th>\n",
       "      <th>지번주소</th>\n",
       "      <th>위도</th>\n",
       "      <th>경도</th>\n",
       "    </tr>\n",
       "  </thead>\n",
       "  <tbody>\n",
       "    <tr>\n",
       "      <th>352</th>\n",
       "      <td>신분당선</td>\n",
       "      <td>강남</td>\n",
       "      <td>서울특별시 강남구 역삼동 858</td>\n",
       "      <td>0.000000</td>\n",
       "      <td>0.000000</td>\n",
       "    </tr>\n",
       "    <tr>\n",
       "      <th>353</th>\n",
       "      <td>신분당선</td>\n",
       "      <td>양재(서초구청)</td>\n",
       "      <td>서울특별시 서초구 서초동 1366-9</td>\n",
       "      <td>0.000000</td>\n",
       "      <td>0.000000</td>\n",
       "    </tr>\n",
       "    <tr>\n",
       "      <th>354</th>\n",
       "      <td>신분당선</td>\n",
       "      <td>양재시민의숲(매헌)</td>\n",
       "      <td>서울특별시 서초구 양재동 233-2</td>\n",
       "      <td>0.000000</td>\n",
       "      <td>0.000000</td>\n",
       "    </tr>\n",
       "    <tr>\n",
       "      <th>355</th>\n",
       "      <td>신분당선</td>\n",
       "      <td>청계산입구</td>\n",
       "      <td>서울특별시 서초구 신원동 270-25</td>\n",
       "      <td>0.000000</td>\n",
       "      <td>0.000000</td>\n",
       "    </tr>\n",
       "    <tr>\n",
       "      <th>356</th>\n",
       "      <td>우이신설선</td>\n",
       "      <td>북한산우이</td>\n",
       "      <td>없음</td>\n",
       "      <td>37.663578</td>\n",
       "      <td>127.012320</td>\n",
       "    </tr>\n",
       "    <tr>\n",
       "      <th>357</th>\n",
       "      <td>우이신설선</td>\n",
       "      <td>솔밭공원</td>\n",
       "      <td>없음</td>\n",
       "      <td>37.657816</td>\n",
       "      <td>127.013662</td>\n",
       "    </tr>\n",
       "    <tr>\n",
       "      <th>358</th>\n",
       "      <td>우이신설선</td>\n",
       "      <td>4.19민주묘지</td>\n",
       "      <td>없음</td>\n",
       "      <td>37.646942</td>\n",
       "      <td>127.009112</td>\n",
       "    </tr>\n",
       "    <tr>\n",
       "      <th>359</th>\n",
       "      <td>우이신설선</td>\n",
       "      <td>가오리</td>\n",
       "      <td>없음</td>\n",
       "      <td>37.641892</td>\n",
       "      <td>127.016643</td>\n",
       "    </tr>\n",
       "    <tr>\n",
       "      <th>360</th>\n",
       "      <td>우이신설선</td>\n",
       "      <td>화계</td>\n",
       "      <td>없음</td>\n",
       "      <td>37.634207</td>\n",
       "      <td>127.017474</td>\n",
       "    </tr>\n",
       "    <tr>\n",
       "      <th>361</th>\n",
       "      <td>우이신설선</td>\n",
       "      <td>삼양</td>\n",
       "      <td>없음</td>\n",
       "      <td>37.626971</td>\n",
       "      <td>127.018140</td>\n",
       "    </tr>\n",
       "    <tr>\n",
       "      <th>362</th>\n",
       "      <td>우이신설선</td>\n",
       "      <td>삼양사거리</td>\n",
       "      <td>없음</td>\n",
       "      <td>37.621065</td>\n",
       "      <td>127.020573</td>\n",
       "    </tr>\n",
       "    <tr>\n",
       "      <th>363</th>\n",
       "      <td>우이신설선</td>\n",
       "      <td>솔샘</td>\n",
       "      <td>없음</td>\n",
       "      <td>37.620154</td>\n",
       "      <td>127.014416</td>\n",
       "    </tr>\n",
       "    <tr>\n",
       "      <th>364</th>\n",
       "      <td>우이신설선</td>\n",
       "      <td>북한산보국문</td>\n",
       "      <td>없음</td>\n",
       "      <td>37.611672</td>\n",
       "      <td>127.008451</td>\n",
       "    </tr>\n",
       "    <tr>\n",
       "      <th>365</th>\n",
       "      <td>우이신설선</td>\n",
       "      <td>정릉</td>\n",
       "      <td>없음</td>\n",
       "      <td>37.602639</td>\n",
       "      <td>127.013443</td>\n",
       "    </tr>\n",
       "    <tr>\n",
       "      <th>366</th>\n",
       "      <td>우이신설선</td>\n",
       "      <td>성신여대입구</td>\n",
       "      <td>없음</td>\n",
       "      <td>37.592719</td>\n",
       "      <td>127.016518</td>\n",
       "    </tr>\n",
       "    <tr>\n",
       "      <th>367</th>\n",
       "      <td>우이신설선</td>\n",
       "      <td>보문</td>\n",
       "      <td>없음</td>\n",
       "      <td>37.585359</td>\n",
       "      <td>127.019409</td>\n",
       "    </tr>\n",
       "    <tr>\n",
       "      <th>368</th>\n",
       "      <td>우이신설선</td>\n",
       "      <td>신설동</td>\n",
       "      <td>없음</td>\n",
       "      <td>37.575325</td>\n",
       "      <td>127.024852</td>\n",
       "    </tr>\n",
       "  </tbody>\n",
       "</table>\n",
       "</div>"
      ],
      "text/plain": [
       "       노선명          역명                  지번주소         위도          경도\n",
       "352   신분당선          강남     서울특별시 강남구 역삼동 858   0.000000    0.000000\n",
       "353   신분당선    양재(서초구청)  서울특별시 서초구 서초동 1366-9   0.000000    0.000000\n",
       "354   신분당선  양재시민의숲(매헌)   서울특별시 서초구 양재동 233-2   0.000000    0.000000\n",
       "355   신분당선       청계산입구  서울특별시 서초구 신원동 270-25   0.000000    0.000000\n",
       "356  우이신설선       북한산우이                    없음  37.663578  127.012320\n",
       "357  우이신설선        솔밭공원                    없음  37.657816  127.013662\n",
       "358  우이신설선    4.19민주묘지                    없음  37.646942  127.009112\n",
       "359  우이신설선         가오리                    없음  37.641892  127.016643\n",
       "360  우이신설선          화계                    없음  37.634207  127.017474\n",
       "361  우이신설선          삼양                    없음  37.626971  127.018140\n",
       "362  우이신설선       삼양사거리                    없음  37.621065  127.020573\n",
       "363  우이신설선          솔샘                    없음  37.620154  127.014416\n",
       "364  우이신설선      북한산보국문                    없음  37.611672  127.008451\n",
       "365  우이신설선          정릉                    없음  37.602639  127.013443\n",
       "366  우이신설선      성신여대입구                    없음  37.592719  127.016518\n",
       "367  우이신설선          보문                    없음  37.585359  127.019409\n",
       "368  우이신설선         신설동                    없음  37.575325  127.024852"
      ]
     },
     "execution_count": 57,
     "metadata": {},
     "output_type": "execute_result"
    }
   ],
   "source": [
    "Subway3[(Subway3['지번주소'] == '없음') | (Subway3['위도'] == 0) | (Subway3['경도'] == 0)]"
   ]
  },
  {
   "cell_type": "code",
   "execution_count": 58,
   "metadata": {
    "ExecuteTime": {
     "end_time": "2020-11-24T06:45:21.973221Z",
     "start_time": "2020-11-24T06:45:21.959194Z"
    }
   },
   "outputs": [
    {
     "data": {
      "text/plain": [
       "노선명                     신분당선\n",
       "역명                  양재(서초구청)\n",
       "지번주소    서울특별시 서초구 서초동 1366-9\n",
       "위도                         0\n",
       "경도                         0\n",
       "Name: 353, dtype: object"
      ]
     },
     "execution_count": 58,
     "metadata": {},
     "output_type": "execute_result"
    }
   ],
   "source": [
    "Subway3.loc[353]"
   ]
  },
  {
   "cell_type": "code",
   "execution_count": 44,
   "metadata": {
    "ExecuteTime": {
     "end_time": "2020-11-24T06:40:15.245999Z",
     "start_time": "2020-11-24T06:40:15.195427Z"
    }
   },
   "outputs": [
    {
     "data": {
      "text/plain": [
       "'서울특별시 동대문구 신설동 102-30'"
      ]
     },
     "execution_count": 44,
     "metadata": {},
     "output_type": "execute_result"
    }
   ],
   "source": [
    "get_addr(127.024852,37.575325)"
   ]
  },
  {
   "cell_type": "code",
   "execution_count": 45,
   "metadata": {
    "ExecuteTime": {
     "end_time": "2020-11-24T06:40:19.087230Z",
     "start_time": "2020-11-24T06:40:17.241784Z"
    }
   },
   "outputs": [
    {
     "data": {
      "text/plain": [
       "('127.054605731741', '37.4485099390615')"
      ]
     },
     "execution_count": 45,
     "metadata": {},
     "output_type": "execute_result"
    }
   ],
   "source": [
    "get_longlat('서울특별시 서초구 신원동 270-25')"
   ]
  },
  {
   "cell_type": "code",
   "execution_count": 46,
   "metadata": {
    "ExecuteTime": {
     "end_time": "2020-11-24T06:40:35.300693Z",
     "start_time": "2020-11-24T06:40:24.914624Z"
    },
    "scrolled": true
   },
   "outputs": [
    {
     "data": {
      "application/vnd.jupyter.widget-view+json": {
       "model_id": "cda947722f7d4a8a858654f60280d1fa",
       "version_major": 2,
       "version_minor": 0
      },
      "text/plain": [
       "HBox(children=(FloatProgress(value=0.0, max=369.0), HTML(value='')))"
      ]
     },
     "metadata": {},
     "output_type": "display_data"
    },
    {
     "name": "stdout",
     "output_type": "stream",
     "text": [
      "352 서울특별시 강남구 역삼동 858\n",
      "353 서울특별시 서초구 서초동 1366-9\n",
      "354 서울특별시 서초구 양재동 233-2\n",
      "355 서울특별시 서초구 신원동 270-25\n",
      "\n",
      "completed\n"
     ]
    }
   ],
   "source": [
    "for i in notebook.tqdm(Subway3.index):\n",
    "    if  Subway3.loc[i, '위도'] == 0:\n",
    "        try:\n",
    "            print(i, Subway3.loc[i, '지번주소'])\n",
    "            Subway3.loc[i, '위도'] = get_longlat(Subway3.loc[i, '지번주소'])[1]\n",
    "            Subway3.loc[i, '경도'] = get_longlat(Subway3.loc[i, '지번주소'])[0]\n",
    "        except:\n",
    "            print(f'index {i} Error')\n",
    "            pass\n",
    "print('completed')"
   ]
  },
  {
   "cell_type": "code",
   "execution_count": 52,
   "metadata": {
    "ExecuteTime": {
     "end_time": "2020-11-24T06:43:18.732242Z",
     "start_time": "2020-11-24T06:43:18.318424Z"
    }
   },
   "outputs": [
    {
     "data": {
      "application/vnd.jupyter.widget-view+json": {
       "model_id": "1ec34687943c4ddeaa79d86530b8302d",
       "version_major": 2,
       "version_minor": 0
      },
      "text/plain": [
       "HBox(children=(FloatProgress(value=0.0, max=369.0), HTML(value='')))"
      ]
     },
     "metadata": {},
     "output_type": "display_data"
    },
    {
     "name": "stdout",
     "output_type": "stream",
     "text": [
      "356\n",
      "357\n",
      "358\n",
      "359\n",
      "360\n",
      "361\n",
      "362\n",
      "363\n",
      "364\n",
      "365\n",
      "366\n",
      "367\n",
      "368\n",
      "\n",
      "completed\n"
     ]
    }
   ],
   "source": [
    "for i in notebook.tqdm(Subway3.index):\n",
    "    if  Subway3.loc[i, '지번주소'] == '없음':\n",
    "        try:\n",
    "            print(i)\n",
    "            Subway3.loc[i, '지번주소'] = get_addr(Subway3.loc[i,'경도'], Subway3.loc[i, '위도'])\n",
    "        except Exception as ex:\n",
    "            print(f'index {i} Error: {ex}')\n",
    "            pass\n",
    "print('completed')"
   ]
  },
  {
   "cell_type": "code",
   "execution_count": 53,
   "metadata": {
    "ExecuteTime": {
     "end_time": "2020-11-24T06:43:47.846777Z",
     "start_time": "2020-11-24T06:43:47.831099Z"
    }
   },
   "outputs": [],
   "source": [
    "Subway3.to_csv('Subway.csv', index = False, encoding = 'cp949')"
   ]
  },
  {
   "cell_type": "code",
   "execution_count": null,
   "metadata": {
    "ExecuteTime": {
     "start_time": "2020-11-24T05:25:43.758Z"
    }
   },
   "outputs": [],
   "source": [
    "Subway3['위도'] = Subway3.apply(lambda x: get_longlat(x.지번주소)[1], axis = 0)\n",
    "Subway3['경도'] = Subway3.apply(lambda x: get_longlat(x['지번주소'])[0], axis = 0)"
   ]
  },
  {
   "cell_type": "code",
   "execution_count": null,
   "metadata": {
    "ExecuteTime": {
     "start_time": "2020-11-24T05:25:45.416Z"
    }
   },
   "outputs": [],
   "source": [
    "Subway3['지번주소'] = Subway3.apply(lambda x: get_addr(x['경도'], x['위도']), axis = 1)"
   ]
  },
  {
   "cell_type": "code",
   "execution_count": null,
   "metadata": {},
   "outputs": [],
   "source": []
  }
 ],
 "metadata": {
  "hide_input": false,
  "kernelspec": {
   "display_name": "Python 3",
   "language": "python",
   "name": "python3"
  },
  "language_info": {
   "codemirror_mode": {
    "name": "ipython",
    "version": 3
   },
   "file_extension": ".py",
   "mimetype": "text/x-python",
   "name": "python",
   "nbconvert_exporter": "python",
   "pygments_lexer": "ipython3",
   "version": "3.8.3"
  },
  "toc": {
   "base_numbering": 1,
   "nav_menu": {},
   "number_sections": true,
   "sideBar": true,
   "skip_h1_title": true,
   "title_cell": "Table of Contents",
   "title_sidebar": "Contents",
   "toc_cell": false,
   "toc_position": {
    "height": "747px",
    "left": "105px",
    "top": "209px",
    "width": "205.594px"
   },
   "toc_section_display": true,
   "toc_window_display": true
  },
  "varInspector": {
   "cols": {
    "lenName": 16,
    "lenType": 16,
    "lenVar": 40
   },
   "kernels_config": {
    "python": {
     "delete_cmd_postfix": "",
     "delete_cmd_prefix": "del ",
     "library": "var_list.py",
     "varRefreshCmd": "print(var_dic_list())"
    },
    "r": {
     "delete_cmd_postfix": ") ",
     "delete_cmd_prefix": "rm(",
     "library": "var_list.r",
     "varRefreshCmd": "cat(var_dic_list()) "
    }
   },
   "types_to_exclude": [
    "module",
    "function",
    "builtin_function_or_method",
    "instance",
    "_Feature"
   ],
   "window_display": false
  }
 },
 "nbformat": 4,
 "nbformat_minor": 4
}
