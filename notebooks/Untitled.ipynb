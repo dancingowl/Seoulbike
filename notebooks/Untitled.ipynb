{
 "cells": [
  {
   "cell_type": "markdown",
   "metadata": {
    "toc": true
   },
   "source": [
    "<h1>Table of Contents<span class=\"tocSkip\"></span></h1>\n",
    "<div class=\"toc\"><ul class=\"toc-item\"></ul></div>"
   ]
  },
  {
   "cell_type": "code",
   "execution_count": 4,
   "metadata": {
    "ExecuteTime": {
     "end_time": "2020-12-07T08:21:04.428605Z",
     "start_time": "2020-12-07T08:21:04.420103Z"
    }
   },
   "outputs": [],
   "source": [
    "import pandas as pd\n",
    "import numpy as np\n",
    "from tqdm import notebook\n",
    "\n",
    "import matplotlib.pyplot as plt\n",
    "from matplotlib import font_manager, rc\n",
    "import seaborn as sns\n",
    "import gc, os"
   ]
  },
  {
   "cell_type": "code",
   "execution_count": 18,
   "metadata": {
    "ExecuteTime": {
     "end_time": "2020-12-07T08:39:07.262966Z",
     "start_time": "2020-12-07T08:39:07.248966Z"
    }
   },
   "outputs": [],
   "source": [
    "def readcsv_(Path_folder, header = 0):\n",
    "\n",
    "    file_list = notebook.tqdm([file for file in os.listdir(Path_folder) if file.endswith(('.csv','.xlsx'))])\n",
    "    df_list = []\n",
    "    encodings = ['utf-8', 'cp949', 'euc-kr', 'cp1252', 'cp850']\n",
    "\n",
    "    for idx, file in enumerate(file_list): #, total = len(file_list), leave = True)\n",
    "        print(f'({idx}) {file}')\n",
    "        if file.endswith(\".csv\"):\n",
    "            for cp in encodings:\n",
    "                try:\n",
    "                    locals()[f'df{idx+1}'] = pd.read_csv(Path_folder+file, encoding = cp, header = header)\n",
    "                    df_list.append(locals()[f'df{idx+1}'])\n",
    "                    break\n",
    "                except: # 에러 종류\n",
    "                    print('wrong')\n",
    "                    pass\n",
    "        elif file.endswith(\".xlsx\"):\n",
    "                locals()[f'df{idx+1}'] = pd.read_excel(Path_folder+file, header = header)\n",
    "                df_list.append(locals()[f'df{idx+1}'])\n",
    "\n",
    "        else:\n",
    "            print(f'     {\"*\"*8}이 파일은 읽을 수 없습니다{\"*\"*8}')\n",
    "\n",
    "    print(f'\\n폴더 내 csv / xlsx 파일 개수: {len(file_list)}개')\n",
    "    print(f'총 데이터프레임 개수: {len(df_list)}개')\n",
    "\n",
    "    return df_list"
   ]
  },
  {
   "cell_type": "code",
   "execution_count": 20,
   "metadata": {
    "ExecuteTime": {
     "end_time": "2020-12-07T08:39:28.341558Z",
     "start_time": "2020-12-07T08:39:24.858737Z"
    }
   },
   "outputs": [
    {
     "data": {
      "application/vnd.jupyter.widget-view+json": {
       "model_id": "f42da186667b4d3c9effad3373c86523",
       "version_major": 2,
       "version_minor": 0
      },
      "text/plain": [
       "HBox(children=(HTML(value=''), FloatProgress(value=0.0, max=18.0), HTML(value='')))"
      ]
     },
     "metadata": {},
     "output_type": "display_data"
    },
    {
     "name": "stdout",
     "output_type": "stream",
     "text": [
      "(0) Floating_Population_1903.csv\n",
      "(1) Floating_Population_1904.csv\n",
      "(2) Floating_Population_1905.csv\n",
      "(3) Floating_Population_1906.csv\n",
      "(4) Floating_Population_1907.csv\n",
      "(5) Floating_Population_1908.csv\n",
      "(6) Floating_Population_1909.csv\n",
      "(7) Floating_Population_1910.csv\n",
      "(8) Floating_Population_1911.csv\n",
      "(9) Floating_Population_1912.csv\n",
      "(10) Floating_Population_2001.csv\n",
      "(11) Floating_Population_2002.csv\n",
      "(12) Floating_Population_2003.csv\n",
      "(13) Floating_Population_2004.csv\n",
      "(14) Floating_Population_2005.csv\n",
      "(15) Floating_Population_2006.csv\n",
      "(16) Floating_Population_2008.csv\n",
      "(17) Floating_population_2009.csv\n",
      "\n",
      "\n",
      "폴더 내 csv / xlsx 파일 개수: 18개\n",
      "총 데이터프레임 개수: 18개\n"
     ]
    }
   ],
   "source": [
    "floating = readcsv_('../raw data/skt서울시유동인구/')"
   ]
  },
  {
   "cell_type": "code",
   "execution_count": 21,
   "metadata": {
    "ExecuteTime": {
     "end_time": "2020-12-07T08:40:12.555333Z",
     "start_time": "2020-12-07T08:40:12.442834Z"
    }
   },
   "outputs": [],
   "source": [
    "Floating = pd.concat(floating)"
   ]
  },
  {
   "cell_type": "code",
   "execution_count": 22,
   "metadata": {
    "ExecuteTime": {
     "end_time": "2020-12-07T08:40:15.453832Z",
     "start_time": "2020-12-07T08:40:15.434334Z"
    }
   },
   "outputs": [
    {
     "data": {
      "text/html": [
       "<div>\n",
       "<style scoped>\n",
       "    .dataframe tbody tr th:only-of-type {\n",
       "        vertical-align: middle;\n",
       "    }\n",
       "\n",
       "    .dataframe tbody tr th {\n",
       "        vertical-align: top;\n",
       "    }\n",
       "\n",
       "    .dataframe thead th {\n",
       "        text-align: right;\n",
       "    }\n",
       "</style>\n",
       "<table border=\"1\" class=\"dataframe\">\n",
       "  <thead>\n",
       "    <tr style=\"text-align: right;\">\n",
       "      <th></th>\n",
       "      <th>일자</th>\n",
       "      <th>시간(1시간단위)</th>\n",
       "      <th>연령대(10세단위)</th>\n",
       "      <th>성별</th>\n",
       "      <th>시</th>\n",
       "      <th>군구</th>\n",
       "      <th>유동인구수</th>\n",
       "    </tr>\n",
       "  </thead>\n",
       "  <tbody>\n",
       "    <tr>\n",
       "      <th>0</th>\n",
       "      <td>20190301</td>\n",
       "      <td>0</td>\n",
       "      <td>20</td>\n",
       "      <td>남성</td>\n",
       "      <td>서울</td>\n",
       "      <td>양천구</td>\n",
       "      <td>28720</td>\n",
       "    </tr>\n",
       "    <tr>\n",
       "      <th>1</th>\n",
       "      <td>20190301</td>\n",
       "      <td>0</td>\n",
       "      <td>20</td>\n",
       "      <td>남성</td>\n",
       "      <td>서울</td>\n",
       "      <td>종로구</td>\n",
       "      <td>15920</td>\n",
       "    </tr>\n",
       "    <tr>\n",
       "      <th>2</th>\n",
       "      <td>20190301</td>\n",
       "      <td>0</td>\n",
       "      <td>20</td>\n",
       "      <td>남성</td>\n",
       "      <td>서울</td>\n",
       "      <td>중랑구</td>\n",
       "      <td>26250</td>\n",
       "    </tr>\n",
       "    <tr>\n",
       "      <th>3</th>\n",
       "      <td>20190301</td>\n",
       "      <td>0</td>\n",
       "      <td>20</td>\n",
       "      <td>여성</td>\n",
       "      <td>서울</td>\n",
       "      <td>중랑구</td>\n",
       "      <td>25890</td>\n",
       "    </tr>\n",
       "    <tr>\n",
       "      <th>4</th>\n",
       "      <td>20190301</td>\n",
       "      <td>0</td>\n",
       "      <td>30</td>\n",
       "      <td>남성</td>\n",
       "      <td>서울</td>\n",
       "      <td>강동구</td>\n",
       "      <td>34090</td>\n",
       "    </tr>\n",
       "    <tr>\n",
       "      <th>...</th>\n",
       "      <td>...</td>\n",
       "      <td>...</td>\n",
       "      <td>...</td>\n",
       "      <td>...</td>\n",
       "      <td>...</td>\n",
       "      <td>...</td>\n",
       "      <td>...</td>\n",
       "    </tr>\n",
       "    <tr>\n",
       "      <th>215695</th>\n",
       "      <td>20200930</td>\n",
       "      <td>19</td>\n",
       "      <td>50</td>\n",
       "      <td>여성</td>\n",
       "      <td>서울</td>\n",
       "      <td>도봉구</td>\n",
       "      <td>28610</td>\n",
       "    </tr>\n",
       "    <tr>\n",
       "      <th>215696</th>\n",
       "      <td>20200930</td>\n",
       "      <td>20</td>\n",
       "      <td>50</td>\n",
       "      <td>여성</td>\n",
       "      <td>서울</td>\n",
       "      <td>서초구</td>\n",
       "      <td>29580</td>\n",
       "    </tr>\n",
       "    <tr>\n",
       "      <th>215697</th>\n",
       "      <td>20200930</td>\n",
       "      <td>20</td>\n",
       "      <td>70</td>\n",
       "      <td>여성</td>\n",
       "      <td>서울</td>\n",
       "      <td>광진구</td>\n",
       "      <td>13670</td>\n",
       "    </tr>\n",
       "    <tr>\n",
       "      <th>215698</th>\n",
       "      <td>20200930</td>\n",
       "      <td>21</td>\n",
       "      <td>70</td>\n",
       "      <td>남성</td>\n",
       "      <td>서울</td>\n",
       "      <td>중랑구</td>\n",
       "      <td>13590</td>\n",
       "    </tr>\n",
       "    <tr>\n",
       "      <th>215699</th>\n",
       "      <td>20200930</td>\n",
       "      <td>21</td>\n",
       "      <td>70</td>\n",
       "      <td>여성</td>\n",
       "      <td>서울</td>\n",
       "      <td>관악구</td>\n",
       "      <td>21050</td>\n",
       "    </tr>\n",
       "  </tbody>\n",
       "</table>\n",
       "<p>3932400 rows × 7 columns</p>\n",
       "</div>"
      ],
      "text/plain": [
       "              일자  시간(1시간단위)  연령대(10세단위)  성별   시   군구  유동인구수\n",
       "0       20190301          0          20  남성  서울  양천구  28720\n",
       "1       20190301          0          20  남성  서울  종로구  15920\n",
       "2       20190301          0          20  남성  서울  중랑구  26250\n",
       "3       20190301          0          20  여성  서울  중랑구  25890\n",
       "4       20190301          0          30  남성  서울  강동구  34090\n",
       "...          ...        ...         ...  ..  ..  ...    ...\n",
       "215695  20200930         19          50  여성  서울  도봉구  28610\n",
       "215696  20200930         20          50  여성  서울  서초구  29580\n",
       "215697  20200930         20          70  여성  서울  광진구  13670\n",
       "215698  20200930         21          70  남성  서울  중랑구  13590\n",
       "215699  20200930         21          70  여성  서울  관악구  21050\n",
       "\n",
       "[3932400 rows x 7 columns]"
      ]
     },
     "execution_count": 22,
     "metadata": {},
     "output_type": "execute_result"
    }
   ],
   "source": [
    "Floating"
   ]
  },
  {
   "cell_type": "code",
   "execution_count": 9,
   "metadata": {
    "ExecuteTime": {
     "end_time": "2020-12-07T08:23:06.314603Z",
     "start_time": "2020-12-07T08:23:06.304104Z"
    }
   },
   "outputs": [],
   "source": [
    "for i in floating:\n",
    "    Floating = pd.concat(floating)"
   ]
  },
  {
   "cell_type": "code",
   "execution_count": 15,
   "metadata": {
    "ExecuteTime": {
     "end_time": "2020-12-07T08:31:41.995260Z",
     "start_time": "2020-12-07T08:31:41.635202Z"
    }
   },
   "outputs": [],
   "source": [
    "floating202009 = pd.read_csv('../raw data/skt서울시유동인구/Floating_population_2009.csv')"
   ]
  },
  {
   "cell_type": "code",
   "execution_count": 17,
   "metadata": {
    "ExecuteTime": {
     "end_time": "2020-12-07T08:32:49.600012Z",
     "start_time": "2020-12-07T08:32:49.581012Z"
    }
   },
   "outputs": [
    {
     "data": {
      "text/html": [
       "<div>\n",
       "<style scoped>\n",
       "    .dataframe tbody tr th:only-of-type {\n",
       "        vertical-align: middle;\n",
       "    }\n",
       "\n",
       "    .dataframe tbody tr th {\n",
       "        vertical-align: top;\n",
       "    }\n",
       "\n",
       "    .dataframe thead th {\n",
       "        text-align: right;\n",
       "    }\n",
       "</style>\n",
       "<table border=\"1\" class=\"dataframe\">\n",
       "  <thead>\n",
       "    <tr style=\"text-align: right;\">\n",
       "      <th></th>\n",
       "      <th>일자</th>\n",
       "      <th>시간(1시간단위)</th>\n",
       "      <th>유동인구수</th>\n",
       "    </tr>\n",
       "    <tr>\n",
       "      <th>연령대(10세단위)</th>\n",
       "      <th></th>\n",
       "      <th></th>\n",
       "      <th></th>\n",
       "    </tr>\n",
       "  </thead>\n",
       "  <tbody>\n",
       "    <tr>\n",
       "      <th>20</th>\n",
       "      <td>2.020092e+07</td>\n",
       "      <td>11.485396</td>\n",
       "      <td>29500.436439</td>\n",
       "    </tr>\n",
       "    <tr>\n",
       "      <th>30</th>\n",
       "      <td>2.020092e+07</td>\n",
       "      <td>11.485396</td>\n",
       "      <td>33004.875104</td>\n",
       "    </tr>\n",
       "    <tr>\n",
       "      <th>40</th>\n",
       "      <td>2.020092e+07</td>\n",
       "      <td>11.485396</td>\n",
       "      <td>33149.265647</td>\n",
       "    </tr>\n",
       "    <tr>\n",
       "      <th>50</th>\n",
       "      <td>2.020092e+07</td>\n",
       "      <td>11.485396</td>\n",
       "      <td>31086.822253</td>\n",
       "    </tr>\n",
       "    <tr>\n",
       "      <th>60</th>\n",
       "      <td>2.020092e+07</td>\n",
       "      <td>11.485396</td>\n",
       "      <td>19972.837830</td>\n",
       "    </tr>\n",
       "    <tr>\n",
       "      <th>70</th>\n",
       "      <td>2.020092e+07</td>\n",
       "      <td>11.485396</td>\n",
       "      <td>15086.156606</td>\n",
       "    </tr>\n",
       "  </tbody>\n",
       "</table>\n",
       "</div>"
      ],
      "text/plain": [
       "                      일자  시간(1시간단위)         유동인구수\n",
       "연령대(10세단위)                                       \n",
       "20          2.020092e+07  11.485396  29500.436439\n",
       "30          2.020092e+07  11.485396  33004.875104\n",
       "40          2.020092e+07  11.485396  33149.265647\n",
       "50          2.020092e+07  11.485396  31086.822253\n",
       "60          2.020092e+07  11.485396  19972.837830\n",
       "70          2.020092e+07  11.485396  15086.156606"
      ]
     },
     "execution_count": 17,
     "metadata": {},
     "output_type": "execute_result"
    }
   ],
   "source": [
    "floating202009.groupby('연령대(10세단위)').mean()"
   ]
  },
  {
   "cell_type": "code",
   "execution_count": 24,
   "metadata": {
    "ExecuteTime": {
     "end_time": "2020-12-08T06:22:39.823690Z",
     "start_time": "2020-12-08T06:22:39.785188Z"
    }
   },
   "outputs": [
    {
     "data": {
      "text/html": [
       "<div>\n",
       "<style scoped>\n",
       "    .dataframe tbody tr th:only-of-type {\n",
       "        vertical-align: middle;\n",
       "    }\n",
       "\n",
       "    .dataframe tbody tr th {\n",
       "        vertical-align: top;\n",
       "    }\n",
       "\n",
       "    .dataframe thead th {\n",
       "        text-align: right;\n",
       "    }\n",
       "</style>\n",
       "<table border=\"1\" class=\"dataframe\">\n",
       "  <thead>\n",
       "    <tr style=\"text-align: right;\">\n",
       "      <th></th>\n",
       "      <th>일자</th>\n",
       "      <th>시간(1시간단위)</th>\n",
       "      <th>연령대(10세단위)</th>\n",
       "      <th>성별</th>\n",
       "      <th>시</th>\n",
       "      <th>군구</th>\n",
       "      <th>유동인구수</th>\n",
       "    </tr>\n",
       "  </thead>\n",
       "  <tbody>\n",
       "    <tr>\n",
       "      <th>0</th>\n",
       "      <td>20200901</td>\n",
       "      <td>0</td>\n",
       "      <td>60</td>\n",
       "      <td>남성</td>\n",
       "      <td>서울</td>\n",
       "      <td>중랑구</td>\n",
       "      <td>21080</td>\n",
       "    </tr>\n",
       "    <tr>\n",
       "      <th>1</th>\n",
       "      <td>20200901</td>\n",
       "      <td>1</td>\n",
       "      <td>30</td>\n",
       "      <td>남성</td>\n",
       "      <td>서울</td>\n",
       "      <td>동대문구</td>\n",
       "      <td>28760</td>\n",
       "    </tr>\n",
       "    <tr>\n",
       "      <th>2</th>\n",
       "      <td>20200901</td>\n",
       "      <td>1</td>\n",
       "      <td>50</td>\n",
       "      <td>여성</td>\n",
       "      <td>서울</td>\n",
       "      <td>마포구</td>\n",
       "      <td>27750</td>\n",
       "    </tr>\n",
       "    <tr>\n",
       "      <th>3</th>\n",
       "      <td>20200901</td>\n",
       "      <td>2</td>\n",
       "      <td>30</td>\n",
       "      <td>여성</td>\n",
       "      <td>서울</td>\n",
       "      <td>서대문구</td>\n",
       "      <td>22650</td>\n",
       "    </tr>\n",
       "    <tr>\n",
       "      <th>4</th>\n",
       "      <td>20200901</td>\n",
       "      <td>2</td>\n",
       "      <td>50</td>\n",
       "      <td>남성</td>\n",
       "      <td>서울</td>\n",
       "      <td>강서구</td>\n",
       "      <td>42290</td>\n",
       "    </tr>\n",
       "    <tr>\n",
       "      <th>...</th>\n",
       "      <td>...</td>\n",
       "      <td>...</td>\n",
       "      <td>...</td>\n",
       "      <td>...</td>\n",
       "      <td>...</td>\n",
       "      <td>...</td>\n",
       "      <td>...</td>\n",
       "    </tr>\n",
       "    <tr>\n",
       "      <th>215695</th>\n",
       "      <td>20200930</td>\n",
       "      <td>19</td>\n",
       "      <td>50</td>\n",
       "      <td>여성</td>\n",
       "      <td>서울</td>\n",
       "      <td>도봉구</td>\n",
       "      <td>28610</td>\n",
       "    </tr>\n",
       "    <tr>\n",
       "      <th>215696</th>\n",
       "      <td>20200930</td>\n",
       "      <td>20</td>\n",
       "      <td>50</td>\n",
       "      <td>여성</td>\n",
       "      <td>서울</td>\n",
       "      <td>서초구</td>\n",
       "      <td>29580</td>\n",
       "    </tr>\n",
       "    <tr>\n",
       "      <th>215697</th>\n",
       "      <td>20200930</td>\n",
       "      <td>20</td>\n",
       "      <td>70</td>\n",
       "      <td>여성</td>\n",
       "      <td>서울</td>\n",
       "      <td>광진구</td>\n",
       "      <td>13670</td>\n",
       "    </tr>\n",
       "    <tr>\n",
       "      <th>215698</th>\n",
       "      <td>20200930</td>\n",
       "      <td>21</td>\n",
       "      <td>70</td>\n",
       "      <td>남성</td>\n",
       "      <td>서울</td>\n",
       "      <td>중랑구</td>\n",
       "      <td>13590</td>\n",
       "    </tr>\n",
       "    <tr>\n",
       "      <th>215699</th>\n",
       "      <td>20200930</td>\n",
       "      <td>21</td>\n",
       "      <td>70</td>\n",
       "      <td>여성</td>\n",
       "      <td>서울</td>\n",
       "      <td>관악구</td>\n",
       "      <td>21050</td>\n",
       "    </tr>\n",
       "  </tbody>\n",
       "</table>\n",
       "<p>215700 rows × 7 columns</p>\n",
       "</div>"
      ],
      "text/plain": [
       "              일자  시간(1시간단위)  연령대(10세단위)  성별   시    군구  유동인구수\n",
       "0       20200901          0          60  남성  서울   중랑구  21080\n",
       "1       20200901          1          30  남성  서울  동대문구  28760\n",
       "2       20200901          1          50  여성  서울   마포구  27750\n",
       "3       20200901          2          30  여성  서울  서대문구  22650\n",
       "4       20200901          2          50  남성  서울   강서구  42290\n",
       "...          ...        ...         ...  ..  ..   ...    ...\n",
       "215695  20200930         19          50  여성  서울   도봉구  28610\n",
       "215696  20200930         20          50  여성  서울   서초구  29580\n",
       "215697  20200930         20          70  여성  서울   광진구  13670\n",
       "215698  20200930         21          70  남성  서울   중랑구  13590\n",
       "215699  20200930         21          70  여성  서울   관악구  21050\n",
       "\n",
       "[215700 rows x 7 columns]"
      ]
     },
     "execution_count": 24,
     "metadata": {},
     "output_type": "execute_result"
    }
   ],
   "source": [
    "floating202009"
   ]
  },
  {
   "cell_type": "code",
   "execution_count": null,
   "metadata": {},
   "outputs": [],
   "source": []
  }
 ],
 "metadata": {
  "kernelspec": {
   "display_name": "Python 3",
   "language": "python",
   "name": "python3"
  },
  "language_info": {
   "codemirror_mode": {
    "name": "ipython",
    "version": 3
   },
   "file_extension": ".py",
   "mimetype": "text/x-python",
   "name": "python",
   "nbconvert_exporter": "python",
   "pygments_lexer": "ipython3",
   "version": "3.8.5"
  },
  "toc": {
   "base_numbering": 1,
   "nav_menu": {},
   "number_sections": true,
   "sideBar": true,
   "skip_h1_title": true,
   "title_cell": "Table of Contents",
   "title_sidebar": "Contents",
   "toc_cell": true,
   "toc_position": {},
   "toc_section_display": true,
   "toc_window_display": true
  },
  "varInspector": {
   "cols": {
    "lenName": 16,
    "lenType": 16,
    "lenVar": 40
   },
   "kernels_config": {
    "python": {
     "delete_cmd_postfix": "",
     "delete_cmd_prefix": "del ",
     "library": "var_list.py",
     "varRefreshCmd": "print(var_dic_list())"
    },
    "r": {
     "delete_cmd_postfix": ") ",
     "delete_cmd_prefix": "rm(",
     "library": "var_list.r",
     "varRefreshCmd": "cat(var_dic_list()) "
    }
   },
   "types_to_exclude": [
    "module",
    "function",
    "builtin_function_or_method",
    "instance",
    "_Feature"
   ],
   "window_display": false
  }
 },
 "nbformat": 4,
 "nbformat_minor": 4
}
