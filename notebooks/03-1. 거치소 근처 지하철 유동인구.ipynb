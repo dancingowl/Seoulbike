{
 "cells": [
  {
   "cell_type": "markdown",
   "metadata": {},
   "source": [
    "# 거치소에서 제일 가까운 지하철역의 유동인구"
   ]
  },
  {
   "cell_type": "code",
   "execution_count": 5,
   "metadata": {
    "ExecuteTime": {
     "end_time": "2020-12-02T05:04:08.322608Z",
     "start_time": "2020-12-02T05:04:08.315097Z"
    }
   },
   "outputs": [],
   "source": [
    "# !conda install -c conda-forge geopandas"
   ]
  },
  {
   "cell_type": "code",
   "execution_count": 22,
   "metadata": {
    "ExecuteTime": {
     "end_time": "2020-12-02T06:09:30.564020Z",
     "start_time": "2020-12-02T06:09:30.540020Z"
    }
   },
   "outputs": [
    {
     "ename": "FileNotFoundError",
     "evalue": "Could not find module 'C:\\Users\\justi\\anaconda3\\Library\\bin\\geos_c.dll' (or one of its dependencies). Try using the full path with constructor syntax.",
     "output_type": "error",
     "traceback": [
      "\u001b[1;31m---------------------------------------------------------------------------\u001b[0m",
      "\u001b[1;31mFileNotFoundError\u001b[0m                         Traceback (most recent call last)",
      "\u001b[1;32m<ipython-input-22-54b94929cbe0>\u001b[0m in \u001b[0;36m<module>\u001b[1;34m\u001b[0m\n\u001b[0;32m      1\u001b[0m \u001b[1;32mimport\u001b[0m \u001b[0mpandas\u001b[0m \u001b[1;32mas\u001b[0m \u001b[0mpd\u001b[0m\u001b[1;33m\u001b[0m\u001b[1;33m\u001b[0m\u001b[0m\n\u001b[0;32m      2\u001b[0m \u001b[1;32mimport\u001b[0m \u001b[0mnumpy\u001b[0m \u001b[1;32mas\u001b[0m \u001b[0mnp\u001b[0m\u001b[1;33m\u001b[0m\u001b[1;33m\u001b[0m\u001b[0m\n\u001b[1;32m----> 3\u001b[1;33m \u001b[1;32mimport\u001b[0m \u001b[0mgeopandas\u001b[0m \u001b[1;32mas\u001b[0m \u001b[0mgpd\u001b[0m\u001b[1;33m\u001b[0m\u001b[1;33m\u001b[0m\u001b[0m\n\u001b[0m",
      "\u001b[1;32m~\\anaconda3\\lib\\site-packages\\geopandas\\__init__.py\u001b[0m in \u001b[0;36m<module>\u001b[1;34m\u001b[0m\n\u001b[0;32m      1\u001b[0m \u001b[1;32mfrom\u001b[0m \u001b[0mgeopandas\u001b[0m\u001b[1;33m.\u001b[0m\u001b[0m_config\u001b[0m \u001b[1;32mimport\u001b[0m \u001b[0moptions\u001b[0m  \u001b[1;31m# noqa\u001b[0m\u001b[1;33m\u001b[0m\u001b[1;33m\u001b[0m\u001b[0m\n\u001b[0;32m      2\u001b[0m \u001b[1;33m\u001b[0m\u001b[0m\n\u001b[1;32m----> 3\u001b[1;33m \u001b[1;32mfrom\u001b[0m \u001b[0mgeopandas\u001b[0m\u001b[1;33m.\u001b[0m\u001b[0mgeoseries\u001b[0m \u001b[1;32mimport\u001b[0m \u001b[0mGeoSeries\u001b[0m  \u001b[1;31m# noqa\u001b[0m\u001b[1;33m\u001b[0m\u001b[1;33m\u001b[0m\u001b[0m\n\u001b[0m\u001b[0;32m      4\u001b[0m \u001b[1;32mfrom\u001b[0m \u001b[0mgeopandas\u001b[0m\u001b[1;33m.\u001b[0m\u001b[0mgeodataframe\u001b[0m \u001b[1;32mimport\u001b[0m \u001b[0mGeoDataFrame\u001b[0m  \u001b[1;31m# noqa\u001b[0m\u001b[1;33m\u001b[0m\u001b[1;33m\u001b[0m\u001b[0m\n\u001b[0;32m      5\u001b[0m \u001b[1;32mfrom\u001b[0m \u001b[0mgeopandas\u001b[0m\u001b[1;33m.\u001b[0m\u001b[0marray\u001b[0m \u001b[1;32mimport\u001b[0m \u001b[0mpoints_from_xy\u001b[0m  \u001b[1;31m# noqa\u001b[0m\u001b[1;33m\u001b[0m\u001b[1;33m\u001b[0m\u001b[0m\n",
      "\u001b[1;32m~\\anaconda3\\lib\\site-packages\\geopandas\\geoseries.py\u001b[0m in \u001b[0;36m<module>\u001b[1;34m\u001b[0m\n\u001b[0;32m      8\u001b[0m \u001b[1;33m\u001b[0m\u001b[0m\n\u001b[0;32m      9\u001b[0m \u001b[1;32mfrom\u001b[0m \u001b[0mpyproj\u001b[0m \u001b[1;32mimport\u001b[0m \u001b[0mCRS\u001b[0m\u001b[1;33m,\u001b[0m \u001b[0mTransformer\u001b[0m\u001b[1;33m\u001b[0m\u001b[1;33m\u001b[0m\u001b[0m\n\u001b[1;32m---> 10\u001b[1;33m \u001b[1;32mfrom\u001b[0m \u001b[0mshapely\u001b[0m\u001b[1;33m.\u001b[0m\u001b[0mgeometry\u001b[0m\u001b[1;33m.\u001b[0m\u001b[0mbase\u001b[0m \u001b[1;32mimport\u001b[0m \u001b[0mBaseGeometry\u001b[0m\u001b[1;33m\u001b[0m\u001b[1;33m\u001b[0m\u001b[0m\n\u001b[0m\u001b[0;32m     11\u001b[0m \u001b[1;33m\u001b[0m\u001b[0m\n\u001b[0;32m     12\u001b[0m \u001b[1;32mfrom\u001b[0m \u001b[0mgeopandas\u001b[0m\u001b[1;33m.\u001b[0m\u001b[0mbase\u001b[0m \u001b[1;32mimport\u001b[0m \u001b[0mGeoPandasBase\u001b[0m\u001b[1;33m,\u001b[0m \u001b[0m_delegate_property\u001b[0m\u001b[1;33m\u001b[0m\u001b[1;33m\u001b[0m\u001b[0m\n",
      "\u001b[1;32m~\\anaconda3\\lib\\site-packages\\shapely\\geometry\\__init__.py\u001b[0m in \u001b[0;36m<module>\u001b[1;34m\u001b[0m\n\u001b[0;32m      2\u001b[0m \"\"\"\n\u001b[0;32m      3\u001b[0m \u001b[1;33m\u001b[0m\u001b[0m\n\u001b[1;32m----> 4\u001b[1;33m \u001b[1;32mfrom\u001b[0m \u001b[1;33m.\u001b[0m\u001b[0mbase\u001b[0m \u001b[1;32mimport\u001b[0m \u001b[0mCAP_STYLE\u001b[0m\u001b[1;33m,\u001b[0m \u001b[0mJOIN_STYLE\u001b[0m\u001b[1;33m\u001b[0m\u001b[1;33m\u001b[0m\u001b[0m\n\u001b[0m\u001b[0;32m      5\u001b[0m \u001b[1;32mfrom\u001b[0m \u001b[1;33m.\u001b[0m\u001b[0mgeo\u001b[0m \u001b[1;32mimport\u001b[0m \u001b[0mbox\u001b[0m\u001b[1;33m,\u001b[0m \u001b[0mshape\u001b[0m\u001b[1;33m,\u001b[0m \u001b[0masShape\u001b[0m\u001b[1;33m,\u001b[0m \u001b[0mmapping\u001b[0m\u001b[1;33m\u001b[0m\u001b[1;33m\u001b[0m\u001b[0m\n\u001b[0;32m      6\u001b[0m \u001b[1;32mfrom\u001b[0m \u001b[1;33m.\u001b[0m\u001b[0mpoint\u001b[0m \u001b[1;32mimport\u001b[0m \u001b[0mPoint\u001b[0m\u001b[1;33m,\u001b[0m \u001b[0masPoint\u001b[0m\u001b[1;33m\u001b[0m\u001b[1;33m\u001b[0m\u001b[0m\n",
      "\u001b[1;32m~\\anaconda3\\lib\\site-packages\\shapely\\geometry\\base.py\u001b[0m in \u001b[0;36m<module>\u001b[1;34m\u001b[0m\n\u001b[0;32m     17\u001b[0m \u001b[1;33m\u001b[0m\u001b[0m\n\u001b[0;32m     18\u001b[0m \u001b[1;32mfrom\u001b[0m \u001b[0mshapely\u001b[0m\u001b[1;33m.\u001b[0m\u001b[0maffinity\u001b[0m \u001b[1;32mimport\u001b[0m \u001b[0maffine_transform\u001b[0m\u001b[1;33m\u001b[0m\u001b[1;33m\u001b[0m\u001b[0m\n\u001b[1;32m---> 19\u001b[1;33m \u001b[1;32mfrom\u001b[0m \u001b[0mshapely\u001b[0m\u001b[1;33m.\u001b[0m\u001b[0mcoords\u001b[0m \u001b[1;32mimport\u001b[0m \u001b[0mCoordinateSequence\u001b[0m\u001b[1;33m\u001b[0m\u001b[1;33m\u001b[0m\u001b[0m\n\u001b[0m\u001b[0;32m     20\u001b[0m \u001b[1;32mfrom\u001b[0m \u001b[0mshapely\u001b[0m\u001b[1;33m.\u001b[0m\u001b[0merrors\u001b[0m \u001b[1;32mimport\u001b[0m \u001b[0mWKBReadingError\u001b[0m\u001b[1;33m,\u001b[0m \u001b[0mWKTReadingError\u001b[0m\u001b[1;33m\u001b[0m\u001b[1;33m\u001b[0m\u001b[0m\n\u001b[0;32m     21\u001b[0m \u001b[1;32mfrom\u001b[0m \u001b[0mshapely\u001b[0m\u001b[1;33m.\u001b[0m\u001b[0mgeos\u001b[0m \u001b[1;32mimport\u001b[0m \u001b[0mWKBWriter\u001b[0m\u001b[1;33m,\u001b[0m \u001b[0mWKTWriter\u001b[0m\u001b[1;33m\u001b[0m\u001b[1;33m\u001b[0m\u001b[0m\n",
      "\u001b[1;32m~\\anaconda3\\lib\\site-packages\\shapely\\coords.py\u001b[0m in \u001b[0;36m<module>\u001b[1;34m\u001b[0m\n\u001b[0;32m      6\u001b[0m \u001b[1;32mfrom\u001b[0m \u001b[0mctypes\u001b[0m \u001b[1;32mimport\u001b[0m \u001b[0mbyref\u001b[0m\u001b[1;33m,\u001b[0m \u001b[0mc_double\u001b[0m\u001b[1;33m,\u001b[0m \u001b[0mc_uint\u001b[0m\u001b[1;33m\u001b[0m\u001b[1;33m\u001b[0m\u001b[0m\n\u001b[0;32m      7\u001b[0m \u001b[1;33m\u001b[0m\u001b[0m\n\u001b[1;32m----> 8\u001b[1;33m \u001b[1;32mfrom\u001b[0m \u001b[0mshapely\u001b[0m\u001b[1;33m.\u001b[0m\u001b[0mgeos\u001b[0m \u001b[1;32mimport\u001b[0m \u001b[0mlgeos\u001b[0m\u001b[1;33m\u001b[0m\u001b[1;33m\u001b[0m\u001b[0m\n\u001b[0m\u001b[0;32m      9\u001b[0m \u001b[1;32mfrom\u001b[0m \u001b[0mshapely\u001b[0m\u001b[1;33m.\u001b[0m\u001b[0mtopology\u001b[0m \u001b[1;32mimport\u001b[0m \u001b[0mValidating\u001b[0m\u001b[1;33m\u001b[0m\u001b[1;33m\u001b[0m\u001b[0m\n\u001b[0;32m     10\u001b[0m \u001b[1;33m\u001b[0m\u001b[0m\n",
      "\u001b[1;32m~\\anaconda3\\lib\\site-packages\\shapely\\geos.py\u001b[0m in \u001b[0;36m<module>\u001b[1;34m\u001b[0m\n\u001b[0;32m    152\u001b[0m     \u001b[1;32mif\u001b[0m \u001b[0mos\u001b[0m\u001b[1;33m.\u001b[0m\u001b[0mgetenv\u001b[0m\u001b[1;33m(\u001b[0m\u001b[1;34m'CONDA_PREFIX'\u001b[0m\u001b[1;33m,\u001b[0m \u001b[1;34m''\u001b[0m\u001b[1;33m)\u001b[0m\u001b[1;33m:\u001b[0m\u001b[1;33m\u001b[0m\u001b[1;33m\u001b[0m\u001b[0m\n\u001b[0;32m    153\u001b[0m         \u001b[1;31m# conda package.\u001b[0m\u001b[1;33m\u001b[0m\u001b[1;33m\u001b[0m\u001b[1;33m\u001b[0m\u001b[0m\n\u001b[1;32m--> 154\u001b[1;33m         \u001b[0m_lgeos\u001b[0m \u001b[1;33m=\u001b[0m \u001b[0mCDLL\u001b[0m\u001b[1;33m(\u001b[0m\u001b[0mos\u001b[0m\u001b[1;33m.\u001b[0m\u001b[0mpath\u001b[0m\u001b[1;33m.\u001b[0m\u001b[0mjoin\u001b[0m\u001b[1;33m(\u001b[0m\u001b[0msys\u001b[0m\u001b[1;33m.\u001b[0m\u001b[0mprefix\u001b[0m\u001b[1;33m,\u001b[0m \u001b[1;34m'Library'\u001b[0m\u001b[1;33m,\u001b[0m \u001b[1;34m'bin'\u001b[0m\u001b[1;33m,\u001b[0m \u001b[1;34m'geos_c.dll'\u001b[0m\u001b[1;33m)\u001b[0m\u001b[1;33m)\u001b[0m\u001b[1;33m\u001b[0m\u001b[1;33m\u001b[0m\u001b[0m\n\u001b[0m\u001b[0;32m    155\u001b[0m     \u001b[1;32melse\u001b[0m\u001b[1;33m:\u001b[0m\u001b[1;33m\u001b[0m\u001b[1;33m\u001b[0m\u001b[0m\n\u001b[0;32m    156\u001b[0m         \u001b[1;32mtry\u001b[0m\u001b[1;33m:\u001b[0m\u001b[1;33m\u001b[0m\u001b[1;33m\u001b[0m\u001b[0m\n",
      "\u001b[1;32m~\\anaconda3\\lib\\ctypes\\__init__.py\u001b[0m in \u001b[0;36m__init__\u001b[1;34m(self, name, mode, handle, use_errno, use_last_error, winmode)\u001b[0m\n\u001b[0;32m    371\u001b[0m \u001b[1;33m\u001b[0m\u001b[0m\n\u001b[0;32m    372\u001b[0m         \u001b[1;32mif\u001b[0m \u001b[0mhandle\u001b[0m \u001b[1;32mis\u001b[0m \u001b[1;32mNone\u001b[0m\u001b[1;33m:\u001b[0m\u001b[1;33m\u001b[0m\u001b[1;33m\u001b[0m\u001b[0m\n\u001b[1;32m--> 373\u001b[1;33m             \u001b[0mself\u001b[0m\u001b[1;33m.\u001b[0m\u001b[0m_handle\u001b[0m \u001b[1;33m=\u001b[0m \u001b[0m_dlopen\u001b[0m\u001b[1;33m(\u001b[0m\u001b[0mself\u001b[0m\u001b[1;33m.\u001b[0m\u001b[0m_name\u001b[0m\u001b[1;33m,\u001b[0m \u001b[0mmode\u001b[0m\u001b[1;33m)\u001b[0m\u001b[1;33m\u001b[0m\u001b[1;33m\u001b[0m\u001b[0m\n\u001b[0m\u001b[0;32m    374\u001b[0m         \u001b[1;32melse\u001b[0m\u001b[1;33m:\u001b[0m\u001b[1;33m\u001b[0m\u001b[1;33m\u001b[0m\u001b[0m\n\u001b[0;32m    375\u001b[0m             \u001b[0mself\u001b[0m\u001b[1;33m.\u001b[0m\u001b[0m_handle\u001b[0m \u001b[1;33m=\u001b[0m \u001b[0mhandle\u001b[0m\u001b[1;33m\u001b[0m\u001b[1;33m\u001b[0m\u001b[0m\n",
      "\u001b[1;31mFileNotFoundError\u001b[0m: Could not find module 'C:\\Users\\justi\\anaconda3\\Library\\bin\\geos_c.dll' (or one of its dependencies). Try using the full path with constructor syntax."
     ]
    }
   ],
   "source": [
    "import pandas as pd\n",
    "import numpy as np\n",
    "import geopandas as gpd  "
   ]
  },
  {
   "cell_type": "code",
   "execution_count": 1,
   "metadata": {
    "ExecuteTime": {
     "end_time": "2020-12-05T01:12:32.042135Z",
     "start_time": "2020-12-05T01:11:16.163928Z"
    }
   },
   "outputs": [
    {
     "name": "stdout",
     "output_type": "stream",
     "text": [
      "Requirement already satisfied: wheel in c:\\users\\justi\\anaconda3\\lib\\site-packages (0.35.1)\n",
      "Collecting pipwin\n",
      "  Using cached pipwin-0.5.0-py2.py3-none-any.whl (7.6 kB)\n",
      "Collecting pyprind\n",
      "  Using cached PyPrind-2.11.2-py3-none-any.whl (8.6 kB)\n",
      "Processing c:\\users\\justi\\appdata\\local\\pip\\cache\\wheels\\56\\ea\\58\\ead137b087d9e326852a851351d1debf4ada529b6ac0ec4e8c\\docopt-0.6.2-py2.py3-none-any.whl\n",
      "Requirement already satisfied: six in c:\\users\\justi\\anaconda3\\lib\\site-packages (from pipwin) (1.15.0)\n",
      "Requirement already satisfied: packaging in c:\\users\\justi\\anaconda3\\lib\\site-packages (from pipwin) (20.4)\n",
      "Collecting pySmartDL>=1.3.1; python_version >= \"3.4\"\n",
      "  Using cached pySmartDL-1.3.4-py3-none-any.whl (20 kB)\n",
      "Requirement already satisfied: beautifulsoup4>=4.9.0 in c:\\users\\justi\\anaconda3\\lib\\site-packages (from pipwin) (4.9.3)\n",
      "Collecting js2py\n",
      "  Using cached Js2Py-0.70-py3-none-any.whl (605 kB)\n",
      "Requirement already satisfied: requests in c:\\users\\justi\\anaconda3\\lib\\site-packages (from pipwin) (2.24.0)\n",
      "Requirement already satisfied: pyparsing>=2.0.2 in c:\\users\\justi\\anaconda3\\lib\\site-packages (from packaging->pipwin) (2.4.7)\n",
      "Requirement already satisfied: soupsieve>1.2; python_version >= \"3.0\" in c:\\users\\justi\\anaconda3\\lib\\site-packages (from beautifulsoup4>=4.9.0->pipwin) (2.0.1)\n",
      "Processing c:\\users\\justi\\appdata\\local\\pip\\cache\\wheels\\d5\\88\\34\\ccb5bb40eb3178a134eb293e6c363928c5bcfba0b91031db76\\pyjsparser-2.7.1-py3-none-any.whl\n",
      "Collecting tzlocal>=1.2\n",
      "  Using cached tzlocal-2.1-py2.py3-none-any.whl (16 kB)\n",
      "Requirement already satisfied: certifi>=2017.4.17 in c:\\users\\justi\\anaconda3\\lib\\site-packages (from requests->pipwin) (2020.6.20)\n",
      "Requirement already satisfied: urllib3!=1.25.0,!=1.25.1,<1.26,>=1.21.1 in c:\\users\\justi\\anaconda3\\lib\\site-packages (from requests->pipwin) (1.25.11)\n",
      "Requirement already satisfied: chardet<4,>=3.0.2 in c:\\users\\justi\\anaconda3\\lib\\site-packages (from requests->pipwin) (3.0.4)\n",
      "Requirement already satisfied: idna<3,>=2.5 in c:\\users\\justi\\anaconda3\\lib\\site-packages (from requests->pipwin) (2.10)\n",
      "Requirement already satisfied: pytz in c:\\users\\justi\\anaconda3\\lib\\site-packages (from tzlocal>=1.2->js2py->pipwin) (2020.1)\n",
      "Installing collected packages: pyprind, docopt, pySmartDL, pyjsparser, tzlocal, js2py, pipwin\n",
      "Successfully installed docopt-0.6.2 js2py-0.70 pipwin-0.5.0 pySmartDL-1.3.4 pyjsparser-2.7.1 pyprind-2.11.2 tzlocal-2.1\n",
      "Package `numpy` found in cache\n",
      "Downloading package . . .\n",
      "https://download.lfd.uci.edu/pythonlibs/z4tqcw5k/numpy-1.19.4+vanilla-cp38-cp38-win_amd64.whl\n",
      "numpy-1.19.4+vanilla-cp38-cp38-win_amd64.whl\n",
      "[*] 0 bytes / 4.6 MB @ 0 bytes/s [------------------] [0.0%, 0s left]   [*] 0 bytes / 4.6 MB @ 0 bytes/s [------------------] [0.0%, 0s left]   [*] 0 bytes / 4.6 MB @ 0 bytes/s [------------------] [0.0%, 0s left]   [*] 0 bytes / 4.6 MB @ 0 bytes/s [------------------] [0.0%, 0s left]   [*] 0 bytes / 4.6 MB @ 0 bytes/s [------------------] [0.0%, 0s left]   [*] 0 bytes / 4.6 MB @ 0 bytes/s [------------------] [0.0%, 0s left]   [*] 0 bytes / 4.6 MB @ 0 bytes/s [------------------] [0.0%, 0s left]   [*] 0 bytes / 4.6 MB @ 0 bytes/s [------------------] [0.0%, 0s left]   [*] 8 kB / 4.6 MB @ 9 kB/s [------------------] [0.2%, 0s left]   [*] 24 kB / 4.6 MB @ 24 kB/s [------------------] [0.5%, 0s left]   [*] 24 kB / 4.6 MB @ 22 kB/s [------------------] [0.5%, 0s left]   [*] 56 kB / 4.6 MB @ 47 kB/s [------------------] [1.2%, 0s left]   [*] 104 kB / 4.6 MB @ 80 kB/s [------------------] [2.2%, 0s left]  [*] 184 kB / 4.6 MB @ 131 kB/s [------------------] [3.9%, 0s left]   [*] 184 kB / 4.6 MB @ 123 kB/s [------------------] [3.9%, 0s left]   [*] 280 kB / 4.6 MB @ 175 kB/s [#-----------------] [5.9%, 0s left]   [*] 456 kB / 4.6 MB @ 268 kB/s [#-----------------] [9.7%, 0s left]   [*] 456 kB / 4.6 MB @ 253 kB/s [#-----------------] [9.7%, 0s left]   [*] 712 kB / 4.6 MB @ 375 kB/s [##----------------] [15.1%, 0s left]  [*] 1.0 MB / 4.6 MB @ 516 kB/s [###---------------] [21.9%, 0s left]  [*] 1.0 MB / 4.6 MB @ 491 kB/s [###---------------] [21.9%, 0s left]  [*] 1.5 MB / 4.6 MB @ 687 kB/s [#####-------------] [32.0%, 0s left]  [*] 2.2 MB / 4.6 MB @ 970 kB/s [########----------] [47.3%, 0s left]  [*] 2.9 MB / 4.6 MB @ 1.2 MB/s [###########-------] [62.8%, 0s left]  [*] 3.2 MB / 4.6 MB @ 1.3 MB/s [############------] [70.0%, 0s left]  [*] 3.9 MB / 4.6 MB @ 1.5 MB/s [###############---] [83.9%, 0s left]  Processing c:\\users\\justi\\pipwin\\numpy-1.19.4+vanilla-cp38-cp38-win_amd64.whl\n",
      "Installing collected packages: numpy\n",
      "  Attempting uninstall: numpy\n",
      "    Found existing installation: numpy 1.19.2\n",
      "    Uninstalling numpy-1.19.2:\n",
      "      Successfully uninstalled numpy-1.19.2\n",
      "[*] 4.6 MB / 4.6 MB @ 1.5 MB/s [##################] [100%, 0s left]    \n"
     ]
    },
    {
     "name": "stderr",
     "output_type": "stream",
     "text": [
      "ERROR: Could not install packages due to an EnvironmentError: [WinError 5] 액세스가 거부되었습니다: 'C:\\\\Users\\\\justi\\\\anaconda3\\\\Lib\\\\site-packages\\\\~umpy\\\\core\\\\_multiarray_tests.cp38-win_amd64.pyd'\n",
      "Consider using the `--user` option or check the permissions.\n",
      "\n",
      "Traceback (most recent call last):\n",
      "  File \"c:\\users\\justi\\anaconda3\\lib\\runpy.py\", line 194, in _run_module_as_main\n",
      "    return _run_code(code, main_globals, None,\n",
      "  File \"c:\\users\\justi\\anaconda3\\lib\\runpy.py\", line 87, in _run_code\n",
      "    exec(code, run_globals)\n",
      "  File \"C:\\Users\\justi\\anaconda3\\Scripts\\pipwin.exe\\__main__.py\", line 7, in <module>\n",
      "  File \"c:\\users\\justi\\anaconda3\\lib\\site-packages\\pipwin\\command.py\", line 98, in main\n",
      "    cache.install(package)\n",
      "  File \"c:\\users\\justi\\anaconda3\\lib\\site-packages\\pipwin\\pipwin.py\", line 301, in install\n",
      "    subprocess.check_call([executable, \"-m\", \"pip\", \"install\", wheel_file])\n",
      "  File \"c:\\users\\justi\\anaconda3\\lib\\subprocess.py\", line 364, in check_call\n",
      "    raise CalledProcessError(retcode, cmd)\n",
      "subprocess.CalledProcessError: Command '['c:\\\\users\\\\justi\\\\anaconda3\\\\python.exe', '-m', 'pip', 'install', 'C:\\\\Users\\\\justi\\\\pipwin\\\\numpy-1.19.4+vanilla-cp38-cp38-win_amd64.whl']' returned non-zero exit status 1.\n"
     ]
    },
    {
     "name": "stdout",
     "output_type": "stream",
     "text": [
      "Package `pandas` found in cache\n",
      "Downloading package . . .\n",
      "https://download.lfd.uci.edu/pythonlibs/z4tqcw5k/pandas-1.1.4-cp38-cp38-win_amd64.whl\n",
      "pandas-1.1.4-cp38-cp38-win_amd64.whl\n",
      "[*] 0 bytes / 8.4 MB @ 0 bytes/s [------------------] [0.0%, 0s left]   \b\b\b\b\b\b\b\b\b\b\b\b\b\b\b\b\b\b\b\b\b\b\b\b\b\b\b\b\b\b\b\b\b\b\b\b\b\b\b\b\b\b\b\b\b\b\b\b\b\b\b\b\b\b\b\b\b\b\b\b\b\b\b\b\b\b\b\b\b\b\b\b\b [*] 0 bytes / 8.4 MB @ 0 bytes/s [------------------] [0.0%, 0s left]   \b\b\b\b\b\b\b\b\b\b\b\b\b\b\b\b\b\b\b\b\b\b\b\b\b\b\b\b\b\b\b\b\b\b\b\b\b\b\b\b\b\b\b\b\b\b\b\b\b\b\b\b\b\b\b\b\b\b\b\b\b\b\b\b\b\b\b\b\b\b\b\b\b [*] 0 bytes / 8.4 MB @ 0 bytes/s [------------------] [0.0%, 0s left]   \b\b\b\b\b\b\b\b\b\b\b\b\b\b\b\b\b\b\b\b\b\b\b\b\b\b\b\b\b\b\b\b\b\b\b\b\b\b\b\b\b\b\b\b\b\b\b\b\b\b\b\b\b\b\b\b\b\b\b\b\b\b\b\b\b\b\b\b\b\b\b\b\b [*] 0 bytes / 8.4 MB @ 0 bytes/s [------------------] [0.0%, 0s left]   \b\b\b\b\b\b\b\b\b\b\b\b\b\b\b\b\b\b\b\b\b\b\b\b\b\b\b\b\b\b\b\b\b\b\b\b\b\b\b\b\b\b\b\b\b\b\b\b\b\b\b\b\b\b\b\b\b\b\b\b\b\b\b\b\b\b\b\b\b\b\b\b\b [*] 0 bytes / 8.4 MB @ 0 bytes/s [------------------] [0.0%, 0s left]   \b\b\b\b\b\b\b\b\b\b\b\b\b\b\b\b\b\b\b\b\b\b\b\b\b\b\b\b\b\b\b\b\b\b\b\b\b\b\b\b\b\b\b\b\b\b\b\b\b\b\b\b\b\b\b\b\b\b\b\b\b\b\b\b\b\b\b\b\b\b\b\b\b [*] 0 bytes / 8.4 MB @ 0 bytes/s [------------------] [0.0%, 0s left]   \b\b\b\b\b\b\b\b\b\b\b\b\b\b\b\b\b\b\b\b\b\b\b\b\b\b\b\b\b\b\b\b\b\b\b\b\b\b\b\b\b\b\b\b\b\b\b\b\b\b\b\b\b\b\b\b\b\b\b\b\b\b\b\b\b\b\b\b\b\b\b\b\b [*] 0 bytes / 8.4 MB @ 0 bytes/s [------------------] [0.0%, 0s left]   \b\b\b\b\b\b\b\b\b\b\b\b\b\b\b\b\b\b\b\b\b\b\b\b\b\b\b\b\b\b\b\b\b\b\b\b\b\b\b\b\b\b\b\b\b\b\b\b\b\b\b\b\b\b\b\b\b\b\b\b\b\b\b\b\b\b\b\b\b\b\b\b\b [*] 0 bytes / 8.4 MB @ 0 bytes/s [------------------] [0.0%, 0s left]   \b\b\b\b\b\b\b\b\b\b\b\b\b\b\b\b\b\b\b\b\b\b\b\b\b\b\b\b\b\b\b\b\b\b\b\b\b\b\b\b\b\b\b\b\b\b\b\b\b\b\b\b\b\b\b\b\b\b\b\b\b\b\b\b\b\b\b\b\b\b\b\b\b [*] 8 kB / 8.4 MB @ 9 kB/s [------------------] [0.1%, 0s left]   \b\b\b\b\b\b\b\b\b\b\b\b\b\b\b\b\b\b\b\b\b\b\b\b\b\b\b\b\b\b\b\b\b\b\b\b\b\b\b\b\b\b\b\b\b\b\b\b\b\b\b\b\b\b\b\b\b\b\b\b\b\b\b\b\b\b\b [*] 40 kB / 8.4 MB @ 40 kB/s [------------------] [0.5%, 0s left]   \b\b\b\b\b\b\b\b\b\b\b\b\b\b\b\b\b\b\b\b\b\b\b\b\b\b\b\b\b\b\b\b\b\b\b\b\b\b\b\b\b\b\b\b\b\b\b\b\b\b\b\b\b\b\b\b\b\b\b\b\b\b\b\b\b\b\b\b\b [*] 40 kB / 8.4 MB @ 36 kB/s [------------------] [0.5%, 0s left]   \b\b\b\b\b\b\b\b\b\b\b\b\b\b\b\b\b\b\b\b\b\b\b\b\b\b\b\b\b\b\b\b\b\b\b\b\b\b\b\b\b\b\b\b\b\b\b\b\b\b\b\b\b\b\b\b\b\b\b\b\b\b\b\b\b\b\b\b\b [*] 72 kB / 8.4 MB @ 60 kB/s [------------------] [0.8%, 0s left]   \b\b\b\b\b\b\b\b\b\b\b\b\b\b\b\b\b\b\b\b\b\b\b\b\b\b\b\b\b\b\b\b\b\b\b\b\b\b\b\b\b\b\b\b\b\b\b\b\b\b\b\b\b\b\b\b\b\b\b\b\b\b\b\b\b\b\b\b\b [*] 136 kB / 8.4 MB @ 105 kB/s [------------------] [1.6%, 0s left]   \b\b\b\b\b\b\b\b\b\b\b\b\b\b\b\b\b\b\b\b\b\b\b\b\b\b\b\b\b\b\b\b\b\b\b\b\b\b\b\b\b\b\b\b\b\b\b\b\b\b\b\b\b\b\b\b\b\b\b\b\b\b\b\b\b\b\b\b\b\b\b [*] 232 kB / 8.4 MB @ 166 kB/s [------------------] [2.7%, 0s left]   \b\b\b\b\b\b\b\b\b\b\b\b\b\b\b\b\b\b\b\b\b\b\b\b\b\b\b\b\b\b\b\b\b\b\b\b\b\b\b\b\b\b\b\b\b\b\b\b\b\b\b\b\b\b\b\b\b\b\b\b\b\b\b\b\b\b\b\b\b\b\b [*] 232 kB / 8.4 MB @ 155 kB/s [------------------] [2.7%, 0s left]   \b\b\b\b\b\b\b\b\b\b\b\b\b\b\b\b\b\b\b\b\b\b\b\b\b\b\b\b\b\b\b\b\b\b\b\b\b\b\b\b\b\b\b\b\b\b\b\b\b\b\b\b\b\b\b\b\b\b\b\b\b\b\b\b\b\b\b\b\b\b\b [*] 376 kB / 8.4 MB @ 235 kB/s [------------------] [4.4%, 0s left]   \b\b\b\b\b\b\b\b\b\b\b\b\b\b\b\b\b\b\b\b\b\b\b\b\b\b\b\b\b\b\b\b\b\b\b\b\b\b\b\b\b\b\b\b\b\b\b\b\b\b\b\b\b\b\b\b\b\b\b\b\b\b\b\b\b\b\b\b\b\b\b [*] 584 kB / 8.4 MB @ 344 kB/s [#-----------------] [6.8%, 0s left]   \b\b\b\b\b\b\b\b\b\b\b\b\b\b\b\b\b\b\b\b\b\b\b\b\b\b\b\b\b\b\b\b\b\b\b\b\b\b\b\b\b\b\b\b\b\b\b\b\b\b\b\b\b\b\b\b\b\b\b\b\b\b\b\b\b\b\b\b\b\b\b [*] 584 kB / 8.4 MB @ 324 kB/s [#-----------------] [6.8%, 0s left]   \b\b\b\b\b\b\b\b\b\b\b\b\b\b\b\b\b\b\b\b\b\b\b\b\b\b\b\b\b\b\b\b\b\b\b\b\b\b\b\b\b\b\b\b\b\b\b\b\b\b\b\b\b\b\b\b\b\b\b\b\b\b\b\b\b\b\b\b\b\b\b [*] 840 kB / 8.4 MB @ 442 kB/s [#-----------------] [9.8%, 0s left]   \b\b\b\b\b\b\b\b\b\b\b\b\b\b\b\b\b\b\b\b\b\b\b\b\b\b\b\b\b\b\b\b\b\b\b\b\b\b\b\b\b\b\b\b\b\b\b\b\b\b\b\b\b\b\b\b\b\b\b\b\b\b\b\b\b\b\b\b\b\b\b [*] 1.1 MB / 8.4 MB @ 588 kB/s [##----------------] [13.7%, 0s left]   \b\b\b\b\b\b\b\b\b\b\b\b\b\b\b\b\b\b\b\b\b\b\b\b\b\b\b\b\b\b\b\b\b\b\b\b\b\b\b\b\b\b\b\b\b\b\b\b\b\b\b\b\b\b\b\b\b\b\b\b\b\b\b\b\b\b\b\b\b\b\b\b [*] 1.1 MB / 8.4 MB @ 560 kB/s [##----------------] [13.7%, 0s left]   \b\b\b\b\b\b\b\b\b\b\b\b\b\b\b\b\b\b\b\b\b\b\b\b\b\b\b\b\b\b\b\b\b\b\b\b\b\b\b\b\b\b\b\b\b\b\b\b\b\b\b\b\b\b\b\b\b\b\b\b\b\b\b\b\b\b\b\b\b\b\b\b [*] 1.6 MB / 8.4 MB @ 767 kB/s [###---------------] [19.7%, 0s left]   \b\b\b\b\b\b\b\b\b\b\b\b\b\b\b\b\b\b\b\b\b\b\b\b\b\b\b\b\b\b\b\b\b\b\b\b\b\b\b\b\b\b\b\b\b\b\b\b\b\b\b\b\b\b\b\b\b\b\b\b\b\b\b\b\b\b\b\b\b\b\b\b [*] 2.4 MB / 8.4 MB @ 1.0 MB/s [#####-------------] [28.5%, 0s left]   \b\b\b\b\b\b\b\b\b\b\b\b\b\b\b\b\b\b\b\b\b\b\b\b\b\b\b\b\b\b\b\b\b\b\b\b\b\b\b\b\b\b\b\b\b\b\b\b\b\b\b\b\b\b\b\b\b\b\b\b\b\b\b\b\b\b\b\b\b\b\b\b [*] 2.7 MB / 8.4 MB @ 1.1 MB/s [#####-------------] [32.2%, 0s left]   \b\b\b\b\b\b\b\b\b\b\b\b\b\b\b\b\b\b\b\b\b\b\b\b\b\b\b\b\b\b\b\b\b\b\b\b\b\b\b\b\b\b\b\b\b\b\b\b\b\b\b\b\b\b\b\b\b\b\b\b\b\b\b\b\b\b\b\b\b\b\b\b [*] 3.5 MB / 8.4 MB @ 1.4 MB/s [#######-----------] [41.9%, 0s left]   \b\b\b\b\b\b\b\b\b\b\b\b\b\b\b\b\b\b\b\b\b\b\b\b\b\b\b\b\b\b\b\b\b\b\b\b\b\b\b\b\b\b\b\b\b\b\b\b\b\b\b\b\b\b\b\b\b\b\b\b\b\b\b\b\b\b\b\b\b\b\b\b [*] 4.8 MB / 8.4 MB @ 1.8 MB/s [##########--------] [57.4%, 0s left]   \b\b\b\b\b\b\b\b\b\b\b\b\b\b\b\b\b\b\b\b\b\b\b\b\b\b\b\b\b\b\b\b\b\b\b\b\b\b\b\b\b\b\b\b\b\b\b\b\b\b\b\b\b\b\b\b\b\b\b\b\b\b\b\b\b\b\b\b\b\b\b\b [*] 4.8 MB / 8.4 MB @ 1.8 MB/s [##########--------] [57.4%, 0s left]   \b\b\b\b\b\b\b\b\b\b\b\b\b\b\b\b\b\b\b\b\b\b\b\b\b\b\b\b\b\b\b\b\b\b\b\b\b\b\b\b\b\b\b\b\b\b\b\b\b\b\b\b\b\b\b\b\b\b\b\b\b\b\b\b\b\b\b\b\b\b\b\b [*] 4.8 MB / 8.4 MB @ 1.7 MB/s [##########--------] [57.4%, 0s left]   \b\b\b\b\b\b\b\b\b\b\b\b\b\b\b\b\b\b\b\b\b\b\b\b\b\b\b\b\b\b\b\b\b\b\b\b\b\b\b\b\b\b\b\b\b\b\b\b\b\b\b\b\b\b\b\b\b\b\b\b\b\b\b\b\b\b\b\b\b\b\b\b [*] 7.1 MB / 8.4 MB @ 2.4 MB/s [###############---] [84.8%, 0s left]   \b\b\b\b\b\b\b\b\b\b\b\b\b\b\b\b\b\b\b\b\b\b\b\b\b\b\b\b\b\b\b\b\b\b\b\b\b\b\b\b\b\b\b\b\b\b\b\b\b\b\b\b\b\b\b\b\b\b\b\b\b\b\b\b\b\b\b\b\b\b\b\b [*] 7.3 MB / 8.4 MB @ 2.4 MB/s [###############---] [87.6%, 0s left]   \b\b\b\b\b\b\b\b\b\b\b\b\b\b\b\b\b\b\b\b\b\b\b\b\b\b\b\b\b\b\b\b\b\b\b\b\b\b\b\b\b\b\b\b\b\b\b\b\b\b\b\b\b\b\b\b\b\b\b\b\b\b\b\b\b\b\b\b\b\b\b\b [*] 7.4 MB / 8.4 MB @ 2.5 MB/s [###############---] [88.2%, 0s left]   \b\b\b\b\b\b\b\b\b\b\b\b\b\b\b\b\b\b\b\b\b\b\b\b\b\b\b\b\b\b\b\b\b\b\b\b\b\b\b\b\b\b\b\b\b\b\b\b\b\b\b\b\b\b\b\b\b\b\b\b\b\b\b\b\b\b\b\b\b\b\b\b [*] 8.0 MB / 8.4 MB @ 2.7 MB/s [#################-] [95.1%, 0s left]   \b\b\b\b\b\b\b\b\b\b\b\b\b\b\b\b\b\b\b\b\b\b\b\b\b\b\b\b\b\b\b\b\b\b\b\b\b\b\b\b\b\b\b\b\b\b\b\b\b\b\b\b\b\b\b\b\b\b\b\b\b\b\b\b\b\b\b\b\b\b\b\b [*] 8.3 MB / 8.4 MB @ 2.8 MB/s [#################-] [99.6%, 0s left]   \b\b\b\b\b\b\b\b\b\b\b\b\b\b\b\b\b\b\b\b\b\b\b\b\b\b\b\b\b\b\b\b\b\b\b\b\b\b\b\b\b\b\b\b\b\b\b\b\b\b\b\b\b\b\b\b\b\b\b\b\b\b\b\b\b\b\b\b\b\b\b\b [*] 8.3 MB / 8.4 MB @ 2.8 MB/s [#################-] [99.6%, 0s left]   \b\b\b\b\b\b\b\b\b\b\b\b\b\b\b\b\b\b\b\b\b\b\b\b\b\b\b\b\b\b\b\b\b\b\b\b\b\b\b\b\b\b\b\b\b\b\b\b\b\b\b\b\b\b\b\b\b\b\b\b\b\b\b\b\b\b\b\b\b\b\b\b [*] 8.3 MB / 8.4 MB @ 2.8 MB/s [#################-] [99.6%, 0s left]   \b\b\b\b\b\b\b\b\b\b\b\b\b\b\b\b\b\b\b\b\b\b\b\b\b\b\b\b\b\b\b\b\b\b\b\b\b\b\b\b\b\b\b\b\b\b\b\b\b\b\b\b\b\b\b\b\b\b\b\b\b\b\b\b\b\b\b\b\b\b\b\b [*] 8.3 MB / 8.4 MB @ 2.8 MB/s [#################-] [99.6%, 0s left]   \b\b\b\b\b\b\b\b\b\b\b\b\b\b\b\b\b\b\b\b\b\b\b\b\b\b\b\b\b\b\b\b\b\b\b\b\b\b\b\b\b\b\b\b\b\b\b\b\b\b\b\b\b\b\b\b\b\b\b\b\b\b\b\b\b\b\b\b\b\b\b\b [*] 8.4 MB / 8.4 MB @ 2.8 MB/s [#################-] [99.8%, 0s left]   \b\b\b\b\b\b\b\b\b\b\b\b\b\b\b\b\b\b\b\b\b\b\b\b\b\b\b\b\b\b\b\b\b\b\b\b\b\b\b\b\b\b\b\b\b\b\b\b\b\b\b\b\b\b\b\b\b\b\b\b\b\b\b\b\b\b\b\b\b\b\b\b [*] 8.4 MB / 8.4 MB @ 2.8 MB/s [#################-] [99.8%, 0s left]   \b\b\b\b\b\b\b\b\b\b\b\b\b\b\b\b\b\b\b\b\b\b\b\b\b\b\b\b\b\b\b\b\b\b\b\b\b\b\b\b\b\b\b\b\b\b\b\b\b\b\b\b\b\b\b\b\b\b\b\b\b\b\b\b\b\b\b\b\b\b\b\b [*] 8.4 MB / 8.4 MB @ 2.8 MB/s [#################-] [99.8%, 0s left]   \b\b\b\b\b\b\b\b\b\b\b\b\b\b\b\b\b\b\b\b\b\b\b\b\b\b\b\b\b\b\b\b\b\b\b\b\b\b\b\b\b\b\b\b\b\b\b\b\b\b\b\b\b\b\b\b\b\b\b\b\b\b\b\b\b\b\b\b\b\b\b\b [*] 8.4 MB / 8.4 MB @ 2.8 MB/s [#################-] [99.8%, 0s left]   \b\b\b\b\b\b\b\b\b\b\b\b\b\b\b\b\b\b\b\b\b\b\b\b\b\b\b\b\b\b\b\b\b\b\b\b\b\b\b\b\b\b\b\b\b\b\b\b\b\b\b\b\b\b\b\b\b\b\b\b\b\b\b\b\b\b\b\b\b\b\b\b [*] 8.4 MB / 8.4 MB @ 2.8 MB/s [#################-] [99.8%, 0s left]   \b\b\b\b\b\b\b\b\b\b\b\b\b\b\b\b\b\b\b\b\b\b\b\b\b\b\b\b\b\b\b\b\b\b\b\b\b\b\b\b\b\b\b\b\b\b\b\b\b\b\b\b\b\b\b\b\b\b\b\b\b\b\b\b\b\b\b\b\b\b\b\b Processing c:\\users\\justi\\pipwin\\pandas-1.1.4-cp38-cp38-win_amd64.whl\n",
      "Requirement already satisfied: pytz>=2017.2 in c:\\users\\justi\\anaconda3\\lib\\site-packages (from pandas==1.1.4) (2020.1)\n",
      "Requirement already satisfied: numpy>=1.15.4 in c:\\users\\justi\\anaconda3\\lib\\site-packages (from pandas==1.1.4) (1.19.4+vanilla)\n",
      "Requirement already satisfied: python-dateutil>=2.7.3 in c:\\users\\justi\\anaconda3\\lib\\site-packages (from pandas==1.1.4) (2.8.1)\n",
      "Requirement already satisfied: six>=1.5 in c:\\users\\justi\\anaconda3\\lib\\site-packages (from python-dateutil>=2.7.3->pandas==1.1.4) (1.15.0)\n",
      "Installing collected packages: pandas\n",
      "  Attempting uninstall: pandas\n",
      "    Found existing installation: pandas 1.1.3\n",
      "    Uninstalling pandas-1.1.3:\n",
      "      Successfully uninstalled pandas-1.1.3\n",
      "[*] 8.4 MB / 8.4 MB @ 2.8 MB/s [##################] [100%, 0s left]    \n"
     ]
    },
    {
     "name": "stderr",
     "output_type": "stream",
     "text": [
      "ERROR: Could not install packages due to an EnvironmentError: [WinError 5] 액세스가 거부되었습니다: 'C:\\\\Users\\\\justi\\\\anaconda3\\\\Lib\\\\site-packages\\\\~andas\\\\_libs\\\\algos.cp38-win_amd64.pyd'\n",
      "Consider using the `--user` option or check the permissions.\n",
      "\n",
      "Traceback (most recent call last):\n",
      "  File \"c:\\users\\justi\\anaconda3\\lib\\runpy.py\", line 194, in _run_module_as_main\n",
      "    return _run_code(code, main_globals, None,\n",
      "  File \"c:\\users\\justi\\anaconda3\\lib\\runpy.py\", line 87, in _run_code\n",
      "    exec(code, run_globals)\n",
      "  File \"C:\\Users\\justi\\anaconda3\\Scripts\\pipwin.exe\\__main__.py\", line 7, in <module>\n",
      "  File \"c:\\users\\justi\\anaconda3\\lib\\site-packages\\pipwin\\command.py\", line 98, in main\n",
      "    cache.install(package)\n",
      "  File \"c:\\users\\justi\\anaconda3\\lib\\site-packages\\pipwin\\pipwin.py\", line 301, in install\n",
      "    subprocess.check_call([executable, \"-m\", \"pip\", \"install\", wheel_file])\n",
      "  File \"c:\\users\\justi\\anaconda3\\lib\\subprocess.py\", line 364, in check_call\n",
      "    raise CalledProcessError(retcode, cmd)\n",
      "subprocess.CalledProcessError: Command '['c:\\\\users\\\\justi\\\\anaconda3\\\\python.exe', '-m', 'pip', 'install', 'C:\\\\Users\\\\justi\\\\pipwin\\\\pandas-1.1.4-cp38-cp38-win_amd64.whl']' returned non-zero exit status 1.\n"
     ]
    },
    {
     "name": "stdout",
     "output_type": "stream",
     "text": [
      "Package `gdal` found in cache\n",
      "Downloading package . . .\n",
      "https://download.lfd.uci.edu/pythonlibs/z4tqcw5k/GDAL-3.1.4-cp38-cp38-win_amd64.whl\n",
      "GDAL-3.1.4-cp38-cp38-win_amd64.whl\n",
      "[*] 0 bytes / 27.9 MB @ 0 bytes/s [------------------] [0.0%, 0s left]  [*] 0 bytes / 27.9 MB @ 0 bytes/s [------------------] [0.0%, 0s left]  [*] 0 bytes / 27.9 MB @ 0 bytes/s [------------------] [0.0%, 0s left]  [*] 0 bytes / 27.9 MB @ 0 bytes/s [------------------] [0.0%, 0s left]  [*] 0 bytes / 27.9 MB @ 0 bytes/s [------------------] [0.0%, 0s left]  [*] 0 bytes / 27.9 MB @ 0 bytes/s [------------------] [0.0%, 0s left]  [*] 0 bytes / 27.9 MB @ 0 bytes/s [------------------] [0.0%, 0s left]  [*] 0 bytes / 27.9 MB @ 0 bytes/s [------------------] [0.0%, 0s left]  [*] 8 kB / 27.9 MB @ 9 kB/s [------------------] [0.0%, 0s left]  [*] 40 kB / 27.9 MB @ 40 kB/s [------------------] [0.1%, 0s left]  [*] 40 kB / 27.9 MB @ 36 kB/s [------------------] [0.1%, 0s left]  [*] 88 kB / 27.9 MB @ 73 kB/s [------------------] [0.3%, 0s left]  [*] 152 kB / 27.9 MB @ 117 kB/s [------------------] [0.5%, 0s left]  [*] 248 kB / 27.9 MB @ 177 kB/s [------------------] [0.9%, 0s left]  [*] 248 kB / 27.9 MB @ 165 kB/s [------------------] [0.9%, 0s left]  [*] 408 kB / 27.9 MB @ 255 kB/s [------------------] [1.4%, 0s left]  [*] 616 kB / 27.9 MB @ 362 kB/s [------------------] [2.2%, 0s left]  [*] 648 kB / 27.9 MB @ 360 kB/s [------------------] [2.3%, 0s left]  [*] 888 kB / 27.9 MB @ 467 kB/s [------------------] [3.1%, 0s left]  [*] 1.2 MB / 27.9 MB @ 604 kB/s [------------------] [4.2%, 0s left]  [*] 1.4 MB / 27.9 MB @ 690 kB/s [------------------] [5.1%, 0s left]  [*] 1.6 MB / 27.9 MB @ 767 kB/s [#-----------------] [5.9%, 0s left]  [*] 2.3 MB / 27.9 MB @ 1.0 MB/s [#-----------------] [8.4%, 0s left]  [*] 3.0 MB / 27.9 MB @ 1.3 MB/s [#-----------------] [10.8%, 0s left]   [*] 3.4 MB / 27.9 MB @ 1.3 MB/s [##----------------] [12.0%, 0s left]   [*] 4.0 MB / 27.9 MB @ 1.6 MB/s [##----------------] [14.5%, 0s left]   [*] 4.0 MB / 27.9 MB @ 1.5 MB/s [##----------------] [14.5%, 0s left]   [*] 4.3 MB / 27.9 MB @ 1.5 MB/s [##----------------] [15.2%, 0s left]   [*] 6.0 MB / 27.9 MB @ 2.1 MB/s [###---------------] [21.5%, 0s left]   [*] 6.7 MB / 27.9 MB @ 2.2 MB/s [####--------------] [24.1%, 0s left]   [*] 6.7 MB / 27.9 MB @ 2.2 MB/s [####--------------] [24.1%, 0s left]   [*] 6.8 MB / 27.9 MB @ 2.3 MB/s [####--------------] [24.2%, 0s left]   [*] 7.7 MB / 27.9 MB @ 2.6 MB/s [####--------------] [27.7%, 0s left]   [*] 8.2 MB / 27.9 MB @ 2.7 MB/s [#####-------------] [29.4%, 0s left]   [*] 8.2 MB / 27.9 MB @ 2.7 MB/s [#####-------------] [29.4%, 0s left]   [*] 8.7 MB / 27.9 MB @ 2.9 MB/s [#####-------------] [31.0%, 0s left]   [*] 9.1 MB / 27.9 MB @ 3.0 MB/s [#####-------------] [32.7%, 0s left]   [*] 9.1 MB / 27.9 MB @ 3.0 MB/s [#####-------------] [32.7%, 0s left]   [*] 9.6 MB / 27.9 MB @ 3.2 MB/s [######------------] [34.5%, 0s left]   [*] 10.1 MB / 27.9 MB @ 3.4 MB/s [######------------] [36.3%, 0s left]  [*] 10.7 MB / 27.9 MB @ 3.5 MB/s [######------------] [38.2%, 0s left]  [*] 10.7 MB / 27.9 MB @ 3.5 MB/s [######------------] [38.2%, 0s left]  [*] 11.2 MB / 27.9 MB @ 3.7 MB/s [#######-----------] [40.0%, 0s left]  [*] 11.7 MB / 27.9 MB @ 3.8 MB/s [#######-----------] [42.0%, 0s left]  [*] 11.7 MB / 27.9 MB @ 3.8 MB/s [#######-----------] [42.0%, 0s left]  [*] 12.3 MB / 27.9 MB @ 4.0 MB/s [#######-----------] [43.9%, 0s left]  [*] 12.8 MB / 27.9 MB @ 4.1 MB/s [########----------] [45.9%, 0s left]  [*] 13.3 MB / 27.9 MB @ 4.2 MB/s [########----------] [47.7%, 0s left]  [*] 13.4 MB / 27.9 MB @ 4.2 MB/s [########----------] [48.0%, 0s left]  [*] 14.0 MB / 27.9 MB @ 4.3 MB/s [#########---------] [50.1%, 0s left]  [*] 14.6 MB / 27.9 MB @ 4.4 MB/s [#########---------] [52.3%, 0s left]  [*] 14.6 MB / 27.9 MB @ 4.3 MB/s [#########---------] [52.3%, 0s left]  [*] 15.2 MB / 27.9 MB @ 4.3 MB/s [#########---------] [54.5%, 0s left]  [*] 15.9 MB / 27.9 MB @ 4.3 MB/s [##########--------] [56.7%, 0s left]  [*] 16.2 MB / 27.9 MB @ 4.3 MB/s [##########--------] [58.0%, 0s left]  [*] 16.5 MB / 27.9 MB @ 4.2 MB/s [##########--------] [59.0%, 0s left]  [*] 17.1 MB / 27.9 MB @ 4.4 MB/s [###########-------] [61.4%, 0s left]  [*] 17.8 MB / 27.9 MB @ 4.5 MB/s [###########-------] [63.8%, 5s left]  [*] 17.8 MB / 27.9 MB @ 3.9 MB/s [###########-------] [63.8%, 5s left]  [*] 18.5 MB / 27.9 MB @ 3.9 MB/s [###########-------] [66.2%, 5s left]  [*] 19.2 MB / 27.9 MB @ 4.2 MB/s [############------] [68.7%, 5s left]  [*] 19.5 MB / 27.9 MB @ 4.2 MB/s [############------] [69.6%, 5s left]  [*] 19.9 MB / 27.9 MB @ 4.1 MB/s [############------] [71.3%, 5s left]  [*] 20.6 MB / 27.9 MB @ 4.1 MB/s [#############-----] [73.9%, 5s left]  [*] 21.4 MB / 27.9 MB @ 4.4 MB/s [#############-----] [76.5%, 5s left]  [*] 21.4 MB / 27.9 MB @ 4.2 MB/s [#############-----] [76.5%, 5s left]  [*] 22.1 MB / 27.9 MB @ 4.3 MB/s [##############----] [79.3%, 5s left]  [*] 22.9 MB / 27.9 MB @ 4.6 MB/s [##############----] [82.0%, 3s left]  [*] 23.1 MB / 27.9 MB @ 4.5 MB/s [##############----] [82.6%, 3s left]  [*] 23.7 MB / 27.9 MB @ 4.5 MB/s [###############---] [84.8%, 3s left]  [*] 24.5 MB / 27.9 MB @ 4.6 MB/s [###############---] [87.7%, 3s left]  [*] 25.3 MB / 27.9 MB @ 4.9 MB/s [################--] [90.6%, 3s left]  [*] 25.3 MB / 27.9 MB @ 4.7 MB/s [################--] [90.6%, 3s left]  [*] 26.1 MB / 27.9 MB @ 4.8 MB/s [################--] [93.5%, 3s left]  [*] 27.0 MB / 27.9 MB @ 5.1 MB/s [#################-] [96.5%, 3s left]  [*] 27.0 MB / 27.9 MB @ 4.9 MB/s [#################-] [96.5%, 3s left]  [*] 27.8 MB / 27.9 MB @ 5.0 MB/s [#################-] [99.6%, 3s left]  Processing c:\\users\\justi\\pipwin\\gdal-3.1.4-cp38-cp38-win_amd64.whl\n",
      "Installing collected packages: GDAL\n",
      "Successfully installed GDAL-3.1.4\n",
      "[*] 27.9 MB / 27.9 MB @ 5.0 MB/s [##################] [100%, 0s left]    \n",
      "Package `fiona` found in cache\n",
      "Downloading package . . .\n",
      "https://download.lfd.uci.edu/pythonlibs/z4tqcw5k/Fiona-1.8.18-cp38-cp38-win_amd64.whl\n",
      "Fiona-1.8.18-cp38-cp38-win_amd64.whl\n",
      "[*] 0 bytes / 543 kB @ 0 bytes/s [------------------] [0.0%, 0s left]   [*] 0 bytes / 543 kB @ 0 bytes/s [------------------] [0.0%, 0s left]   [*] 0 bytes / 543 kB @ 0 bytes/s [------------------] [0.0%, 0s left]   [*] 0 bytes / 543 kB @ 0 bytes/s [------------------] [0.0%, 0s left]   [*] 0 bytes / 543 kB @ 0 bytes/s [------------------] [0.0%, 0s left]   [*] 0 bytes / 543 kB @ 0 bytes/s [------------------] [0.0%, 0s left]   [*] 0 bytes / 543 kB @ 0 bytes/s [------------------] [0.0%, 0s left]   [*] 0 bytes / 543 kB @ 0 bytes/s [------------------] [0.0%, 0s left]   [*] 8 kB / 543 kB @ 9 kB/s [------------------] [1.5%, 0s left]   [*] 24 kB / 543 kB @ 24 kB/s [------------------] [4.4%, 0s left]   [*] 56 kB / 543 kB @ 51 kB/s [#-----------------] [10.3%, 0s left]  [*] 56 kB / 543 kB @ 47 kB/s [#-----------------] [10.3%, 0s left]  [*] 104 kB / 543 kB @ 80 kB/s [###---------------] [19.1%, 0s left]   [*] 184 kB / 543 kB @ 131 kB/s [######------------] [33.9%, 0s left]  [*] 184 kB / 543 kB @ 123 kB/s [######------------] [33.9%, 0s left]  [*] 280 kB / 543 kB @ 175 kB/s [#########---------] [51.5%, 0s left]  [*] 440 kB / 543 kB @ 259 kB/s [##############----] [81.0%, 0s left]  Processing c:\\users\\justi\\pipwin\\fiona-1.8.18-cp38-cp38-win_amd64.whl\n",
      "Collecting cligj>=0.5\n",
      "  Using cached cligj-0.7.1-py3-none-any.whl (7.1 kB)\n",
      "Collecting munch\n",
      "  Using cached munch-2.5.0-py2.py3-none-any.whl (10 kB)\n",
      "Requirement already satisfied: gdal~=3.1.2 in c:\\users\\justi\\anaconda3\\lib\\site-packages (from Fiona==1.8.18) (3.1.4)\n",
      "Collecting click-plugins>=1.0\n",
      "  Using cached click_plugins-1.1.1-py2.py3-none-any.whl (7.5 kB)\n",
      "Requirement already satisfied: attrs>=17 in c:\\users\\justi\\anaconda3\\lib\\site-packages (from Fiona==1.8.18) (20.3.0)\n",
      "Requirement already satisfied: six>=1.7 in c:\\users\\justi\\anaconda3\\lib\\site-packages (from Fiona==1.8.18) (1.15.0)\n",
      "Requirement already satisfied: certifi in c:\\users\\justi\\anaconda3\\lib\\site-packages (from Fiona==1.8.18) (2020.6.20)\n",
      "Requirement already satisfied: click<8,>=4.0 in c:\\users\\justi\\anaconda3\\lib\\site-packages (from Fiona==1.8.18) (7.1.2)\n",
      "Installing collected packages: cligj, munch, click-plugins, Fiona\n",
      "Successfully installed Fiona-1.8.18 click-plugins-1.1.1 cligj-0.7.1 munch-2.5.0\n",
      "[*] 543 kB / 543 kB @ 259 kB/s [##################] [100%, 0s left]    \n"
     ]
    },
    {
     "name": "stdout",
     "output_type": "stream",
     "text": [
      "Package `pyproj` found in cache\n",
      "Downloading package . . .\n",
      "https://download.lfd.uci.edu/pythonlibs/z4tqcw5k/pyproj-3.0.0.post1-cp38-cp38-win_amd64.whl\n",
      "pyproj-3.0.0.post1-cp38-cp38-win_amd64.whl\n",
      "[*] 0 bytes / 13.7 MB @ 0 bytes/s [------------------] [0.0%, 0s left]  [*] 0 bytes / 13.7 MB @ 0 bytes/s [------------------] [0.0%, 0s left]  [*] 0 bytes / 13.7 MB @ 0 bytes/s [------------------] [0.0%, 0s left]  [*] 0 bytes / 13.7 MB @ 0 bytes/s [------------------] [0.0%, 0s left]  [*] 0 bytes / 13.7 MB @ 0 bytes/s [------------------] [0.0%, 0s left]  [*] 0 bytes / 13.7 MB @ 0 bytes/s [------------------] [0.0%, 0s left]  [*] 0 bytes / 13.7 MB @ 0 bytes/s [------------------] [0.0%, 0s left]  [*] 0 bytes / 13.7 MB @ 0 bytes/s [------------------] [0.0%, 0s left]  [*] 8 kB / 13.7 MB @ 9 kB/s [------------------] [0.1%, 0s left]  [*] 40 kB / 13.7 MB @ 40 kB/s [------------------] [0.3%, 0s left]  [*] 72 kB / 13.7 MB @ 65 kB/s [------------------] [0.5%, 0s left]  [*] 72 kB / 13.7 MB @ 60 kB/s [------------------] [0.5%, 0s left]  [*] 120 kB / 13.7 MB @ 92 kB/s [------------------] [0.9%, 0s left]   [*] 200 kB / 13.7 MB @ 143 kB/s [------------------] [1.4%, 0s left]  [*] 200 kB / 13.7 MB @ 133 kB/s [------------------] [1.4%, 0s left]  [*] 328 kB / 13.7 MB @ 205 kB/s [------------------] [2.3%, 0s left]  [*] 504 kB / 13.7 MB @ 296 kB/s [------------------] [3.6%, 0s left]  [*] 760 kB / 13.7 MB @ 422 kB/s [------------------] [5.4%, 0s left]  [*] 760 kB / 13.7 MB @ 400 kB/s [------------------] [5.4%, 0s left]  [*] 1.1 MB / 13.7 MB @ 548 kB/s [#-----------------] [7.8%, 0s left]  [*] 1.5 MB / 13.7 MB @ 750 kB/s [##----------------] [11.2%, 0s left]   [*] 1.6 MB / 13.7 MB @ 724 kB/s [##----------------] [11.3%, 0s left]   [*] 2.3 MB / 13.7 MB @ 1,012 kB/s [##----------------] [16.6%, 0s left]   [*] 3.4 MB / 13.7 MB @ 1.4 MB/s [####--------------] [24.4%, 0s left]   [*] 3.9 MB / 13.7 MB @ 1.6 MB/s [#####-------------] [28.5%, 0s left]   [*] 4.8 MB / 13.7 MB @ 1.9 MB/s [######------------] [35.2%, 0s left]   [*] 4.8 MB / 13.7 MB @ 1.8 MB/s [######------------] [35.2%, 0s left]   [*] 7.0 MB / 13.7 MB @ 2.5 MB/s [#########---------] [50.9%, 0s left]   [*] 7.2 MB / 13.7 MB @ 2.5 MB/s [#########---------] [52.2%, 0s left]   [*] 7.4 MB / 13.7 MB @ 2.5 MB/s [#########---------] [53.5%, 0s left]   [*] 7.8 MB / 13.7 MB @ 2.6 MB/s [##########--------] [56.5%, 0s left]   [*] 7.9 MB / 13.7 MB @ 2.6 MB/s [##########--------] [57.5%, 0s left]   [*] 8.0 MB / 13.7 MB @ 2.7 MB/s [##########--------] [58.0%, 0s left]   [*] 9.1 MB / 13.7 MB @ 3.0 MB/s [###########-------] [66.5%, 0s left]   [*] 9.1 MB / 13.7 MB @ 3.0 MB/s [###########-------] [66.5%, 0s left]   [*] 9.7 MB / 13.7 MB @ 3.2 MB/s [############------] [70.7%, 0s left]   [*] 10.3 MB / 13.7 MB @ 3.4 MB/s [#############-----] [75.0%, 0s left]  [*] 10.8 MB / 13.7 MB @ 3.6 MB/s [##############----] [78.4%, 0s left]  [*] 10.9 MB / 13.7 MB @ 3.6 MB/s [##############----] [79.3%, 0s left]  [*] 11.5 MB / 13.7 MB @ 3.8 MB/s [###############---] [83.8%, 0s left]  [*] 12.1 MB / 13.7 MB @ 4.0 MB/s [###############---] [88.3%, 0s left]  [*] 12.1 MB / 13.7 MB @ 4.0 MB/s [###############---] [88.3%, 0s left]  [*] 12.8 MB / 13.7 MB @ 4.2 MB/s [################--] [93.0%, 0s left]  [*] 13.4 MB / 13.7 MB @ 4.4 MB/s [#################-] [97.8%, 0s left]  Processing c:\\users\\justi\\pipwin\\pyproj-3.0.0.post1-cp38-cp38-win_amd64.whl\n",
      "Requirement already satisfied: certifi in c:\\users\\justi\\anaconda3\\lib\\site-packages (from pyproj==3.0.0.post1) (2020.6.20)\n",
      "Installing collected packages: pyproj\n",
      "Successfully installed pyproj-3.0.0.post1\n",
      "[*] 13.7 MB / 13.7 MB @ 4.4 MB/s [##################] [100%, 0s left]    \n",
      "Package `six` found in cache\n",
      "Downloading package . . .\n",
      "https://download.lfd.uci.edu/pythonlibs/z4tqcw5k/six-1.15.0-py3-none-any.whl\n",
      "six-1.15.0-py3-none-any.whl\n",
      "[*] 0 bytes / 11 kB @ 0 bytes/s [------------------] [0.0%, 0s left]  [*] 0 bytes / 11 kB @ 0 bytes/s [------------------] [0.0%, 0s left]  [*] 0 bytes / 11 kB @ 0 bytes/s [------------------] [0.0%, 0s left]  [*] 0 bytes / 11 kB @ 0 bytes/s [------------------] [0.0%, 0s left]  [*] 0 bytes / 11 kB @ 0 bytes/s [------------------] [0.0%, 0s left]  [*] 0 bytes / 11 kB @ 0 bytes/s [------------------] [0.0%, 0s left]  [*] 0 bytes / 11 kB @ 0 bytes/s [------------------] [0.0%, 0s left]  [*] 0 bytes / 11 kB @ 0 bytes/s [------------------] [0.0%, 0s left]  Requirement already satisfied: six==1.15.0 from file:///C:/Users/justi/pipwin/six-1.15.0-py3-none-any.whl in c:\\users\\justi\\anaconda3\\lib\\site-packages (1.15.0)\n",
      "[*] 11 kB / 11 kB @ 0 bytes/s [##################] [100%, 0s left]    \n",
      "Package `rtree` found in cache\n",
      "Downloading package . . .\n",
      "https://download.lfd.uci.edu/pythonlibs/z4tqcw5k/Rtree-0.9.4-cp38-cp38-win_amd64.whl\n",
      "Rtree-0.9.4-cp38-cp38-win_amd64.whl\n",
      "[*] 0 bytes / 272 kB @ 0 bytes/s [------------------] [0.0%, 0s left]   [*] 0 bytes / 272 kB @ 0 bytes/s [------------------] [0.0%, 0s left]   [*] 0 bytes / 272 kB @ 0 bytes/s [------------------] [0.0%, 0s left]   [*] 0 bytes / 272 kB @ 0 bytes/s [------------------] [0.0%, 0s left]   [*] 0 bytes / 272 kB @ 0 bytes/s [------------------] [0.0%, 0s left]   [*] 0 bytes / 272 kB @ 0 bytes/s [------------------] [0.0%, 0s left]   [*] 0 bytes / 272 kB @ 0 bytes/s [------------------] [0.0%, 0s left]   [*] 0 bytes / 272 kB @ 0 bytes/s [------------------] [0.0%, 0s left]   [*] 8 kB / 272 kB @ 9 kB/s [------------------] [2.9%, 0s left]   [*] 24 kB / 272 kB @ 24 kB/s [#-----------------] [8.8%, 0s left]   [*] 24 kB / 272 kB @ 22 kB/s [#-----------------] [8.8%, 0s left]   [*] 56 kB / 272 kB @ 47 kB/s [###---------------] [20.6%, 0s left]  [*] 104 kB / 272 kB @ 80 kB/s [######------------] [38.3%, 0s left]   [*] 184 kB / 272 kB @ 131 kB/s [############------] [67.7%, 0s left]  [*] 184 kB / 272 kB @ 123 kB/s [############------] [67.7%, 0s left]  Requirement already satisfied: Rtree==0.9.4 from file:///C:/Users/justi/pipwin/Rtree-0.9.4-cp38-cp38-win_amd64.whl in c:\\users\\justi\\anaconda3\\lib\\site-packages (0.9.4)\n",
      "Requirement already satisfied: setuptools in c:\\users\\justi\\anaconda3\\lib\\site-packages (from Rtree==0.9.4) (50.3.1.post20201107)\n",
      "[*] 272 kB / 272 kB @ 123 kB/s [##################] [100%, 0s left]    \n",
      "Package `geopandas` found in cache\n",
      "Downloading package . . .\n",
      "https://download.lfd.uci.edu/pythonlibs/z4tqcw5k/geopandas-0.8.1-py3-none-any.whl\n",
      "geopandas-0.8.1-py3-none-any.whl\n",
      "[*] 0 bytes / 940 kB @ 0 bytes/s [------------------] [0.0%, 0s left]   [*] 0 bytes / 940 kB @ 0 bytes/s [------------------] [0.0%, 0s left]   [*] 0 bytes / 940 kB @ 0 bytes/s [------------------] [0.0%, 0s left]   [*] 0 bytes / 940 kB @ 0 bytes/s [------------------] [0.0%, 0s left]   [*] 0 bytes / 940 kB @ 0 bytes/s [------------------] [0.0%, 0s left]   [*] 0 bytes / 940 kB @ 0 bytes/s [------------------] [0.0%, 0s left]   [*] 0 bytes / 940 kB @ 0 bytes/s [------------------] [0.0%, 0s left]   [*] 0 bytes / 940 kB @ 0 bytes/s [------------------] [0.0%, 0s left]   [*] 8 kB / 940 kB @ 9 kB/s [------------------] [0.9%, 0s left]   [*] 24 kB / 940 kB @ 24 kB/s [------------------] [2.6%, 0s left]   [*] 24 kB / 940 kB @ 22 kB/s [------------------] [2.6%, 0s left]   [*] 56 kB / 940 kB @ 47 kB/s [#-----------------] [6.0%, 0s left]   [*] 104 kB / 940 kB @ 80 kB/s [#-----------------] [11.1%, 0s left]   [*] 184 kB / 940 kB @ 131 kB/s [###---------------] [19.6%, 0s left]  [*] 184 kB / 940 kB @ 123 kB/s [###---------------] [19.6%, 0s left]  [*] 280 kB / 940 kB @ 175 kB/s [#####-------------] [29.8%, 0s left]  [*] 456 kB / 940 kB @ 268 kB/s [########----------] [48.5%, 0s left]  [*] 456 kB / 940 kB @ 253 kB/s [########----------] [48.5%, 0s left]  [*] 712 kB / 940 kB @ 375 kB/s [#############-----] [75.7%, 0s left]  Processing c:\\users\\justi\\pipwin\\geopandas-0.8.1-py3-none-any.whl\n",
      "Collecting shapely\n",
      "  Using cached Shapely-1.7.1-cp38-cp38-win_amd64.whl (1.0 MB)\n",
      "Requirement already satisfied: pandas>=0.23.0 in c:\\users\\justi\\anaconda3\\lib\\site-packages (from geopandas==0.8.1) (1.1.4)\n",
      "Requirement already satisfied: pyproj>=2.2.0 in c:\\users\\justi\\anaconda3\\lib\\site-packages (from geopandas==0.8.1) (3.0.0.post1)\n",
      "Requirement already satisfied: fiona in c:\\users\\justi\\anaconda3\\lib\\site-packages (from geopandas==0.8.1) (1.8.18)\n",
      "Requirement already satisfied: numpy>=1.15.4 in c:\\users\\justi\\anaconda3\\lib\\site-packages (from pandas>=0.23.0->geopandas==0.8.1) (1.19.4+vanilla)\n",
      "Requirement already satisfied: python-dateutil>=2.7.3 in c:\\users\\justi\\anaconda3\\lib\\site-packages (from pandas>=0.23.0->geopandas==0.8.1) (2.8.1)\n",
      "Requirement already satisfied: pytz>=2017.2 in c:\\users\\justi\\anaconda3\\lib\\site-packages (from pandas>=0.23.0->geopandas==0.8.1) (2020.1)\n",
      "Requirement already satisfied: certifi in c:\\users\\justi\\anaconda3\\lib\\site-packages (from pyproj>=2.2.0->geopandas==0.8.1) (2020.6.20)\n",
      "Requirement already satisfied: gdal~=3.1.2 in c:\\users\\justi\\anaconda3\\lib\\site-packages (from fiona->geopandas==0.8.1) (3.1.4)\n",
      "Requirement already satisfied: click-plugins>=1.0 in c:\\users\\justi\\anaconda3\\lib\\site-packages (from fiona->geopandas==0.8.1) (1.1.1)\n",
      "Requirement already satisfied: attrs>=17 in c:\\users\\justi\\anaconda3\\lib\\site-packages (from fiona->geopandas==0.8.1) (20.3.0)\n",
      "Requirement already satisfied: munch in c:\\users\\justi\\anaconda3\\lib\\site-packages (from fiona->geopandas==0.8.1) (2.5.0)\n",
      "Requirement already satisfied: click<8,>=4.0 in c:\\users\\justi\\anaconda3\\lib\\site-packages (from fiona->geopandas==0.8.1) (7.1.2)\n",
      "Requirement already satisfied: six>=1.7 in c:\\users\\justi\\anaconda3\\lib\\site-packages (from fiona->geopandas==0.8.1) (1.15.0)\n",
      "Requirement already satisfied: cligj>=0.5 in c:\\users\\justi\\anaconda3\\lib\\site-packages (from fiona->geopandas==0.8.1) (0.7.1)\n",
      "Installing collected packages: shapely, geopandas\n",
      "Successfully installed geopandas-0.8.1 shapely-1.7.1\n",
      "[*] 940 kB / 940 kB @ 375 kB/s [##################] [100%, 0s left]    \n"
     ]
    }
   ],
   "source": [
    "!pip install wheel\n",
    "!pip install pipwin\n",
    "\n",
    "!pipwin install numpy\n",
    "!pipwin install pandas\n",
    "!pipwin install gdal\n",
    "!pipwin install fiona\n",
    "!pipwin install pyproj\n",
    "!pipwin install six\n",
    "!pipwin install rtree\n",
    "!pipwin install geopandas"
   ]
  },
  {
   "cell_type": "code",
   "execution_count": 21,
   "metadata": {
    "ExecuteTime": {
     "end_time": "2020-12-02T06:09:12.119520Z",
     "start_time": "2020-12-02T06:02:09.778520Z"
    }
   },
   "outputs": [
    {
     "name": "stdout",
     "output_type": "stream",
     "text": [
      "^C\n"
     ]
    }
   ],
   "source": [
    "!conda install geopandas"
   ]
  },
  {
   "cell_type": "code",
   "execution_count": 9,
   "metadata": {
    "ExecuteTime": {
     "end_time": "2020-12-02T05:04:52.901451Z",
     "start_time": "2020-12-02T05:04:52.849554Z"
    }
   },
   "outputs": [],
   "source": [
    "bla = pd.read_csv('./bla.csv')"
   ]
  },
  {
   "cell_type": "code",
   "execution_count": null,
   "metadata": {},
   "outputs": [],
   "source": [
    "bla['geometry'] = bla.apply(lambda row: Point(row['경도'], row['위도']), axis=1)\n",
    "bla = gpd.GeoDataFrame(bla, crs='epsg:4326', geometry='geometry')\n",
    "subway = pd.read_csv('./서울내지하철최종.csv')\n",
    "subway.위도 = subway.위도.apply(lambda x : x.replace(',',''))\n",
    "subway.위도 = subway.위도.apply(lambda x : x.replace('(',''))\n",
    "subway.위도 = subway.위도.apply(lambda x : x.replace(')',''))\n",
    "subway['노역'] = subway.노선명 +'_'+ subway.역명\n",
    "subway.위도 = subway.위도.apply(lambda x : float(x))\n",
    "subway.경도 = subway.경도.apply(lambda x : float(x))\n",
    "subway['geometry'] = subway.apply(lambda row: Point(row['경도'], row['위도']), axis=1)\n",
    "subway_geo = gpd.GeoDataFrame(subway, crs='epsg:4326', geometry='geometry')\n",
    "total_total_subway = pd.DataFrame()\n",
    "bike_loc_list = bla.대여소번호.unique().tolist()\n",
    "subway_geo_unique_list= subway_geo.노역.tolist()\n",
    "for bike_num in tqdm(bike_loc_list,desc='진행도'):\n",
    "    #자전거 대여소 하나만 뽑는다.\n",
    "    locals()['bike_'+f'{bike_num}'] = bla[bla.대여소번호 == bike_num]\n",
    "    #뽑은 대여소를 점에서 400m범위를 주고 면적으로 변경한다.\n",
    "    locals()['bike_'+f'{bike_num}'+'_b'] = locals()['bike_'+f'{bike_num}'].buffer(1.0247175113158795e-05*400)\n",
    "    df = locals()['bike_'+f'{bike_num}'+'_b']\n",
    "    bk_to_subway_list = []\n",
    "    for i in range(len(subway_geo)):\n",
    "        #거치소 하나의 면적에서 마켓들 전체를 돌면서 포함여부를 판단한다.\n",
    "        if df.geometry.contains(subway_geo.loc[i,'geometry']).sum()!=0:\n",
    "            bk_to_subway_list.append(1)\n",
    "        elif df.geometry.contains(subway_geo.loc[i,'geometry']).sum()==0:\n",
    "            bk_to_subway_list.append(0)\n",
    "    total = pd.DataFrame({'노역':subway_geo_unique_list,'거치소범위포함여부':bk_to_subway_list})\n",
    "    total['거치소'] = bike_num\n",
    "    total_total_subway = total_total_subway.append(total)"
   ]
  },
  {
   "cell_type": "code",
   "execution_count": 15,
   "metadata": {
    "ExecuteTime": {
     "end_time": "2020-12-02T05:11:50.748731Z",
     "start_time": "2020-12-02T05:11:50.695731Z"
    }
   },
   "outputs": [
    {
     "data": {
      "text/html": [
       "<div>\n",
       "<style scoped>\n",
       "    .dataframe tbody tr th:only-of-type {\n",
       "        vertical-align: middle;\n",
       "    }\n",
       "\n",
       "    .dataframe tbody tr th {\n",
       "        vertical-align: top;\n",
       "    }\n",
       "\n",
       "    .dataframe thead th {\n",
       "        text-align: right;\n",
       "    }\n",
       "</style>\n",
       "<table border=\"1\" class=\"dataframe\">\n",
       "  <thead>\n",
       "    <tr style=\"text-align: right;\">\n",
       "      <th></th>\n",
       "      <th>노선명</th>\n",
       "      <th>역명</th>\n",
       "      <th>지번주소</th>\n",
       "      <th>위도</th>\n",
       "      <th>경도</th>\n",
       "      <th>평일_주말</th>\n",
       "      <th>승하차총승객수</th>\n",
       "    </tr>\n",
       "  </thead>\n",
       "  <tbody>\n",
       "    <tr>\n",
       "      <th>0</th>\n",
       "      <td>1호선</td>\n",
       "      <td>도봉산</td>\n",
       "      <td>서울특별시 도봉구 도봉동 18-1</td>\n",
       "      <td>37.680042</td>\n",
       "      <td>127.039988</td>\n",
       "      <td>NaN</td>\n",
       "      <td>NaN</td>\n",
       "    </tr>\n",
       "    <tr>\n",
       "      <th>1</th>\n",
       "      <td>1호선</td>\n",
       "      <td>도봉</td>\n",
       "      <td>서울특별시 도봉구 도봉동 639</td>\n",
       "      <td>37.675086</td>\n",
       "      <td>127.044867</td>\n",
       "      <td>NaN</td>\n",
       "      <td>NaN</td>\n",
       "    </tr>\n",
       "    <tr>\n",
       "      <th>2</th>\n",
       "      <td>1호선</td>\n",
       "      <td>방학</td>\n",
       "      <td>서울특별시 도봉구 방학동 728</td>\n",
       "      <td>37.669294</td>\n",
       "      <td>127.043858</td>\n",
       "      <td>NaN</td>\n",
       "      <td>NaN</td>\n",
       "    </tr>\n",
       "    <tr>\n",
       "      <th>3</th>\n",
       "      <td>1호선</td>\n",
       "      <td>창동</td>\n",
       "      <td>서울특별시 도봉구 창동 135-1</td>\n",
       "      <td>37.653485</td>\n",
       "      <td>127.047593</td>\n",
       "      <td>NaN</td>\n",
       "      <td>NaN</td>\n",
       "    </tr>\n",
       "    <tr>\n",
       "      <th>4</th>\n",
       "      <td>1호선</td>\n",
       "      <td>녹천</td>\n",
       "      <td>서울특별시 도봉구 창동 57-11</td>\n",
       "      <td>37.639373</td>\n",
       "      <td>127.036705</td>\n",
       "      <td>NaN</td>\n",
       "      <td>NaN</td>\n",
       "    </tr>\n",
       "    <tr>\n",
       "      <th>...</th>\n",
       "      <td>...</td>\n",
       "      <td>...</td>\n",
       "      <td>...</td>\n",
       "      <td>...</td>\n",
       "      <td>...</td>\n",
       "      <td>...</td>\n",
       "      <td>...</td>\n",
       "    </tr>\n",
       "    <tr>\n",
       "      <th>672</th>\n",
       "      <td>우이신설선</td>\n",
       "      <td>성신여대입구</td>\n",
       "      <td>서울특별시 성북구 동선동4가 1-3</td>\n",
       "      <td>37.592719</td>\n",
       "      <td>127.016518</td>\n",
       "      <td>NaN</td>\n",
       "      <td>NaN</td>\n",
       "    </tr>\n",
       "    <tr>\n",
       "      <th>673</th>\n",
       "      <td>우이신설선</td>\n",
       "      <td>보문</td>\n",
       "      <td>서울특별시 성북구 보문동1가 127-7</td>\n",
       "      <td>37.585359</td>\n",
       "      <td>127.019409</td>\n",
       "      <td>주말</td>\n",
       "      <td>1782.367089</td>\n",
       "    </tr>\n",
       "    <tr>\n",
       "      <th>674</th>\n",
       "      <td>우이신설선</td>\n",
       "      <td>보문</td>\n",
       "      <td>서울특별시 성북구 보문동1가 127-7</td>\n",
       "      <td>37.585359</td>\n",
       "      <td>127.019409</td>\n",
       "      <td>평일</td>\n",
       "      <td>2691.174359</td>\n",
       "    </tr>\n",
       "    <tr>\n",
       "      <th>675</th>\n",
       "      <td>우이신설선</td>\n",
       "      <td>신설동</td>\n",
       "      <td>서울특별시 동대문구 신설동 102-30</td>\n",
       "      <td>37.575325</td>\n",
       "      <td>127.024852</td>\n",
       "      <td>주말</td>\n",
       "      <td>2095.924051</td>\n",
       "    </tr>\n",
       "    <tr>\n",
       "      <th>676</th>\n",
       "      <td>우이신설선</td>\n",
       "      <td>신설동</td>\n",
       "      <td>서울특별시 동대문구 신설동 102-30</td>\n",
       "      <td>37.575325</td>\n",
       "      <td>127.024852</td>\n",
       "      <td>평일</td>\n",
       "      <td>3947.800000</td>\n",
       "    </tr>\n",
       "  </tbody>\n",
       "</table>\n",
       "<p>677 rows × 7 columns</p>\n",
       "</div>"
      ],
      "text/plain": [
       "       노선명      역명                   지번주소         위도          경도 평일_주말  \\\n",
       "0      1호선     도봉산     서울특별시 도봉구 도봉동 18-1  37.680042  127.039988   NaN   \n",
       "1      1호선      도봉      서울특별시 도봉구 도봉동 639  37.675086  127.044867   NaN   \n",
       "2      1호선      방학      서울특별시 도봉구 방학동 728  37.669294  127.043858   NaN   \n",
       "3      1호선      창동     서울특별시 도봉구 창동 135-1  37.653485  127.047593   NaN   \n",
       "4      1호선      녹천     서울특별시 도봉구 창동 57-11  37.639373  127.036705   NaN   \n",
       "..     ...     ...                    ...        ...         ...   ...   \n",
       "672  우이신설선  성신여대입구    서울특별시 성북구 동선동4가 1-3  37.592719  127.016518   NaN   \n",
       "673  우이신설선      보문  서울특별시 성북구 보문동1가 127-7  37.585359  127.019409    주말   \n",
       "674  우이신설선      보문  서울특별시 성북구 보문동1가 127-7  37.585359  127.019409    평일   \n",
       "675  우이신설선     신설동  서울특별시 동대문구 신설동 102-30  37.575325  127.024852    주말   \n",
       "676  우이신설선     신설동  서울특별시 동대문구 신설동 102-30  37.575325  127.024852    평일   \n",
       "\n",
       "         승하차총승객수  \n",
       "0            NaN  \n",
       "1            NaN  \n",
       "2            NaN  \n",
       "3            NaN  \n",
       "4            NaN  \n",
       "..           ...  \n",
       "672          NaN  \n",
       "673  1782.367089  \n",
       "674  2691.174359  \n",
       "675  2095.924051  \n",
       "676  3947.800000  \n",
       "\n",
       "[677 rows x 7 columns]"
      ]
     },
     "execution_count": 15,
     "metadata": {},
     "output_type": "execute_result"
    }
   ],
   "source": [
    "df = pd.read_csv('지하철최종수정필요.csv')\n",
    "df"
   ]
  },
  {
   "cell_type": "code",
   "execution_count": 11,
   "metadata": {
    "ExecuteTime": {
     "end_time": "2020-12-02T05:10:41.569668Z",
     "start_time": "2020-12-02T05:10:41.557168Z"
    }
   },
   "outputs": [],
   "source": [
    "bla = pd.read_csv('./bla.csv')"
   ]
  },
  {
   "cell_type": "code",
   "execution_count": null,
   "metadata": {},
   "outputs": [],
   "source": [
    "subway.위도 = subway.위도.apply(lambda x : x.replace(',',''))\n",
    "subway.위도 = subway.위도.apply(lambda x : x.replace('(',''))\n",
    "subway.위도 = subway.위도.apply(lambda x : x.replace(')',''))\n",
    "subway['노역'] = subway.노선명 +'_'+ subway.역명\n",
    "subway.위도 = subway.위도.apply(lambda x : float(x))\n",
    "subway.경도 = subway.경도.apply(lambda x : float(x))\n",
    "##################################\n",
    "from haversine import haversine\n",
    "total_total_subway_length = pd.DataFrame()\n",
    "for i in tqdm(range(len(bla)),desc='진행도'):\n",
    "    length_list = []\n",
    "    for j in range(len(subway)):\n",
    "        X = (bla.iloc[i,2],bla.iloc[i,1])\n",
    "        Y = (subway.iloc[j,3],subway.iloc[j,4])\n",
    "        a = haversine(X, Y, unit = 'm')\n",
    "        length_list.append(a)\n",
    "    shortest_length = sorted(length_list)[0]\n",
    "    total = pd.DataFrame({“X”:[i],“Y”:[subway.iloc[find_index(length_list,sorted(length_list)[0])[0],5]],“shortest_length”:[shortest_length]})\n",
    "    total_total_subway_length = total_total_subway_length.append(total)"
   ]
  },
  {
   "cell_type": "code",
   "execution_count": 18,
   "metadata": {
    "ExecuteTime": {
     "end_time": "2020-12-02T05:47:27.230745Z",
     "start_time": "2020-12-02T05:47:27.212736Z"
    }
   },
   "outputs": [
    {
     "ename": "FileNotFoundError",
     "evalue": "[Errno 2] File ./서울내지하철최종.csv does not exist: './서울내지하철최종.csv'",
     "output_type": "error",
     "traceback": [
      "\u001b[1;31m---------------------------------------------------------------------------\u001b[0m",
      "\u001b[1;31mFileNotFoundError\u001b[0m                         Traceback (most recent call last)",
      "\u001b[1;32m<ipython-input-18-358188e757e7>\u001b[0m in \u001b[0;36m<module>\u001b[1;34m\u001b[0m\n\u001b[1;32m----> 1\u001b[1;33m \u001b[0msubway\u001b[0m \u001b[1;33m=\u001b[0m \u001b[0mpd\u001b[0m\u001b[1;33m.\u001b[0m\u001b[0mread_csv\u001b[0m\u001b[1;33m(\u001b[0m\u001b[1;34m'./서울내지하철최종.csv'\u001b[0m\u001b[1;33m)\u001b[0m\u001b[1;33m\u001b[0m\u001b[1;33m\u001b[0m\u001b[0m\n\u001b[0m",
      "\u001b[1;32m~\\anaconda3\\lib\\site-packages\\pandas\\io\\parsers.py\u001b[0m in \u001b[0;36mparser_f\u001b[1;34m(filepath_or_buffer, sep, delimiter, header, names, index_col, usecols, squeeze, prefix, mangle_dupe_cols, dtype, engine, converters, true_values, false_values, skipinitialspace, skiprows, skipfooter, nrows, na_values, keep_default_na, na_filter, verbose, skip_blank_lines, parse_dates, infer_datetime_format, keep_date_col, date_parser, dayfirst, cache_dates, iterator, chunksize, compression, thousands, decimal, lineterminator, quotechar, quoting, doublequote, escapechar, comment, encoding, dialect, error_bad_lines, warn_bad_lines, delim_whitespace, low_memory, memory_map, float_precision)\u001b[0m\n\u001b[0;32m    674\u001b[0m         \u001b[0mencoding\u001b[0m\u001b[1;33m=\u001b[0m\u001b[0mencoding\u001b[0m\u001b[1;33m,\u001b[0m\u001b[1;33m\u001b[0m\u001b[1;33m\u001b[0m\u001b[0m\n\u001b[0;32m    675\u001b[0m         \u001b[0msqueeze\u001b[0m\u001b[1;33m=\u001b[0m\u001b[0msqueeze\u001b[0m\u001b[1;33m,\u001b[0m\u001b[1;33m\u001b[0m\u001b[1;33m\u001b[0m\u001b[0m\n\u001b[1;32m--> 676\u001b[1;33m         \u001b[0mmemory_map\u001b[0m\u001b[1;33m=\u001b[0m\u001b[0mmemory_map\u001b[0m\u001b[1;33m,\u001b[0m\u001b[1;33m\u001b[0m\u001b[1;33m\u001b[0m\u001b[0m\n\u001b[0m\u001b[0;32m    677\u001b[0m         \u001b[0mfloat_precision\u001b[0m\u001b[1;33m=\u001b[0m\u001b[0mfloat_precision\u001b[0m\u001b[1;33m,\u001b[0m\u001b[1;33m\u001b[0m\u001b[1;33m\u001b[0m\u001b[0m\n\u001b[0;32m    678\u001b[0m         \u001b[0mna_filter\u001b[0m\u001b[1;33m=\u001b[0m\u001b[0mna_filter\u001b[0m\u001b[1;33m,\u001b[0m\u001b[1;33m\u001b[0m\u001b[1;33m\u001b[0m\u001b[0m\n",
      "\u001b[1;32m~\\anaconda3\\lib\\site-packages\\pandas\\io\\parsers.py\u001b[0m in \u001b[0;36m_read\u001b[1;34m(filepath_or_buffer, kwds)\u001b[0m\n\u001b[0;32m    446\u001b[0m     \u001b[0miterator\u001b[0m \u001b[1;33m=\u001b[0m \u001b[0mkwds\u001b[0m\u001b[1;33m.\u001b[0m\u001b[0mget\u001b[0m\u001b[1;33m(\u001b[0m\u001b[1;34m\"iterator\"\u001b[0m\u001b[1;33m,\u001b[0m \u001b[1;32mFalse\u001b[0m\u001b[1;33m)\u001b[0m\u001b[1;33m\u001b[0m\u001b[1;33m\u001b[0m\u001b[0m\n\u001b[0;32m    447\u001b[0m     \u001b[0mchunksize\u001b[0m \u001b[1;33m=\u001b[0m \u001b[0m_validate_integer\u001b[0m\u001b[1;33m(\u001b[0m\u001b[1;34m\"chunksize\"\u001b[0m\u001b[1;33m,\u001b[0m \u001b[0mkwds\u001b[0m\u001b[1;33m.\u001b[0m\u001b[0mget\u001b[0m\u001b[1;33m(\u001b[0m\u001b[1;34m\"chunksize\"\u001b[0m\u001b[1;33m,\u001b[0m \u001b[1;32mNone\u001b[0m\u001b[1;33m)\u001b[0m\u001b[1;33m,\u001b[0m \u001b[1;36m1\u001b[0m\u001b[1;33m)\u001b[0m\u001b[1;33m\u001b[0m\u001b[1;33m\u001b[0m\u001b[0m\n\u001b[1;32m--> 448\u001b[1;33m     \u001b[0mnrows\u001b[0m \u001b[1;33m=\u001b[0m \u001b[0mkwds\u001b[0m\u001b[1;33m.\u001b[0m\u001b[0mget\u001b[0m\u001b[1;33m(\u001b[0m\u001b[1;34m\"nrows\"\u001b[0m\u001b[1;33m,\u001b[0m \u001b[1;32mNone\u001b[0m\u001b[1;33m)\u001b[0m\u001b[1;33m\u001b[0m\u001b[1;33m\u001b[0m\u001b[0m\n\u001b[0m\u001b[0;32m    449\u001b[0m \u001b[1;33m\u001b[0m\u001b[0m\n\u001b[0;32m    450\u001b[0m     \u001b[1;31m# Check for duplicates in names.\u001b[0m\u001b[1;33m\u001b[0m\u001b[1;33m\u001b[0m\u001b[1;33m\u001b[0m\u001b[0m\n",
      "\u001b[1;32m~\\anaconda3\\lib\\site-packages\\pandas\\io\\parsers.py\u001b[0m in \u001b[0;36m__init__\u001b[1;34m(self, f, engine, **kwds)\u001b[0m\n\u001b[0;32m    878\u001b[0m                 \u001b[1;34m\"delimiter\"\u001b[0m\u001b[1;33m,\u001b[0m\u001b[1;33m\u001b[0m\u001b[1;33m\u001b[0m\u001b[0m\n\u001b[0;32m    879\u001b[0m                 \u001b[1;34m\"doublequote\"\u001b[0m\u001b[1;33m,\u001b[0m\u001b[1;33m\u001b[0m\u001b[1;33m\u001b[0m\u001b[0m\n\u001b[1;32m--> 880\u001b[1;33m                 \u001b[1;34m\"escapechar\"\u001b[0m\u001b[1;33m,\u001b[0m\u001b[1;33m\u001b[0m\u001b[1;33m\u001b[0m\u001b[0m\n\u001b[0m\u001b[0;32m    881\u001b[0m                 \u001b[1;34m\"skipinitialspace\"\u001b[0m\u001b[1;33m,\u001b[0m\u001b[1;33m\u001b[0m\u001b[1;33m\u001b[0m\u001b[0m\n\u001b[0;32m    882\u001b[0m                 \u001b[1;34m\"quotechar\"\u001b[0m\u001b[1;33m,\u001b[0m\u001b[1;33m\u001b[0m\u001b[1;33m\u001b[0m\u001b[0m\n",
      "\u001b[1;32m~\\anaconda3\\lib\\site-packages\\pandas\\io\\parsers.py\u001b[0m in \u001b[0;36m_make_engine\u001b[1;34m(self, engine)\u001b[0m\n\u001b[0;32m   1112\u001b[0m         \u001b[1;32mfor\u001b[0m \u001b[0marg\u001b[0m \u001b[1;32min\u001b[0m \u001b[0m_deprecated_args\u001b[0m\u001b[1;33m:\u001b[0m\u001b[1;33m\u001b[0m\u001b[1;33m\u001b[0m\u001b[0m\n\u001b[0;32m   1113\u001b[0m             \u001b[0mparser_default\u001b[0m \u001b[1;33m=\u001b[0m \u001b[0m_c_parser_defaults\u001b[0m\u001b[1;33m[\u001b[0m\u001b[0marg\u001b[0m\u001b[1;33m]\u001b[0m\u001b[1;33m\u001b[0m\u001b[1;33m\u001b[0m\u001b[0m\n\u001b[1;32m-> 1114\u001b[1;33m             \u001b[0mdepr_default\u001b[0m \u001b[1;33m=\u001b[0m \u001b[0m_deprecated_defaults\u001b[0m\u001b[1;33m[\u001b[0m\u001b[0marg\u001b[0m\u001b[1;33m]\u001b[0m\u001b[1;33m\u001b[0m\u001b[1;33m\u001b[0m\u001b[0m\n\u001b[0m\u001b[0;32m   1115\u001b[0m \u001b[1;33m\u001b[0m\u001b[0m\n\u001b[0;32m   1116\u001b[0m             msg = (\n",
      "\u001b[1;32m~\\anaconda3\\lib\\site-packages\\pandas\\io\\parsers.py\u001b[0m in \u001b[0;36m__init__\u001b[1;34m(self, src, **kwds)\u001b[0m\n\u001b[0;32m   1889\u001b[0m                 \u001b[0mna_count\u001b[0m \u001b[1;33m=\u001b[0m \u001b[0mparsers\u001b[0m\u001b[1;33m.\u001b[0m\u001b[0msanitize_objects\u001b[0m\u001b[1;33m(\u001b[0m\u001b[0mresult\u001b[0m\u001b[1;33m,\u001b[0m \u001b[0mna_values\u001b[0m\u001b[1;33m,\u001b[0m \u001b[1;32mFalse\u001b[0m\u001b[1;33m)\u001b[0m\u001b[1;33m\u001b[0m\u001b[1;33m\u001b[0m\u001b[0m\n\u001b[0;32m   1890\u001b[0m             \u001b[1;32melse\u001b[0m\u001b[1;33m:\u001b[0m\u001b[1;33m\u001b[0m\u001b[1;33m\u001b[0m\u001b[0m\n\u001b[1;32m-> 1891\u001b[1;33m                 \u001b[0mna_count\u001b[0m \u001b[1;33m=\u001b[0m \u001b[0misna\u001b[0m\u001b[1;33m(\u001b[0m\u001b[0mresult\u001b[0m\u001b[1;33m)\u001b[0m\u001b[1;33m.\u001b[0m\u001b[0msum\u001b[0m\u001b[1;33m(\u001b[0m\u001b[1;33m)\u001b[0m\u001b[1;33m\u001b[0m\u001b[1;33m\u001b[0m\u001b[0m\n\u001b[0m\u001b[0;32m   1892\u001b[0m         \u001b[1;32melse\u001b[0m\u001b[1;33m:\u001b[0m\u001b[1;33m\u001b[0m\u001b[1;33m\u001b[0m\u001b[0m\n\u001b[0;32m   1893\u001b[0m             \u001b[0mresult\u001b[0m \u001b[1;33m=\u001b[0m \u001b[0mvalues\u001b[0m\u001b[1;33m\u001b[0m\u001b[1;33m\u001b[0m\u001b[0m\n",
      "\u001b[1;32mpandas\\_libs\\parsers.pyx\u001b[0m in \u001b[0;36mpandas._libs.parsers.TextReader.__cinit__\u001b[1;34m()\u001b[0m\n",
      "\u001b[1;32mpandas\\_libs\\parsers.pyx\u001b[0m in \u001b[0;36mpandas._libs.parsers.TextReader._setup_parser_source\u001b[1;34m()\u001b[0m\n",
      "\u001b[1;31mFileNotFoundError\u001b[0m: [Errno 2] File ./서울내지하철최종.csv does not exist: './서울내지하철최종.csv'"
     ]
    }
   ],
   "source": [
    "subway = pd.read_csv('./서울내지하철최종.csv')"
   ]
  },
  {
   "cell_type": "code",
   "execution_count": null,
   "metadata": {},
   "outputs": [],
   "source": []
  }
 ],
 "metadata": {
  "kernelspec": {
   "display_name": "Python 3",
   "language": "python",
   "name": "python3"
  },
  "language_info": {
   "codemirror_mode": {
    "name": "ipython",
    "version": 3
   },
   "file_extension": ".py",
   "mimetype": "text/x-python",
   "name": "python",
   "nbconvert_exporter": "python",
   "pygments_lexer": "ipython3",
   "version": "3.8.5"
  },
  "toc": {
   "base_numbering": 1,
   "nav_menu": {},
   "number_sections": true,
   "sideBar": true,
   "skip_h1_title": false,
   "title_cell": "Table of Contents",
   "title_sidebar": "Contents",
   "toc_cell": false,
   "toc_position": {},
   "toc_section_display": true,
   "toc_window_display": false
  },
  "varInspector": {
   "cols": {
    "lenName": 16,
    "lenType": 16,
    "lenVar": 40
   },
   "kernels_config": {
    "python": {
     "delete_cmd_postfix": "",
     "delete_cmd_prefix": "del ",
     "library": "var_list.py",
     "varRefreshCmd": "print(var_dic_list())"
    },
    "r": {
     "delete_cmd_postfix": ") ",
     "delete_cmd_prefix": "rm(",
     "library": "var_list.r",
     "varRefreshCmd": "cat(var_dic_list()) "
    }
   },
   "types_to_exclude": [
    "module",
    "function",
    "builtin_function_or_method",
    "instance",
    "_Feature"
   ],
   "window_display": false
  }
 },
 "nbformat": 4,
 "nbformat_minor": 4
}
