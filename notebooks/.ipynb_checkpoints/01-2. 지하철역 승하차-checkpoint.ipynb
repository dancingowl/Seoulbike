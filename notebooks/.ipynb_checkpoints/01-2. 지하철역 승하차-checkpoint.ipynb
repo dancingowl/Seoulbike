{
 "cells": [
  {
   "cell_type": "code",
   "execution_count": null,
   "metadata": {},
   "outputs": [],
   "source": []
  },
  {
   "cell_type": "code",
   "execution_count": null,
   "metadata": {},
   "outputs": [],
   "source": []
  },
  {
   "cell_type": "code",
   "execution_count": null,
   "metadata": {},
   "outputs": [],
   "source": []
  },
  {
   "cell_type": "code",
   "execution_count": 1,
   "metadata": {
    "ExecuteTime": {
     "end_time": "2020-12-02T01:29:04.918401Z",
     "start_time": "2020-12-02T01:29:04.624903Z"
    }
   },
   "outputs": [],
   "source": [
    "import pandas as pd\n",
    "import numpy as np\n",
    "import glob, os, chardet, pprint\n",
    "from tqdm import notebook\n",
    "import datetime"
   ]
  },
  {
   "cell_type": "code",
   "execution_count": 2,
   "metadata": {
    "ExecuteTime": {
     "end_time": "2020-12-02T01:29:04.933901Z",
     "start_time": "2020-12-02T01:29:04.919402Z"
    }
   },
   "outputs": [],
   "source": [
    "def readcsv_(Path_folder, header = 0):\n",
    "\n",
    "    file_list = notebook.tqdm([file for file in os.listdir(Path_folder) if file.endswith(('.csv','.xlsx'))])\n",
    "    df_list = []\n",
    "    encodings = ['utf-8', 'cp949', 'euc-kr', 'cp1252', 'cp850']\n",
    "\n",
    "    for idx, file in enumerate(file_list): #, total = len(file_list), leave = True)\n",
    "        print(f'({idx}) {file}')\n",
    "        if file.endswith(\".csv\"):\n",
    "            for cp in encodings:\n",
    "                try:\n",
    "                    locals()[f'df{idx+1}'] = pd.read_csv(Path_folder+file, encoding = cp, header = header)\n",
    "                    df_list.append(locals()[f'df{idx+1}'])\n",
    "                    break\n",
    "                except: # 에러 종류\n",
    "                    pass\n",
    "        elif file.endswith(\".xlsx\"):\n",
    "                locals()[f'df{idx+1}'] = pd.read_excel(Path_folder+file, header = header)\n",
    "                df_list.append(locals()[f'df{idx+1}'])\n",
    "\n",
    "        else:\n",
    "            print(f'     {\"*\"*8}이 파일은 읽을 수 없습니다{\"*\"*8}')\n",
    "\n",
    "    print(f'\\n폴더 내 csv / xlsx 파일 개수: {len(file_list)}개')\n",
    "    print(f'총 데이터프레임 개수: {len(df_list)}개')\n",
    "\n",
    "    return df_list"
   ]
  },
  {
   "cell_type": "markdown",
   "metadata": {},
   "source": [
    "## 지하철 승차인원"
   ]
  },
  {
   "cell_type": "code",
   "execution_count": 4,
   "metadata": {
    "ExecuteTime": {
     "end_time": "2020-12-02T01:29:37.993888Z",
     "start_time": "2020-12-02T01:29:37.567521Z"
    }
   },
   "outputs": [
    {
     "data": {
      "application/vnd.jupyter.widget-view+json": {
       "model_id": "6efa701fa0e949b79e49a45d5eea9c1a",
       "version_major": 2,
       "version_minor": 0
      },
      "text/plain": [
       "HBox(children=(FloatProgress(value=0.0, max=9.0), HTML(value='')))"
      ]
     },
     "metadata": {},
     "output_type": "display_data"
    },
    {
     "name": "stdout",
     "output_type": "stream",
     "text": [
      "(0) CARD_SUBWAY_MONTH_202002.csv\n",
      "(1) CARD_SUBWAY_MONTH_202003.csv\n",
      "(2) CARD_SUBWAY_MONTH_202004.csv\n",
      "(3) CARD_SUBWAY_MONTH_202005.csv\n",
      "(4) CARD_SUBWAY_MONTH_202006.csv\n",
      "(5) CARD_SUBWAY_MONTH_202007.csv\n",
      "(6) CARD_SUBWAY_MONTH_202008.csv\n",
      "(7) CARD_SUBWAY_MONTH_202009.csv\n",
      "(8) CARD_SUBWAY_MONTH_202010.csv\n",
      "\n",
      "\n",
      "폴더 내 csv / xlsx 파일 개수: 9개\n",
      "총 데이터프레임 개수: 9개\n"
     ]
    }
   ],
   "source": [
    "subway_population = readcsv_('./raw data/지하철승하차인원/')"
   ]
  },
  {
   "cell_type": "code",
   "execution_count": 6,
   "metadata": {
    "ExecuteTime": {
     "end_time": "2020-12-02T01:29:43.083899Z",
     "start_time": "2020-12-02T01:29:43.075398Z"
    }
   },
   "outputs": [
    {
     "name": "stdout",
     "output_type": "stream",
     "text": [
      "Index(['사용일자', '노선명', '역명', '승차총승객수', '하차총승객수', '등록일자'], dtype='object')\n",
      "Index(['사용일자', '노선명', '역명', '승차총승객수', '하차총승객수', '등록일자'], dtype='object')\n",
      "Index(['사용일자', '노선명', '역명', '승차총승객수', '하차총승객수', '등록일자'], dtype='object')\n",
      "Index(['사용일자', '노선명', '역명', '승차총승객수', '하차총승객수', '등록일자'], dtype='object')\n",
      "Index(['사용일자', '노선명', '역ID', '역명', '승차총승객수', '하차총승객수', '등록일자'], dtype='object')\n",
      "Index(['사용일자', '노선명', '역ID', '역명', '승차총승객수', '하차총승객수', '등록일자'], dtype='object')\n",
      "Index(['사용일자', '노선명', '역ID', '역명', '승차총승객수', '하차총승객수', '등록일자'], dtype='object')\n",
      "Index(['사용일자', '노선명', '역ID', '역명', '승차총승객수', '하차총승객수', '등록일자'], dtype='object')\n",
      "Index(['사용일자', '노선명', '역ID', '역명', '승차총승객수', '하차총승객수', '등록일자'], dtype='object')\n"
     ]
    }
   ],
   "source": [
    "for i in range(9):\n",
    "    print(subway_population[i].columns)"
   ]
  },
  {
   "cell_type": "code",
   "execution_count": 7,
   "metadata": {
    "ExecuteTime": {
     "end_time": "2020-12-02T01:29:43.623251Z",
     "start_time": "2020-12-02T01:29:43.618252Z"
    }
   },
   "outputs": [],
   "source": [
    "subway_population[3] = subway_population[3].reset_index()\n",
    "subway_population[3].columns = ['사용일자','노선명','역명','승차총승객수','하차총승객수','등록일자','드롭']\n",
    "subway_population[3].drop('드롭', axis=1, inplace=True)"
   ]
  },
  {
   "cell_type": "code",
   "execution_count": 8,
   "metadata": {
    "ExecuteTime": {
     "end_time": "2020-12-02T01:29:47.122115Z",
     "start_time": "2020-12-02T01:29:47.103112Z"
    }
   },
   "outputs": [
    {
     "data": {
      "text/html": [
       "<div>\n",
       "<style scoped>\n",
       "    .dataframe tbody tr th:only-of-type {\n",
       "        vertical-align: middle;\n",
       "    }\n",
       "\n",
       "    .dataframe tbody tr th {\n",
       "        vertical-align: top;\n",
       "    }\n",
       "\n",
       "    .dataframe thead th {\n",
       "        text-align: right;\n",
       "    }\n",
       "</style>\n",
       "<table border=\"1\" class=\"dataframe\">\n",
       "  <thead>\n",
       "    <tr style=\"text-align: right;\">\n",
       "      <th></th>\n",
       "      <th>사용일자</th>\n",
       "      <th>노선명</th>\n",
       "      <th>역명</th>\n",
       "      <th>승차총승객수</th>\n",
       "      <th>하차총승객수</th>\n",
       "      <th>등록일자</th>\n",
       "    </tr>\n",
       "  </thead>\n",
       "  <tbody>\n",
       "    <tr>\n",
       "      <th>0</th>\n",
       "      <td>20200501</td>\n",
       "      <td>중앙선</td>\n",
       "      <td>운길산</td>\n",
       "      <td>1349</td>\n",
       "      <td>1358</td>\n",
       "      <td>20200504</td>\n",
       "    </tr>\n",
       "    <tr>\n",
       "      <th>1</th>\n",
       "      <td>20200501</td>\n",
       "      <td>중앙선</td>\n",
       "      <td>팔당</td>\n",
       "      <td>1492</td>\n",
       "      <td>1712</td>\n",
       "      <td>20200504</td>\n",
       "    </tr>\n",
       "    <tr>\n",
       "      <th>2</th>\n",
       "      <td>20200501</td>\n",
       "      <td>중앙선</td>\n",
       "      <td>도심</td>\n",
       "      <td>1691</td>\n",
       "      <td>1462</td>\n",
       "      <td>20200504</td>\n",
       "    </tr>\n",
       "    <tr>\n",
       "      <th>3</th>\n",
       "      <td>20200501</td>\n",
       "      <td>중앙선</td>\n",
       "      <td>덕소</td>\n",
       "      <td>4303</td>\n",
       "      <td>4233</td>\n",
       "      <td>20200504</td>\n",
       "    </tr>\n",
       "    <tr>\n",
       "      <th>4</th>\n",
       "      <td>20200501</td>\n",
       "      <td>중앙선</td>\n",
       "      <td>양정</td>\n",
       "      <td>645</td>\n",
       "      <td>599</td>\n",
       "      <td>20200504</td>\n",
       "    </tr>\n",
       "    <tr>\n",
       "      <th>...</th>\n",
       "      <td>...</td>\n",
       "      <td>...</td>\n",
       "      <td>...</td>\n",
       "      <td>...</td>\n",
       "      <td>...</td>\n",
       "      <td>...</td>\n",
       "    </tr>\n",
       "    <tr>\n",
       "      <th>18322</th>\n",
       "      <td>20200531</td>\n",
       "      <td>2호선</td>\n",
       "      <td>도림천</td>\n",
       "      <td>408</td>\n",
       "      <td>398</td>\n",
       "      <td>20200603</td>\n",
       "    </tr>\n",
       "    <tr>\n",
       "      <th>18323</th>\n",
       "      <td>20200531</td>\n",
       "      <td>2호선</td>\n",
       "      <td>신설동</td>\n",
       "      <td>2556</td>\n",
       "      <td>2589</td>\n",
       "      <td>20200603</td>\n",
       "    </tr>\n",
       "    <tr>\n",
       "      <th>18324</th>\n",
       "      <td>20200531</td>\n",
       "      <td>2호선</td>\n",
       "      <td>신답</td>\n",
       "      <td>616</td>\n",
       "      <td>640</td>\n",
       "      <td>20200603</td>\n",
       "    </tr>\n",
       "    <tr>\n",
       "      <th>18325</th>\n",
       "      <td>20200531</td>\n",
       "      <td>2호선</td>\n",
       "      <td>용답</td>\n",
       "      <td>1400</td>\n",
       "      <td>1420</td>\n",
       "      <td>20200603</td>\n",
       "    </tr>\n",
       "    <tr>\n",
       "      <th>18326</th>\n",
       "      <td>20200531</td>\n",
       "      <td>2호선</td>\n",
       "      <td>충정로(경기대입구)</td>\n",
       "      <td>3134</td>\n",
       "      <td>3381</td>\n",
       "      <td>20200603</td>\n",
       "    </tr>\n",
       "  </tbody>\n",
       "</table>\n",
       "<p>18327 rows × 6 columns</p>\n",
       "</div>"
      ],
      "text/plain": [
       "           사용일자  노선명          역명  승차총승객수  하차총승객수      등록일자\n",
       "0      20200501  중앙선         운길산    1349    1358  20200504\n",
       "1      20200501  중앙선          팔당    1492    1712  20200504\n",
       "2      20200501  중앙선          도심    1691    1462  20200504\n",
       "3      20200501  중앙선          덕소    4303    4233  20200504\n",
       "4      20200501  중앙선          양정     645     599  20200504\n",
       "...         ...  ...         ...     ...     ...       ...\n",
       "18322  20200531  2호선         도림천     408     398  20200603\n",
       "18323  20200531  2호선         신설동    2556    2589  20200603\n",
       "18324  20200531  2호선          신답     616     640  20200603\n",
       "18325  20200531  2호선          용답    1400    1420  20200603\n",
       "18326  20200531  2호선  충정로(경기대입구)    3134    3381  20200603\n",
       "\n",
       "[18327 rows x 6 columns]"
      ]
     },
     "execution_count": 8,
     "metadata": {},
     "output_type": "execute_result"
    }
   ],
   "source": [
    "subway_population[3]"
   ]
  },
  {
   "cell_type": "code",
   "execution_count": 9,
   "metadata": {
    "ExecuteTime": {
     "end_time": "2020-12-02T01:29:55.833087Z",
     "start_time": "2020-12-02T01:29:55.814569Z"
    },
    "scrolled": true
   },
   "outputs": [],
   "source": [
    "df_1 = pd.concat([subway_population[0],subway_population[1],subway_population[2],subway_population[3]],axis=0)"
   ]
  },
  {
   "cell_type": "code",
   "execution_count": 10,
   "metadata": {
    "ExecuteTime": {
     "end_time": "2020-12-02T01:29:55.848588Z",
     "start_time": "2020-12-02T01:29:55.834087Z"
    }
   },
   "outputs": [],
   "source": [
    "df_1.drop('등록일자', axis=1, inplace=True)"
   ]
  },
  {
   "cell_type": "code",
   "execution_count": 11,
   "metadata": {
    "ExecuteTime": {
     "end_time": "2020-12-02T01:29:55.864087Z",
     "start_time": "2020-12-02T01:29:55.849588Z"
    }
   },
   "outputs": [],
   "source": [
    "df_2 = pd.concat([subway_population[4],subway_population[5],subway_population[6],subway_population[7],\n",
    "           subway_population[8]], axis=0)"
   ]
  },
  {
   "cell_type": "code",
   "execution_count": 12,
   "metadata": {
    "ExecuteTime": {
     "end_time": "2020-12-02T01:29:55.879586Z",
     "start_time": "2020-12-02T01:29:55.865087Z"
    }
   },
   "outputs": [],
   "source": [
    "df_2.columns = ['사용일자','노선명','역명','승차총승객수','하차총승객수','등록일자','드랍']"
   ]
  },
  {
   "cell_type": "code",
   "execution_count": 13,
   "metadata": {
    "ExecuteTime": {
     "end_time": "2020-12-02T01:29:55.895086Z",
     "start_time": "2020-12-02T01:29:55.880587Z"
    }
   },
   "outputs": [],
   "source": [
    "df_2.drop(['등록일자','드랍'],axis=1, inplace=True)"
   ]
  },
  {
   "cell_type": "code",
   "execution_count": 14,
   "metadata": {
    "ExecuteTime": {
     "end_time": "2020-12-02T01:29:55.910586Z",
     "start_time": "2020-12-02T01:29:55.896087Z"
    }
   },
   "outputs": [
    {
     "data": {
      "text/html": [
       "<div>\n",
       "<style scoped>\n",
       "    .dataframe tbody tr th:only-of-type {\n",
       "        vertical-align: middle;\n",
       "    }\n",
       "\n",
       "    .dataframe tbody tr th {\n",
       "        vertical-align: top;\n",
       "    }\n",
       "\n",
       "    .dataframe thead th {\n",
       "        text-align: right;\n",
       "    }\n",
       "</style>\n",
       "<table border=\"1\" class=\"dataframe\">\n",
       "  <thead>\n",
       "    <tr style=\"text-align: right;\">\n",
       "      <th></th>\n",
       "      <th>사용일자</th>\n",
       "      <th>노선명</th>\n",
       "      <th>역명</th>\n",
       "      <th>승차총승객수</th>\n",
       "      <th>하차총승객수</th>\n",
       "    </tr>\n",
       "  </thead>\n",
       "  <tbody>\n",
       "    <tr>\n",
       "      <th>0</th>\n",
       "      <td>20200601</td>\n",
       "      <td>5호선</td>\n",
       "      <td>개화산</td>\n",
       "      <td>5145</td>\n",
       "      <td>4899</td>\n",
       "    </tr>\n",
       "    <tr>\n",
       "      <th>1</th>\n",
       "      <td>20200601</td>\n",
       "      <td>3호선</td>\n",
       "      <td>불광</td>\n",
       "      <td>15920</td>\n",
       "      <td>17131</td>\n",
       "    </tr>\n",
       "    <tr>\n",
       "      <th>2</th>\n",
       "      <td>20200601</td>\n",
       "      <td>2호선</td>\n",
       "      <td>신도림</td>\n",
       "      <td>47364</td>\n",
       "      <td>46161</td>\n",
       "    </tr>\n",
       "    <tr>\n",
       "      <th>3</th>\n",
       "      <td>20200601</td>\n",
       "      <td>3호선</td>\n",
       "      <td>연신내</td>\n",
       "      <td>37604</td>\n",
       "      <td>35416</td>\n",
       "    </tr>\n",
       "    <tr>\n",
       "      <th>4</th>\n",
       "      <td>20200601</td>\n",
       "      <td>3호선</td>\n",
       "      <td>구파발</td>\n",
       "      <td>20615</td>\n",
       "      <td>19107</td>\n",
       "    </tr>\n",
       "    <tr>\n",
       "      <th>...</th>\n",
       "      <td>...</td>\n",
       "      <td>...</td>\n",
       "      <td>...</td>\n",
       "      <td>...</td>\n",
       "      <td>...</td>\n",
       "    </tr>\n",
       "    <tr>\n",
       "      <th>18532</th>\n",
       "      <td>20201031</td>\n",
       "      <td>2호선</td>\n",
       "      <td>신림</td>\n",
       "      <td>51858</td>\n",
       "      <td>48197</td>\n",
       "    </tr>\n",
       "    <tr>\n",
       "      <th>18533</th>\n",
       "      <td>20201031</td>\n",
       "      <td>5호선</td>\n",
       "      <td>영등포시장</td>\n",
       "      <td>6997</td>\n",
       "      <td>7307</td>\n",
       "    </tr>\n",
       "    <tr>\n",
       "      <th>18534</th>\n",
       "      <td>20201031</td>\n",
       "      <td>5호선</td>\n",
       "      <td>영등포구청</td>\n",
       "      <td>1984</td>\n",
       "      <td>1911</td>\n",
       "    </tr>\n",
       "    <tr>\n",
       "      <th>18535</th>\n",
       "      <td>20201031</td>\n",
       "      <td>5호선</td>\n",
       "      <td>양평</td>\n",
       "      <td>3501</td>\n",
       "      <td>3266</td>\n",
       "    </tr>\n",
       "    <tr>\n",
       "      <th>18536</th>\n",
       "      <td>20201031</td>\n",
       "      <td>5호선</td>\n",
       "      <td>오목교(목동운동장앞)</td>\n",
       "      <td>17238</td>\n",
       "      <td>18277</td>\n",
       "    </tr>\n",
       "  </tbody>\n",
       "</table>\n",
       "<p>90850 rows × 5 columns</p>\n",
       "</div>"
      ],
      "text/plain": [
       "           사용일자  노선명           역명  승차총승객수  하차총승객수\n",
       "0      20200601  5호선          개화산    5145    4899\n",
       "1      20200601  3호선           불광   15920   17131\n",
       "2      20200601  2호선          신도림   47364   46161\n",
       "3      20200601  3호선          연신내   37604   35416\n",
       "4      20200601  3호선          구파발   20615   19107\n",
       "...         ...  ...          ...     ...     ...\n",
       "18532  20201031  2호선           신림   51858   48197\n",
       "18533  20201031  5호선        영등포시장    6997    7307\n",
       "18534  20201031  5호선        영등포구청    1984    1911\n",
       "18535  20201031  5호선           양평    3501    3266\n",
       "18536  20201031  5호선  오목교(목동운동장앞)   17238   18277\n",
       "\n",
       "[90850 rows x 5 columns]"
      ]
     },
     "execution_count": 14,
     "metadata": {},
     "output_type": "execute_result"
    }
   ],
   "source": [
    "df_2"
   ]
  },
  {
   "cell_type": "code",
   "execution_count": 15,
   "metadata": {
    "ExecuteTime": {
     "end_time": "2020-12-02T01:29:55.926086Z",
     "start_time": "2020-12-02T01:29:55.911586Z"
    }
   },
   "outputs": [],
   "source": [
    "subway_people = pd.concat([df_1, df_2], axis=0)"
   ]
  },
  {
   "cell_type": "code",
   "execution_count": 16,
   "metadata": {
    "ExecuteTime": {
     "end_time": "2020-12-02T01:29:55.941587Z",
     "start_time": "2020-12-02T01:29:55.927586Z"
    }
   },
   "outputs": [],
   "source": [
    "subway_people.reset_index(drop=True, inplace=True)"
   ]
  },
  {
   "cell_type": "code",
   "execution_count": 17,
   "metadata": {
    "ExecuteTime": {
     "end_time": "2020-12-02T01:29:56.019086Z",
     "start_time": "2020-12-02T01:29:55.943086Z"
    }
   },
   "outputs": [],
   "source": [
    "subway_people.사용일자 = subway_people.사용일자.astype(str)"
   ]
  },
  {
   "cell_type": "code",
   "execution_count": 18,
   "metadata": {
    "ExecuteTime": {
     "end_time": "2020-12-02T01:29:56.112086Z",
     "start_time": "2020-12-02T01:29:56.020087Z"
    },
    "scrolled": true
   },
   "outputs": [],
   "source": [
    "subway_people.사용일자 = subway_people.사용일자.apply(lambda x : str(x[:4])+'-'+str(x[4:6])+'-'+str(x[6:9]))"
   ]
  },
  {
   "cell_type": "code",
   "execution_count": 19,
   "metadata": {
    "ExecuteTime": {
     "end_time": "2020-12-02T01:29:56.949086Z",
     "start_time": "2020-12-02T01:29:56.113086Z"
    }
   },
   "outputs": [],
   "source": [
    "import datetime\n",
    "subway_people.사용일자 = subway_people.사용일자.apply(lambda x : datetime.datetime.strptime(x, '%Y-%m-%d'))"
   ]
  },
  {
   "cell_type": "code",
   "execution_count": 20,
   "metadata": {
    "ExecuteTime": {
     "end_time": "2020-12-02T01:29:57.290085Z",
     "start_time": "2020-12-02T01:29:56.950089Z"
    }
   },
   "outputs": [],
   "source": [
    "subway_people['weekday'] = subway_people.사용일자.apply(lambda x : x.weekday())"
   ]
  },
  {
   "cell_type": "code",
   "execution_count": 21,
   "metadata": {
    "ExecuteTime": {
     "end_time": "2020-12-02T01:29:57.321085Z",
     "start_time": "2020-12-02T01:29:57.291086Z"
    }
   },
   "outputs": [],
   "source": [
    "subway_people['평일_주말'] = subway_people.weekday.apply(lambda x : '평일' if x <5 else '주말')"
   ]
  },
  {
   "cell_type": "code",
   "execution_count": 22,
   "metadata": {
    "ExecuteTime": {
     "end_time": "2020-12-02T01:29:57.336586Z",
     "start_time": "2020-12-02T01:29:57.322087Z"
    }
   },
   "outputs": [],
   "source": [
    "subway_people['승하차총승객수'] =subway_people['승차총승객수'] + subway_people['하차총승객수'] "
   ]
  },
  {
   "cell_type": "code",
   "execution_count": 23,
   "metadata": {
    "ExecuteTime": {
     "end_time": "2020-12-02T01:29:57.367270Z",
     "start_time": "2020-12-02T01:29:57.337588Z"
    }
   },
   "outputs": [],
   "source": [
    "subway_people_mean = subway_people.groupby(['역명','노선명','평일_주말'],as_index=False)[['승하차총승객수']].mean()"
   ]
  },
  {
   "cell_type": "code",
   "execution_count": 24,
   "metadata": {
    "ExecuteTime": {
     "end_time": "2020-12-02T01:29:57.382812Z",
     "start_time": "2020-12-02T01:29:57.368274Z"
    }
   },
   "outputs": [
    {
     "data": {
      "text/html": [
       "<div>\n",
       "<style scoped>\n",
       "    .dataframe tbody tr th:only-of-type {\n",
       "        vertical-align: middle;\n",
       "    }\n",
       "\n",
       "    .dataframe tbody tr th {\n",
       "        vertical-align: top;\n",
       "    }\n",
       "\n",
       "    .dataframe thead th {\n",
       "        text-align: right;\n",
       "    }\n",
       "</style>\n",
       "<table border=\"1\" class=\"dataframe\">\n",
       "  <thead>\n",
       "    <tr style=\"text-align: right;\">\n",
       "      <th></th>\n",
       "      <th>역명</th>\n",
       "      <th>노선명</th>\n",
       "      <th>평일_주말</th>\n",
       "      <th>승하차총승객수</th>\n",
       "    </tr>\n",
       "  </thead>\n",
       "  <tbody>\n",
       "    <tr>\n",
       "      <th>0</th>\n",
       "      <td>4.19민주묘지</td>\n",
       "      <td>우이신설선</td>\n",
       "      <td>주말</td>\n",
       "      <td>3332.253165</td>\n",
       "    </tr>\n",
       "    <tr>\n",
       "      <th>1</th>\n",
       "      <td>4.19민주묘지</td>\n",
       "      <td>우이신설선</td>\n",
       "      <td>평일</td>\n",
       "      <td>4855.010256</td>\n",
       "    </tr>\n",
       "    <tr>\n",
       "      <th>2</th>\n",
       "      <td>가능</td>\n",
       "      <td>경원선</td>\n",
       "      <td>주말</td>\n",
       "      <td>7631.645570</td>\n",
       "    </tr>\n",
       "    <tr>\n",
       "      <th>3</th>\n",
       "      <td>가능</td>\n",
       "      <td>경원선</td>\n",
       "      <td>평일</td>\n",
       "      <td>11621.861538</td>\n",
       "    </tr>\n",
       "    <tr>\n",
       "      <th>4</th>\n",
       "      <td>가락시장</td>\n",
       "      <td>3호선</td>\n",
       "      <td>주말</td>\n",
       "      <td>8447.139241</td>\n",
       "    </tr>\n",
       "    <tr>\n",
       "      <th>...</th>\n",
       "      <td>...</td>\n",
       "      <td>...</td>\n",
       "      <td>...</td>\n",
       "      <td>...</td>\n",
       "    </tr>\n",
       "    <tr>\n",
       "      <th>1219</th>\n",
       "      <td>효창공원앞</td>\n",
       "      <td>6호선</td>\n",
       "      <td>평일</td>\n",
       "      <td>12269.312821</td>\n",
       "    </tr>\n",
       "    <tr>\n",
       "      <th>1220</th>\n",
       "      <td>효창공원앞</td>\n",
       "      <td>경의선</td>\n",
       "      <td>주말</td>\n",
       "      <td>2560.898734</td>\n",
       "    </tr>\n",
       "    <tr>\n",
       "      <th>1221</th>\n",
       "      <td>효창공원앞</td>\n",
       "      <td>경의선</td>\n",
       "      <td>평일</td>\n",
       "      <td>5460.271795</td>\n",
       "    </tr>\n",
       "    <tr>\n",
       "      <th>1222</th>\n",
       "      <td>흑석(중앙대입구)</td>\n",
       "      <td>9호선</td>\n",
       "      <td>주말</td>\n",
       "      <td>8006.405063</td>\n",
       "    </tr>\n",
       "    <tr>\n",
       "      <th>1223</th>\n",
       "      <td>흑석(중앙대입구)</td>\n",
       "      <td>9호선</td>\n",
       "      <td>평일</td>\n",
       "      <td>14273.476923</td>\n",
       "    </tr>\n",
       "  </tbody>\n",
       "</table>\n",
       "<p>1224 rows × 4 columns</p>\n",
       "</div>"
      ],
      "text/plain": [
       "             역명    노선명 평일_주말       승하차총승객수\n",
       "0      4.19민주묘지  우이신설선    주말   3332.253165\n",
       "1      4.19민주묘지  우이신설선    평일   4855.010256\n",
       "2            가능    경원선    주말   7631.645570\n",
       "3            가능    경원선    평일  11621.861538\n",
       "4          가락시장    3호선    주말   8447.139241\n",
       "...         ...    ...   ...           ...\n",
       "1219      효창공원앞    6호선    평일  12269.312821\n",
       "1220      효창공원앞    경의선    주말   2560.898734\n",
       "1221      효창공원앞    경의선    평일   5460.271795\n",
       "1222  흑석(중앙대입구)    9호선    주말   8006.405063\n",
       "1223  흑석(중앙대입구)    9호선    평일  14273.476923\n",
       "\n",
       "[1224 rows x 4 columns]"
      ]
     },
     "execution_count": 24,
     "metadata": {},
     "output_type": "execute_result"
    }
   ],
   "source": [
    "subway_people_mean"
   ]
  },
  {
   "cell_type": "code",
   "execution_count": 25,
   "metadata": {
    "ExecuteTime": {
     "end_time": "2020-12-02T01:29:57.398319Z",
     "start_time": "2020-12-02T01:29:57.383811Z"
    }
   },
   "outputs": [
    {
     "data": {
      "text/html": [
       "<div>\n",
       "<style scoped>\n",
       "    .dataframe tbody tr th:only-of-type {\n",
       "        vertical-align: middle;\n",
       "    }\n",
       "\n",
       "    .dataframe tbody tr th {\n",
       "        vertical-align: top;\n",
       "    }\n",
       "\n",
       "    .dataframe thead th {\n",
       "        text-align: right;\n",
       "    }\n",
       "</style>\n",
       "<table border=\"1\" class=\"dataframe\">\n",
       "  <thead>\n",
       "    <tr style=\"text-align: right;\">\n",
       "      <th></th>\n",
       "      <th>역명</th>\n",
       "      <th>노선명</th>\n",
       "      <th>평일_주말</th>\n",
       "      <th>승하차총승객수</th>\n",
       "    </tr>\n",
       "  </thead>\n",
       "  <tbody>\n",
       "    <tr>\n",
       "      <th>630</th>\n",
       "      <td>성신여대입구(돈암)</td>\n",
       "      <td>4호선</td>\n",
       "      <td>주말</td>\n",
       "      <td>23717.481013</td>\n",
       "    </tr>\n",
       "    <tr>\n",
       "      <th>631</th>\n",
       "      <td>성신여대입구(돈암)</td>\n",
       "      <td>4호선</td>\n",
       "      <td>평일</td>\n",
       "      <td>35563.830769</td>\n",
       "    </tr>\n",
       "    <tr>\n",
       "      <th>632</th>\n",
       "      <td>성신여대입구(돈암)</td>\n",
       "      <td>우이신설선</td>\n",
       "      <td>주말</td>\n",
       "      <td>4146.493671</td>\n",
       "    </tr>\n",
       "    <tr>\n",
       "      <th>633</th>\n",
       "      <td>성신여대입구(돈암)</td>\n",
       "      <td>우이신설선</td>\n",
       "      <td>평일</td>\n",
       "      <td>5760.292308</td>\n",
       "    </tr>\n",
       "  </tbody>\n",
       "</table>\n",
       "</div>"
      ],
      "text/plain": [
       "             역명    노선명 평일_주말       승하차총승객수\n",
       "630  성신여대입구(돈암)    4호선    주말  23717.481013\n",
       "631  성신여대입구(돈암)    4호선    평일  35563.830769\n",
       "632  성신여대입구(돈암)  우이신설선    주말   4146.493671\n",
       "633  성신여대입구(돈암)  우이신설선    평일   5760.292308"
      ]
     },
     "execution_count": 25,
     "metadata": {},
     "output_type": "execute_result"
    }
   ],
   "source": [
    "subway_people_mean[subway_people_mean.역명.str.contains('성신')]"
   ]
  },
  {
   "cell_type": "code",
   "execution_count": 26,
   "metadata": {
    "ExecuteTime": {
     "end_time": "2020-12-02T01:29:57.413818Z",
     "start_time": "2020-12-02T01:29:57.399317Z"
    }
   },
   "outputs": [],
   "source": [
    "subway_people_mean.to_csv('subway_people_mean.csv', index = False, encoding = 'utf-8')"
   ]
  },
  {
   "cell_type": "code",
   "execution_count": 27,
   "metadata": {
    "ExecuteTime": {
     "end_time": "2020-12-02T01:29:57.429318Z",
     "start_time": "2020-12-02T01:29:57.414820Z"
    }
   },
   "outputs": [
    {
     "data": {
      "text/plain": [
       "25"
      ]
     },
     "execution_count": 27,
     "metadata": {},
     "output_type": "execute_result"
    }
   ],
   "source": [
    "len(set(subway_people_mean.노선명.unique()))"
   ]
  },
  {
   "cell_type": "code",
   "execution_count": null,
   "metadata": {},
   "outputs": [],
   "source": []
  },
  {
   "cell_type": "code",
   "execution_count": null,
   "metadata": {},
   "outputs": [],
   "source": []
  },
  {
   "cell_type": "code",
   "execution_count": null,
   "metadata": {},
   "outputs": [],
   "source": []
  },
  {
   "cell_type": "code",
   "execution_count": 28,
   "metadata": {
    "ExecuteTime": {
     "end_time": "2020-12-02T01:29:57.444819Z",
     "start_time": "2020-12-02T01:29:57.430320Z"
    }
   },
   "outputs": [
    {
     "data": {
      "text/plain": [
       "{'1호선',\n",
       " '2호선',\n",
       " '3호선',\n",
       " '4호선',\n",
       " '5호선',\n",
       " '6호선',\n",
       " '7호선',\n",
       " '8호선',\n",
       " '9호선',\n",
       " '9호선2~3단계',\n",
       " '경강선',\n",
       " '경부선',\n",
       " '경원선',\n",
       " '경의선',\n",
       " '경인선',\n",
       " '경춘선',\n",
       " '공항철도 1호선',\n",
       " '과천선',\n",
       " '분당선',\n",
       " '수인선',\n",
       " '안산선',\n",
       " '우이신설선',\n",
       " '일산선',\n",
       " '장항선',\n",
       " '중앙선'}"
      ]
     },
     "execution_count": 28,
     "metadata": {},
     "output_type": "execute_result"
    }
   ],
   "source": [
    "set(subway_people_mean.노선명.unique())"
   ]
  },
  {
   "cell_type": "code",
   "execution_count": 29,
   "metadata": {
    "ExecuteTime": {
     "end_time": "2020-12-02T01:29:57.460318Z",
     "start_time": "2020-12-02T01:29:57.445818Z"
    }
   },
   "outputs": [
    {
     "data": {
      "text/html": [
       "<div>\n",
       "<style scoped>\n",
       "    .dataframe tbody tr th:only-of-type {\n",
       "        vertical-align: middle;\n",
       "    }\n",
       "\n",
       "    .dataframe tbody tr th {\n",
       "        vertical-align: top;\n",
       "    }\n",
       "\n",
       "    .dataframe thead th {\n",
       "        text-align: right;\n",
       "    }\n",
       "</style>\n",
       "<table border=\"1\" class=\"dataframe\">\n",
       "  <thead>\n",
       "    <tr style=\"text-align: right;\">\n",
       "      <th></th>\n",
       "      <th>역명</th>\n",
       "      <th>노선명</th>\n",
       "      <th>평일_주말</th>\n",
       "      <th>승하차총승객수</th>\n",
       "    </tr>\n",
       "  </thead>\n",
       "  <tbody>\n",
       "    <tr>\n",
       "      <th>448</th>\n",
       "      <td>배방</td>\n",
       "      <td>장항선</td>\n",
       "      <td>주말</td>\n",
       "      <td>1389.658228</td>\n",
       "    </tr>\n",
       "    <tr>\n",
       "      <th>449</th>\n",
       "      <td>배방</td>\n",
       "      <td>장항선</td>\n",
       "      <td>평일</td>\n",
       "      <td>1575.687179</td>\n",
       "    </tr>\n",
       "    <tr>\n",
       "      <th>480</th>\n",
       "      <td>봉명</td>\n",
       "      <td>장항선</td>\n",
       "      <td>주말</td>\n",
       "      <td>1054.898734</td>\n",
       "    </tr>\n",
       "    <tr>\n",
       "      <th>481</th>\n",
       "      <td>봉명</td>\n",
       "      <td>장항선</td>\n",
       "      <td>평일</td>\n",
       "      <td>2034.282051</td>\n",
       "    </tr>\n",
       "    <tr>\n",
       "      <th>756</th>\n",
       "      <td>신창(순천향대)</td>\n",
       "      <td>장항선</td>\n",
       "      <td>주말</td>\n",
       "      <td>1677.607595</td>\n",
       "    </tr>\n",
       "    <tr>\n",
       "      <th>757</th>\n",
       "      <td>신창(순천향대)</td>\n",
       "      <td>장항선</td>\n",
       "      <td>평일</td>\n",
       "      <td>2263.138462</td>\n",
       "    </tr>\n",
       "    <tr>\n",
       "      <th>770</th>\n",
       "      <td>쌍용(나사렛대)</td>\n",
       "      <td>장항선</td>\n",
       "      <td>주말</td>\n",
       "      <td>2067.177215</td>\n",
       "    </tr>\n",
       "    <tr>\n",
       "      <th>771</th>\n",
       "      <td>쌍용(나사렛대)</td>\n",
       "      <td>장항선</td>\n",
       "      <td>평일</td>\n",
       "      <td>3189.764103</td>\n",
       "    </tr>\n",
       "    <tr>\n",
       "      <th>772</th>\n",
       "      <td>아산</td>\n",
       "      <td>장항선</td>\n",
       "      <td>주말</td>\n",
       "      <td>3650.873418</td>\n",
       "    </tr>\n",
       "    <tr>\n",
       "      <th>773</th>\n",
       "      <td>아산</td>\n",
       "      <td>장항선</td>\n",
       "      <td>평일</td>\n",
       "      <td>4198.025641</td>\n",
       "    </tr>\n",
       "    <tr>\n",
       "      <th>892</th>\n",
       "      <td>온양온천</td>\n",
       "      <td>장항선</td>\n",
       "      <td>주말</td>\n",
       "      <td>5691.860759</td>\n",
       "    </tr>\n",
       "    <tr>\n",
       "      <th>893</th>\n",
       "      <td>온양온천</td>\n",
       "      <td>장항선</td>\n",
       "      <td>평일</td>\n",
       "      <td>5971.764103</td>\n",
       "    </tr>\n",
       "  </tbody>\n",
       "</table>\n",
       "</div>"
      ],
      "text/plain": [
       "           역명  노선명 평일_주말      승하차총승객수\n",
       "448        배방  장항선    주말  1389.658228\n",
       "449        배방  장항선    평일  1575.687179\n",
       "480        봉명  장항선    주말  1054.898734\n",
       "481        봉명  장항선    평일  2034.282051\n",
       "756  신창(순천향대)  장항선    주말  1677.607595\n",
       "757  신창(순천향대)  장항선    평일  2263.138462\n",
       "770  쌍용(나사렛대)  장항선    주말  2067.177215\n",
       "771  쌍용(나사렛대)  장항선    평일  3189.764103\n",
       "772        아산  장항선    주말  3650.873418\n",
       "773        아산  장항선    평일  4198.025641\n",
       "892      온양온천  장항선    주말  5691.860759\n",
       "893      온양온천  장항선    평일  5971.764103"
      ]
     },
     "execution_count": 29,
     "metadata": {},
     "output_type": "execute_result"
    }
   ],
   "source": [
    "subway_people_mean[subway_people_mean.노선명 == '장항선']"
   ]
  },
  {
   "cell_type": "code",
   "execution_count": 30,
   "metadata": {
    "ExecuteTime": {
     "end_time": "2020-12-02T01:29:57.475819Z",
     "start_time": "2020-12-02T01:29:57.461320Z"
    }
   },
   "outputs": [
    {
     "data": {
      "text/html": [
       "<div>\n",
       "<style scoped>\n",
       "    .dataframe tbody tr th:only-of-type {\n",
       "        vertical-align: middle;\n",
       "    }\n",
       "\n",
       "    .dataframe tbody tr th {\n",
       "        vertical-align: top;\n",
       "    }\n",
       "\n",
       "    .dataframe thead th {\n",
       "        text-align: right;\n",
       "    }\n",
       "</style>\n",
       "<table border=\"1\" class=\"dataframe\">\n",
       "  <thead>\n",
       "    <tr style=\"text-align: right;\">\n",
       "      <th></th>\n",
       "      <th>역명</th>\n",
       "      <th>노선명</th>\n",
       "      <th>평일_주말</th>\n",
       "      <th>승하차총승객수</th>\n",
       "    </tr>\n",
       "  </thead>\n",
       "  <tbody>\n",
       "    <tr>\n",
       "      <th>828</th>\n",
       "      <td>언주</td>\n",
       "      <td>9호선2~3단계</td>\n",
       "      <td>주말</td>\n",
       "      <td>6863.569620</td>\n",
       "    </tr>\n",
       "    <tr>\n",
       "      <th>829</th>\n",
       "      <td>언주</td>\n",
       "      <td>9호선2~3단계</td>\n",
       "      <td>평일</td>\n",
       "      <td>17720.184615</td>\n",
       "    </tr>\n",
       "  </tbody>\n",
       "</table>\n",
       "</div>"
      ],
      "text/plain": [
       "     역명       노선명 평일_주말       승하차총승객수\n",
       "828  언주  9호선2~3단계    주말   6863.569620\n",
       "829  언주  9호선2~3단계    평일  17720.184615"
      ]
     },
     "execution_count": 30,
     "metadata": {},
     "output_type": "execute_result"
    }
   ],
   "source": [
    "subway_people_mean[subway_people_mean.역명 == '언주']"
   ]
  },
  {
   "cell_type": "code",
   "execution_count": 31,
   "metadata": {
    "ExecuteTime": {
     "end_time": "2020-12-02T01:29:57.491318Z",
     "start_time": "2020-12-02T01:29:57.477819Z"
    }
   },
   "outputs": [],
   "source": [
    "subway_people_mean.노선명 = \\\n",
    "subway_people_mean.노선명.apply(lambda x :'경의중앙선' if (x == '경의선') | (x == '중앙선') else x)\n",
    "\n",
    "subway_people_mean.노선명 = \\\n",
    "subway_people_mean.노선명.apply(lambda x :'공항철도' if x=='공항철도 1호선' else x)\n",
    "\n",
    "subway_people_mean.노선명 = \\\n",
    "subway_people_mean.노선명.apply(lambda x :'9호선' if x == '9호선2~3단계' else x)\n"
   ]
  },
  {
   "cell_type": "markdown",
   "metadata": {},
   "source": [
    "## 지하철"
   ]
  },
  {
   "cell_type": "code",
   "execution_count": 32,
   "metadata": {
    "ExecuteTime": {
     "end_time": "2020-12-02T01:29:57.537819Z",
     "start_time": "2020-12-02T01:29:57.492818Z"
    }
   },
   "outputs": [],
   "source": [
    "Subway = pd.read_csv('./New data/Subway.csv', encoding='cp949')"
   ]
  },
  {
   "cell_type": "code",
   "execution_count": 33,
   "metadata": {
    "ExecuteTime": {
     "end_time": "2020-12-02T01:29:57.553317Z",
     "start_time": "2020-12-02T01:29:57.538819Z"
    }
   },
   "outputs": [
    {
     "data": {
      "text/html": [
       "<div>\n",
       "<style scoped>\n",
       "    .dataframe tbody tr th:only-of-type {\n",
       "        vertical-align: middle;\n",
       "    }\n",
       "\n",
       "    .dataframe tbody tr th {\n",
       "        vertical-align: top;\n",
       "    }\n",
       "\n",
       "    .dataframe thead th {\n",
       "        text-align: right;\n",
       "    }\n",
       "</style>\n",
       "<table border=\"1\" class=\"dataframe\">\n",
       "  <thead>\n",
       "    <tr style=\"text-align: right;\">\n",
       "      <th></th>\n",
       "      <th>노선명</th>\n",
       "      <th>역명</th>\n",
       "      <th>지번주소</th>\n",
       "      <th>위도</th>\n",
       "      <th>경도</th>\n",
       "    </tr>\n",
       "  </thead>\n",
       "  <tbody>\n",
       "    <tr>\n",
       "      <th>0</th>\n",
       "      <td>1호선</td>\n",
       "      <td>도봉산</td>\n",
       "      <td>서울특별시 도봉구 도봉동 18-1</td>\n",
       "      <td>37.680042</td>\n",
       "      <td>127.039988</td>\n",
       "    </tr>\n",
       "    <tr>\n",
       "      <th>1</th>\n",
       "      <td>1호선</td>\n",
       "      <td>도봉</td>\n",
       "      <td>서울특별시 도봉구 도봉동 639</td>\n",
       "      <td>37.675086</td>\n",
       "      <td>127.044867</td>\n",
       "    </tr>\n",
       "    <tr>\n",
       "      <th>2</th>\n",
       "      <td>1호선</td>\n",
       "      <td>방학</td>\n",
       "      <td>서울특별시 도봉구 방학동 728</td>\n",
       "      <td>37.669294</td>\n",
       "      <td>127.043858</td>\n",
       "    </tr>\n",
       "    <tr>\n",
       "      <th>3</th>\n",
       "      <td>1호선</td>\n",
       "      <td>창동</td>\n",
       "      <td>서울특별시 도봉구 창동 135-1</td>\n",
       "      <td>37.653485</td>\n",
       "      <td>127.047593</td>\n",
       "    </tr>\n",
       "    <tr>\n",
       "      <th>4</th>\n",
       "      <td>1호선</td>\n",
       "      <td>녹천</td>\n",
       "      <td>서울특별시 도봉구 창동 57-11</td>\n",
       "      <td>37.639373</td>\n",
       "      <td>127.036705</td>\n",
       "    </tr>\n",
       "  </tbody>\n",
       "</table>\n",
       "</div>"
      ],
      "text/plain": [
       "   노선명   역명                지번주소         위도          경도\n",
       "0  1호선  도봉산  서울특별시 도봉구 도봉동 18-1  37.680042  127.039988\n",
       "1  1호선   도봉   서울특별시 도봉구 도봉동 639  37.675086  127.044867\n",
       "2  1호선   방학   서울특별시 도봉구 방학동 728  37.669294  127.043858\n",
       "3  1호선   창동  서울특별시 도봉구 창동 135-1  37.653485  127.047593\n",
       "4  1호선   녹천  서울특별시 도봉구 창동 57-11  37.639373  127.036705"
      ]
     },
     "execution_count": 33,
     "metadata": {},
     "output_type": "execute_result"
    }
   ],
   "source": [
    "Subway.head()"
   ]
  },
  {
   "cell_type": "code",
   "execution_count": 34,
   "metadata": {
    "ExecuteTime": {
     "end_time": "2020-12-02T01:29:57.568818Z",
     "start_time": "2020-12-02T01:29:57.554320Z"
    }
   },
   "outputs": [
    {
     "ename": "NameError",
     "evalue": "name 'subway' is not defined",
     "output_type": "error",
     "traceback": [
      "\u001b[1;31m---------------------------------------------------------------------------\u001b[0m",
      "\u001b[1;31mNameError\u001b[0m                                 Traceback (most recent call last)",
      "\u001b[1;32m<ipython-input-34-a049edb73a0c>\u001b[0m in \u001b[0;36m<module>\u001b[1;34m\u001b[0m\n\u001b[1;32m----> 1\u001b[1;33m \u001b[0msubway\u001b[0m\u001b[1;33m.\u001b[0m\u001b[0mcolumns\u001b[0m \u001b[1;33m=\u001b[0m \u001b[1;33m[\u001b[0m\u001b[1;34m'지번주소'\u001b[0m\u001b[1;33m,\u001b[0m \u001b[1;34m'역명'\u001b[0m\u001b[1;33m,\u001b[0m \u001b[1;34m'노선명'\u001b[0m\u001b[1;33m,\u001b[0m \u001b[1;34m'위도'\u001b[0m\u001b[1;33m,\u001b[0m\u001b[1;34m'경도'\u001b[0m\u001b[1;33m]\u001b[0m\u001b[1;33m\u001b[0m\u001b[1;33m\u001b[0m\u001b[0m\n\u001b[0m",
      "\u001b[1;31mNameError\u001b[0m: name 'subway' is not defined"
     ]
    }
   ],
   "source": [
    "subway.columns = ['지번주소', '역명', '노선명', '위도','경도']"
   ]
  },
  {
   "cell_type": "code",
   "execution_count": null,
   "metadata": {
    "ExecuteTime": {
     "end_time": "2020-12-02T01:29:57.574319Z",
     "start_time": "2020-12-02T01:29:55.840Z"
    }
   },
   "outputs": [],
   "source": [
    "set(Subway.노선명.unique())"
   ]
  },
  {
   "cell_type": "code",
   "execution_count": null,
   "metadata": {
    "ExecuteTime": {
     "end_time": "2020-12-02T01:29:57.574818Z",
     "start_time": "2020-12-02T01:29:55.841Z"
    }
   },
   "outputs": [],
   "source": [
    "subway.노선명 = \\\n",
    "subway.노선명.apply(lambda x :'공항철도' if x=='공항선' else x)"
   ]
  },
  {
   "cell_type": "markdown",
   "metadata": {
    "ExecuteTime": {
     "end_time": "2020-11-25T06:25:14.692200Z",
     "start_time": "2020-11-25T06:25:14.675167Z"
    }
   },
   "source": [
    "###  subway_people_mean 이름 바꾸기 \n",
    "- 왕십리(성동구청),\n",
    "교대(법원.검찰청),\n",
    "미아(서울사이버대학),\n",
    "종로3가,\n",
    "청량리(서울시립대입구),\n",
    "상봉(시외버스터미널),\n",
    "선정릉,\n",
    "복정,\n",
    "이촌(국립중앙박물관),\n",
    "양원,\n",
    "양재숲은 없고,\n",
    "청계싼입구도 없음,\n",
    "성신여대입구(돈암)"
   ]
  },
  {
   "cell_type": "code",
   "execution_count": null,
   "metadata": {
    "ExecuteTime": {
     "end_time": "2020-12-02T01:29:57.575319Z",
     "start_time": "2020-12-02T01:29:55.842Z"
    }
   },
   "outputs": [],
   "source": [
    "set(Subway.역명.unique()) - set(subway_people_mean.역명.unique())"
   ]
  },
  {
   "cell_type": "code",
   "execution_count": null,
   "metadata": {
    "ExecuteTime": {
     "end_time": "2020-12-02T01:29:57.575819Z",
     "start_time": "2020-12-02T01:29:55.843Z"
    }
   },
   "outputs": [],
   "source": [
    "# 이 값들로 바꿔야함\n",
    "list_to_change = list(set(Subway.역명.unique()) - set(subway_people_mean.역명.unique()))"
   ]
  },
  {
   "cell_type": "code",
   "execution_count": null,
   "metadata": {
    "ExecuteTime": {
     "end_time": "2020-12-02T01:29:57.576319Z",
     "start_time": "2020-12-02T01:29:55.846Z"
    }
   },
   "outputs": [],
   "source": [
    "# 애초에 없던 데이터 (신분당선 승하차 데이터)\n",
    "list_to_change.remove('양재시민의숲(매헌)')\n",
    "list_to_change.remove('청계산입구')"
   ]
  },
  {
   "cell_type": "code",
   "execution_count": null,
   "metadata": {
    "ExecuteTime": {
     "end_time": "2020-12-02T01:29:57.576820Z",
     "start_time": "2020-12-02T01:29:55.847Z"
    }
   },
   "outputs": [],
   "source": [
    "list_to_change = sorted(list_to_change)"
   ]
  },
  {
   "cell_type": "code",
   "execution_count": null,
   "metadata": {
    "ExecuteTime": {
     "end_time": "2020-12-02T01:29:57.577819Z",
     "start_time": "2020-12-02T01:29:55.848Z"
    }
   },
   "outputs": [],
   "source": [
    "list_to_change"
   ]
  },
  {
   "cell_type": "code",
   "execution_count": null,
   "metadata": {
    "ExecuteTime": {
     "end_time": "2020-12-02T01:29:57.578319Z",
     "start_time": "2020-12-02T01:29:55.849Z"
    }
   },
   "outputs": [],
   "source": [
    "list_get = ['왕십리(성동구청)', '교대(법원.검찰청)', '미아(서울사이버대학)', '종로3가','청량리(서울시립대입구)', '상봉(시외버스터미널)', '선정릉', '복정', '이촌(국립중앙박물관)', '양원', '성신여대입구(돈암)']"
   ]
  },
  {
   "cell_type": "code",
   "execution_count": null,
   "metadata": {
    "ExecuteTime": {
     "end_time": "2020-12-02T01:29:57.579320Z",
     "start_time": "2020-12-02T01:29:55.850Z"
    }
   },
   "outputs": [],
   "source": [
    "list_get = sorted(list_get)"
   ]
  },
  {
   "cell_type": "code",
   "execution_count": null,
   "metadata": {
    "ExecuteTime": {
     "end_time": "2020-12-02T01:29:57.579820Z",
     "start_time": "2020-12-02T01:29:55.851Z"
    }
   },
   "outputs": [],
   "source": [
    "def namematch(x):\n",
    "    for i in range(len(list_to_change)):\n",
    "        if x == list_to_change[i]:\n",
    "            name = list_get[i]\n",
    "            print(f'{list_to_change[i]} -> {list_get[i]}')\n",
    "            return name\n",
    "    return x"
   ]
  },
  {
   "cell_type": "code",
   "execution_count": null,
   "metadata": {
    "ExecuteTime": {
     "end_time": "2020-12-02T01:29:57.580820Z",
     "start_time": "2020-12-02T01:29:55.852Z"
    }
   },
   "outputs": [],
   "source": [
    "Subway['역명'] = Subway['역명'].apply(lambda x: namematch(x))"
   ]
  },
  {
   "cell_type": "code",
   "execution_count": null,
   "metadata": {
    "ExecuteTime": {
     "end_time": "2020-12-02T01:29:57.581319Z",
     "start_time": "2020-12-02T01:29:55.853Z"
    }
   },
   "outputs": [],
   "source": [
    "Subway['역명']"
   ]
  },
  {
   "cell_type": "markdown",
   "metadata": {},
   "source": [
    "#### Subway 역명 확인"
   ]
  },
  {
   "cell_type": "code",
   "execution_count": null,
   "metadata": {
    "ExecuteTime": {
     "end_time": "2020-12-02T01:29:57.582319Z",
     "start_time": "2020-12-02T01:29:55.854Z"
    }
   },
   "outputs": [],
   "source": [
    "# '경복궁' in set(Subway.역명.unique()).apply(lambda x: '경복궁' in x)"
   ]
  },
  {
   "cell_type": "code",
   "execution_count": null,
   "metadata": {
    "ExecuteTime": {
     "end_time": "2020-12-02T01:29:57.582819Z",
     "start_time": "2020-12-02T01:29:55.855Z"
    }
   },
   "outputs": [],
   "source": [
    "# '경복궁' in '경복궁(23234)'"
   ]
  },
  {
   "cell_type": "code",
   "execution_count": null,
   "metadata": {
    "ExecuteTime": {
     "end_time": "2020-12-02T01:29:57.583819Z",
     "start_time": "2020-12-02T01:29:55.856Z"
    }
   },
   "outputs": [],
   "source": [
    "Subway[Subway.역명.str.contains('양재')]"
   ]
  },
  {
   "cell_type": "code",
   "execution_count": null,
   "metadata": {
    "ExecuteTime": {
     "end_time": "2020-12-02T01:29:57.584818Z",
     "start_time": "2020-12-02T01:29:55.857Z"
    }
   },
   "outputs": [],
   "source": [
    "Subway[Subway.역명.str.contains('왕십리')]"
   ]
  },
  {
   "cell_type": "code",
   "execution_count": null,
   "metadata": {
    "ExecuteTime": {
     "end_time": "2020-12-02T01:29:57.585319Z",
     "start_time": "2020-12-02T01:29:55.858Z"
    }
   },
   "outputs": [],
   "source": [
    "Subway[Subway.역명.str.contains('미아')]"
   ]
  },
  {
   "cell_type": "markdown",
   "metadata": {},
   "source": [
    "#### subway_people_mean 역명 확인\n",
    "\n",
    "\n",
    "\n"
   ]
  },
  {
   "cell_type": "code",
   "execution_count": null,
   "metadata": {
    "ExecuteTime": {
     "end_time": "2020-12-02T01:29:57.586318Z",
     "start_time": "2020-12-02T01:29:55.859Z"
    }
   },
   "outputs": [],
   "source": [
    "subway_people_mean[subway_people_mean.역명.str.contains('양재')]"
   ]
  },
  {
   "cell_type": "code",
   "execution_count": null,
   "metadata": {
    "ExecuteTime": {
     "end_time": "2020-12-02T01:29:57.586819Z",
     "start_time": "2020-12-02T01:29:55.860Z"
    }
   },
   "outputs": [],
   "source": [
    "subway_people_mean[subway_people_mean.역명.str.contains('왕십리')]"
   ]
  },
  {
   "cell_type": "code",
   "execution_count": null,
   "metadata": {
    "ExecuteTime": {
     "end_time": "2020-12-02T01:29:57.587818Z",
     "start_time": "2020-12-02T01:29:55.861Z"
    }
   },
   "outputs": [],
   "source": [
    "subway_people_mean[subway_people_mean.역명.str.contains('미아')]"
   ]
  },
  {
   "cell_type": "markdown",
   "metadata": {},
   "source": [
    "## 지하철 위치 + 지하철 승하차 인원"
   ]
  },
  {
   "cell_type": "code",
   "execution_count": null,
   "metadata": {
    "ExecuteTime": {
     "end_time": "2020-12-02T01:29:57.588319Z",
     "start_time": "2020-12-02T01:29:55.862Z"
    }
   },
   "outputs": [],
   "source": [
    "train = pd.merge(Subway,subway_people_mean, on=['노선명','역명'], how ='left')"
   ]
  },
  {
   "cell_type": "code",
   "execution_count": null,
   "metadata": {
    "ExecuteTime": {
     "end_time": "2020-12-02T01:29:57.589319Z",
     "start_time": "2020-12-02T01:29:55.863Z"
    }
   },
   "outputs": [],
   "source": [
    "train.isna().sum()"
   ]
  },
  {
   "cell_type": "code",
   "execution_count": null,
   "metadata": {
    "ExecuteTime": {
     "end_time": "2020-12-02T01:29:57.589818Z",
     "start_time": "2020-12-02T01:29:55.864Z"
    },
    "scrolled": true
   },
   "outputs": [],
   "source": [
    "train[train.평일_주말.isna()]"
   ]
  },
  {
   "cell_type": "code",
   "execution_count": null,
   "metadata": {
    "ExecuteTime": {
     "end_time": "2020-12-02T01:29:57.590318Z",
     "start_time": "2020-12-02T01:29:55.865Z"
    }
   },
   "outputs": [],
   "source": [
    "train[train.평일_주말.isna()]['역명'].unique()"
   ]
  },
  {
   "cell_type": "code",
   "execution_count": null,
   "metadata": {
    "ExecuteTime": {
     "end_time": "2020-12-02T01:29:57.590819Z",
     "start_time": "2020-12-02T01:29:55.866Z"
    }
   },
   "outputs": [],
   "source": [
    "subway_people"
   ]
  },
  {
   "cell_type": "code",
   "execution_count": null,
   "metadata": {
    "ExecuteTime": {
     "end_time": "2020-12-02T01:29:57.590819Z",
     "start_time": "2020-12-02T01:29:55.867Z"
    }
   },
   "outputs": [],
   "source": [
    "list_not_to_del = ['양재시민의숲(매헌)', '청계산입구']"
   ]
  },
  {
   "cell_type": "code",
   "execution_count": null,
   "metadata": {
    "ExecuteTime": {
     "end_time": "2020-12-02T01:29:57.591319Z",
     "start_time": "2020-12-02T01:29:55.868Z"
    }
   },
   "outputs": [],
   "source": [
    "train_to_del = train[train.평일_주말.isna()]"
   ]
  },
  {
   "cell_type": "code",
   "execution_count": null,
   "metadata": {
    "ExecuteTime": {
     "end_time": "2020-12-02T01:29:57.591819Z",
     "start_time": "2020-12-02T01:29:55.869Z"
    }
   },
   "outputs": [],
   "source": [
    "train_to_del"
   ]
  },
  {
   "cell_type": "code",
   "execution_count": null,
   "metadata": {
    "ExecuteTime": {
     "end_time": "2020-12-02T01:29:57.592319Z",
     "start_time": "2020-12-02T01:29:55.870Z"
    }
   },
   "outputs": [],
   "source": [
    "train_to_del_final = train_to_del.drop(train[(train['역명'] == '양재시민의숲(매헌)') | (train['역명'] == '청계산입구')].index)"
   ]
  },
  {
   "cell_type": "code",
   "execution_count": null,
   "metadata": {
    "ExecuteTime": {
     "end_time": "2020-12-02T01:29:57.592819Z",
     "start_time": "2020-12-02T01:29:55.871Z"
    }
   },
   "outputs": [],
   "source": [
    "## 지워줘야하는 row들 (양재숲과 청계산입구는 그대로 nan 으로 남길 예정)\n",
    "train_to_del_final"
   ]
  },
  {
   "cell_type": "code",
   "execution_count": null,
   "metadata": {
    "ExecuteTime": {
     "end_time": "2020-12-02T01:29:57.593319Z",
     "start_time": "2020-12-02T01:29:55.872Z"
    }
   },
   "outputs": [],
   "source": [
    "## 현재 Nan 값들은 이미 다른 호선에 있는 값들임 = 지워줘도 되는 값\n",
    "train[train['역명'].str.contains('양재')]"
   ]
  },
  {
   "cell_type": "code",
   "execution_count": null,
   "metadata": {
    "ExecuteTime": {
     "end_time": "2020-12-02T01:29:57.593818Z",
     "start_time": "2020-12-02T01:29:55.873Z"
    }
   },
   "outputs": [],
   "source": [
    "train"
   ]
  },
  {
   "cell_type": "code",
   "execution_count": null,
   "metadata": {
    "ExecuteTime": {
     "end_time": "2020-12-02T01:29:57.594319Z",
     "start_time": "2020-12-02T01:29:55.874Z"
    }
   },
   "outputs": [],
   "source": [
    "# Subway_people = train.drop(train_to_del_final.index)"
   ]
  },
  {
   "cell_type": "code",
   "execution_count": null,
   "metadata": {
    "ExecuteTime": {
     "end_time": "2020-12-02T01:29:57.594819Z",
     "start_time": "2020-12-02T01:29:55.875Z"
    }
   },
   "outputs": [],
   "source": [
    "Subway_people = train[train.index.isin(train_to_del_final.index.tolist())==False]"
   ]
  },
  {
   "cell_type": "code",
   "execution_count": null,
   "metadata": {
    "ExecuteTime": {
     "end_time": "2020-12-02T01:29:57.595318Z",
     "start_time": "2020-12-02T01:29:55.876Z"
    }
   },
   "outputs": [],
   "source": [
    "Subway_people[Subway_people['역명'].str.contains('청계산')]"
   ]
  },
  {
   "cell_type": "code",
   "execution_count": null,
   "metadata": {
    "ExecuteTime": {
     "end_time": "2020-12-02T01:29:57.595819Z",
     "start_time": "2020-12-02T01:29:55.877Z"
    }
   },
   "outputs": [],
   "source": [
    "Subway_people.to_csv('Subway_people.csv', index = False, encoding = 'utf-8')"
   ]
  },
  {
   "cell_type": "code",
   "execution_count": null,
   "metadata": {},
   "outputs": [],
   "source": []
  }
 ],
 "metadata": {
  "hide_input": false,
  "kernelspec": {
   "display_name": "Python 3",
   "language": "python",
   "name": "python3"
  },
  "language_info": {
   "codemirror_mode": {
    "name": "ipython",
    "version": 3
   },
   "file_extension": ".py",
   "mimetype": "text/x-python",
   "name": "python",
   "nbconvert_exporter": "python",
   "pygments_lexer": "ipython3",
   "version": "3.8.5"
  },
  "toc": {
   "base_numbering": 1,
   "nav_menu": {},
   "number_sections": true,
   "sideBar": true,
   "skip_h1_title": true,
   "title_cell": "Table of Contents",
   "title_sidebar": "Contents",
   "toc_cell": false,
   "toc_position": {},
   "toc_section_display": true,
   "toc_window_display": true
  },
  "varInspector": {
   "cols": {
    "lenName": 16,
    "lenType": 16,
    "lenVar": 40
   },
   "kernels_config": {
    "python": {
     "delete_cmd_postfix": "",
     "delete_cmd_prefix": "del ",
     "library": "var_list.py",
     "varRefreshCmd": "print(var_dic_list())"
    },
    "r": {
     "delete_cmd_postfix": ") ",
     "delete_cmd_prefix": "rm(",
     "library": "var_list.r",
     "varRefreshCmd": "cat(var_dic_list()) "
    }
   },
   "types_to_exclude": [
    "module",
    "function",
    "builtin_function_or_method",
    "instance",
    "_Feature"
   ],
   "window_display": false
  }
 },
 "nbformat": 4,
 "nbformat_minor": 4
}
