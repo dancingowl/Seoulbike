{
 "cells": [
  {
   "cell_type": "code",
   "execution_count": 1,
   "metadata": {
    "ExecuteTime": {
     "end_time": "2020-11-30T05:46:07.847606Z",
     "start_time": "2020-11-30T05:46:07.485704Z"
    }
   },
   "outputs": [],
   "source": [
    "import pandas as pd\n",
    "import numpy as np\n",
    "import glob, os, chardet, pprint\n",
    "from tqdm import notebook\n",
    "import datetime"
   ]
  },
  {
   "cell_type": "code",
   "execution_count": 2,
   "metadata": {
    "ExecuteTime": {
     "end_time": "2020-11-30T05:46:07.942758Z",
     "start_time": "2020-11-30T05:46:07.928606Z"
    }
   },
   "outputs": [],
   "source": [
    "# display 설정\n",
    "pd.set_option('display.max_rows', 200)\n",
    "pd.set_option('display.max_columns', None)\n",
    "pd.set_option('display.width', 10000)\n",
    "pd.options.display.float_format = '{:.3f}'.format"
   ]
  },
  {
   "cell_type": "code",
   "execution_count": 3,
   "metadata": {
    "ExecuteTime": {
     "end_time": "2020-11-30T05:46:08.037765Z",
     "start_time": "2020-11-30T05:46:08.023731Z"
    }
   },
   "outputs": [
    {
     "data": {
      "text/plain": [
       "'C:\\\\Users\\\\justi\\\\OneDrive\\\\Git\\\\Team 6\\\\Ddareung'"
      ]
     },
     "execution_count": 3,
     "metadata": {},
     "output_type": "execute_result"
    }
   ],
   "source": [
    "pwd"
   ]
  },
  {
   "cell_type": "code",
   "execution_count": 4,
   "metadata": {
    "ExecuteTime": {
     "end_time": "2020-11-30T05:46:08.133724Z",
     "start_time": "2020-11-30T05:46:08.119729Z"
    }
   },
   "outputs": [],
   "source": [
    "def readcsv_(Path_folder, header = 0):\n",
    "\n",
    "    file_list = notebook.tqdm([file for file in os.listdir(Path_folder) if file.endswith(('.csv','.xlsx'))])\n",
    "    df_list = []\n",
    "    encodings = ['utf-8', 'cp949', 'euc-kr', 'cp1252', 'cp850']\n",
    "\n",
    "    for idx, file in enumerate(file_list): #, total = len(file_list), leave = True)\n",
    "        print(f'({idx}) {file}')\n",
    "        if file.endswith(\".csv\"):\n",
    "            for cp in encodings:\n",
    "                try:\n",
    "                    locals()[f'df{idx+1}'] = pd.read_csv(Path_folder+file, encoding = cp, header = header)\n",
    "                    df_list.append(locals()[f'df{idx+1}'])\n",
    "                    break\n",
    "                except: # 에러 종류\n",
    "                    pass\n",
    "        elif file.endswith(\".xlsx\"):\n",
    "                locals()[f'df{idx+1}'] = pd.read_excel(Path_folder+file, header = header)\n",
    "                df_list.append(locals()[f'df{idx+1}'])\n",
    "\n",
    "        else:\n",
    "            print(f'     {\"*\"*8}이 파일은 읽을 수 없습니다{\"*\"*8}')\n",
    "\n",
    "    print(f'\\n폴더 내 csv / xlsx 파일 개수: {len(file_list)}개')\n",
    "    print(f'총 데이터프레임 개수: {len(df_list)}개')\n",
    "\n",
    "    return df_list"
   ]
  },
  {
   "cell_type": "code",
   "execution_count": 5,
   "metadata": {
    "ExecuteTime": {
     "end_time": "2020-11-30T05:46:08.227726Z",
     "start_time": "2020-11-30T05:46:08.213730Z"
    }
   },
   "outputs": [],
   "source": [
    "# dt_index = pandas.date_range(start='20160901', end='20161031')\n",
    "# # pandas.date_range(start='20160901', end='20161031',freq='W-MON')\n",
    "# # 을 하면 해당 기간 매주 월요일들만 추출합니다.\n",
    "\n",
    "# # type(dt_index) => DatetimeIndex\n",
    "# # DatetimeIndex => list(str)\n",
    "# dt_list = dt_index.strftime(\"%Y%m%d\").tolist()\n",
    "\n",
    "# for i in dt_list:\n",
    "#     print(i)"
   ]
  },
  {
   "cell_type": "code",
   "execution_count": 6,
   "metadata": {
    "ExecuteTime": {
     "end_time": "2020-11-30T05:46:08.770674Z",
     "start_time": "2020-11-30T05:46:08.763165Z"
    }
   },
   "outputs": [],
   "source": [
    "# New = readcsv_(os.getcwd() + '/New data/')"
   ]
  },
  {
   "cell_type": "markdown",
   "metadata": {},
   "source": [
    "## 거치소 정보"
   ]
  },
  {
   "cell_type": "code",
   "execution_count": 7,
   "metadata": {
    "ExecuteTime": {
     "end_time": "2020-11-30T05:46:09.130446Z",
     "start_time": "2020-11-30T05:46:09.116395Z"
    }
   },
   "outputs": [],
   "source": [
    "Bike_lock = pd.read_csv(os.getcwd() + '/New data/bike_location_final.csv')"
   ]
  },
  {
   "cell_type": "code",
   "execution_count": 8,
   "metadata": {
    "ExecuteTime": {
     "end_time": "2020-11-30T05:46:10.090363Z",
     "start_time": "2020-11-30T05:46:10.075366Z"
    },
    "scrolled": true
   },
   "outputs": [
    {
     "data": {
      "text/html": [
       "<div>\n",
       "<style scoped>\n",
       "    .dataframe tbody tr th:only-of-type {\n",
       "        vertical-align: middle;\n",
       "    }\n",
       "\n",
       "    .dataframe tbody tr th {\n",
       "        vertical-align: top;\n",
       "    }\n",
       "\n",
       "    .dataframe thead th {\n",
       "        text-align: right;\n",
       "    }\n",
       "</style>\n",
       "<table border=\"1\" class=\"dataframe\">\n",
       "  <thead>\n",
       "    <tr style=\"text-align: right;\">\n",
       "      <th></th>\n",
       "      <th>대여소이름</th>\n",
       "      <th>위도</th>\n",
       "      <th>경도</th>\n",
       "      <th>주소</th>\n",
       "      <th>자치구</th>\n",
       "    </tr>\n",
       "  </thead>\n",
       "  <tbody>\n",
       "    <tr>\n",
       "      <th>0</th>\n",
       "      <td>1001. 광진교 남단 사거리(디지털프라자앞)</td>\n",
       "      <td>37.542</td>\n",
       "      <td>127.125</td>\n",
       "      <td>서울특별시 강동구 천호동 355</td>\n",
       "      <td>강동구</td>\n",
       "    </tr>\n",
       "    <tr>\n",
       "      <th>1</th>\n",
       "      <td>1002. 해공공원(천호동)</td>\n",
       "      <td>37.545</td>\n",
       "      <td>127.126</td>\n",
       "      <td>서울특별시 강동구 천호동 360</td>\n",
       "      <td>강동구</td>\n",
       "    </tr>\n",
       "    <tr>\n",
       "      <th>2</th>\n",
       "      <td>1003. 해공도서관앞</td>\n",
       "      <td>37.544</td>\n",
       "      <td>127.125</td>\n",
       "      <td>서울특별시 강동구 천호동 360</td>\n",
       "      <td>강동구</td>\n",
       "    </tr>\n",
       "    <tr>\n",
       "      <th>3</th>\n",
       "      <td>1004. 삼성광나루아파트 버스정류장</td>\n",
       "      <td>37.553</td>\n",
       "      <td>127.129</td>\n",
       "      <td>서울특별시 강동구 암사동 463-2</td>\n",
       "      <td>강동구</td>\n",
       "    </tr>\n",
       "    <tr>\n",
       "      <th>4</th>\n",
       "      <td>1006. 롯데캐슬 115동앞</td>\n",
       "      <td>37.555</td>\n",
       "      <td>127.143</td>\n",
       "      <td>서울특별시 강동구 암사동 414-2</td>\n",
       "      <td>강동구</td>\n",
       "    </tr>\n",
       "    <tr>\n",
       "      <th>...</th>\n",
       "      <td>...</td>\n",
       "      <td>...</td>\n",
       "      <td>...</td>\n",
       "      <td>...</td>\n",
       "      <td>...</td>\n",
       "    </tr>\n",
       "    <tr>\n",
       "      <th>2038</th>\n",
       "      <td>992.북한산입구 정류장</td>\n",
       "      <td>37.658</td>\n",
       "      <td>126.946</td>\n",
       "      <td>서울특별시 은평구 진관동 289</td>\n",
       "      <td>은평구</td>\n",
       "    </tr>\n",
       "    <tr>\n",
       "      <th>2039</th>\n",
       "      <td>993.은평뉴타운 온뜨락아파트앞</td>\n",
       "      <td>37.630</td>\n",
       "      <td>126.920</td>\n",
       "      <td>서울특별시 은평구 진관동 234-34</td>\n",
       "      <td>은평구</td>\n",
       "    </tr>\n",
       "    <tr>\n",
       "      <th>2040</th>\n",
       "      <td>994.북한산생태공원입구(교통섬)</td>\n",
       "      <td>37.611</td>\n",
       "      <td>126.939</td>\n",
       "      <td>서울특별시 은평구 불광동 2-1</td>\n",
       "      <td>은평구</td>\n",
       "    </tr>\n",
       "    <tr>\n",
       "      <th>2041</th>\n",
       "      <td>995.은평다목적체육관</td>\n",
       "      <td>37.631</td>\n",
       "      <td>126.925</td>\n",
       "      <td>서울특별시 은평구 진관동 125</td>\n",
       "      <td>은평구</td>\n",
       "    </tr>\n",
       "    <tr>\n",
       "      <th>2042</th>\n",
       "      <td>996.응암역 1번출구</td>\n",
       "      <td>37.599</td>\n",
       "      <td>126.915</td>\n",
       "      <td>서울특별시 은평구 신사동 23-3</td>\n",
       "      <td>은평구</td>\n",
       "    </tr>\n",
       "  </tbody>\n",
       "</table>\n",
       "<p>2043 rows × 5 columns</p>\n",
       "</div>"
      ],
      "text/plain": [
       "                          대여소이름     위도      경도                    주소  자치구\n",
       "0     1001. 광진교 남단 사거리(디지털프라자앞) 37.542 127.125     서울특별시 강동구 천호동 355  강동구\n",
       "1               1002. 해공공원(천호동) 37.545 127.126     서울특별시 강동구 천호동 360  강동구\n",
       "2                  1003. 해공도서관앞 37.544 127.125     서울특별시 강동구 천호동 360  강동구\n",
       "3          1004. 삼성광나루아파트 버스정류장 37.553 127.129   서울특별시 강동구 암사동 463-2  강동구\n",
       "4              1006. 롯데캐슬 115동앞 37.555 127.143   서울특별시 강동구 암사동 414-2  강동구\n",
       "...                         ...    ...     ...                   ...  ...\n",
       "2038              992.북한산입구 정류장 37.658 126.946     서울특별시 은평구 진관동 289  은평구\n",
       "2039          993.은평뉴타운 온뜨락아파트앞 37.630 126.920  서울특별시 은평구 진관동 234-34  은평구\n",
       "2040         994.북한산생태공원입구(교통섬) 37.611 126.939     서울특별시 은평구 불광동 2-1  은평구\n",
       "2041               995.은평다목적체육관 37.631 126.925     서울특별시 은평구 진관동 125  은평구\n",
       "2042               996.응암역 1번출구 37.599 126.915    서울특별시 은평구 신사동 23-3  은평구\n",
       "\n",
       "[2043 rows x 5 columns]"
      ]
     },
     "execution_count": 8,
     "metadata": {},
     "output_type": "execute_result"
    }
   ],
   "source": [
    "Bike_lock"
   ]
  },
  {
   "cell_type": "code",
   "execution_count": 9,
   "metadata": {
    "ExecuteTime": {
     "end_time": "2020-11-30T05:46:10.295410Z",
     "start_time": "2020-11-30T05:46:10.284363Z"
    }
   },
   "outputs": [],
   "source": [
    "Bike_lock['대여소명'] = Bike_lock['대여소이름'].apply(lambda x: x.split('.')[1:][0])\n",
    "Bike_lock['대여소번호'] = Bike_lock['대여소이름'].apply(lambda x: x.split('.')[0])"
   ]
  },
  {
   "cell_type": "code",
   "execution_count": 10,
   "metadata": {
    "ExecuteTime": {
     "end_time": "2020-11-30T05:46:10.469363Z",
     "start_time": "2020-11-30T05:46:10.456364Z"
    }
   },
   "outputs": [
    {
     "data": {
      "text/html": [
       "<div>\n",
       "<style scoped>\n",
       "    .dataframe tbody tr th:only-of-type {\n",
       "        vertical-align: middle;\n",
       "    }\n",
       "\n",
       "    .dataframe tbody tr th {\n",
       "        vertical-align: top;\n",
       "    }\n",
       "\n",
       "    .dataframe thead th {\n",
       "        text-align: right;\n",
       "    }\n",
       "</style>\n",
       "<table border=\"1\" class=\"dataframe\">\n",
       "  <thead>\n",
       "    <tr style=\"text-align: right;\">\n",
       "      <th></th>\n",
       "      <th>대여소이름</th>\n",
       "      <th>위도</th>\n",
       "      <th>경도</th>\n",
       "      <th>주소</th>\n",
       "      <th>자치구</th>\n",
       "      <th>대여소명</th>\n",
       "      <th>대여소번호</th>\n",
       "    </tr>\n",
       "  </thead>\n",
       "  <tbody>\n",
       "    <tr>\n",
       "      <th>0</th>\n",
       "      <td>1001. 광진교 남단 사거리(디지털프라자앞)</td>\n",
       "      <td>37.542</td>\n",
       "      <td>127.125</td>\n",
       "      <td>서울특별시 강동구 천호동 355</td>\n",
       "      <td>강동구</td>\n",
       "      <td>광진교 남단 사거리(디지털프라자앞)</td>\n",
       "      <td>1001</td>\n",
       "    </tr>\n",
       "    <tr>\n",
       "      <th>1</th>\n",
       "      <td>1002. 해공공원(천호동)</td>\n",
       "      <td>37.545</td>\n",
       "      <td>127.126</td>\n",
       "      <td>서울특별시 강동구 천호동 360</td>\n",
       "      <td>강동구</td>\n",
       "      <td>해공공원(천호동)</td>\n",
       "      <td>1002</td>\n",
       "    </tr>\n",
       "    <tr>\n",
       "      <th>2</th>\n",
       "      <td>1003. 해공도서관앞</td>\n",
       "      <td>37.544</td>\n",
       "      <td>127.125</td>\n",
       "      <td>서울특별시 강동구 천호동 360</td>\n",
       "      <td>강동구</td>\n",
       "      <td>해공도서관앞</td>\n",
       "      <td>1003</td>\n",
       "    </tr>\n",
       "    <tr>\n",
       "      <th>3</th>\n",
       "      <td>1004. 삼성광나루아파트 버스정류장</td>\n",
       "      <td>37.553</td>\n",
       "      <td>127.129</td>\n",
       "      <td>서울특별시 강동구 암사동 463-2</td>\n",
       "      <td>강동구</td>\n",
       "      <td>삼성광나루아파트 버스정류장</td>\n",
       "      <td>1004</td>\n",
       "    </tr>\n",
       "    <tr>\n",
       "      <th>4</th>\n",
       "      <td>1006. 롯데캐슬 115동앞</td>\n",
       "      <td>37.555</td>\n",
       "      <td>127.143</td>\n",
       "      <td>서울특별시 강동구 암사동 414-2</td>\n",
       "      <td>강동구</td>\n",
       "      <td>롯데캐슬 115동앞</td>\n",
       "      <td>1006</td>\n",
       "    </tr>\n",
       "    <tr>\n",
       "      <th>...</th>\n",
       "      <td>...</td>\n",
       "      <td>...</td>\n",
       "      <td>...</td>\n",
       "      <td>...</td>\n",
       "      <td>...</td>\n",
       "      <td>...</td>\n",
       "      <td>...</td>\n",
       "    </tr>\n",
       "    <tr>\n",
       "      <th>2038</th>\n",
       "      <td>992.북한산입구 정류장</td>\n",
       "      <td>37.658</td>\n",
       "      <td>126.946</td>\n",
       "      <td>서울특별시 은평구 진관동 289</td>\n",
       "      <td>은평구</td>\n",
       "      <td>북한산입구 정류장</td>\n",
       "      <td>992</td>\n",
       "    </tr>\n",
       "    <tr>\n",
       "      <th>2039</th>\n",
       "      <td>993.은평뉴타운 온뜨락아파트앞</td>\n",
       "      <td>37.630</td>\n",
       "      <td>126.920</td>\n",
       "      <td>서울특별시 은평구 진관동 234-34</td>\n",
       "      <td>은평구</td>\n",
       "      <td>은평뉴타운 온뜨락아파트앞</td>\n",
       "      <td>993</td>\n",
       "    </tr>\n",
       "    <tr>\n",
       "      <th>2040</th>\n",
       "      <td>994.북한산생태공원입구(교통섬)</td>\n",
       "      <td>37.611</td>\n",
       "      <td>126.939</td>\n",
       "      <td>서울특별시 은평구 불광동 2-1</td>\n",
       "      <td>은평구</td>\n",
       "      <td>북한산생태공원입구(교통섬)</td>\n",
       "      <td>994</td>\n",
       "    </tr>\n",
       "    <tr>\n",
       "      <th>2041</th>\n",
       "      <td>995.은평다목적체육관</td>\n",
       "      <td>37.631</td>\n",
       "      <td>126.925</td>\n",
       "      <td>서울특별시 은평구 진관동 125</td>\n",
       "      <td>은평구</td>\n",
       "      <td>은평다목적체육관</td>\n",
       "      <td>995</td>\n",
       "    </tr>\n",
       "    <tr>\n",
       "      <th>2042</th>\n",
       "      <td>996.응암역 1번출구</td>\n",
       "      <td>37.599</td>\n",
       "      <td>126.915</td>\n",
       "      <td>서울특별시 은평구 신사동 23-3</td>\n",
       "      <td>은평구</td>\n",
       "      <td>응암역 1번출구</td>\n",
       "      <td>996</td>\n",
       "    </tr>\n",
       "  </tbody>\n",
       "</table>\n",
       "<p>2043 rows × 7 columns</p>\n",
       "</div>"
      ],
      "text/plain": [
       "                          대여소이름     위도      경도                    주소  자치구                  대여소명 대여소번호\n",
       "0     1001. 광진교 남단 사거리(디지털프라자앞) 37.542 127.125     서울특별시 강동구 천호동 355  강동구   광진교 남단 사거리(디지털프라자앞)  1001\n",
       "1               1002. 해공공원(천호동) 37.545 127.126     서울특별시 강동구 천호동 360  강동구             해공공원(천호동)  1002\n",
       "2                  1003. 해공도서관앞 37.544 127.125     서울특별시 강동구 천호동 360  강동구                해공도서관앞  1003\n",
       "3          1004. 삼성광나루아파트 버스정류장 37.553 127.129   서울특별시 강동구 암사동 463-2  강동구        삼성광나루아파트 버스정류장  1004\n",
       "4              1006. 롯데캐슬 115동앞 37.555 127.143   서울특별시 강동구 암사동 414-2  강동구            롯데캐슬 115동앞  1006\n",
       "...                         ...    ...     ...                   ...  ...                   ...   ...\n",
       "2038              992.북한산입구 정류장 37.658 126.946     서울특별시 은평구 진관동 289  은평구             북한산입구 정류장   992\n",
       "2039          993.은평뉴타운 온뜨락아파트앞 37.630 126.920  서울특별시 은평구 진관동 234-34  은평구         은평뉴타운 온뜨락아파트앞   993\n",
       "2040         994.북한산생태공원입구(교통섬) 37.611 126.939     서울특별시 은평구 불광동 2-1  은평구        북한산생태공원입구(교통섬)   994\n",
       "2041               995.은평다목적체육관 37.631 126.925     서울특별시 은평구 진관동 125  은평구              은평다목적체육관   995\n",
       "2042               996.응암역 1번출구 37.599 126.915    서울특별시 은평구 신사동 23-3  은평구              응암역 1번출구   996\n",
       "\n",
       "[2043 rows x 7 columns]"
      ]
     },
     "execution_count": 10,
     "metadata": {},
     "output_type": "execute_result"
    }
   ],
   "source": [
    "Bike_lock"
   ]
  },
  {
   "cell_type": "code",
   "execution_count": 11,
   "metadata": {
    "ExecuteTime": {
     "end_time": "2020-11-30T05:46:10.627363Z",
     "start_time": "2020-11-30T05:46:10.608397Z"
    }
   },
   "outputs": [],
   "source": [
    "Bike_location = pd.read_csv(os.getcwd() + '\\\\New data\\\\bike_location_final.csv', encoding = 'utf-8') # 최신 거치대 위치 정보"
   ]
  },
  {
   "cell_type": "code",
   "execution_count": 12,
   "metadata": {
    "ExecuteTime": {
     "end_time": "2020-11-30T05:46:10.801401Z",
     "start_time": "2020-11-30T05:46:10.787365Z"
    }
   },
   "outputs": [],
   "source": [
    "Bike_location['대여소명'] = Bike_location['대여소이름'].apply(lambda x: x.split('.')[1:][0])\n",
    "Bike_location['대여소번호'] = Bike_location['대여소이름'].apply(lambda x: x.split('.')[0])"
   ]
  },
  {
   "cell_type": "code",
   "execution_count": 13,
   "metadata": {
    "ExecuteTime": {
     "end_time": "2020-11-30T05:46:11.258390Z",
     "start_time": "2020-11-30T05:46:11.236692Z"
    }
   },
   "outputs": [
    {
     "data": {
      "text/html": [
       "<div>\n",
       "<style scoped>\n",
       "    .dataframe tbody tr th:only-of-type {\n",
       "        vertical-align: middle;\n",
       "    }\n",
       "\n",
       "    .dataframe tbody tr th {\n",
       "        vertical-align: top;\n",
       "    }\n",
       "\n",
       "    .dataframe thead th {\n",
       "        text-align: right;\n",
       "    }\n",
       "</style>\n",
       "<table border=\"1\" class=\"dataframe\">\n",
       "  <thead>\n",
       "    <tr style=\"text-align: right;\">\n",
       "      <th></th>\n",
       "      <th>대여소이름</th>\n",
       "      <th>위도</th>\n",
       "      <th>경도</th>\n",
       "      <th>주소</th>\n",
       "      <th>자치구</th>\n",
       "      <th>대여소명</th>\n",
       "      <th>대여소번호</th>\n",
       "    </tr>\n",
       "  </thead>\n",
       "  <tbody>\n",
       "    <tr>\n",
       "      <th>3</th>\n",
       "      <td>1004. 삼성광나루아파트 버스정류장</td>\n",
       "      <td>37.553</td>\n",
       "      <td>127.129</td>\n",
       "      <td>서울특별시 강동구 암사동 463-2</td>\n",
       "      <td>강동구</td>\n",
       "      <td>삼성광나루아파트 버스정류장</td>\n",
       "      <td>1004</td>\n",
       "    </tr>\n",
       "  </tbody>\n",
       "</table>\n",
       "</div>"
      ],
      "text/plain": [
       "                  대여소이름     위도      경도                   주소  자치구             대여소명 대여소번호\n",
       "3  1004. 삼성광나루아파트 버스정류장 37.553 127.129  서울특별시 강동구 암사동 463-2  강동구   삼성광나루아파트 버스정류장  1004"
      ]
     },
     "execution_count": 13,
     "metadata": {},
     "output_type": "execute_result"
    }
   ],
   "source": [
    "Bike_lock[Bike_lock['대여소번호'] == '1004']"
   ]
  },
  {
   "cell_type": "code",
   "execution_count": 14,
   "metadata": {
    "ExecuteTime": {
     "end_time": "2020-11-30T05:46:11.418193Z",
     "start_time": "2020-11-30T05:46:11.407192Z"
    }
   },
   "outputs": [
    {
     "data": {
      "text/plain": [
       "0"
      ]
     },
     "execution_count": 14,
     "metadata": {},
     "output_type": "execute_result"
    }
   ],
   "source": [
    "len((set(Bike_location['대여소번호'].unique().tolist()))- set(list(Bike_lock['대여소번호'].unique().tolist())))"
   ]
  },
  {
   "cell_type": "code",
   "execution_count": 15,
   "metadata": {
    "ExecuteTime": {
     "end_time": "2020-11-30T05:46:11.625192Z",
     "start_time": "2020-11-30T05:46:11.604199Z"
    }
   },
   "outputs": [
    {
     "data": {
      "text/plain": [
       "0"
      ]
     },
     "execution_count": 15,
     "metadata": {},
     "output_type": "execute_result"
    }
   ],
   "source": [
    "len( set(list(Bike_lock['대여소번호'].unique().tolist())) - (set(Bike_location['대여소번호'].unique().tolist())))"
   ]
  },
  {
   "cell_type": "code",
   "execution_count": 16,
   "metadata": {
    "ExecuteTime": {
     "end_time": "2020-11-30T05:46:12.111982Z",
     "start_time": "2020-11-30T05:46:12.101382Z"
    }
   },
   "outputs": [
    {
     "data": {
      "text/plain": [
       "2043"
      ]
     },
     "execution_count": 16,
     "metadata": {},
     "output_type": "execute_result"
    }
   ],
   "source": [
    "len( set(list(Bike_lock['대여소번호'].unique().tolist())))"
   ]
  },
  {
   "cell_type": "code",
   "execution_count": 17,
   "metadata": {
    "ExecuteTime": {
     "end_time": "2020-11-30T05:46:12.315542Z",
     "start_time": "2020-11-30T05:46:12.302517Z"
    }
   },
   "outputs": [],
   "source": [
    "# ## 자전거 대여이력(**사용량 정보 없음)\n",
    "\n",
    "# History = New[6]\n",
    "\n",
    "# History\n",
    "\n",
    "# History['연'] = History['대여일시'].apply(lambda x: str(x)[0:4])\n",
    "# History['월'] = History['대여일시'].apply(lambda x: str(x)[5:7])\n",
    "# History['일'] = History['대여일시'].apply(lambda x: str(x)[8:11])\n",
    "\n",
    "# History['대여날짜'] = History['대여날짜'].apply(lambda x: datetime.datetime.strptime(x, '%Y-%m-%d'))\n",
    "# History['대여시각'] = History['대여시각'].apply(lambda x: datetime.datetime.strptime(x, '%H:%M'))\n",
    "# # History['대여일시'] = History['대여일시'].apply(lambda x: datetime.datetime.strptime(x, '%Y-%m-%d %H:%M'))\n",
    "\n",
    "# History['요일'] = History['대여날짜'].apply(lambda x: x.weekday())\n",
    "\n",
    "# History['시간대'] = History['대여시각'].apply(lambda x: x.hour)\n",
    "\n",
    "# # a = '20:20:00'\n",
    "# # b= datetime.datetime.strptime(a, \"%H:%M:%S\")\n",
    "# # b.hour()\n",
    "\n",
    "# History\n",
    "\n",
    "# History.info()\n",
    "\n",
    "# History_group = History.groupby(['대여 대여소명','요일','시간대']).count()"
   ]
  },
  {
   "cell_type": "markdown",
   "metadata": {},
   "source": [
    "## 2020 시간별 자전거 이용정보"
   ]
  },
  {
   "cell_type": "code",
   "execution_count": 18,
   "metadata": {
    "ExecuteTime": {
     "end_time": "2020-11-30T05:46:13.518876Z",
     "start_time": "2020-11-30T05:46:13.507726Z"
    }
   },
   "outputs": [
    {
     "data": {
      "text/plain": [
       "'C:\\\\Users\\\\justi\\\\OneDrive\\\\Git\\\\Team 6\\\\Ddareung'"
      ]
     },
     "execution_count": 18,
     "metadata": {},
     "output_type": "execute_result"
    }
   ],
   "source": [
    "pwd"
   ]
  },
  {
   "cell_type": "code",
   "execution_count": 19,
   "metadata": {
    "ExecuteTime": {
     "end_time": "2020-11-30T05:46:25.990840Z",
     "start_time": "2020-11-30T05:46:14.028374Z"
    }
   },
   "outputs": [],
   "source": [
    "Hour_bike_usage = pd.read_csv(os.getcwd() + '/New data/Hour_bike_usage_2020.csv', encoding = 'cp949')"
   ]
  },
  {
   "cell_type": "code",
   "execution_count": 20,
   "metadata": {
    "ExecuteTime": {
     "end_time": "2020-11-30T05:46:26.164844Z",
     "start_time": "2020-11-30T05:46:26.150839Z"
    }
   },
   "outputs": [
    {
     "data": {
      "text/html": [
       "<div>\n",
       "<style scoped>\n",
       "    .dataframe tbody tr th:only-of-type {\n",
       "        vertical-align: middle;\n",
       "    }\n",
       "\n",
       "    .dataframe tbody tr th {\n",
       "        vertical-align: top;\n",
       "    }\n",
       "\n",
       "    .dataframe thead th {\n",
       "        text-align: right;\n",
       "    }\n",
       "</style>\n",
       "<table border=\"1\" class=\"dataframe\">\n",
       "  <thead>\n",
       "    <tr style=\"text-align: right;\">\n",
       "      <th></th>\n",
       "      <th>대여일자</th>\n",
       "      <th>대여시간</th>\n",
       "      <th>대여소번호</th>\n",
       "      <th>대여소명</th>\n",
       "      <th>대여구분코드</th>\n",
       "      <th>연령대코드</th>\n",
       "      <th>이용건수</th>\n",
       "      <th>운동량</th>\n",
       "      <th>탄소량</th>\n",
       "      <th>이동거리</th>\n",
       "      <th>사용시간</th>\n",
       "      <th>대여일자datetime</th>\n",
       "      <th>요일</th>\n",
       "      <th>연도</th>\n",
       "      <th>월</th>\n",
       "    </tr>\n",
       "  </thead>\n",
       "  <tbody>\n",
       "    <tr>\n",
       "      <th>0</th>\n",
       "      <td>2020-02-01</td>\n",
       "      <td>0</td>\n",
       "      <td>1442</td>\n",
       "      <td>1442. (구)신한은행 중랑교지점</td>\n",
       "      <td>정기권</td>\n",
       "      <td>~10대</td>\n",
       "      <td>1</td>\n",
       "      <td>53.86</td>\n",
       "      <td>0.32</td>\n",
       "      <td>1360.000</td>\n",
       "      <td>6</td>\n",
       "      <td>2020-02-01</td>\n",
       "      <td>5</td>\n",
       "      <td>2020</td>\n",
       "      <td>2</td>\n",
       "    </tr>\n",
       "    <tr>\n",
       "      <th>1</th>\n",
       "      <td>2020-02-01</td>\n",
       "      <td>0</td>\n",
       "      <td>1339</td>\n",
       "      <td>1339. 삼성전자서비스 성북센터</td>\n",
       "      <td>정기권</td>\n",
       "      <td>~10대</td>\n",
       "      <td>1</td>\n",
       "      <td>10.04</td>\n",
       "      <td>0.09</td>\n",
       "      <td>390.000</td>\n",
       "      <td>3</td>\n",
       "      <td>2020-02-01</td>\n",
       "      <td>5</td>\n",
       "      <td>2020</td>\n",
       "      <td>2</td>\n",
       "    </tr>\n",
       "    <tr>\n",
       "      <th>2</th>\n",
       "      <td>2020-02-01</td>\n",
       "      <td>0</td>\n",
       "      <td>1960</td>\n",
       "      <td>1960. 화광신문사 앞</td>\n",
       "      <td>정기권</td>\n",
       "      <td>~10대</td>\n",
       "      <td>1</td>\n",
       "      <td>75.14</td>\n",
       "      <td>0.64</td>\n",
       "      <td>2750.000</td>\n",
       "      <td>24</td>\n",
       "      <td>2020-02-01</td>\n",
       "      <td>5</td>\n",
       "      <td>2020</td>\n",
       "      <td>2</td>\n",
       "    </tr>\n",
       "    <tr>\n",
       "      <th>3</th>\n",
       "      <td>2020-02-01</td>\n",
       "      <td>0</td>\n",
       "      <td>394</td>\n",
       "      <td>394. 경희궁 자이 3단지</td>\n",
       "      <td>정기권</td>\n",
       "      <td>~10대</td>\n",
       "      <td>1</td>\n",
       "      <td>28.42</td>\n",
       "      <td>0.18</td>\n",
       "      <td>780.000</td>\n",
       "      <td>3</td>\n",
       "      <td>2020-02-01</td>\n",
       "      <td>5</td>\n",
       "      <td>2020</td>\n",
       "      <td>2</td>\n",
       "    </tr>\n",
       "  </tbody>\n",
       "</table>\n",
       "</div>"
      ],
      "text/plain": [
       "         대여일자  대여시간  대여소번호                 대여소명 대여구분코드 연령대코드  이용건수    운동량   탄소량     이동거리  사용시간 대여일자datetime  요일    연도  월\n",
       "0  2020-02-01     0   1442  1442. (구)신한은행 중랑교지점    정기권  ~10대     1  53.86  0.32 1360.000     6   2020-02-01   5  2020  2\n",
       "1  2020-02-01     0   1339   1339. 삼성전자서비스 성북센터    정기권  ~10대     1  10.04  0.09  390.000     3   2020-02-01   5  2020  2\n",
       "2  2020-02-01     0   1960        1960. 화광신문사 앞    정기권  ~10대     1  75.14  0.64 2750.000    24   2020-02-01   5  2020  2\n",
       "3  2020-02-01     0    394      394. 경희궁 자이 3단지    정기권  ~10대     1  28.42  0.18  780.000     3   2020-02-01   5  2020  2"
      ]
     },
     "execution_count": 20,
     "metadata": {},
     "output_type": "execute_result"
    }
   ],
   "source": [
    "Hour_bike_usage.head(4)"
   ]
  },
  {
   "cell_type": "code",
   "execution_count": 21,
   "metadata": {
    "ExecuteTime": {
     "end_time": "2020-11-30T05:46:26.338891Z",
     "start_time": "2020-11-30T05:46:26.324892Z"
    },
    "scrolled": true
   },
   "outputs": [
    {
     "name": "stdout",
     "output_type": "stream",
     "text": [
      "<class 'pandas.core.frame.DataFrame'>\n",
      "RangeIndex: 6054830 entries, 0 to 6054829\n",
      "Data columns (total 15 columns):\n",
      " #   Column        Dtype  \n",
      "---  ------        -----  \n",
      " 0   대여일자          object \n",
      " 1   대여시간          int64  \n",
      " 2   대여소번호         int64  \n",
      " 3   대여소명          object \n",
      " 4   대여구분코드        object \n",
      " 5   연령대코드         object \n",
      " 6   이용건수          int64  \n",
      " 7   운동량           object \n",
      " 8   탄소량           object \n",
      " 9   이동거리          float64\n",
      " 10  사용시간          int64  \n",
      " 11  대여일자datetime  object \n",
      " 12  요일            int64  \n",
      " 13  연도            int64  \n",
      " 14  월             int64  \n",
      "dtypes: float64(1), int64(7), object(7)\n",
      "memory usage: 692.9+ MB\n"
     ]
    }
   ],
   "source": [
    "Hour_bike_usage.info()"
   ]
  },
  {
   "cell_type": "code",
   "execution_count": 22,
   "metadata": {
    "ExecuteTime": {
     "end_time": "2020-11-30T05:46:26.528890Z",
     "start_time": "2020-11-30T05:46:26.513892Z"
    }
   },
   "outputs": [],
   "source": [
    "# Hour_bike_usage[Hour_bike_usage['대여소번호'] == 99998]"
   ]
  },
  {
   "cell_type": "code",
   "execution_count": 23,
   "metadata": {
    "ExecuteTime": {
     "end_time": "2020-11-30T05:46:26.704891Z",
     "start_time": "2020-11-30T05:46:26.691892Z"
    }
   },
   "outputs": [],
   "source": [
    "# Hour_bike_usage['대여소명'] = Hour_bike_usage['대여소명'].apply(lambda x: x.split('.')[-1])\n",
    "# Hour_bike_usage['대여일자datetime'] = Hour_bike_usage['대여일자'].apply(lambda x: datetime.datetime.strptime(x, '%Y-%m-%d'))\n",
    "# Hour_bike_usage['요일'] = Hour_bike_usage['대여일자datetime'].apply(lambda x: x.weekday())\n",
    "# Hour_bike_usage['연도'] = Hour_bike_usage['대여일자'].apply(lambda x: str(x)[:4])\n",
    "# Hour_bike_usage['대여소 번호'] = Hour_bike_usage['대여소명'].apply(lambda x: x.split(\".\")[0])"
   ]
  },
  {
   "cell_type": "code",
   "execution_count": 24,
   "metadata": {
    "ExecuteTime": {
     "end_time": "2020-11-30T05:46:44.377622Z",
     "start_time": "2020-11-30T05:46:26.861895Z"
    }
   },
   "outputs": [],
   "source": [
    "Hour_bike_usage = Hour_bike_usage.astype({'대여시간':'str', '대여소번호' : 'str', '요일': 'str', '연도': 'str', '월':'str'})"
   ]
  },
  {
   "cell_type": "code",
   "execution_count": 25,
   "metadata": {
    "ExecuteTime": {
     "end_time": "2020-11-30T05:46:53.686329Z",
     "start_time": "2020-11-30T05:46:53.662080Z"
    }
   },
   "outputs": [
    {
     "data": {
      "text/html": [
       "<div>\n",
       "<style scoped>\n",
       "    .dataframe tbody tr th:only-of-type {\n",
       "        vertical-align: middle;\n",
       "    }\n",
       "\n",
       "    .dataframe tbody tr th {\n",
       "        vertical-align: top;\n",
       "    }\n",
       "\n",
       "    .dataframe thead th {\n",
       "        text-align: right;\n",
       "    }\n",
       "</style>\n",
       "<table border=\"1\" class=\"dataframe\">\n",
       "  <thead>\n",
       "    <tr style=\"text-align: right;\">\n",
       "      <th></th>\n",
       "      <th>대여일자</th>\n",
       "      <th>대여시간</th>\n",
       "      <th>대여소번호</th>\n",
       "      <th>대여소명</th>\n",
       "      <th>대여구분코드</th>\n",
       "      <th>연령대코드</th>\n",
       "      <th>이용건수</th>\n",
       "      <th>운동량</th>\n",
       "      <th>탄소량</th>\n",
       "      <th>이동거리</th>\n",
       "      <th>사용시간</th>\n",
       "      <th>대여일자datetime</th>\n",
       "      <th>요일</th>\n",
       "      <th>연도</th>\n",
       "      <th>월</th>\n",
       "    </tr>\n",
       "  </thead>\n",
       "  <tbody>\n",
       "    <tr>\n",
       "      <th>0</th>\n",
       "      <td>2020-02-01</td>\n",
       "      <td>0</td>\n",
       "      <td>1442</td>\n",
       "      <td>1442. (구)신한은행 중랑교지점</td>\n",
       "      <td>정기권</td>\n",
       "      <td>~10대</td>\n",
       "      <td>1</td>\n",
       "      <td>53.86</td>\n",
       "      <td>0.32</td>\n",
       "      <td>1360.000</td>\n",
       "      <td>6</td>\n",
       "      <td>2020-02-01</td>\n",
       "      <td>5</td>\n",
       "      <td>2020</td>\n",
       "      <td>2</td>\n",
       "    </tr>\n",
       "    <tr>\n",
       "      <th>1</th>\n",
       "      <td>2020-02-01</td>\n",
       "      <td>0</td>\n",
       "      <td>1339</td>\n",
       "      <td>1339. 삼성전자서비스 성북센터</td>\n",
       "      <td>정기권</td>\n",
       "      <td>~10대</td>\n",
       "      <td>1</td>\n",
       "      <td>10.04</td>\n",
       "      <td>0.09</td>\n",
       "      <td>390.000</td>\n",
       "      <td>3</td>\n",
       "      <td>2020-02-01</td>\n",
       "      <td>5</td>\n",
       "      <td>2020</td>\n",
       "      <td>2</td>\n",
       "    </tr>\n",
       "    <tr>\n",
       "      <th>2</th>\n",
       "      <td>2020-02-01</td>\n",
       "      <td>0</td>\n",
       "      <td>1960</td>\n",
       "      <td>1960. 화광신문사 앞</td>\n",
       "      <td>정기권</td>\n",
       "      <td>~10대</td>\n",
       "      <td>1</td>\n",
       "      <td>75.14</td>\n",
       "      <td>0.64</td>\n",
       "      <td>2750.000</td>\n",
       "      <td>24</td>\n",
       "      <td>2020-02-01</td>\n",
       "      <td>5</td>\n",
       "      <td>2020</td>\n",
       "      <td>2</td>\n",
       "    </tr>\n",
       "    <tr>\n",
       "      <th>3</th>\n",
       "      <td>2020-02-01</td>\n",
       "      <td>0</td>\n",
       "      <td>394</td>\n",
       "      <td>394. 경희궁 자이 3단지</td>\n",
       "      <td>정기권</td>\n",
       "      <td>~10대</td>\n",
       "      <td>1</td>\n",
       "      <td>28.42</td>\n",
       "      <td>0.18</td>\n",
       "      <td>780.000</td>\n",
       "      <td>3</td>\n",
       "      <td>2020-02-01</td>\n",
       "      <td>5</td>\n",
       "      <td>2020</td>\n",
       "      <td>2</td>\n",
       "    </tr>\n",
       "    <tr>\n",
       "      <th>4</th>\n",
       "      <td>2020-02-01</td>\n",
       "      <td>0</td>\n",
       "      <td>1364</td>\n",
       "      <td>1364. 성북동 치안센터 앞</td>\n",
       "      <td>정기권</td>\n",
       "      <td>~10대</td>\n",
       "      <td>1</td>\n",
       "      <td>52.97</td>\n",
       "      <td>0.41</td>\n",
       "      <td>1760.000</td>\n",
       "      <td>11</td>\n",
       "      <td>2020-02-01</td>\n",
       "      <td>5</td>\n",
       "      <td>2020</td>\n",
       "      <td>2</td>\n",
       "    </tr>\n",
       "    <tr>\n",
       "      <th>...</th>\n",
       "      <td>...</td>\n",
       "      <td>...</td>\n",
       "      <td>...</td>\n",
       "      <td>...</td>\n",
       "      <td>...</td>\n",
       "      <td>...</td>\n",
       "      <td>...</td>\n",
       "      <td>...</td>\n",
       "      <td>...</td>\n",
       "      <td>...</td>\n",
       "      <td>...</td>\n",
       "      <td>...</td>\n",
       "      <td>...</td>\n",
       "      <td>...</td>\n",
       "      <td>...</td>\n",
       "    </tr>\n",
       "    <tr>\n",
       "      <th>6054825</th>\n",
       "      <td>2020-06-30</td>\n",
       "      <td>23</td>\n",
       "      <td>1286</td>\n",
       "      <td>1286. 위례중앙푸르지오 1단지 앞</td>\n",
       "      <td>일일권</td>\n",
       "      <td>50대</td>\n",
       "      <td>1</td>\n",
       "      <td>56.83</td>\n",
       "      <td>0.48</td>\n",
       "      <td>2050.000</td>\n",
       "      <td>8</td>\n",
       "      <td>2020-06-30</td>\n",
       "      <td>1</td>\n",
       "      <td>2020</td>\n",
       "      <td>6</td>\n",
       "    </tr>\n",
       "    <tr>\n",
       "      <th>6054826</th>\n",
       "      <td>2020-06-30</td>\n",
       "      <td>23</td>\n",
       "      <td>1456</td>\n",
       "      <td>1456. 상아빌딩(우림시장 교차로)</td>\n",
       "      <td>단체권</td>\n",
       "      <td>~10대</td>\n",
       "      <td>1</td>\n",
       "      <td>0.00</td>\n",
       "      <td>0.00</td>\n",
       "      <td>0.000</td>\n",
       "      <td>19</td>\n",
       "      <td>2020-06-30</td>\n",
       "      <td>1</td>\n",
       "      <td>2020</td>\n",
       "      <td>6</td>\n",
       "    </tr>\n",
       "    <tr>\n",
       "      <th>6054827</th>\n",
       "      <td>2020-06-30</td>\n",
       "      <td>23</td>\n",
       "      <td>1447</td>\n",
       "      <td>1447. 면목역 3번출구</td>\n",
       "      <td>단체권</td>\n",
       "      <td>20대</td>\n",
       "      <td>2</td>\n",
       "      <td>7.09</td>\n",
       "      <td>0.69</td>\n",
       "      <td>2984.150</td>\n",
       "      <td>47</td>\n",
       "      <td>2020-06-30</td>\n",
       "      <td>1</td>\n",
       "      <td>2020</td>\n",
       "      <td>6</td>\n",
       "    </tr>\n",
       "    <tr>\n",
       "      <th>6054828</th>\n",
       "      <td>2020-06-30</td>\n",
       "      <td>23</td>\n",
       "      <td>2002</td>\n",
       "      <td>2002. 노들역 1번출구</td>\n",
       "      <td>단체권</td>\n",
       "      <td>20대</td>\n",
       "      <td>1</td>\n",
       "      <td>165.98</td>\n",
       "      <td>1.50</td>\n",
       "      <td>6448.260</td>\n",
       "      <td>59</td>\n",
       "      <td>2020-06-30</td>\n",
       "      <td>1</td>\n",
       "      <td>2020</td>\n",
       "      <td>6</td>\n",
       "    </tr>\n",
       "    <tr>\n",
       "      <th>6054829</th>\n",
       "      <td>2020-06-30</td>\n",
       "      <td>23</td>\n",
       "      <td>1761</td>\n",
       "      <td>1761.방학중학교 앞</td>\n",
       "      <td>단체권</td>\n",
       "      <td>~10대</td>\n",
       "      <td>2</td>\n",
       "      <td>0.00</td>\n",
       "      <td>0.00</td>\n",
       "      <td>0.000</td>\n",
       "      <td>108</td>\n",
       "      <td>2020-06-30</td>\n",
       "      <td>1</td>\n",
       "      <td>2020</td>\n",
       "      <td>6</td>\n",
       "    </tr>\n",
       "  </tbody>\n",
       "</table>\n",
       "<p>6054830 rows × 15 columns</p>\n",
       "</div>"
      ],
      "text/plain": [
       "               대여일자 대여시간 대여소번호                  대여소명 대여구분코드 연령대코드  이용건수     운동량   탄소량     이동거리  사용시간 대여일자datetime 요일    연도  월\n",
       "0        2020-02-01    0  1442   1442. (구)신한은행 중랑교지점    정기권  ~10대     1   53.86  0.32 1360.000     6   2020-02-01  5  2020  2\n",
       "1        2020-02-01    0  1339    1339. 삼성전자서비스 성북센터    정기권  ~10대     1   10.04  0.09  390.000     3   2020-02-01  5  2020  2\n",
       "2        2020-02-01    0  1960         1960. 화광신문사 앞    정기권  ~10대     1   75.14  0.64 2750.000    24   2020-02-01  5  2020  2\n",
       "3        2020-02-01    0   394       394. 경희궁 자이 3단지    정기권  ~10대     1   28.42  0.18  780.000     3   2020-02-01  5  2020  2\n",
       "4        2020-02-01    0  1364      1364. 성북동 치안센터 앞    정기권  ~10대     1   52.97  0.41 1760.000    11   2020-02-01  5  2020  2\n",
       "...             ...  ...   ...                   ...    ...   ...   ...     ...   ...      ...   ...          ... ..   ... ..\n",
       "6054825  2020-06-30   23  1286  1286. 위례중앙푸르지오 1단지 앞    일일권   50대     1   56.83  0.48 2050.000     8   2020-06-30  1  2020  6\n",
       "6054826  2020-06-30   23  1456  1456. 상아빌딩(우림시장 교차로)    단체권  ~10대     1    0.00  0.00    0.000    19   2020-06-30  1  2020  6\n",
       "6054827  2020-06-30   23  1447        1447. 면목역 3번출구    단체권   20대     2    7.09  0.69 2984.150    47   2020-06-30  1  2020  6\n",
       "6054828  2020-06-30   23  2002        2002. 노들역 1번출구    단체권   20대     1  165.98  1.50 6448.260    59   2020-06-30  1  2020  6\n",
       "6054829  2020-06-30   23  1761          1761.방학중학교 앞    단체권  ~10대     2    0.00  0.00    0.000   108   2020-06-30  1  2020  6\n",
       "\n",
       "[6054830 rows x 15 columns]"
      ]
     },
     "execution_count": 25,
     "metadata": {},
     "output_type": "execute_result"
    }
   ],
   "source": [
    "Hour_bike_usage"
   ]
  },
  {
   "cell_type": "code",
   "execution_count": null,
   "metadata": {
    "ExecuteTime": {
     "end_time": "2020-11-30T05:22:05.640896Z",
     "start_time": "2020-11-30T05:22:02.757286Z"
    }
   },
   "outputs": [],
   "source": []
  },
  {
   "cell_type": "code",
   "execution_count": null,
   "metadata": {
    "ExecuteTime": {
     "end_time": "2020-11-30T05:22:05.656540Z",
     "start_time": "2020-11-30T05:22:05.643862Z"
    }
   },
   "outputs": [],
   "source": [
    "# # 평균 -> 평균내면 안되고 sum 해야함\n",
    "# Hour_bike_usage_group = Hour_bike_usage.groupby(['대여소명','대여소번호','요일','대여시간'],as_index = False).mean()"
   ]
  },
  {
   "cell_type": "code",
   "execution_count": null,
   "metadata": {
    "ExecuteTime": {
     "end_time": "2020-11-30T05:22:05.686564Z",
     "start_time": "2020-11-30T05:22:05.658536Z"
    }
   },
   "outputs": [],
   "source": [
    "Hour_bike_usage_group"
   ]
  },
  {
   "cell_type": "code",
   "execution_count": null,
   "metadata": {
    "ExecuteTime": {
     "end_time": "2020-11-30T05:22:05.718563Z",
     "start_time": "2020-11-30T05:22:05.688537Z"
    }
   },
   "outputs": [],
   "source": [
    "len(set(Hour_bike_usage_group['대여소번호'].unique()))"
   ]
  },
  {
   "cell_type": "code",
   "execution_count": null,
   "metadata": {
    "ExecuteTime": {
     "end_time": "2020-11-30T05:22:05.734534Z",
     "start_time": "2020-11-30T05:22:05.719536Z"
    }
   },
   "outputs": [],
   "source": [
    "## 나중에 try/except, .format, int(h), range(24)로 간결하게 만들기.\n",
    "### 00시, 01시 처럼 2자리로 만들어야함\n",
    "def to_strhour_day(h):\n",
    "        h = int(h)\n",
    "        for i in range(24):\n",
    "            if h == i:\n",
    "                return f'평일 {h:02d}시'#.format(h)\n",
    "            \n",
    "def to_strhour_end(h):\n",
    "        h = int(h)\n",
    "        for i in range(24):\n",
    "            if h == i:\n",
    "                return f'주말 {h:02d}시'#.format(h)"
   ]
  },
  {
   "cell_type": "code",
   "execution_count": null,
   "metadata": {
    "ExecuteTime": {
     "end_time": "2020-11-30T05:22:05.750538Z",
     "start_time": "2020-11-30T05:22:05.736539Z"
    }
   },
   "outputs": [],
   "source": [
    "def to_strday(d):\n",
    "    try:\n",
    "        d = int(d)\n",
    "        for idx, D in enumerate(['월','화','수','목','금','토','일']):\n",
    "            if d == idx:\n",
    "                return D\n",
    "    except:\n",
    "        pass"
   ]
  },
  {
   "cell_type": "markdown",
   "metadata": {},
   "source": [
    "### 요일 value 수정"
   ]
  },
  {
   "cell_type": "code",
   "execution_count": null,
   "metadata": {
    "ExecuteTime": {
     "end_time": "2020-11-30T05:22:05.953535Z",
     "start_time": "2020-11-30T05:22:05.751537Z"
    }
   },
   "outputs": [],
   "source": [
    "Hour_bike_usage_group['요일'] = Hour_bike_usage_group['요일'].map(lambda x: to_strday(x))"
   ]
  },
  {
   "cell_type": "code",
   "execution_count": null,
   "metadata": {
    "ExecuteTime": {
     "end_time": "2020-11-30T05:28:05.822336Z",
     "start_time": "2020-11-30T05:28:05.806344Z"
    }
   },
   "outputs": [],
   "source": [
    "Hour_bike_usage_group.head(40)"
   ]
  },
  {
   "cell_type": "code",
   "execution_count": null,
   "metadata": {
    "ExecuteTime": {
     "end_time": "2020-11-30T05:22:06.031534Z",
     "start_time": "2020-11-30T05:22:05.969535Z"
    }
   },
   "outputs": [],
   "source": [
    "Hour_bike_usage_group.info()"
   ]
  },
  {
   "cell_type": "markdown",
   "metadata": {},
   "source": [
    "### 평일 이용량\n",
    "- 거치소별 1년간 평일 평균 24시간 동안 각시간별 사용량"
   ]
  },
  {
   "cell_type": "code",
   "execution_count": null,
   "metadata": {
    "ExecuteTime": {
     "end_time": "2020-11-30T05:22:06.173535Z",
     "start_time": "2020-11-30T05:22:06.032536Z"
    }
   },
   "outputs": [],
   "source": [
    "Hour_bike_usage_weekday = Hour_bike_usage_group[(Hour_bike_usage_group['요일'] == '월') |\n",
    "                     (Hour_bike_usage_group['요일'] == '화') |\n",
    "                     (Hour_bike_usage_group['요일'] == '수') | \n",
    "                     (Hour_bike_usage_group['요일'] == '목') | \n",
    "                     (Hour_bike_usage_group['요일'] == '금')]"
   ]
  },
  {
   "cell_type": "markdown",
   "metadata": {
    "ExecuteTime": {
     "end_time": "2020-11-24T06:54:37.878568Z",
     "start_time": "2020-11-24T06:54:04.612Z"
    }
   },
   "source": [
    "Hour_bike_usage_weekday = Hour_bike_usage_weekday.astype({'대여소번호' : 'int32'})\n",
    "\n",
    "Hour_bike_usage_weekday = Hour_bike_usage_weekday.astype({'대여소번호' : 'str'})"
   ]
  },
  {
   "cell_type": "code",
   "execution_count": null,
   "metadata": {
    "ExecuteTime": {
     "end_time": "2020-11-30T05:22:06.475563Z",
     "start_time": "2020-11-30T05:22:06.175549Z"
    }
   },
   "outputs": [],
   "source": [
    "Hour_bike_usage_weekday['대여시간'] = Hour_bike_usage_weekday['대여시간'].map(lambda x: to_strhour_day(x))"
   ]
  },
  {
   "cell_type": "code",
   "execution_count": null,
   "metadata": {
    "ExecuteTime": {
     "end_time": "2020-11-30T05:22:06.491565Z",
     "start_time": "2020-11-30T05:22:06.477538Z"
    },
    "scrolled": true
   },
   "outputs": [],
   "source": [
    "Hour_bike_usage_weekday"
   ]
  },
  {
   "cell_type": "code",
   "execution_count": null,
   "metadata": {
    "ExecuteTime": {
     "end_time": "2020-11-30T05:22:06.523595Z",
     "start_time": "2020-11-30T05:22:06.493080Z"
    }
   },
   "outputs": [],
   "source": [
    "Hour_bike_usage_weekday[Hour_bike_usage_weekday.대여소번호.isna()]"
   ]
  },
  {
   "cell_type": "code",
   "execution_count": null,
   "metadata": {
    "ExecuteTime": {
     "end_time": "2020-11-30T05:22:06.571640Z",
     "start_time": "2020-11-30T05:22:06.524594Z"
    }
   },
   "outputs": [],
   "source": [
    "Hour_bike_usage_weekday.isna().sum()"
   ]
  },
  {
   "cell_type": "code",
   "execution_count": null,
   "metadata": {
    "ExecuteTime": {
     "end_time": "2020-11-30T05:22:06.587622Z",
     "start_time": "2020-11-30T05:22:06.573595Z"
    }
   },
   "outputs": [],
   "source": [
    "len(set(Hour_bike_usage_weekday['대여소번호'].unique()))"
   ]
  },
  {
   "cell_type": "code",
   "execution_count": null,
   "metadata": {
    "ExecuteTime": {
     "end_time": "2020-11-30T05:22:06.603629Z",
     "start_time": "2020-11-30T05:22:06.588595Z"
    }
   },
   "outputs": [],
   "source": [
    "# set(Hour_bike_usage_weekday.sort_values('대여소명')['대여소명'])"
   ]
  },
  {
   "cell_type": "markdown",
   "metadata": {},
   "source": [
    "### 주말 이용량\n",
    "\n",
    "- 주말평균 24시간동안 각 시간별사용량"
   ]
  },
  {
   "cell_type": "code",
   "execution_count": null,
   "metadata": {
    "ExecuteTime": {
     "end_time": "2020-11-30T05:22:06.651628Z",
     "start_time": "2020-11-30T05:22:06.604594Z"
    }
   },
   "outputs": [],
   "source": [
    "Hour_bike_usage_weekend = Hour_bike_usage_group[(Hour_bike_usage_group['요일'] == '토') |\n",
    "                     (Hour_bike_usage_group['요일'] == '일')]"
   ]
  },
  {
   "cell_type": "code",
   "execution_count": null,
   "metadata": {
    "ExecuteTime": {
     "end_time": "2020-11-30T05:22:06.667635Z",
     "start_time": "2020-11-30T05:22:06.653595Z"
    }
   },
   "outputs": [],
   "source": [
    "Hour_bike_usage_weekend['대여소명']"
   ]
  },
  {
   "cell_type": "code",
   "execution_count": null,
   "metadata": {
    "ExecuteTime": {
     "end_time": "2020-11-30T05:22:06.793629Z",
     "start_time": "2020-11-30T05:22:06.668594Z"
    }
   },
   "outputs": [],
   "source": [
    "Hour_bike_usage_weekend['대여시간'] = Hour_bike_usage_weekend['대여시간'].map(lambda x: to_strhour_end(x))"
   ]
  },
  {
   "cell_type": "code",
   "execution_count": null,
   "metadata": {
    "ExecuteTime": {
     "end_time": "2020-11-30T05:22:06.809596Z",
     "start_time": "2020-11-30T05:22:06.795596Z"
    }
   },
   "outputs": [],
   "source": [
    "Hour_bike_usage_weekend"
   ]
  },
  {
   "cell_type": "code",
   "execution_count": null,
   "metadata": {
    "ExecuteTime": {
     "end_time": "2020-11-30T05:22:06.825630Z",
     "start_time": "2020-11-30T05:22:06.811596Z"
    }
   },
   "outputs": [],
   "source": [
    "len(set(Hour_bike_usage_weekend['대여소번호'].unique()))"
   ]
  },
  {
   "cell_type": "markdown",
   "metadata": {},
   "source": [
    "#### 주말 이용 대여소 - 평일 이용 대여소"
   ]
  },
  {
   "cell_type": "code",
   "execution_count": null,
   "metadata": {
    "ExecuteTime": {
     "end_time": "2020-11-30T05:22:06.857638Z",
     "start_time": "2020-11-30T05:22:06.826594Z"
    }
   },
   "outputs": [],
   "source": [
    "len(set(Hour_bike_usage_weekend['대여소번호'].unique()) - set(Hour_bike_usage_weekday['대여소번호'].unique()))"
   ]
  },
  {
   "cell_type": "code",
   "execution_count": null,
   "metadata": {
    "ExecuteTime": {
     "end_time": "2020-11-30T05:22:06.889630Z",
     "start_time": "2020-11-30T05:22:06.859595Z"
    }
   },
   "outputs": [],
   "source": [
    "set(Hour_bike_usage_weekend['대여소번호'].unique()) - set(Hour_bike_usage_weekday['대여소번호'].unique())"
   ]
  },
  {
   "cell_type": "code",
   "execution_count": null,
   "metadata": {
    "ExecuteTime": {
     "end_time": "2020-11-30T05:22:06.921632Z",
     "start_time": "2020-11-30T05:22:06.890596Z"
    }
   },
   "outputs": [],
   "source": [
    "Hour_bike_usage_weekend[Hour_bike_usage_weekend['대여소번호'] == '2525']"
   ]
  },
  {
   "cell_type": "code",
   "execution_count": null,
   "metadata": {
    "ExecuteTime": {
     "end_time": "2020-11-30T05:22:06.953594Z",
     "start_time": "2020-11-30T05:22:06.923596Z"
    }
   },
   "outputs": [],
   "source": [
    "Hour_bike_usage_weekday[Hour_bike_usage_weekday['대여소번호'] == '2525']"
   ]
  },
  {
   "cell_type": "markdown",
   "metadata": {},
   "source": [
    "#### 평일 이용 대여소 - 주말 이용 대여소"
   ]
  },
  {
   "cell_type": "code",
   "execution_count": null,
   "metadata": {
    "ExecuteTime": {
     "end_time": "2020-11-30T05:22:06.983629Z",
     "start_time": "2020-11-30T05:22:06.955599Z"
    }
   },
   "outputs": [],
   "source": [
    "len(set(Hour_bike_usage_weekday['대여소번호'].unique()) - set(Hour_bike_usage_weekend['대여소번호'].unique()))"
   ]
  },
  {
   "cell_type": "code",
   "execution_count": null,
   "metadata": {
    "ExecuteTime": {
     "end_time": "2020-11-30T05:22:07.015622Z",
     "start_time": "2020-11-30T05:22:06.984597Z"
    }
   },
   "outputs": [],
   "source": [
    "set(Hour_bike_usage_weekday['대여소번호'].unique()) - set(Hour_bike_usage_weekend['대여소번호'].unique())"
   ]
  },
  {
   "cell_type": "code",
   "execution_count": null,
   "metadata": {
    "ExecuteTime": {
     "end_time": "2020-11-30T05:22:07.047594Z",
     "start_time": "2020-11-30T05:22:07.017599Z"
    }
   },
   "outputs": [],
   "source": [
    "Hour_bike_usage_weekday[Hour_bike_usage_weekday['대여소번호'] == '9998']"
   ]
  },
  {
   "cell_type": "code",
   "execution_count": null,
   "metadata": {
    "ExecuteTime": {
     "end_time": "2020-11-30T05:22:07.063596Z",
     "start_time": "2020-11-30T05:22:07.048596Z"
    }
   },
   "outputs": [],
   "source": [
    "Hour_bike_usage_weekend[Hour_bike_usage_weekend['대여소번호'] == '9998']"
   ]
  },
  {
   "cell_type": "markdown",
   "metadata": {},
   "source": [
    "#### 주말 & 평일 교집합"
   ]
  },
  {
   "cell_type": "code",
   "execution_count": null,
   "metadata": {
    "ExecuteTime": {
     "end_time": "2020-11-30T05:22:07.111595Z",
     "start_time": "2020-11-30T05:22:07.065600Z"
    }
   },
   "outputs": [],
   "source": [
    "len(set(Hour_bike_usage_weekday['대여소번호'].unique()) & set(Hour_bike_usage_weekend['대여소번호'].unique()))"
   ]
  },
  {
   "cell_type": "markdown",
   "metadata": {},
   "source": [
    "### 최신 거치대 위치 정보와 병합"
   ]
  },
  {
   "cell_type": "code",
   "execution_count": null,
   "metadata": {
    "ExecuteTime": {
     "end_time": "2020-11-30T05:22:07.127627Z",
     "start_time": "2020-11-30T05:22:07.113595Z"
    }
   },
   "outputs": [],
   "source": [
    "Bike_location = pd.read_csv(os.getcwd() + '\\\\New data\\\\bike_location_final.csv', encoding = 'utf-8') # 최신 거치대 위치 정보"
   ]
  },
  {
   "cell_type": "code",
   "execution_count": null,
   "metadata": {
    "ExecuteTime": {
     "end_time": "2020-11-30T05:22:07.143635Z",
     "start_time": "2020-11-30T05:22:07.128595Z"
    }
   },
   "outputs": [],
   "source": [
    "Bike_location['대여소명'] = Bike_location['대여소이름'].apply(lambda x: x.split('.')[1:][0])\n",
    "Bike_location['대여소번호'] = Bike_location['대여소이름'].apply(lambda x: x.split('.')[0])"
   ]
  },
  {
   "cell_type": "code",
   "execution_count": null,
   "metadata": {
    "ExecuteTime": {
     "end_time": "2020-11-30T05:22:07.159601Z",
     "start_time": "2020-11-30T05:22:07.144595Z"
    }
   },
   "outputs": [],
   "source": [
    "Bike_location"
   ]
  },
  {
   "cell_type": "code",
   "execution_count": null,
   "metadata": {
    "ExecuteTime": {
     "end_time": "2020-11-30T05:22:07.175594Z",
     "start_time": "2020-11-30T05:22:07.160602Z"
    }
   },
   "outputs": [],
   "source": [
    "Bike_location.info()"
   ]
  },
  {
   "cell_type": "code",
   "execution_count": null,
   "metadata": {
    "ExecuteTime": {
     "end_time": "2020-11-30T05:22:07.191623Z",
     "start_time": "2020-11-30T05:22:07.177599Z"
    }
   },
   "outputs": [],
   "source": [
    "len((set(Bike_location['대여소번호'].unique().tolist())))"
   ]
  },
  {
   "cell_type": "code",
   "execution_count": null,
   "metadata": {
    "ExecuteTime": {
     "end_time": "2020-11-30T05:22:07.207631Z",
     "start_time": "2020-11-30T05:22:07.193600Z"
    }
   },
   "outputs": [],
   "source": [
    "len(set(Bike_location.대여소번호))"
   ]
  },
  {
   "cell_type": "code",
   "execution_count": null,
   "metadata": {
    "ExecuteTime": {
     "end_time": "2020-11-30T05:22:07.223600Z",
     "start_time": "2020-11-30T05:22:07.208595Z"
    }
   },
   "outputs": [],
   "source": [
    "Hour_bike_usage_weekday"
   ]
  },
  {
   "cell_type": "code",
   "execution_count": null,
   "metadata": {
    "ExecuteTime": {
     "end_time": "2020-11-30T05:22:07.255599Z",
     "start_time": "2020-11-30T05:22:07.224596Z"
    }
   },
   "outputs": [],
   "source": [
    "Hour_bike_usage_weekday.tail(100)"
   ]
  },
  {
   "cell_type": "code",
   "execution_count": null,
   "metadata": {
    "ExecuteTime": {
     "end_time": "2020-11-30T05:22:07.285636Z",
     "start_time": "2020-11-30T05:22:07.257599Z"
    }
   },
   "outputs": [],
   "source": [
    "len((set(Bike_location['대여소번호'].unique().tolist()))- set(list(Hour_bike_usage_weekday['대여소번호'].unique().tolist())))"
   ]
  },
  {
   "cell_type": "code",
   "execution_count": null,
   "metadata": {
    "ExecuteTime": {
     "end_time": "2020-11-30T05:22:07.301599Z",
     "start_time": "2020-11-30T05:22:07.288597Z"
    }
   },
   "outputs": [],
   "source": [
    "# len(set(str(Bike_location['대여소명'].values))-set(str(Hour_bike_usage_weekday['대여소명'].values)))"
   ]
  },
  {
   "cell_type": "markdown",
   "metadata": {},
   "source": [
    "#### 평일"
   ]
  },
  {
   "cell_type": "code",
   "execution_count": null,
   "metadata": {
    "ExecuteTime": {
     "end_time": "2020-11-30T05:22:07.331597Z",
     "start_time": "2020-11-30T05:22:07.303598Z"
    }
   },
   "outputs": [],
   "source": [
    "Hour_bike_usage_weekday"
   ]
  },
  {
   "cell_type": "code",
   "execution_count": null,
   "metadata": {
    "ExecuteTime": {
     "end_time": "2020-11-30T05:22:07.363595Z",
     "start_time": "2020-11-30T05:22:07.333599Z"
    }
   },
   "outputs": [],
   "source": [
    "# 6월 이후 새로 생긴 노드의 갯수\n",
    "len((set(Bike_location['대여소번호'].unique().tolist()))- set(list(Hour_bike_usage_weekday['대여소번호'].unique().tolist())))"
   ]
  },
  {
   "cell_type": "code",
   "execution_count": null,
   "metadata": {
    "ExecuteTime": {
     "end_time": "2020-11-30T05:22:07.395597Z",
     "start_time": "2020-11-30T05:22:07.365599Z"
    }
   },
   "outputs": [],
   "source": [
    "set(Bike_location['대여소번호'].unique().tolist()) - set(list(Hour_bike_usage_weekday['대여소번호'].unique().tolist()))"
   ]
  },
  {
   "cell_type": "code",
   "execution_count": null,
   "metadata": {
    "ExecuteTime": {
     "end_time": "2020-11-30T05:22:07.411630Z",
     "start_time": "2020-11-30T05:22:07.397598Z"
    }
   },
   "outputs": [],
   "source": [
    "Bike_location.info()"
   ]
  },
  {
   "cell_type": "code",
   "execution_count": null,
   "metadata": {
    "ExecuteTime": {
     "end_time": "2020-11-30T05:22:07.459596Z",
     "start_time": "2020-11-30T05:22:07.412595Z"
    }
   },
   "outputs": [],
   "source": [
    "Hour_bike_usage_weekday.info()"
   ]
  },
  {
   "cell_type": "code",
   "execution_count": null,
   "metadata": {
    "ExecuteTime": {
     "end_time": "2020-11-30T05:22:07.491594Z",
     "start_time": "2020-11-30T05:22:07.461599Z"
    }
   },
   "outputs": [],
   "source": [
    "### 새로 추가된 대여소로 추정\n",
    "Hour_bike_usage_weekday[Hour_bike_usage_weekday['대여소번호'] == '2550']"
   ]
  },
  {
   "cell_type": "code",
   "execution_count": null,
   "metadata": {
    "ExecuteTime": {
     "end_time": "2020-11-30T05:22:07.507593Z",
     "start_time": "2020-11-30T05:22:07.492595Z"
    }
   },
   "outputs": [],
   "source": [
    "Hour_bike_usage_weekday = Hour_bike_usage_weekday.drop('대여소명', axis = 1)"
   ]
  },
  {
   "cell_type": "code",
   "execution_count": null,
   "metadata": {
    "ExecuteTime": {
     "end_time": "2020-11-30T05:22:07.601594Z",
     "start_time": "2020-11-30T05:22:07.509600Z"
    }
   },
   "outputs": [],
   "source": [
    "Hour_bike_usage_weekday_location = pd.merge(Bike_location, Hour_bike_usage_weekday, how = 'left',on = '대여소번호')"
   ]
  },
  {
   "cell_type": "code",
   "execution_count": null,
   "metadata": {
    "ExecuteTime": {
     "end_time": "2020-11-30T05:22:07.663595Z",
     "start_time": "2020-11-30T05:22:07.603597Z"
    },
    "scrolled": true
   },
   "outputs": [],
   "source": [
    "Hour_bike_usage_weekday_location.isna().sum()"
   ]
  },
  {
   "cell_type": "code",
   "execution_count": null,
   "metadata": {
    "ExecuteTime": {
     "end_time": "2020-11-30T05:22:07.695592Z",
     "start_time": "2020-11-30T05:22:07.664597Z"
    }
   },
   "outputs": [],
   "source": [
    "Hour_bike_usage_weekday_location[Hour_bike_usage_weekday_location['이용건수'].isna()].index"
   ]
  },
  {
   "cell_type": "code",
   "execution_count": null,
   "metadata": {
    "ExecuteTime": {
     "end_time": "2020-11-30T05:22:07.741641Z",
     "start_time": "2020-11-30T05:22:07.696606Z"
    }
   },
   "outputs": [],
   "source": [
    "Hour_bike_usage_weekday_location_nan = Hour_bike_usage_weekday_location[Hour_bike_usage_weekday_location['이용건수'].isna()]\n",
    "Hour_bike_usage_weekday_location.drop(Hour_bike_usage_weekday_location[Hour_bike_usage_weekday_location['이용건수'].isna()].index)"
   ]
  },
  {
   "cell_type": "code",
   "execution_count": null,
   "metadata": {
    "ExecuteTime": {
     "end_time": "2020-11-30T05:22:07.773597Z",
     "start_time": "2020-11-30T05:22:07.742595Z"
    }
   },
   "outputs": [],
   "source": [
    "Hour_bike_usage_weekday_location_nan"
   ]
  },
  {
   "cell_type": "code",
   "execution_count": null,
   "metadata": {
    "ExecuteTime": {
     "end_time": "2020-11-30T05:22:07.805595Z",
     "start_time": "2020-11-30T05:22:07.774594Z"
    }
   },
   "outputs": [],
   "source": [
    "Hour_bike_usage_weekday_location = Hour_bike_usage_weekday_location.drop(Hour_bike_usage_weekday_location[Hour_bike_usage_weekday_location['이용건수'].isna()].index)"
   ]
  },
  {
   "cell_type": "code",
   "execution_count": null,
   "metadata": {
    "ExecuteTime": {
     "end_time": "2020-11-30T05:22:07.820598Z",
     "start_time": "2020-11-30T05:22:07.806604Z"
    },
    "scrolled": false
   },
   "outputs": [],
   "source": [
    "Hour_bike_usage_weekday_location.head(10)"
   ]
  },
  {
   "cell_type": "code",
   "execution_count": null,
   "metadata": {
    "ExecuteTime": {
     "end_time": "2020-11-30T05:22:07.865622Z",
     "start_time": "2020-11-30T05:22:07.829598Z"
    },
    "scrolled": false
   },
   "outputs": [],
   "source": [
    "Hour_bike_usage_weekday_location[Hour_bike_usage_weekday_location['요일'] == '월']"
   ]
  },
  {
   "cell_type": "code",
   "execution_count": null,
   "metadata": {
    "ExecuteTime": {
     "end_time": "2020-11-30T05:22:07.913599Z",
     "start_time": "2020-11-30T05:22:07.870595Z"
    }
   },
   "outputs": [],
   "source": [
    "Hour_bike_usage_weekday_location[Hour_bike_usage_weekday_location['요일'] == '수']"
   ]
  },
  {
   "cell_type": "code",
   "execution_count": null,
   "metadata": {
    "ExecuteTime": {
     "end_time": "2020-11-30T05:22:08.009595Z",
     "start_time": "2020-11-30T05:22:07.914600Z"
    }
   },
   "outputs": [],
   "source": [
    "Weekday_group = Hour_bike_usage_weekday_location.groupby(['대여소이름','대여시간'],as_index = False).mean()"
   ]
  },
  {
   "cell_type": "code",
   "execution_count": null,
   "metadata": {
    "ExecuteTime": {
     "end_time": "2020-11-30T05:32:43.458819Z",
     "start_time": "2020-11-30T05:32:43.445222Z"
    }
   },
   "outputs": [],
   "source": [
    "Weekday_group['대여시간'].nunique()"
   ]
  },
  {
   "cell_type": "code",
   "execution_count": null,
   "metadata": {
    "ExecuteTime": {
     "end_time": "2020-11-30T05:41:27.698708Z",
     "start_time": "2020-11-30T05:41:27.619687Z"
    }
   },
   "outputs": [],
   "source": [
    "Hour_bike_usage_weekday_location[Hour_bike_usage_weekday_location['대여소번호'] == '1002']"
   ]
  },
  {
   "cell_type": "code",
   "execution_count": null,
   "metadata": {},
   "outputs": [],
   "source": []
  },
  {
   "cell_type": "code",
   "execution_count": null,
   "metadata": {},
   "outputs": [],
   "source": []
  },
  {
   "cell_type": "markdown",
   "metadata": {},
   "source": [
    "#### 평일 train set"
   ]
  },
  {
   "cell_type": "code",
   "execution_count": null,
   "metadata": {
    "ExecuteTime": {
     "end_time": "2020-11-30T05:22:08.073628Z",
     "start_time": "2020-11-30T05:22:08.010597Z"
    }
   },
   "outputs": [],
   "source": [
    "Weekday_trainset = pd.pivot_table(Weekday_group, index = ['대여소이름'], columns= '대여시간', values = '이용건수')#.reset_index()"
   ]
  },
  {
   "cell_type": "code",
   "execution_count": null,
   "metadata": {
    "ExecuteTime": {
     "end_time": "2020-11-30T05:22:08.105622Z",
     "start_time": "2020-11-30T05:22:08.075597Z"
    },
    "scrolled": false
   },
   "outputs": [],
   "source": [
    "Weekday_trainset"
   ]
  },
  {
   "cell_type": "code",
   "execution_count": null,
   "metadata": {
    "ExecuteTime": {
     "end_time": "2020-11-30T05:22:08.121623Z",
     "start_time": "2020-11-30T05:22:08.106594Z"
    }
   },
   "outputs": [],
   "source": [
    "# set(Hour_bike_usage_weekday_location['대여소번호'].unique)"
   ]
  },
  {
   "cell_type": "markdown",
   "metadata": {},
   "source": [
    "#### 주말"
   ]
  },
  {
   "cell_type": "code",
   "execution_count": null,
   "metadata": {
    "ExecuteTime": {
     "end_time": "2020-11-30T05:22:08.153598Z",
     "start_time": "2020-11-30T05:22:08.123596Z"
    }
   },
   "outputs": [],
   "source": [
    "Hour_bike_usage_weekend.info()"
   ]
  },
  {
   "cell_type": "code",
   "execution_count": null,
   "metadata": {
    "ExecuteTime": {
     "end_time": "2020-11-30T05:22:08.169597Z",
     "start_time": "2020-11-30T05:22:08.155595Z"
    }
   },
   "outputs": [],
   "source": [
    "# Hour_bike_usage_weekend['대여소번호'] = Hour_bike_usage_weekend['대여소번호'].astype('str')"
   ]
  },
  {
   "cell_type": "code",
   "execution_count": null,
   "metadata": {
    "ExecuteTime": {
     "end_time": "2020-11-30T05:22:08.185594Z",
     "start_time": "2020-11-30T05:22:08.171596Z"
    }
   },
   "outputs": [],
   "source": [
    "# 6월 이후 새로 생긴 노드들\n",
    "len((set(Bike_location['대여소번호'].unique().tolist()))- set(Hour_bike_usage_weekend['대여소번호'].unique().tolist()))"
   ]
  },
  {
   "cell_type": "code",
   "execution_count": null,
   "metadata": {
    "ExecuteTime": {
     "end_time": "2020-11-30T05:22:08.201596Z",
     "start_time": "2020-11-30T05:22:08.186595Z"
    }
   },
   "outputs": [],
   "source": [
    "set(Bike_location['대여소번호'].unique().tolist())- set(list(Hour_bike_usage_weekend['대여소번호'].unique().tolist()))"
   ]
  },
  {
   "cell_type": "code",
   "execution_count": null,
   "metadata": {
    "ExecuteTime": {
     "end_time": "2020-11-30T05:22:08.233597Z",
     "start_time": "2020-11-30T05:22:08.202596Z"
    }
   },
   "outputs": [],
   "source": [
    "# 평일 주말 다 합해서 새로 생긴 노드들\n",
    "len(set(Bike_location['대여소번호'].unique().tolist()) - (set(Hour_bike_usage_weekend['대여소번호'].unique()) | set(Hour_bike_usage_weekday['대여소번호'].unique())))"
   ]
  },
  {
   "cell_type": "code",
   "execution_count": null,
   "metadata": {
    "ExecuteTime": {
     "end_time": "2020-11-30T05:22:08.263623Z",
     "start_time": "2020-11-30T05:22:08.235601Z"
    }
   },
   "outputs": [],
   "source": [
    "len(set(Hour_bike_usage_weekend['대여소번호'].unique()) | set(Hour_bike_usage_weekday['대여소번호'].unique()))"
   ]
  },
  {
   "cell_type": "code",
   "execution_count": null,
   "metadata": {
    "ExecuteTime": {
     "end_time": "2020-11-30T05:22:08.279630Z",
     "start_time": "2020-11-30T05:22:08.264597Z"
    }
   },
   "outputs": [],
   "source": [
    "Bike_location[Bike_location['대여소번호'] == '1070']"
   ]
  },
  {
   "cell_type": "code",
   "execution_count": null,
   "metadata": {
    "ExecuteTime": {
     "end_time": "2020-11-30T05:22:08.295598Z",
     "start_time": "2020-11-30T05:22:08.281597Z"
    }
   },
   "outputs": [],
   "source": [
    "len(set(Hour_bike_usage_weekday['대여소번호'].unique().tolist()))"
   ]
  },
  {
   "cell_type": "code",
   "execution_count": null,
   "metadata": {
    "ExecuteTime": {
     "end_time": "2020-11-30T05:22:08.311624Z",
     "start_time": "2020-11-30T05:22:08.296594Z"
    }
   },
   "outputs": [],
   "source": [
    "len(set(Hour_bike_usage_weekend['대여소번호'].unique().tolist()))"
   ]
  },
  {
   "cell_type": "code",
   "execution_count": null,
   "metadata": {
    "ExecuteTime": {
     "end_time": "2020-11-30T05:22:08.327630Z",
     "start_time": "2020-11-30T05:22:08.313598Z"
    }
   },
   "outputs": [],
   "source": [
    "Bike_location.info()"
   ]
  },
  {
   "cell_type": "code",
   "execution_count": null,
   "metadata": {
    "ExecuteTime": {
     "end_time": "2020-11-30T05:22:08.359630Z",
     "start_time": "2020-11-30T05:22:08.328595Z"
    }
   },
   "outputs": [],
   "source": [
    "Hour_bike_usage_weekend.info()"
   ]
  },
  {
   "cell_type": "code",
   "execution_count": null,
   "metadata": {
    "ExecuteTime": {
     "end_time": "2020-11-30T05:22:08.375630Z",
     "start_time": "2020-11-30T05:22:08.360595Z"
    }
   },
   "outputs": [],
   "source": [
    "### 새로 추가된 대여소로 추정\n",
    "Hour_bike_usage_weekend[Hour_bike_usage_weekend['대여소번호'] == '2550']"
   ]
  },
  {
   "cell_type": "code",
   "execution_count": null,
   "metadata": {
    "ExecuteTime": {
     "end_time": "2020-11-30T05:22:08.390635Z",
     "start_time": "2020-11-30T05:22:08.376600Z"
    }
   },
   "outputs": [],
   "source": [
    "Hour_bike_usage_weekend = Hour_bike_usage_weekend.drop('대여소명', axis = 1)"
   ]
  },
  {
   "cell_type": "code",
   "execution_count": null,
   "metadata": {
    "ExecuteTime": {
     "end_time": "2020-11-30T05:22:08.435595Z",
     "start_time": "2020-11-30T05:22:08.391595Z"
    }
   },
   "outputs": [],
   "source": [
    "Hour_bike_usage_weekend_location = pd.merge(Bike_location, Hour_bike_usage_weekend, how = 'left',on = '대여소번호')"
   ]
  },
  {
   "cell_type": "code",
   "execution_count": null,
   "metadata": {
    "ExecuteTime": {
     "end_time": "2020-11-30T05:22:08.467621Z",
     "start_time": "2020-11-30T05:22:08.437604Z"
    },
    "scrolled": true
   },
   "outputs": [],
   "source": [
    "Hour_bike_usage_weekend_location.isna().sum()"
   ]
  },
  {
   "cell_type": "code",
   "execution_count": null,
   "metadata": {
    "ExecuteTime": {
     "end_time": "2020-11-30T05:22:08.499594Z",
     "start_time": "2020-11-30T05:22:08.468594Z"
    }
   },
   "outputs": [],
   "source": [
    "Hour_bike_usage_weekend_location[Hour_bike_usage_weekend_location['이용건수'].isna()].index"
   ]
  },
  {
   "cell_type": "code",
   "execution_count": null,
   "metadata": {
    "ExecuteTime": {
     "end_time": "2020-11-30T05:22:08.531636Z",
     "start_time": "2020-11-30T05:22:08.501599Z"
    }
   },
   "outputs": [],
   "source": [
    "Hour_bike_usage_weekend_location_nan = Hour_bike_usage_weekend_location[Hour_bike_usage_weekend_location['이용건수'].isna()]\n",
    "Hour_bike_usage_weekend_location.drop(Hour_bike_usage_weekend_location[Hour_bike_usage_weekend_location['이용건수'].isna()].index)"
   ]
  },
  {
   "cell_type": "code",
   "execution_count": null,
   "metadata": {
    "ExecuteTime": {
     "end_time": "2020-11-30T05:22:08.563598Z",
     "start_time": "2020-11-30T05:22:08.533596Z"
    }
   },
   "outputs": [],
   "source": [
    "Hour_bike_usage_weekend_location_nan"
   ]
  },
  {
   "cell_type": "code",
   "execution_count": null,
   "metadata": {
    "ExecuteTime": {
     "end_time": "2020-11-30T05:22:08.595594Z",
     "start_time": "2020-11-30T05:22:08.565597Z"
    }
   },
   "outputs": [],
   "source": [
    "Hour_bike_usage_weekend_location = Hour_bike_usage_weekend_location.drop(Hour_bike_usage_weekend_location[Hour_bike_usage_weekend_location['이용건수'].isna()].index)"
   ]
  },
  {
   "cell_type": "code",
   "execution_count": null,
   "metadata": {
    "ExecuteTime": {
     "end_time": "2020-11-30T05:22:08.611594Z",
     "start_time": "2020-11-30T05:22:08.596594Z"
    },
    "scrolled": false
   },
   "outputs": [],
   "source": [
    "Hour_bike_usage_weekend_location.head(10)"
   ]
  },
  {
   "cell_type": "code",
   "execution_count": null,
   "metadata": {
    "ExecuteTime": {
     "end_time": "2020-11-30T05:22:08.643593Z",
     "start_time": "2020-11-30T05:22:08.613597Z"
    }
   },
   "outputs": [],
   "source": [
    "Hour_bike_usage_weekend_location[Hour_bike_usage_weekend_location['요일'] == '토']"
   ]
  },
  {
   "cell_type": "code",
   "execution_count": null,
   "metadata": {
    "ExecuteTime": {
     "end_time": "2020-11-30T05:22:08.675594Z",
     "start_time": "2020-11-30T05:22:08.644594Z"
    }
   },
   "outputs": [],
   "source": [
    "Hour_bike_usage_weekend_location[Hour_bike_usage_weekend_location['요일'] == '일']"
   ]
  },
  {
   "cell_type": "code",
   "execution_count": null,
   "metadata": {
    "ExecuteTime": {
     "end_time": "2020-11-30T05:24:32.079617Z",
     "start_time": "2020-11-30T05:24:32.055602Z"
    }
   },
   "outputs": [],
   "source": [
    "Hour_bike_usage_weekend_location"
   ]
  },
  {
   "cell_type": "code",
   "execution_count": null,
   "metadata": {
    "ExecuteTime": {
     "end_time": "2020-11-30T05:22:08.723595Z",
     "start_time": "2020-11-30T05:22:08.676595Z"
    }
   },
   "outputs": [],
   "source": [
    "Weekend_group = Hour_bike_usage_weekend_location.groupby(['대여소이름','대여시간'],as_index = False).mean()"
   ]
  },
  {
   "cell_type": "code",
   "execution_count": null,
   "metadata": {
    "ExecuteTime": {
     "end_time": "2020-11-30T05:22:08.739595Z",
     "start_time": "2020-11-30T05:22:08.725598Z"
    }
   },
   "outputs": [],
   "source": [
    "Weekend_group"
   ]
  },
  {
   "cell_type": "code",
   "execution_count": null,
   "metadata": {
    "ExecuteTime": {
     "end_time": "2020-11-30T05:33:32.696328Z",
     "start_time": "2020-11-30T05:33:32.687030Z"
    }
   },
   "outputs": [],
   "source": [
    "Weekend_group['대여시간'].nunique()"
   ]
  },
  {
   "cell_type": "markdown",
   "metadata": {},
   "source": [
    "#### 주말 train set"
   ]
  },
  {
   "cell_type": "code",
   "execution_count": null,
   "metadata": {
    "ExecuteTime": {
     "end_time": "2020-11-30T05:22:08.787633Z",
     "start_time": "2020-11-30T05:22:08.740594Z"
    }
   },
   "outputs": [],
   "source": [
    "Weekend_trainset = pd.pivot_table(Weekend_group, index = ['대여소이름'], columns= '대여시간', values = '이용건수')#.reset_index()"
   ]
  },
  {
   "cell_type": "code",
   "execution_count": null,
   "metadata": {
    "ExecuteTime": {
     "end_time": "2020-11-30T05:33:41.306774Z",
     "start_time": "2020-11-30T05:33:41.283602Z"
    },
    "scrolled": false
   },
   "outputs": [],
   "source": [
    "Weekend_trainset"
   ]
  },
  {
   "cell_type": "markdown",
   "metadata": {},
   "source": [
    "## 유동인구"
   ]
  },
  {
   "cell_type": "code",
   "execution_count": null,
   "metadata": {
    "ExecuteTime": {
     "end_time": "2020-11-30T05:22:09.009594Z",
     "start_time": "2020-11-30T05:22:08.821594Z"
    }
   },
   "outputs": [],
   "source": [
    "New[4]"
   ]
  },
  {
   "cell_type": "code",
   "execution_count": null,
   "metadata": {},
   "outputs": [],
   "source": []
  },
  {
   "cell_type": "code",
   "execution_count": null,
   "metadata": {},
   "outputs": [],
   "source": []
  },
  {
   "cell_type": "markdown",
   "metadata": {},
   "source": [
    "## 날씨"
   ]
  },
  {
   "cell_type": "code",
   "execution_count": null,
   "metadata": {
    "ExecuteTime": {
     "end_time": "2020-11-30T05:22:09.023595Z",
     "start_time": "2020-11-30T05:21:33.413Z"
    }
   },
   "outputs": [],
   "source": [
    "Weather = New[13]"
   ]
  },
  {
   "cell_type": "code",
   "execution_count": null,
   "metadata": {
    "ExecuteTime": {
     "end_time": "2020-11-30T05:22:09.024595Z",
     "start_time": "2020-11-30T05:21:33.417Z"
    }
   },
   "outputs": [],
   "source": [
    "Weather"
   ]
  },
  {
   "cell_type": "code",
   "execution_count": null,
   "metadata": {},
   "outputs": [],
   "source": []
  }
 ],
 "metadata": {
  "hide_input": false,
  "kernelspec": {
   "display_name": "Python 3",
   "language": "python",
   "name": "python3"
  },
  "language_info": {
   "codemirror_mode": {
    "name": "ipython",
    "version": 3
   },
   "file_extension": ".py",
   "mimetype": "text/x-python",
   "name": "python",
   "nbconvert_exporter": "python",
   "pygments_lexer": "ipython3",
   "version": "3.8.3"
  },
  "toc": {
   "base_numbering": 1,
   "nav_menu": {},
   "number_sections": true,
   "sideBar": true,
   "skip_h1_title": true,
   "title_cell": "Table of Contents",
   "title_sidebar": "Contents",
   "toc_cell": false,
   "toc_position": {
    "height": "747px",
    "left": "105px",
    "top": "209px",
    "width": "205.594px"
   },
   "toc_section_display": true,
   "toc_window_display": true
  },
  "varInspector": {
   "cols": {
    "lenName": 16,
    "lenType": 16,
    "lenVar": 40
   },
   "kernels_config": {
    "python": {
     "delete_cmd_postfix": "",
     "delete_cmd_prefix": "del ",
     "library": "var_list.py",
     "varRefreshCmd": "print(var_dic_list())"
    },
    "r": {
     "delete_cmd_postfix": ") ",
     "delete_cmd_prefix": "rm(",
     "library": "var_list.r",
     "varRefreshCmd": "cat(var_dic_list()) "
    }
   },
   "types_to_exclude": [
    "module",
    "function",
    "builtin_function_or_method",
    "instance",
    "_Feature"
   ],
   "window_display": false
  }
 },
 "nbformat": 4,
 "nbformat_minor": 4
}
